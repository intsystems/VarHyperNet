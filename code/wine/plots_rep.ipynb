{
 "cells": [
  {
   "cell_type": "code",
   "execution_count": 25,
   "id": "4fbbd233",
   "metadata": {},
   "outputs": [],
   "source": [
    "import torch as t \n",
    "import torchvision\n",
    "import numpy as np\n",
    "import torch.nn as nn\n",
    "import torch.nn.functional as F\n",
    "import torch.optim as optim\n",
    "import matplotlib.pylab as plt\n",
    "from torch.nn.utils import clip_grad_value_\n",
    "%matplotlib inline\n",
    "import pickle\n",
    "from torchvision import datasets, transforms\n",
    "import tqdm\n",
    "import os\n",
    "import sys\n",
    "sys.path.append('../src/')\n",
    "import importlib \n",
    "import kernel_hypernet as kernel_hypernet\n",
    "import var_net as var_net\n",
    "import utils as utils0\n",
    "importlib.reload(utils0)\n",
    "import mnist_utils as utils\n",
    "importlib.reload(utils)\n",
    "\n",
    "importlib.reload(var_net)\n",
    "importlib.reload(kernel_hypernet)\n",
    "import importlib \n",
    "import var_net as var_net\n",
    "import base_net as base_net\n",
    "import mnist_utils as utils\n",
    "importlib.reload(utils)\n",
    "importlib.reload(var_net)\n",
    "importlib.reload(base_net)\n",
    "\n",
    "\n",
    "\n",
    "import linear_var_hypernet as linear_var_hypernet"
   ]
  },
  {
   "cell_type": "code",
   "execution_count": 26,
   "id": "8df8aa20",
   "metadata": {},
   "outputs": [],
   "source": [
    "import seaborn as sns\n",
    "sns.set('paper', style='white', font_scale=1.5)\n",
    "plt.rcParams['figure.figsize'] = (7,4.5)"
   ]
  },
  {
   "cell_type": "code",
   "execution_count": 27,
   "id": "b6976bd2",
   "metadata": {},
   "outputs": [],
   "source": [
    "from sklearn.datasets import load_wine\n",
    "from torch.utils.data import TensorDataset, DataLoader\n",
    "wine_X , wine_Y = load_wine(return_X_y=True)\n",
    "device = 'cpu'\n",
    "rs = np.random.RandomState(42)\n",
    "ids = list(range(len(wine_X)))\n",
    "rs.shuffle(ids)\n",
    "\n",
    "train_X, test_X = wine_X[ids[:len(ids)*4//5]], wine_X[ids[len(ids)*4//5:]]\n",
    "train_Y, test_Y = wine_Y[ids[:len(ids)*4//5]], wine_Y[ids[len(ids)*4//5:]]\n",
    "\n",
    "mean = np.mean(train_X, 0)\n",
    "std = np.std(train_X, 0)\n",
    "\n",
    "train_X = (train_X - mean)/std\n",
    "test_X = (test_X - mean)/std\n",
    "\n",
    "\n",
    "\n",
    "\n",
    "train_X = t.tensor(train_X).to(device)\n",
    "test_X = t.tensor(test_X).to(device)\n",
    "train_Y = t.tensor(train_Y).to(device)\n",
    "test_Y = t.tensor(test_Y).to(device)\n",
    "\n",
    "\n",
    "train_data = TensorDataset(train_X.float(),train_Y)\n",
    "train_loader = DataLoader(train_data) \n",
    "\n",
    "test_data = TensorDataset(test_X.float(),test_Y)\n",
    "test_loader = DataLoader(test_data) \n",
    "\n",
    "        "
   ]
  },
  {
   "cell_type": "code",
   "execution_count": null,
   "id": "cec8dc52",
   "metadata": {},
   "outputs": [],
   "source": []
  },
  {
   "cell_type": "code",
   "execution_count": 28,
   "id": "bc7dbaa2",
   "metadata": {},
   "outputs": [
    {
     "name": "stderr",
     "output_type": "stream",
     "text": [
      "/home/leginpc/reps/VarHyperNet/code/wine/../src/var_net.py:31: UserWarning: nn.init.xavier_uniform is now deprecated in favor of nn.init.xavier_uniform_.\n",
      "  t.nn.init.xavier_uniform(self.mean)\n",
      "/home/leginpc/reps/VarHyperNet/code/wine/../src/linear_var_hypernet.py:162: UserWarning: nn.init.xavier_uniform is now deprecated in favor of nn.init.xavier_uniform_.\n",
      "  t.nn.init.xavier_uniform(self.const,  init_const)\n",
      "/home/leginpc/reps/VarHyperNet/code/wine/../src/linear_var_hypernet.py:164: UserWarning: nn.init.xavier_uniform is now deprecated in favor of nn.init.xavier_uniform_.\n",
      "  t.nn.init.xavier_uniform(self.const2,  init_const2)\n"
     ]
    }
   ],
   "source": [
    "init_log_sigma = -3.0\n",
    "params = {}\n",
    "params_linear = {}\n",
    "params_kernel = {}\n",
    "\n",
    "acc = {}\n",
    "acc_linear = {}\n",
    "acc_kernel = {}\n",
    "\n",
    "lambda_encode = lambda x: (t.log(x) - np.log(100.0))/(np.log(10**6) - np.log(100.0))\n",
    "\n",
    "\n",
    "\n",
    "lamb = [10**2, 10**3, 10**4, 10**5, 10**6]\n",
    "#lamb = [t.tensor(l) for l in lamb]\n",
    "device = 'cpu'\n",
    "prior_sigma = 1.0\n",
    "net = var_net.VarNet(var_net.VarLayer(13, 3, prior_sigma=prior_sigma,  init_log_sigma=init_log_sigma,\n",
    "                                          act=lambda x:x))\n",
    "\n",
    "\n",
    "for l in lamb:\n",
    "    params[l] = []\n",
    "    acc[l] = []\n",
    "    for i in range(5):\n",
    "        net.load_state_dict(t.load('./saved_wine/rep_net_lam_{}_start_{}.cpk'.format(l, i)))\n",
    "        params[l].append((net[0].mean.cpu().detach().numpy().copy(), net[0].log_sigma.cpu().detach().numpy().copy()))\n",
    "        net.eval()\n",
    "        acc[l].append( ((1.0*t.eq(net(test_X.float()).argmax(1), test_Y)).mean().item()))\n",
    "        \n",
    "        \n",
    "net = var_net.VarNet( linear_var_hypernet.VarLayerLinearAppr(13, 3,  prior_sigma=prior_sigma, act=lambda x:x, init_log_sigma=init_log_sigma))\n",
    "\n",
    "\n",
    "for l in lamb:    \n",
    "    params_linear[l] = []\n",
    "    acc_linear[l] = []\n",
    "    for i in range(5):    \n",
    "        net.load_state_dict(t.load('./saved_wine/rep_linear_start_{}.cpk'.format(i)))\n",
    "        net.eval()\n",
    "        params_linear[l].append((net[0].mean(lambda_encode(t.tensor(l))).detach().numpy().copy(), net[0].log_sigma(lambda_encode(t.tensor(l))).detach().numpy().copy()))\n",
    "        acc_linear[l].append( ((1.0*t.eq(net(test_X.float(), lambda_encode(t.tensor(l))).argmax(1), test_Y)).mean().item()))\n",
    "\n",
    "for k in range(2,6):\n",
    "    params_kernel[k] = {}\n",
    "    acc_kernel[k] = {}\n",
    "    for l in lamb:\n",
    "        params_kernel[k][l] = []\n",
    "        acc_kernel[k][l] = []\n",
    "        \n",
    "\n",
    "for k in [3,5]:    \n",
    "    net = var_net.VarNet(kernel_hypernet.VarKernelLayer(13, 3,   k, \n",
    "                                                    prior_sigma=prior_sigma, act=lambda x:x, init_log_sigma=init_log_sigma))\n",
    "    for l in lamb:        \n",
    "        for i in range(5):\n",
    "            net.load_state_dict(t.load('./saved_wine/rep_kernel_{}_start_{}.cpk'.format(k, i)))\n",
    "            net.eval()\n",
    "            params_kernel[k][l].append((net[0].mean(lambda_encode(t.tensor(l))).detach().numpy().copy(),\n",
    "                                      net[0].log_sigma(lambda_encode(t.tensor(l))).detach().numpy().copy()))\n",
    "            acc_kernel[k][l].append( ((1.0*t.eq(net(test_X.float(), lambda_encode(t.tensor(l))).argmax(1), test_Y)).mean().item()))\n",
    "        "
   ]
  },
  {
   "cell_type": "code",
   "execution_count": null,
   "id": "d7509fbe",
   "metadata": {},
   "outputs": [],
   "source": []
  },
  {
   "cell_type": "code",
   "execution_count": 29,
   "id": "1c998ece",
   "metadata": {},
   "outputs": [],
   "source": [
    "def dist(q, p=None):\n",
    "    if p is None:\n",
    "        p = (0.0, 0.0)\n",
    "    d1 = t.distributions.Normal(t.tensor(q[0]), t.exp(2*t.tensor(q[1])))\n",
    "    d2 = t.distributions.Normal(t.tensor(p[0]), t.exp(2*t.tensor(p[1])))\n",
    "    return (t.distributions.kl_divergence(d1,d2) * 0.5 + t.distributions.kl_divergence(d2,d1) * 0.5).sum()\n"
   ]
  },
  {
   "cell_type": "code",
   "execution_count": null,
   "id": "b23f8197",
   "metadata": {},
   "outputs": [],
   "source": []
  },
  {
   "cell_type": "code",
   "execution_count": 30,
   "id": "f1f5cb4f",
   "metadata": {},
   "outputs": [
    {
     "name": "stdout",
     "output_type": "stream",
     "text": [
      "[-5.144203, -9.045512, -11.334314, -15.175687, -15.516907] [0.9499999761581421, 0.9444444179534912, 0.6833333253860474, 0.7388888835906983, 0.41666666269302366]\n"
     ]
    },
    {
     "data": {
      "image/png": "[encoded data removed]",
      "text/plain": [
       "<Figure size 504x324 with 2 Axes>"
      ]
     },
     "metadata": {},
     "output_type": "display_data"
    }
   ],
   "source": [
    "fig, ax1 = plt.subplots()\n",
    "ax2 = ax1.twinx()\n",
    "\n",
    "### nets\n",
    "X = []\n",
    "Y = []\n",
    "for l in lamb:    \n",
    "    denon = 0\n",
    "    x = []\n",
    "    y = []\n",
    "    for i in range(5):\n",
    "        denon += dist(params[l][i])\n",
    "    for i in range(5):\n",
    "        x_ = 0 \n",
    "        for j in range(5):\n",
    "            x_ += dist(params[l][i], params[l][j])\n",
    "        x.append(np.log(x_/denon))\n",
    "        y.append(acc[l][i])\n",
    "    #plt.errorbar([np.mean(x)], [np.mean(y)], xerr =[[np.mean(x) - np.min(x)], [np.max(x) - np.mean(x) ]],\n",
    "    #             yerr = [[np.mean(y) - np.min(y)], [np.max(y) - np.mean(y)]], marker='.', c='r', markersize=10)\n",
    "    X.append(np.mean(x))\n",
    "    Y.append(np.mean(y))\n",
    "#plt.plot(X, Y, c='r')\n",
    "ax2.set_yticks(Y)\n",
    "ax2.set_yticklabels(['2', '', '4', '5', '6'])    \n",
    "    \n",
    "\n",
    "# linear\n",
    "X = []\n",
    "Y = []\n",
    "for l in lamb:    \n",
    "    denon = 0\n",
    "    x = []\n",
    "    y = []\n",
    "    for i in range(5):\n",
    "        denon += dist(params[l][i])\n",
    "    for i in range(5):\n",
    "        x_ = 0 \n",
    "        for j in range(5):\n",
    "            x_ += dist(params_linear[l][i], params[l][j])\n",
    "        x.append(np.log(x_/denon))\n",
    "        y.append(acc_linear[l][i])\n",
    "    plt.errorbar([np.mean(x)], [np.mean(y)], xerr =[[np.mean(x) - np.min(x)], [np.max(x) - np.mean(x) ]],\n",
    "                 yerr = [[np.mean(y) - np.min(y)], [np.max(y) - np.mean(y)]], c='b', marker='.', markersize=10)\n",
    "    X.append(np.mean(x))\n",
    "    Y.append(np.mean(y))\n",
    "    \n",
    "plt.plot(X, Y, c='b',label= 'linear model') \n",
    "\n",
    "\n",
    "# kernel-3\n",
    "X = []\n",
    "Y = []\n",
    "for l in lamb:    \n",
    "    denon = 0\n",
    "    x = []\n",
    "    y = []\n",
    "    for i in range(5):\n",
    "        denon += dist(params[l][i])\n",
    "    for i in range(5):\n",
    "        x_ = 0 \n",
    "        for j in range(5):\n",
    "            x_ += dist(params_kernel[3][l][i], params[l][j])\n",
    "        x.append(np.log(x_/denon))\n",
    "        y.append(acc_kernel[3][l][i])\n",
    "    plt.errorbar([np.mean(x)], [np.mean(y)], xerr =[[np.mean(x) - np.min(x)], [np.max(x) - np.mean(x) ]],\n",
    "                 yerr = [[np.mean(y) - np.min(y)], [np.max(y) - np.mean(y)]], c='g', marker='.', markersize=10)\n",
    "    X.append(np.mean(x))\n",
    "    Y.append(np.mean(y))\n",
    "print (X, Y)\n",
    "    \n",
    "plt.plot(X, Y, c='g', label=  'piecewise-linear model, k=3')      \n",
    "\n",
    "\n",
    "# kernel-5\n",
    "X = []\n",
    "Y = []\n",
    "for l in lamb:    \n",
    "    denon = 0\n",
    "    x = []\n",
    "    y = []\n",
    "    for i in range(5):\n",
    "        denon += dist(params[l][i])\n",
    "    for i in range(5):\n",
    "        x_ = 0 \n",
    "        for j in range(5):\n",
    "            x_ += dist(params_kernel[5][l][i], params[l][j])\n",
    "        x.append(np.log(x_/denon))\n",
    "        y.append(acc_kernel[5][l][i])\n",
    "    plt.errorbar([np.mean(x)], [np.mean(y)], xerr =[[np.mean(x) - np.min(x)], [np.max(x) - np.mean(x) ]],\n",
    "                 yerr = [[np.mean(y) - np.min(y)], [np.max(y) - np.mean(y)]], c='k', marker='.', markersize=10)\n",
    "    X.append(np.mean(x))\n",
    "    Y.append(np.mean(y))\n",
    "plt.plot(X, Y, c='k', label=  'piecewise-linear model, k=5')       \n",
    "\n",
    "plt.ylim((0, 1))\n",
    "ax1.set_ylabel('Accuracy')\n",
    "ax1.set_xlabel('Deviation from basic model')\n",
    "ax2.set_ylabel('$log_{10}(\\lambda)$')\n",
    "#ax2.set_ylabel('sin', color='r')\n",
    "\n",
    "\n",
    "plt.savefig('wine_net_1.png', bbox_inches='tight')\n",
    "\n"
   ]
  },
  {
   "cell_type": "code",
   "execution_count": null,
   "id": "dc213ba5",
   "metadata": {},
   "outputs": [],
   "source": []
  },
  {
   "cell_type": "code",
   "execution_count": 21,
   "id": "057e388c",
   "metadata": {
    "scrolled": true
   },
   "outputs": [
    {
     "name": "stderr",
     "output_type": "stream",
     "text": [
      "/home/leginpc/reps/VarHyperNet/code/wine/../src/var_net.py:31: UserWarning: nn.init.xavier_uniform is now deprecated in favor of nn.init.xavier_uniform_.\n",
      "  t.nn.init.xavier_uniform(self.mean)\n",
      "/home/leginpc/reps/VarHyperNet/code/wine/../src/linear_var_hypernet.py:162: UserWarning: nn.init.xavier_uniform is now deprecated in favor of nn.init.xavier_uniform_.\n",
      "  t.nn.init.xavier_uniform(self.const,  init_const)\n",
      "/home/leginpc/reps/VarHyperNet/code/wine/../src/linear_var_hypernet.py:164: UserWarning: nn.init.xavier_uniform is now deprecated in favor of nn.init.xavier_uniform_.\n",
      "  t.nn.init.xavier_uniform(self.const2,  init_const2)\n"
     ]
    },
    {
     "data": {
      "application/vnd.jupyter.widget-view+json": {
       "model_id": "4a1ecdf7959348838490b0f2a8837bc5",
       "version_major": 2,
       "version_minor": 0
      },
      "text/plain": [
       "  0%|          | 0/142 [00:00<?, ?it/s]"
      ]
     },
     "metadata": {},
     "output_type": "display_data"
    },
    {
     "data": {
      "application/vnd.jupyter.widget-view+json": {
       "model_id": "f22570b64c5e471d842486ed74810349",
       "version_major": 2,
       "version_minor": 0
      },
      "text/plain": [
       "  0%|          | 0/142 [00:00<?, ?it/s]"
      ]
     },
     "metadata": {},
     "output_type": "display_data"
    },
    {
     "data": {
      "application/vnd.jupyter.widget-view+json": {
       "model_id": "5ffd8d463624468ea6a5b96008f0583a",
       "version_major": 2,
       "version_minor": 0
      },
      "text/plain": [
       "  0%|          | 0/142 [00:00<?, ?it/s]"
      ]
     },
     "metadata": {},
     "output_type": "display_data"
    },
    {
     "data": {
      "application/vnd.jupyter.widget-view+json": {
       "model_id": "755e5123915c4d9094d6c311c6681493",
       "version_major": 2,
       "version_minor": 0
      },
      "text/plain": [
       "  0%|          | 0/142 [00:00<?, ?it/s]"
      ]
     },
     "metadata": {},
     "output_type": "display_data"
    },
    {
     "data": {
      "application/vnd.jupyter.widget-view+json": {
       "model_id": "e28fa85c62a04baa9296ddf821ff1a04",
       "version_major": 2,
       "version_minor": 0
      },
      "text/plain": [
       "  0%|          | 0/142 [00:00<?, ?it/s]"
      ]
     },
     "metadata": {},
     "output_type": "display_data"
    },
    {
     "data": {
      "application/vnd.jupyter.widget-view+json": {
       "model_id": "168f93e4cd30489f9be40a133ffad5a4",
       "version_major": 2,
       "version_minor": 0
      },
      "text/plain": [
       "  0%|          | 0/142 [00:00<?, ?it/s]"
      ]
     },
     "metadata": {},
     "output_type": "display_data"
    },
    {
     "data": {
      "application/vnd.jupyter.widget-view+json": {
       "model_id": "cb07a76e019748e68e332917e40e6783",
       "version_major": 2,
       "version_minor": 0
      },
      "text/plain": [
       "  0%|          | 0/142 [00:00<?, ?it/s]"
      ]
     },
     "metadata": {},
     "output_type": "display_data"
    },
    {
     "data": {
      "application/vnd.jupyter.widget-view+json": {
       "model_id": "60e9b6d3c97144f4967075d6c288152b",
       "version_major": 2,
       "version_minor": 0
      },
      "text/plain": [
       "  0%|          | 0/142 [00:00<?, ?it/s]"
      ]
     },
     "metadata": {},
     "output_type": "display_data"
    },
    {
     "data": {
      "application/vnd.jupyter.widget-view+json": {
       "model_id": "5bdc32bbf10d43ae9cf15bbf5c22c376",
       "version_major": 2,
       "version_minor": 0
      },
      "text/plain": [
       "  0%|          | 0/142 [00:00<?, ?it/s]"
      ]
     },
     "metadata": {},
     "output_type": "display_data"
    },
    {
     "data": {
      "application/vnd.jupyter.widget-view+json": {
       "model_id": "550c10181681482fbe4b19c113cb802e",
       "version_major": 2,
       "version_minor": 0
      },
      "text/plain": [
       "  0%|          | 0/142 [00:00<?, ?it/s]"
      ]
     },
     "metadata": {},
     "output_type": "display_data"
    },
    {
     "data": {
      "application/vnd.jupyter.widget-view+json": {
       "model_id": "f2356988c5454fd3b2ec06dccd9585ad",
       "version_major": 2,
       "version_minor": 0
      },
      "text/plain": [
       "  0%|          | 0/142 [00:00<?, ?it/s]"
      ]
     },
     "metadata": {},
     "output_type": "display_data"
    },
    {
     "data": {
      "application/vnd.jupyter.widget-view+json": {
       "model_id": "a4414991459346b3b61fb08675d507e7",
       "version_major": 2,
       "version_minor": 0
      },
      "text/plain": [
       "  0%|          | 0/142 [00:00<?, ?it/s]"
      ]
     },
     "metadata": {},
     "output_type": "display_data"
    },
    {
     "data": {
      "application/vnd.jupyter.widget-view+json": {
       "model_id": "2d98eaf0c23e450aadba9946b518b9af",
       "version_major": 2,
       "version_minor": 0
      },
      "text/plain": [
       "  0%|          | 0/142 [00:00<?, ?it/s]"
      ]
     },
     "metadata": {},
     "output_type": "display_data"
    },
    {
     "data": {
      "application/vnd.jupyter.widget-view+json": {
       "model_id": "46d14c0d091f4ff28019bbd6640fca7e",
       "version_major": 2,
       "version_minor": 0
      },
      "text/plain": [
       "  0%|          | 0/142 [00:00<?, ?it/s]"
      ]
     },
     "metadata": {},
     "output_type": "display_data"
    },
    {
     "data": {
      "application/vnd.jupyter.widget-view+json": {
       "model_id": "1d1d64c89d724f52b40a58d2629a9154",
       "version_major": 2,
       "version_minor": 0
      },
      "text/plain": [
       "  0%|          | 0/142 [00:00<?, ?it/s]"
      ]
     },
     "metadata": {},
     "output_type": "display_data"
    },
    {
     "data": {
      "application/vnd.jupyter.widget-view+json": {
       "model_id": "fe877834e34f46729c02cf7b727470ed",
       "version_major": 2,
       "version_minor": 0
      },
      "text/plain": [
       "  0%|          | 0/142 [00:00<?, ?it/s]"
      ]
     },
     "metadata": {},
     "output_type": "display_data"
    },
    {
     "data": {
      "application/vnd.jupyter.widget-view+json": {
       "model_id": "b374ca9448494ea1be5cb15a855abab7",
       "version_major": 2,
       "version_minor": 0
      },
      "text/plain": [
       "  0%|          | 0/142 [00:00<?, ?it/s]"
      ]
     },
     "metadata": {},
     "output_type": "display_data"
    },
    {
     "data": {
      "application/vnd.jupyter.widget-view+json": {
       "model_id": "81a9eb0560274b20aba4a3775a1fbe28",
       "version_major": 2,
       "version_minor": 0
      },
      "text/plain": [
       "  0%|          | 0/142 [00:00<?, ?it/s]"
      ]
     },
     "metadata": {},
     "output_type": "display_data"
    },
    {
     "data": {
      "application/vnd.jupyter.widget-view+json": {
       "model_id": "ccd66d180d0e49e1bafbdd47d080ebab",
       "version_major": 2,
       "version_minor": 0
      },
      "text/plain": [
       "  0%|          | 0/142 [00:00<?, ?it/s]"
      ]
     },
     "metadata": {},
     "output_type": "display_data"
    },
    {
     "data": {
      "application/vnd.jupyter.widget-view+json": {
       "model_id": "061e577a730742d4bb02e57b7417b766",
       "version_major": 2,
       "version_minor": 0
      },
      "text/plain": [
       "  0%|          | 0/142 [00:00<?, ?it/s]"
      ]
     },
     "metadata": {},
     "output_type": "display_data"
    },
    {
     "data": {
      "application/vnd.jupyter.widget-view+json": {
       "model_id": "05d56c40b3ac440280217cfd14db3f9d",
       "version_major": 2,
       "version_minor": 0
      },
      "text/plain": [
       "  0%|          | 0/142 [00:00<?, ?it/s]"
      ]
     },
     "metadata": {},
     "output_type": "display_data"
    },
    {
     "data": {
      "application/vnd.jupyter.widget-view+json": {
       "model_id": "c00dc076f8c84666b3ac889991d8cd12",
       "version_major": 2,
       "version_minor": 0
      },
      "text/plain": [
       "  0%|          | 0/142 [00:00<?, ?it/s]"
      ]
     },
     "metadata": {},
     "output_type": "display_data"
    },
    {
     "data": {
      "application/vnd.jupyter.widget-view+json": {
       "model_id": "b4471739c7d84ebd9d89f6e1838df161",
       "version_major": 2,
       "version_minor": 0
      },
      "text/plain": [
       "  0%|          | 0/142 [00:00<?, ?it/s]"
      ]
     },
     "metadata": {},
     "output_type": "display_data"
    },
    {
     "data": {
      "application/vnd.jupyter.widget-view+json": {
       "model_id": "3e6f046cae634093ae3dee3c33db979d",
       "version_major": 2,
       "version_minor": 0
      },
      "text/plain": [
       "  0%|          | 0/142 [00:00<?, ?it/s]"
      ]
     },
     "metadata": {},
     "output_type": "display_data"
    },
    {
     "data": {
      "application/vnd.jupyter.widget-view+json": {
       "model_id": "4065df2476a1434495518090d846e9d0",
       "version_major": 2,
       "version_minor": 0
      },
      "text/plain": [
       "  0%|          | 0/142 [00:00<?, ?it/s]"
      ]
     },
     "metadata": {},
     "output_type": "display_data"
    },
    {
     "data": {
      "application/vnd.jupyter.widget-view+json": {
       "model_id": "46a31951561d451d8e8323dc08075a3b",
       "version_major": 2,
       "version_minor": 0
      },
      "text/plain": [
       "  0%|          | 0/142 [00:00<?, ?it/s]"
      ]
     },
     "metadata": {},
     "output_type": "display_data"
    },
    {
     "data": {
      "application/vnd.jupyter.widget-view+json": {
       "model_id": "0b4a9f96fd05495599da8e134373bab3",
       "version_major": 2,
       "version_minor": 0
      },
      "text/plain": [
       "  0%|          | 0/142 [00:00<?, ?it/s]"
      ]
     },
     "metadata": {},
     "output_type": "display_data"
    },
    {
     "data": {
      "application/vnd.jupyter.widget-view+json": {
       "model_id": "e47ff4d8f09c414fa931a295312040bc",
       "version_major": 2,
       "version_minor": 0
      },
      "text/plain": [
       "  0%|          | 0/142 [00:00<?, ?it/s]"
      ]
     },
     "metadata": {},
     "output_type": "display_data"
    },
    {
     "data": {
      "application/vnd.jupyter.widget-view+json": {
       "model_id": "a04f1b2655164e0ca93e74e3af7933bf",
       "version_major": 2,
       "version_minor": 0
      },
      "text/plain": [
       "  0%|          | 0/142 [00:00<?, ?it/s]"
      ]
     },
     "metadata": {},
     "output_type": "display_data"
    },
    {
     "data": {
      "application/vnd.jupyter.widget-view+json": {
       "model_id": "b9d580f3cd57496d83163a80701265ca",
       "version_major": 2,
       "version_minor": 0
      },
      "text/plain": [
       "  0%|          | 0/142 [00:00<?, ?it/s]"
      ]
     },
     "metadata": {},
     "output_type": "display_data"
    },
    {
     "data": {
      "application/vnd.jupyter.widget-view+json": {
       "model_id": "004b6911736646b88538301ff6e028d7",
       "version_major": 2,
       "version_minor": 0
      },
      "text/plain": [
       "  0%|          | 0/142 [00:00<?, ?it/s]"
      ]
     },
     "metadata": {},
     "output_type": "display_data"
    },
    {
     "data": {
      "application/vnd.jupyter.widget-view+json": {
       "model_id": "e1522a7b16014206844a6f104181c670",
       "version_major": 2,
       "version_minor": 0
      },
      "text/plain": [
       "  0%|          | 0/142 [00:00<?, ?it/s]"
      ]
     },
     "metadata": {},
     "output_type": "display_data"
    },
    {
     "data": {
      "application/vnd.jupyter.widget-view+json": {
       "model_id": "50e2fc94b0c74657b1e643f79bf56a3d",
       "version_major": 2,
       "version_minor": 0
      },
      "text/plain": [
       "  0%|          | 0/142 [00:00<?, ?it/s]"
      ]
     },
     "metadata": {},
     "output_type": "display_data"
    },
    {
     "data": {
      "application/vnd.jupyter.widget-view+json": {
       "model_id": "bc05a79d79b34e0dacfaa6750ae70959",
       "version_major": 2,
       "version_minor": 0
      },
      "text/plain": [
       "  0%|          | 0/142 [00:00<?, ?it/s]"
      ]
     },
     "metadata": {},
     "output_type": "display_data"
    },
    {
     "data": {
      "application/vnd.jupyter.widget-view+json": {
       "model_id": "3256dafc9d1e4304858b6fa3b12ff2bf",
       "version_major": 2,
       "version_minor": 0
      },
      "text/plain": [
       "  0%|          | 0/142 [00:00<?, ?it/s]"
      ]
     },
     "metadata": {},
     "output_type": "display_data"
    },
    {
     "data": {
      "application/vnd.jupyter.widget-view+json": {
       "model_id": "4945236b02fa4cdf95d7dd8388136032",
       "version_major": 2,
       "version_minor": 0
      },
      "text/plain": [
       "  0%|          | 0/142 [00:00<?, ?it/s]"
      ]
     },
     "metadata": {},
     "output_type": "display_data"
    },
    {
     "data": {
      "application/vnd.jupyter.widget-view+json": {
       "model_id": "8e732e4a90a44a4a910049411d626f95",
       "version_major": 2,
       "version_minor": 0
      },
      "text/plain": [
       "  0%|          | 0/142 [00:00<?, ?it/s]"
      ]
     },
     "metadata": {},
     "output_type": "display_data"
    },
    {
     "data": {
      "application/vnd.jupyter.widget-view+json": {
       "model_id": "33f95606a70e4b95859fd3226dcc5b94",
       "version_major": 2,
       "version_minor": 0
      },
      "text/plain": [
       "  0%|          | 0/142 [00:00<?, ?it/s]"
      ]
     },
     "metadata": {},
     "output_type": "display_data"
    },
    {
     "data": {
      "application/vnd.jupyter.widget-view+json": {
       "model_id": "5193992442a94ec38e9ba6da796f182b",
       "version_major": 2,
       "version_minor": 0
      },
      "text/plain": [
       "  0%|          | 0/142 [00:00<?, ?it/s]"
      ]
     },
     "metadata": {},
     "output_type": "display_data"
    },
    {
     "data": {
      "application/vnd.jupyter.widget-view+json": {
       "model_id": "e2e2cbb40d52454383210de7837abbe2",
       "version_major": 2,
       "version_minor": 0
      },
      "text/plain": [
       "  0%|          | 0/142 [00:00<?, ?it/s]"
      ]
     },
     "metadata": {},
     "output_type": "display_data"
    },
    {
     "data": {
      "application/vnd.jupyter.widget-view+json": {
       "model_id": "01ef126c7e0c41dd8a67b3cbc2bb61a9",
       "version_major": 2,
       "version_minor": 0
      },
      "text/plain": [
       "  0%|          | 0/142 [00:00<?, ?it/s]"
      ]
     },
     "metadata": {},
     "output_type": "display_data"
    },
    {
     "data": {
      "application/vnd.jupyter.widget-view+json": {
       "model_id": "f297ad275a9e4000989cf3af1b389364",
       "version_major": 2,
       "version_minor": 0
      },
      "text/plain": [
       "  0%|          | 0/142 [00:00<?, ?it/s]"
      ]
     },
     "metadata": {},
     "output_type": "display_data"
    },
    {
     "data": {
      "application/vnd.jupyter.widget-view+json": {
       "model_id": "992405e0ac1847aaa8719e4029f33bc8",
       "version_major": 2,
       "version_minor": 0
      },
      "text/plain": [
       "  0%|          | 0/142 [00:00<?, ?it/s]"
      ]
     },
     "metadata": {},
     "output_type": "display_data"
    },
    {
     "data": {
      "application/vnd.jupyter.widget-view+json": {
       "model_id": "341c31a459b24cfebdd82deb551d9d54",
       "version_major": 2,
       "version_minor": 0
      },
      "text/plain": [
       "  0%|          | 0/142 [00:00<?, ?it/s]"
      ]
     },
     "metadata": {},
     "output_type": "display_data"
    },
    {
     "data": {
      "application/vnd.jupyter.widget-view+json": {
       "model_id": "0de54dbd50f240a8b76ed5e898cb5e98",
       "version_major": 2,
       "version_minor": 0
      },
      "text/plain": [
       "  0%|          | 0/142 [00:00<?, ?it/s]"
      ]
     },
     "metadata": {},
     "output_type": "display_data"
    },
    {
     "data": {
      "application/vnd.jupyter.widget-view+json": {
       "model_id": "6c993e9d64384702958640200aa3636b",
       "version_major": 2,
       "version_minor": 0
      },
      "text/plain": [
       "  0%|          | 0/142 [00:00<?, ?it/s]"
      ]
     },
     "metadata": {},
     "output_type": "display_data"
    },
    {
     "data": {
      "application/vnd.jupyter.widget-view+json": {
       "model_id": "e28d66485b4e461f943bbe0d32f6b1d9",
       "version_major": 2,
       "version_minor": 0
      },
      "text/plain": [
       "  0%|          | 0/142 [00:00<?, ?it/s]"
      ]
     },
     "metadata": {},
     "output_type": "display_data"
    },
    {
     "data": {
      "application/vnd.jupyter.widget-view+json": {
       "model_id": "ac420894673143deab8443cfaf410b35",
       "version_major": 2,
       "version_minor": 0
      },
      "text/plain": [
       "  0%|          | 0/142 [00:00<?, ?it/s]"
      ]
     },
     "metadata": {},
     "output_type": "display_data"
    },
    {
     "data": {
      "application/vnd.jupyter.widget-view+json": {
       "model_id": "9872c0936650450391894bea840e948a",
       "version_major": 2,
       "version_minor": 0
      },
      "text/plain": [
       "  0%|          | 0/142 [00:00<?, ?it/s]"
      ]
     },
     "metadata": {},
     "output_type": "display_data"
    },
    {
     "data": {
      "application/vnd.jupyter.widget-view+json": {
       "model_id": "1b861c364617483c8a557b9a5545f47d",
       "version_major": 2,
       "version_minor": 0
      },
      "text/plain": [
       "  0%|          | 0/142 [00:00<?, ?it/s]"
      ]
     },
     "metadata": {},
     "output_type": "display_data"
    },
    {
     "data": {
      "application/vnd.jupyter.widget-view+json": {
       "model_id": "b8adb483b3314109b1dd9f3f6edeaa91",
       "version_major": 2,
       "version_minor": 0
      },
      "text/plain": [
       "  0%|          | 0/142 [00:00<?, ?it/s]"
      ]
     },
     "metadata": {},
     "output_type": "display_data"
    },
    {
     "data": {
      "application/vnd.jupyter.widget-view+json": {
       "model_id": "992f3ababcd24b81a87e72992fa62585",
       "version_major": 2,
       "version_minor": 0
      },
      "text/plain": [
       "  0%|          | 0/142 [00:00<?, ?it/s]"
      ]
     },
     "metadata": {},
     "output_type": "display_data"
    },
    {
     "data": {
      "application/vnd.jupyter.widget-view+json": {
       "model_id": "6f60d68504fd4075b7d2ad3ff24444aa",
       "version_major": 2,
       "version_minor": 0
      },
      "text/plain": [
       "  0%|          | 0/142 [00:00<?, ?it/s]"
      ]
     },
     "metadata": {},
     "output_type": "display_data"
    },
    {
     "data": {
      "application/vnd.jupyter.widget-view+json": {
       "model_id": "4706846475c84c06b51a9d92c0e18662",
       "version_major": 2,
       "version_minor": 0
      },
      "text/plain": [
       "  0%|          | 0/142 [00:00<?, ?it/s]"
      ]
     },
     "metadata": {},
     "output_type": "display_data"
    },
    {
     "data": {
      "application/vnd.jupyter.widget-view+json": {
       "model_id": "b6d355e64a364602ae3fac0828f4da0a",
       "version_major": 2,
       "version_minor": 0
      },
      "text/plain": [
       "  0%|          | 0/142 [00:00<?, ?it/s]"
      ]
     },
     "metadata": {},
     "output_type": "display_data"
    },
    {
     "data": {
      "application/vnd.jupyter.widget-view+json": {
       "model_id": "52015c89e1784afd95e47357be913eb5",
       "version_major": 2,
       "version_minor": 0
      },
      "text/plain": [
       "  0%|          | 0/142 [00:00<?, ?it/s]"
      ]
     },
     "metadata": {},
     "output_type": "display_data"
    },
    {
     "data": {
      "application/vnd.jupyter.widget-view+json": {
       "model_id": "083ac30593864624a941d26daa8c059d",
       "version_major": 2,
       "version_minor": 0
      },
      "text/plain": [
       "  0%|          | 0/142 [00:00<?, ?it/s]"
      ]
     },
     "metadata": {},
     "output_type": "display_data"
    },
    {
     "data": {
      "application/vnd.jupyter.widget-view+json": {
       "model_id": "7a5df9585c4d451487024dd67d752903",
       "version_major": 2,
       "version_minor": 0
      },
      "text/plain": [
       "  0%|          | 0/142 [00:00<?, ?it/s]"
      ]
     },
     "metadata": {},
     "output_type": "display_data"
    },
    {
     "data": {
      "application/vnd.jupyter.widget-view+json": {
       "model_id": "02b29bf1e9c94dd99fd39c7bb713a305",
       "version_major": 2,
       "version_minor": 0
      },
      "text/plain": [
       "  0%|          | 0/142 [00:00<?, ?it/s]"
      ]
     },
     "metadata": {},
     "output_type": "display_data"
    },
    {
     "data": {
      "application/vnd.jupyter.widget-view+json": {
       "model_id": "91bf95c64fa441738e31b5cf9e04c37e",
       "version_major": 2,
       "version_minor": 0
      },
      "text/plain": [
       "  0%|          | 0/142 [00:00<?, ?it/s]"
      ]
     },
     "metadata": {},
     "output_type": "display_data"
    },
    {
     "data": {
      "application/vnd.jupyter.widget-view+json": {
       "model_id": "e91961ea2e5143f89cb9693a1e5565c3",
       "version_major": 2,
       "version_minor": 0
      },
      "text/plain": [
       "  0%|          | 0/142 [00:00<?, ?it/s]"
      ]
     },
     "metadata": {},
     "output_type": "display_data"
    },
    {
     "data": {
      "application/vnd.jupyter.widget-view+json": {
       "model_id": "53b72378240348119a7c57ed903a8b6a",
       "version_major": 2,
       "version_minor": 0
      },
      "text/plain": [
       "  0%|          | 0/142 [00:00<?, ?it/s]"
      ]
     },
     "metadata": {},
     "output_type": "display_data"
    },
    {
     "data": {
      "application/vnd.jupyter.widget-view+json": {
       "model_id": "243e0bda65784a27958955d95c2a83cd",
       "version_major": 2,
       "version_minor": 0
      },
      "text/plain": [
       "  0%|          | 0/142 [00:00<?, ?it/s]"
      ]
     },
     "metadata": {},
     "output_type": "display_data"
    },
    {
     "data": {
      "application/vnd.jupyter.widget-view+json": {
       "model_id": "c1fe59ae2cbe42f69547756aea18ab95",
       "version_major": 2,
       "version_minor": 0
      },
      "text/plain": [
       "  0%|          | 0/142 [00:00<?, ?it/s]"
      ]
     },
     "metadata": {},
     "output_type": "display_data"
    },
    {
     "data": {
      "application/vnd.jupyter.widget-view+json": {
       "model_id": "e1ddf811e1234ab0b70ad731cbbb8eff",
       "version_major": 2,
       "version_minor": 0
      },
      "text/plain": [
       "  0%|          | 0/142 [00:00<?, ?it/s]"
      ]
     },
     "metadata": {},
     "output_type": "display_data"
    },
    {
     "data": {
      "application/vnd.jupyter.widget-view+json": {
       "model_id": "4498fe74fc174208a94d238b53a0f83c",
       "version_major": 2,
       "version_minor": 0
      },
      "text/plain": [
       "  0%|          | 0/142 [00:00<?, ?it/s]"
      ]
     },
     "metadata": {},
     "output_type": "display_data"
    },
    {
     "data": {
      "application/vnd.jupyter.widget-view+json": {
       "model_id": "23f1c3e464684deca24e8108a094ca4f",
       "version_major": 2,
       "version_minor": 0
      },
      "text/plain": [
       "  0%|          | 0/142 [00:00<?, ?it/s]"
      ]
     },
     "metadata": {},
     "output_type": "display_data"
    },
    {
     "data": {
      "application/vnd.jupyter.widget-view+json": {
       "model_id": "e5f5a20270f34f15bdba6e7b9232f4f8",
       "version_major": 2,
       "version_minor": 0
      },
      "text/plain": [
       "  0%|          | 0/142 [00:00<?, ?it/s]"
      ]
     },
     "metadata": {},
     "output_type": "display_data"
    },
    {
     "data": {
      "application/vnd.jupyter.widget-view+json": {
       "model_id": "3d4f76249f4a42be8964d5bb3efa8b02",
       "version_major": 2,
       "version_minor": 0
      },
      "text/plain": [
       "  0%|          | 0/142 [00:00<?, ?it/s]"
      ]
     },
     "metadata": {},
     "output_type": "display_data"
    },
    {
     "data": {
      "application/vnd.jupyter.widget-view+json": {
       "model_id": "6132da5bf6494869b14c783936c6c64a",
       "version_major": 2,
       "version_minor": 0
      },
      "text/plain": [
       "  0%|          | 0/142 [00:00<?, ?it/s]"
      ]
     },
     "metadata": {},
     "output_type": "display_data"
    },
    {
     "data": {
      "application/vnd.jupyter.widget-view+json": {
       "model_id": "d0c4da9a081e42a9a5c1f98e7bf3b86c",
       "version_major": 2,
       "version_minor": 0
      },
      "text/plain": [
       "  0%|          | 0/142 [00:00<?, ?it/s]"
      ]
     },
     "metadata": {},
     "output_type": "display_data"
    },
    {
     "data": {
      "application/vnd.jupyter.widget-view+json": {
       "model_id": "8207651bc24f43a9b532de70363d1b4e",
       "version_major": 2,
       "version_minor": 0
      },
      "text/plain": [
       "  0%|          | 0/142 [00:00<?, ?it/s]"
      ]
     },
     "metadata": {},
     "output_type": "display_data"
    },
    {
     "data": {
      "application/vnd.jupyter.widget-view+json": {
       "model_id": "74e3b37caee841baaaec7d68a8c45722",
       "version_major": 2,
       "version_minor": 0
      },
      "text/plain": [
       "  0%|          | 0/142 [00:00<?, ?it/s]"
      ]
     },
     "metadata": {},
     "output_type": "display_data"
    },
    {
     "data": {
      "application/vnd.jupyter.widget-view+json": {
       "model_id": "cfc8dcba534b46a889e3c48259938137",
       "version_major": 2,
       "version_minor": 0
      },
      "text/plain": [
       "  0%|          | 0/142 [00:00<?, ?it/s]"
      ]
     },
     "metadata": {},
     "output_type": "display_data"
    },
    {
     "data": {
      "application/vnd.jupyter.widget-view+json": {
       "model_id": "703e9f8c3b8e4f2a973b4c07715448f2",
       "version_major": 2,
       "version_minor": 0
      },
      "text/plain": [
       "  0%|          | 0/142 [00:00<?, ?it/s]"
      ]
     },
     "metadata": {},
     "output_type": "display_data"
    }
   ],
   "source": [
    "LR = 5e-4\n",
    "E = 142//16\n",
    "\n",
    "params_linear2 = {}\n",
    "acc_linear2 = {}\n",
    "\n",
    "params_kernel32 = {}\n",
    "acc_kernel32 = {}\n",
    "\n",
    "params_kernel52 = {}\n",
    "acc_kernel52 = {}\n",
    "\n",
    "params2 = {}\n",
    "acc2 = {}\n",
    "\n",
    "net = var_net.VarNet(var_net.VarLayer(13, 3, prior_sigma=prior_sigma,  init_log_sigma=init_log_sigma,\n",
    "                                          act=lambda x:x))\n",
    "\n",
    "for l in lamb:\n",
    "    params2[l] = []\n",
    "    acc2[l] = []\n",
    "    for i in range(5):\n",
    "        net.load_state_dict(t.load('./saved_wine/rep_net_lam_{}_start_{}.cpk'.format(l, i)))\n",
    "        params2[l].append((net[0].mean.cpu().detach().numpy().copy(), net[0].log_sigma.cpu().detach().numpy().copy()))\n",
    "        net.eval()\n",
    "        acc2[l].append( ((1.0*t.eq(net(test_X.float()).argmax(1), test_Y)).mean().item()))\n",
    "        net.train()\n",
    "        \n",
    "        \n",
    "# linear\n",
    "net0 = var_net.VarNet( linear_var_hypernet.VarLayerLinearAppr(13, 3,  prior_sigma=prior_sigma, act=lambda x:x, init_log_sigma=init_log_sigma))\n",
    "for l in lamb:\n",
    "    params_linear2[l] = []\n",
    "    acc_linear2[l] = []\n",
    "    for i in range(5):\n",
    "        net0.load_state_dict(t.load('./saved_wine/rep_linear_start_{}.cpk'.format(i)))\n",
    "        \n",
    "        utils0.net_copy(net0, net, lambda_encode(t.tensor(l)), layer_num=1, mode='var')\n",
    "        #acc[l].append( ((1.0*t.eq(net(test_X.float()).argmax(1), test_Y)).mean().item()))\n",
    "        optim = t.optim.Adam(net.parameters(), lr=LR)\n",
    "        loss_fn = nn.CrossEntropyLoss().to(device)   \n",
    "        \n",
    "        utils.train_batches_net(train_loader,len(train_data),  net, device, loss_fn, optim, t.tensor(l), 'fine linear '+str(i)+' ', batch_num=E, rep=True)        \n",
    "        net.eval()\n",
    "        acc_linear2[l].append( ((1.0*t.eq(net(test_X.float()).argmax(1), test_Y)).mean().item()))\n",
    "        net.train()\n",
    "        params_linear2[l].append((net[0].mean.detach().numpy().copy(), net[0].log_sigma.detach().numpy().copy()))\n",
    "\n",
    "net0 = var_net.VarNet(kernel_hypernet.VarKernelLayer(13, 3,   3, \n",
    "                                                    prior_sigma=prior_sigma, act=lambda x:x, init_log_sigma=init_log_sigma))              \n",
    "for l in lamb:\n",
    "    params_kernel32[l] = []\n",
    "    acc_kernel32[l] = []\n",
    "    for i in range(5):\n",
    "        net0.load_state_dict(t.load('./saved_wine/rep_kernel_3_start_{}.cpk'.format(i)))        \n",
    "        utils0.net_copy(net0, net, lambda_encode(t.tensor(l)), layer_num=1, mode='var')\n",
    "        #acc[l].append( ((1.0*t.eq(net(test_X.float()).argmax(1), test_Y)).mean().item()))\n",
    "        optim = t.optim.Adam(net.parameters(), lr=LR)\n",
    "        loss_fn = nn.CrossEntropyLoss().to(device)       \n",
    "        \n",
    "        utils.train_batches_net(train_loader,len(train_data),  net, device, loss_fn, optim, t.tensor(l),  'fine kernel3 '+str(i)+' ', batch_num=E, rep=True)            \n",
    "        net.eval()\n",
    "        acc_kernel32[l].append( ((1.0*t.eq(net(test_X.float()).argmax(1), test_Y)).mean().item()))\n",
    "        net.train()\n",
    "        params_kernel32[l].append((net[0].mean.detach().numpy().copy(), net[0].log_sigma.detach().numpy().copy()))\n",
    "\n",
    "net0 = var_net.VarNet(kernel_hypernet.VarKernelLayer(13, 3,   5, \n",
    "                                                    prior_sigma=prior_sigma, act=lambda x:x, init_log_sigma=init_log_sigma))\n",
    "\n",
    "for l in lamb:\n",
    "    params_kernel52[l] = []\n",
    "    acc_kernel52[l] = []\n",
    "    for i in range(5):\n",
    "        net0.load_state_dict(t.load('./saved_wine/rep_kernel_5_start_{}.cpk'.format(i)))        \n",
    "        utils0.net_copy(net0, net, lambda_encode(t.tensor(l)), layer_num=1, mode='var')\n",
    "        #acc[l].append( ((1.0*t.eq(net(test_X.float()).argmax(1), test_Y)).mean().item()))\n",
    "        optim = t.optim.Adam(net.parameters(), lr=LR)\n",
    "        loss_fn = nn.CrossEntropyLoss().to(device)       \n",
    "        \n",
    "        utils.train_batches_net(train_loader,len(train_data),  net, device, loss_fn, optim, t.tensor(l),  'fine kernel5 '+str(i)+' ', batch_num=E, rep=True)             \n",
    "        net.eval()\n",
    "        acc_kernel52[l].append( ((1.0*t.eq(net(test_X.float()).argmax(1), test_Y)).mean().item()))\n",
    "        net.train()\n",
    "        params_kernel52[l].append((net[0].mean.detach().numpy().copy(), net[0].log_sigma.detach().numpy().copy()))\n",
    "\n",
    "            "
   ]
  },
  {
   "cell_type": "code",
   "execution_count": null,
   "id": "6903fd03",
   "metadata": {},
   "outputs": [],
   "source": []
  },
  {
   "cell_type": "code",
   "execution_count": 22,
   "id": "69dda299",
   "metadata": {},
   "outputs": [
    {
     "name": "stdout",
     "output_type": "stream",
     "text": [
      "[-2.2964416, -0.5577759, -12.251423, -14.288727, -16.551735] [0.9444444179534912, 0.9444444179534912, 0.794444465637207, 0.8944444537162781, 0.5666666686534881]\n",
      "[-2.221436, -0.6210129, -12.459457, -14.197436, -16.404982] [0.9611110925674439, 0.8777777910232544, 0.8222222328186035, 0.85, 0.6444444417953491]\n"
     ]
    },
    {
     "data": {
      "image/png": "[encoded data removed]",
      "text/plain": [
       "<Figure size 504x324 with 2 Axes>"
      ]
     },
     "metadata": {},
     "output_type": "display_data"
    }
   ],
   "source": [
    "fig, ax1 = plt.subplots()\n",
    "ax2 = ax1.twinx()\n",
    "\n",
    "\n",
    "### nets\n",
    "X = []\n",
    "Y = []\n",
    "for l in lamb:    \n",
    "    denon = 0\n",
    "    x = []\n",
    "    y = []\n",
    "    for i in range(5):\n",
    "        denon += dist(params[l][i])\n",
    "    for i in range(5):\n",
    "        x_ = 0 \n",
    "        for j in range(5):\n",
    "            x_ += dist(params[l][i], params[l][j])\n",
    "        x.append(np.log(x_/denon))\n",
    "        y.append(acc[l][i])\n",
    "    #plt.errorbar([np.mean(x)], [np.mean(y)], xerr =[[np.mean(x) - np.min(x)], [np.max(x) - np.mean(x) ]],\n",
    "    #             yerr = [[np.mean(y) - np.min(y)], [np.max(y) - np.mean(y)]], marker='.', c='r', markersize=10)\n",
    "    X.append(np.mean(x))\n",
    "    Y.append(np.mean(y))\n",
    "#plt.plot(X, Y, c='r')\n",
    "ax2.set_yticks(Y)\n",
    "ax2.set_yticklabels(['2', '', '4', '5', '6'])  \n",
    "\n",
    "\n",
    "# linear\n",
    "X = []\n",
    "Y = []\n",
    "for l in lamb:    \n",
    "    denon = 0\n",
    "    x = []\n",
    "    y = []\n",
    "    for i in range(5):\n",
    "        denon += dist(params[l][i])\n",
    "    for i in range(5):\n",
    "        x_ = 0 \n",
    "        for j in range(5):\n",
    "            x_ += dist(params_linear2[l][i],  params[l][j])\n",
    "        x.append(np.log(x_/denon))\n",
    "        y.append(acc_linear2[l][i])\n",
    "    plt.errorbar([np.mean(x)], [np.mean(y)], xerr =[[np.mean(x) - np.min(x)], [np.max(x) - np.mean(x) ]],\n",
    "                 yerr = [[np.mean(y) - np.min(y)], [np.max(y) - np.mean(y)]], c='b', marker='.', markersize=10)\n",
    "    X.append(np.mean(x))\n",
    "    Y.append(np.mean(y))\n",
    "    \n",
    "plt.plot(X, Y, c='b')    \n",
    "\n",
    "# kernel-3\n",
    "X = []\n",
    "Y = []\n",
    "for l in lamb:    \n",
    "    denon = 0\n",
    "    x = []\n",
    "    y = []\n",
    "    for i in range(5):\n",
    "        denon += dist(params[l][i])\n",
    "    for i in range(5):\n",
    "        x_ = 0 \n",
    "        for j in range(5):\n",
    "            x_ += dist(params_kernel32[l][i], params[l][j])\n",
    "        x.append(np.log(x_/denon))\n",
    "        y.append(acc_kernel32[l][i])\n",
    "    plt.errorbar([np.mean(x)], [np.mean(y)], xerr =[[np.mean(x) - np.min(x)], [np.max(x) - np.mean(x) ]],\n",
    "                 yerr = [[np.mean(y) - np.min(y)], [np.max(y) - np.mean(y)]], c='g', marker='.', markersize=10)\n",
    "    X.append(np.mean(x))\n",
    "    Y.append(np.mean(y))\n",
    "print (X, Y)\n",
    "    \n",
    "plt.plot(X, Y, c='g')    \n",
    "\n",
    "\n",
    "# kernel-5\n",
    "X = []\n",
    "Y = []\n",
    "for l in lamb:    \n",
    "    denon = 0\n",
    "    x = []\n",
    "    y = []\n",
    "    for i in range(5):\n",
    "        denon += dist(params[l][i])\n",
    "    for i in range(5):\n",
    "        x_ = 0 \n",
    "        for j in range(5):\n",
    "            x_ += dist(params_kernel52[l][i], params[l][j])\n",
    "        x.append(np.log(x_/denon))\n",
    "        y.append(acc_kernel52[l][i])\n",
    "    plt.errorbar([np.mean(x)], [np.mean(y)], xerr =[[np.mean(x) - np.min(x)], [np.max(x) - np.mean(x) ]],\n",
    "                 yerr = [[np.mean(y) - np.min(y)], [np.max(y) - np.mean(y)]], c='k', marker='.', markersize=10)\n",
    "    X.append(np.mean(x))\n",
    "    Y.append(np.mean(y))\n",
    "print (X, Y)\n",
    "plt.plot(X, Y, c='k') \n",
    "\n",
    "plt.ylim((0, 1))\n",
    "ax1.set_ylabel('Accuracy')\n",
    "ax1.set_xlabel('Deviation from basic model')\n",
    "ax2.set_ylabel('$log_{10}(\\lambda)$')\n",
    "#ax2.set_ylabel('sin', color='r')\n",
    "\n",
    "\n",
    "plt.savefig('wine_base_1.png', bbox_inches='tight')\n",
    "\n",
    "\n",
    "\n",
    "\n"
   ]
  },
  {
   "cell_type": "code",
   "execution_count": 23,
   "id": "26304b71",
   "metadata": {
    "scrolled": true
   },
   "outputs": [
    {
     "name": "stderr",
     "output_type": "stream",
     "text": [
      "/home/leginpc/reps/VarHyperNet/code/wine/../src/var_net.py:31: UserWarning: nn.init.xavier_uniform is now deprecated in favor of nn.init.xavier_uniform_.\n",
      "  t.nn.init.xavier_uniform(self.mean)\n",
      "/home/leginpc/reps/VarHyperNet/code/wine/../src/linear_var_hypernet.py:162: UserWarning: nn.init.xavier_uniform is now deprecated in favor of nn.init.xavier_uniform_.\n",
      "  t.nn.init.xavier_uniform(self.const,  init_const)\n",
      "/home/leginpc/reps/VarHyperNet/code/wine/../src/linear_var_hypernet.py:164: UserWarning: nn.init.xavier_uniform is now deprecated in favor of nn.init.xavier_uniform_.\n",
      "  t.nn.init.xavier_uniform(self.const2,  init_const2)\n"
     ]
    },
    {
     "data": {
      "application/vnd.jupyter.widget-view+json": {
       "model_id": "3cd25bb75b324d28a31f28ff10a44287",
       "version_major": 2,
       "version_minor": 0
      },
      "text/plain": [
       "  0%|          | 0/142 [00:00<?, ?it/s]"
      ]
     },
     "metadata": {},
     "output_type": "display_data"
    },
    {
     "data": {
      "application/vnd.jupyter.widget-view+json": {
       "model_id": "8ef01faedc2f4b01aa6b56c36864d4ea",
       "version_major": 2,
       "version_minor": 0
      },
      "text/plain": [
       "  0%|          | 0/142 [00:00<?, ?it/s]"
      ]
     },
     "metadata": {},
     "output_type": "display_data"
    },
    {
     "data": {
      "application/vnd.jupyter.widget-view+json": {
       "model_id": "05d2b341a89846e7aa7ba25d0e42e569",
       "version_major": 2,
       "version_minor": 0
      },
      "text/plain": [
       "  0%|          | 0/142 [00:00<?, ?it/s]"
      ]
     },
     "metadata": {},
     "output_type": "display_data"
    },
    {
     "data": {
      "application/vnd.jupyter.widget-view+json": {
       "model_id": "b3cba274e90d4f56ba7535ca906e11c1",
       "version_major": 2,
       "version_minor": 0
      },
      "text/plain": [
       "  0%|          | 0/142 [00:00<?, ?it/s]"
      ]
     },
     "metadata": {},
     "output_type": "display_data"
    },
    {
     "data": {
      "application/vnd.jupyter.widget-view+json": {
       "model_id": "4bbafff5f4114104adca6efdd393d28c",
       "version_major": 2,
       "version_minor": 0
      },
      "text/plain": [
       "  0%|          | 0/142 [00:00<?, ?it/s]"
      ]
     },
     "metadata": {},
     "output_type": "display_data"
    },
    {
     "data": {
      "application/vnd.jupyter.widget-view+json": {
       "model_id": "09f5d240274b4049867bdc9923339067",
       "version_major": 2,
       "version_minor": 0
      },
      "text/plain": [
       "  0%|          | 0/142 [00:00<?, ?it/s]"
      ]
     },
     "metadata": {},
     "output_type": "display_data"
    },
    {
     "data": {
      "application/vnd.jupyter.widget-view+json": {
       "model_id": "d32ba51f3acf4418954f80917cd9d955",
       "version_major": 2,
       "version_minor": 0
      },
      "text/plain": [
       "  0%|          | 0/142 [00:00<?, ?it/s]"
      ]
     },
     "metadata": {},
     "output_type": "display_data"
    },
    {
     "data": {
      "application/vnd.jupyter.widget-view+json": {
       "model_id": "dfdfcd8ab2664d64b31be2919cebbed4",
       "version_major": 2,
       "version_minor": 0
      },
      "text/plain": [
       "  0%|          | 0/142 [00:00<?, ?it/s]"
      ]
     },
     "metadata": {},
     "output_type": "display_data"
    },
    {
     "data": {
      "application/vnd.jupyter.widget-view+json": {
       "model_id": "fd67317b538a47b9903efedf761de546",
       "version_major": 2,
       "version_minor": 0
      },
      "text/plain": [
       "  0%|          | 0/142 [00:00<?, ?it/s]"
      ]
     },
     "metadata": {},
     "output_type": "display_data"
    },
    {
     "data": {
      "application/vnd.jupyter.widget-view+json": {
       "model_id": "3829c74751234f90945d3b509d16db25",
       "version_major": 2,
       "version_minor": 0
      },
      "text/plain": [
       "  0%|          | 0/142 [00:00<?, ?it/s]"
      ]
     },
     "metadata": {},
     "output_type": "display_data"
    },
    {
     "data": {
      "application/vnd.jupyter.widget-view+json": {
       "model_id": "e3c1d75611bd4f70b8404a9ecbd15e23",
       "version_major": 2,
       "version_minor": 0
      },
      "text/plain": [
       "  0%|          | 0/142 [00:00<?, ?it/s]"
      ]
     },
     "metadata": {},
     "output_type": "display_data"
    },
    {
     "data": {
      "application/vnd.jupyter.widget-view+json": {
       "model_id": "9f57c43f58e547599b66fab245518179",
       "version_major": 2,
       "version_minor": 0
      },
      "text/plain": [
       "  0%|          | 0/142 [00:00<?, ?it/s]"
      ]
     },
     "metadata": {},
     "output_type": "display_data"
    },
    {
     "data": {
      "application/vnd.jupyter.widget-view+json": {
       "model_id": "6b8a8115f7d04ff5b6db0cd90b8a58e1",
       "version_major": 2,
       "version_minor": 0
      },
      "text/plain": [
       "  0%|          | 0/142 [00:00<?, ?it/s]"
      ]
     },
     "metadata": {},
     "output_type": "display_data"
    },
    {
     "data": {
      "application/vnd.jupyter.widget-view+json": {
       "model_id": "b2dd88cffa2e4844a7f6ce897c937bc5",
       "version_major": 2,
       "version_minor": 0
      },
      "text/plain": [
       "  0%|          | 0/142 [00:00<?, ?it/s]"
      ]
     },
     "metadata": {},
     "output_type": "display_data"
    },
    {
     "data": {
      "application/vnd.jupyter.widget-view+json": {
       "model_id": "c0d4f5da622e44318377fc4289647b07",
       "version_major": 2,
       "version_minor": 0
      },
      "text/plain": [
       "  0%|          | 0/142 [00:00<?, ?it/s]"
      ]
     },
     "metadata": {},
     "output_type": "display_data"
    },
    {
     "data": {
      "application/vnd.jupyter.widget-view+json": {
       "model_id": "b4cd90c0e7214d5fa6c662d4f0840ccd",
       "version_major": 2,
       "version_minor": 0
      },
      "text/plain": [
       "  0%|          | 0/142 [00:00<?, ?it/s]"
      ]
     },
     "metadata": {},
     "output_type": "display_data"
    },
    {
     "data": {
      "application/vnd.jupyter.widget-view+json": {
       "model_id": "3beebd0adcba4b4598551dd24fac7369",
       "version_major": 2,
       "version_minor": 0
      },
      "text/plain": [
       "  0%|          | 0/142 [00:00<?, ?it/s]"
      ]
     },
     "metadata": {},
     "output_type": "display_data"
    },
    {
     "data": {
      "application/vnd.jupyter.widget-view+json": {
       "model_id": "928d3274afc34aafbe8b1e022e53b2fd",
       "version_major": 2,
       "version_minor": 0
      },
      "text/plain": [
       "  0%|          | 0/142 [00:00<?, ?it/s]"
      ]
     },
     "metadata": {},
     "output_type": "display_data"
    },
    {
     "data": {
      "application/vnd.jupyter.widget-view+json": {
       "model_id": "ff95871c31124b56badb3dd397985580",
       "version_major": 2,
       "version_minor": 0
      },
      "text/plain": [
       "  0%|          | 0/142 [00:00<?, ?it/s]"
      ]
     },
     "metadata": {},
     "output_type": "display_data"
    },
    {
     "data": {
      "application/vnd.jupyter.widget-view+json": {
       "model_id": "8614e419b8ba42a3aaf88769ae265779",
       "version_major": 2,
       "version_minor": 0
      },
      "text/plain": [
       "  0%|          | 0/142 [00:00<?, ?it/s]"
      ]
     },
     "metadata": {},
     "output_type": "display_data"
    },
    {
     "data": {
      "application/vnd.jupyter.widget-view+json": {
       "model_id": "6423a10310a846b5825392681aaa0220",
       "version_major": 2,
       "version_minor": 0
      },
      "text/plain": [
       "  0%|          | 0/142 [00:00<?, ?it/s]"
      ]
     },
     "metadata": {},
     "output_type": "display_data"
    },
    {
     "data": {
      "application/vnd.jupyter.widget-view+json": {
       "model_id": "4117c6633b964026b66db1cd758c25c5",
       "version_major": 2,
       "version_minor": 0
      },
      "text/plain": [
       "  0%|          | 0/142 [00:00<?, ?it/s]"
      ]
     },
     "metadata": {},
     "output_type": "display_data"
    },
    {
     "data": {
      "application/vnd.jupyter.widget-view+json": {
       "model_id": "f250cf8998f347ac882a1ef5d200c87d",
       "version_major": 2,
       "version_minor": 0
      },
      "text/plain": [
       "  0%|          | 0/142 [00:00<?, ?it/s]"
      ]
     },
     "metadata": {},
     "output_type": "display_data"
    },
    {
     "data": {
      "application/vnd.jupyter.widget-view+json": {
       "model_id": "7391b6826c834e92ab9012ee9d50c0a2",
       "version_major": 2,
       "version_minor": 0
      },
      "text/plain": [
       "  0%|          | 0/142 [00:00<?, ?it/s]"
      ]
     },
     "metadata": {},
     "output_type": "display_data"
    },
    {
     "data": {
      "application/vnd.jupyter.widget-view+json": {
       "model_id": "a3de319cd599473aa21178e3b1018b81",
       "version_major": 2,
       "version_minor": 0
      },
      "text/plain": [
       "  0%|          | 0/142 [00:00<?, ?it/s]"
      ]
     },
     "metadata": {},
     "output_type": "display_data"
    },
    {
     "data": {
      "application/vnd.jupyter.widget-view+json": {
       "model_id": "8fe6fd53e27749668e88737f13387f19",
       "version_major": 2,
       "version_minor": 0
      },
      "text/plain": [
       "  0%|          | 0/142 [00:00<?, ?it/s]"
      ]
     },
     "metadata": {},
     "output_type": "display_data"
    },
    {
     "data": {
      "application/vnd.jupyter.widget-view+json": {
       "model_id": "ceb0318d65794394ac1b41caebc0e4f8",
       "version_major": 2,
       "version_minor": 0
      },
      "text/plain": [
       "  0%|          | 0/142 [00:00<?, ?it/s]"
      ]
     },
     "metadata": {},
     "output_type": "display_data"
    },
    {
     "data": {
      "application/vnd.jupyter.widget-view+json": {
       "model_id": "16b2c30c73e644d5bba50d8d2663e7d0",
       "version_major": 2,
       "version_minor": 0
      },
      "text/plain": [
       "  0%|          | 0/142 [00:00<?, ?it/s]"
      ]
     },
     "metadata": {},
     "output_type": "display_data"
    },
    {
     "data": {
      "application/vnd.jupyter.widget-view+json": {
       "model_id": "bb30a87c45514a58b554f7b8e9094426",
       "version_major": 2,
       "version_minor": 0
      },
      "text/plain": [
       "  0%|          | 0/142 [00:00<?, ?it/s]"
      ]
     },
     "metadata": {},
     "output_type": "display_data"
    },
    {
     "data": {
      "application/vnd.jupyter.widget-view+json": {
       "model_id": "94b0b396133e4064a2fba61128f5088f",
       "version_major": 2,
       "version_minor": 0
      },
      "text/plain": [
       "  0%|          | 0/142 [00:00<?, ?it/s]"
      ]
     },
     "metadata": {},
     "output_type": "display_data"
    },
    {
     "data": {
      "application/vnd.jupyter.widget-view+json": {
       "model_id": "a44d3acf09ac41a3ac3c345a0887b205",
       "version_major": 2,
       "version_minor": 0
      },
      "text/plain": [
       "  0%|          | 0/142 [00:00<?, ?it/s]"
      ]
     },
     "metadata": {},
     "output_type": "display_data"
    },
    {
     "data": {
      "application/vnd.jupyter.widget-view+json": {
       "model_id": "a73278bf1f78412ca0d7886e2a2a7d30",
       "version_major": 2,
       "version_minor": 0
      },
      "text/plain": [
       "  0%|          | 0/142 [00:00<?, ?it/s]"
      ]
     },
     "metadata": {},
     "output_type": "display_data"
    },
    {
     "data": {
      "application/vnd.jupyter.widget-view+json": {
       "model_id": "fb5bb8a8fa1d408a814ebb96fd964b49",
       "version_major": 2,
       "version_minor": 0
      },
      "text/plain": [
       "  0%|          | 0/142 [00:00<?, ?it/s]"
      ]
     },
     "metadata": {},
     "output_type": "display_data"
    },
    {
     "data": {
      "application/vnd.jupyter.widget-view+json": {
       "model_id": "6b7ca29bfb3449439289e6f87dd92056",
       "version_major": 2,
       "version_minor": 0
      },
      "text/plain": [
       "  0%|          | 0/142 [00:00<?, ?it/s]"
      ]
     },
     "metadata": {},
     "output_type": "display_data"
    },
    {
     "data": {
      "application/vnd.jupyter.widget-view+json": {
       "model_id": "dab9b2740ab54978b4a4c588fdd40029",
       "version_major": 2,
       "version_minor": 0
      },
      "text/plain": [
       "  0%|          | 0/142 [00:00<?, ?it/s]"
      ]
     },
     "metadata": {},
     "output_type": "display_data"
    },
    {
     "data": {
      "application/vnd.jupyter.widget-view+json": {
       "model_id": "2015bb594b7b475a81839627fdf3f84a",
       "version_major": 2,
       "version_minor": 0
      },
      "text/plain": [
       "  0%|          | 0/142 [00:00<?, ?it/s]"
      ]
     },
     "metadata": {},
     "output_type": "display_data"
    },
    {
     "data": {
      "application/vnd.jupyter.widget-view+json": {
       "model_id": "379c2bcb509c401aa26d004272ba7936",
       "version_major": 2,
       "version_minor": 0
      },
      "text/plain": [
       "  0%|          | 0/142 [00:00<?, ?it/s]"
      ]
     },
     "metadata": {},
     "output_type": "display_data"
    },
    {
     "data": {
      "application/vnd.jupyter.widget-view+json": {
       "model_id": "8ad37f70fc604597b67cf92b16e35238",
       "version_major": 2,
       "version_minor": 0
      },
      "text/plain": [
       "  0%|          | 0/142 [00:00<?, ?it/s]"
      ]
     },
     "metadata": {},
     "output_type": "display_data"
    },
    {
     "data": {
      "application/vnd.jupyter.widget-view+json": {
       "model_id": "1e18d4f76b804df5b7b386ba79d30a53",
       "version_major": 2,
       "version_minor": 0
      },
      "text/plain": [
       "  0%|          | 0/142 [00:00<?, ?it/s]"
      ]
     },
     "metadata": {},
     "output_type": "display_data"
    },
    {
     "data": {
      "application/vnd.jupyter.widget-view+json": {
       "model_id": "3c5ca8e4534847388d66a9b933c60383",
       "version_major": 2,
       "version_minor": 0
      },
      "text/plain": [
       "  0%|          | 0/142 [00:00<?, ?it/s]"
      ]
     },
     "metadata": {},
     "output_type": "display_data"
    },
    {
     "data": {
      "application/vnd.jupyter.widget-view+json": {
       "model_id": "e763e87a33d04920aad36e924470b08c",
       "version_major": 2,
       "version_minor": 0
      },
      "text/plain": [
       "  0%|          | 0/142 [00:00<?, ?it/s]"
      ]
     },
     "metadata": {},
     "output_type": "display_data"
    },
    {
     "data": {
      "application/vnd.jupyter.widget-view+json": {
       "model_id": "af19a192944a45ec8689a4dea15c6b84",
       "version_major": 2,
       "version_minor": 0
      },
      "text/plain": [
       "  0%|          | 0/142 [00:00<?, ?it/s]"
      ]
     },
     "metadata": {},
     "output_type": "display_data"
    },
    {
     "data": {
      "application/vnd.jupyter.widget-view+json": {
       "model_id": "d6433e9c706549d2955a602ebd4b26ea",
       "version_major": 2,
       "version_minor": 0
      },
      "text/plain": [
       "  0%|          | 0/142 [00:00<?, ?it/s]"
      ]
     },
     "metadata": {},
     "output_type": "display_data"
    },
    {
     "data": {
      "application/vnd.jupyter.widget-view+json": {
       "model_id": "4d83b516a83449cd862a154db1281371",
       "version_major": 2,
       "version_minor": 0
      },
      "text/plain": [
       "  0%|          | 0/142 [00:00<?, ?it/s]"
      ]
     },
     "metadata": {},
     "output_type": "display_data"
    },
    {
     "data": {
      "application/vnd.jupyter.widget-view+json": {
       "model_id": "f72b2890a7aa4325be2241e96b133d47",
       "version_major": 2,
       "version_minor": 0
      },
      "text/plain": [
       "  0%|          | 0/142 [00:00<?, ?it/s]"
      ]
     },
     "metadata": {},
     "output_type": "display_data"
    },
    {
     "data": {
      "application/vnd.jupyter.widget-view+json": {
       "model_id": "90c44e91e712436a924e03284b1cbda2",
       "version_major": 2,
       "version_minor": 0
      },
      "text/plain": [
       "  0%|          | 0/142 [00:00<?, ?it/s]"
      ]
     },
     "metadata": {},
     "output_type": "display_data"
    },
    {
     "data": {
      "application/vnd.jupyter.widget-view+json": {
       "model_id": "7e12291185c74a1c89738b218f43205f",
       "version_major": 2,
       "version_minor": 0
      },
      "text/plain": [
       "  0%|          | 0/142 [00:00<?, ?it/s]"
      ]
     },
     "metadata": {},
     "output_type": "display_data"
    },
    {
     "data": {
      "application/vnd.jupyter.widget-view+json": {
       "model_id": "47a3a539c9b74d94ad0f9be0fb4beaeb",
       "version_major": 2,
       "version_minor": 0
      },
      "text/plain": [
       "  0%|          | 0/142 [00:00<?, ?it/s]"
      ]
     },
     "metadata": {},
     "output_type": "display_data"
    },
    {
     "data": {
      "application/vnd.jupyter.widget-view+json": {
       "model_id": "1007504656ad4006977dc2b581bd8a76",
       "version_major": 2,
       "version_minor": 0
      },
      "text/plain": [
       "  0%|          | 0/142 [00:00<?, ?it/s]"
      ]
     },
     "metadata": {},
     "output_type": "display_data"
    },
    {
     "data": {
      "application/vnd.jupyter.widget-view+json": {
       "model_id": "03746f6d32474c42a88bd88f006d4a9e",
       "version_major": 2,
       "version_minor": 0
      },
      "text/plain": [
       "  0%|          | 0/142 [00:00<?, ?it/s]"
      ]
     },
     "metadata": {},
     "output_type": "display_data"
    },
    {
     "data": {
      "application/vnd.jupyter.widget-view+json": {
       "model_id": "c957162c39c247cc91fec545f1a0206f",
       "version_major": 2,
       "version_minor": 0
      },
      "text/plain": [
       "  0%|          | 0/142 [00:00<?, ?it/s]"
      ]
     },
     "metadata": {},
     "output_type": "display_data"
    },
    {
     "data": {
      "application/vnd.jupyter.widget-view+json": {
       "model_id": "7f7015ee740e4b0b985ced76612ff27b",
       "version_major": 2,
       "version_minor": 0
      },
      "text/plain": [
       "  0%|          | 0/142 [00:00<?, ?it/s]"
      ]
     },
     "metadata": {},
     "output_type": "display_data"
    },
    {
     "data": {
      "application/vnd.jupyter.widget-view+json": {
       "model_id": "258e31bad0fd46429c2f78f648d8c993",
       "version_major": 2,
       "version_minor": 0
      },
      "text/plain": [
       "  0%|          | 0/142 [00:00<?, ?it/s]"
      ]
     },
     "metadata": {},
     "output_type": "display_data"
    },
    {
     "data": {
      "application/vnd.jupyter.widget-view+json": {
       "model_id": "9b5ae6817d5b438f8102542dfea57b5a",
       "version_major": 2,
       "version_minor": 0
      },
      "text/plain": [
       "  0%|          | 0/142 [00:00<?, ?it/s]"
      ]
     },
     "metadata": {},
     "output_type": "display_data"
    },
    {
     "data": {
      "application/vnd.jupyter.widget-view+json": {
       "model_id": "029a19fbd5754d8e9e5cbaff9e0a4411",
       "version_major": 2,
       "version_minor": 0
      },
      "text/plain": [
       "  0%|          | 0/142 [00:00<?, ?it/s]"
      ]
     },
     "metadata": {},
     "output_type": "display_data"
    },
    {
     "data": {
      "application/vnd.jupyter.widget-view+json": {
       "model_id": "d2cb0026744c4272b0ec91582000bdc4",
       "version_major": 2,
       "version_minor": 0
      },
      "text/plain": [
       "  0%|          | 0/142 [00:00<?, ?it/s]"
      ]
     },
     "metadata": {},
     "output_type": "display_data"
    },
    {
     "data": {
      "application/vnd.jupyter.widget-view+json": {
       "model_id": "0dcc36c6f9a340efb7f207d963fc8eb1",
       "version_major": 2,
       "version_minor": 0
      },
      "text/plain": [
       "  0%|          | 0/142 [00:00<?, ?it/s]"
      ]
     },
     "metadata": {},
     "output_type": "display_data"
    },
    {
     "data": {
      "application/vnd.jupyter.widget-view+json": {
       "model_id": "ee799bbf67334cada130bdece0c68289",
       "version_major": 2,
       "version_minor": 0
      },
      "text/plain": [
       "  0%|          | 0/142 [00:00<?, ?it/s]"
      ]
     },
     "metadata": {},
     "output_type": "display_data"
    },
    {
     "data": {
      "application/vnd.jupyter.widget-view+json": {
       "model_id": "204baa8cf0494a659c1760f8b3e19695",
       "version_major": 2,
       "version_minor": 0
      },
      "text/plain": [
       "  0%|          | 0/142 [00:00<?, ?it/s]"
      ]
     },
     "metadata": {},
     "output_type": "display_data"
    },
    {
     "data": {
      "application/vnd.jupyter.widget-view+json": {
       "model_id": "21fac27d53a1479aa26505c83927c9c7",
       "version_major": 2,
       "version_minor": 0
      },
      "text/plain": [
       "  0%|          | 0/142 [00:00<?, ?it/s]"
      ]
     },
     "metadata": {},
     "output_type": "display_data"
    },
    {
     "data": {
      "application/vnd.jupyter.widget-view+json": {
       "model_id": "773d748f32664173abbe832c529a7634",
       "version_major": 2,
       "version_minor": 0
      },
      "text/plain": [
       "  0%|          | 0/142 [00:00<?, ?it/s]"
      ]
     },
     "metadata": {},
     "output_type": "display_data"
    },
    {
     "data": {
      "application/vnd.jupyter.widget-view+json": {
       "model_id": "d5731e61754846258150571dfba459d4",
       "version_major": 2,
       "version_minor": 0
      },
      "text/plain": [
       "  0%|          | 0/142 [00:00<?, ?it/s]"
      ]
     },
     "metadata": {},
     "output_type": "display_data"
    },
    {
     "data": {
      "application/vnd.jupyter.widget-view+json": {
       "model_id": "f24086d514cc48e4942f42361938ab3c",
       "version_major": 2,
       "version_minor": 0
      },
      "text/plain": [
       "  0%|          | 0/142 [00:00<?, ?it/s]"
      ]
     },
     "metadata": {},
     "output_type": "display_data"
    },
    {
     "data": {
      "application/vnd.jupyter.widget-view+json": {
       "model_id": "17a0defd837a4440b3f982d8ee3183ac",
       "version_major": 2,
       "version_minor": 0
      },
      "text/plain": [
       "  0%|          | 0/142 [00:00<?, ?it/s]"
      ]
     },
     "metadata": {},
     "output_type": "display_data"
    },
    {
     "data": {
      "application/vnd.jupyter.widget-view+json": {
       "model_id": "f37f6a7fcef849d085a32e041cb41ac7",
       "version_major": 2,
       "version_minor": 0
      },
      "text/plain": [
       "  0%|          | 0/142 [00:00<?, ?it/s]"
      ]
     },
     "metadata": {},
     "output_type": "display_data"
    },
    {
     "data": {
      "application/vnd.jupyter.widget-view+json": {
       "model_id": "a91647bc13ff4840bee207ea48620e05",
       "version_major": 2,
       "version_minor": 0
      },
      "text/plain": [
       "  0%|          | 0/142 [00:00<?, ?it/s]"
      ]
     },
     "metadata": {},
     "output_type": "display_data"
    },
    {
     "data": {
      "application/vnd.jupyter.widget-view+json": {
       "model_id": "40e2bceb889c400fbcdaf27443e99540",
       "version_major": 2,
       "version_minor": 0
      },
      "text/plain": [
       "  0%|          | 0/142 [00:00<?, ?it/s]"
      ]
     },
     "metadata": {},
     "output_type": "display_data"
    },
    {
     "data": {
      "application/vnd.jupyter.widget-view+json": {
       "model_id": "d9a3f31ebe6e484ea8ebf49cffbe2423",
       "version_major": 2,
       "version_minor": 0
      },
      "text/plain": [
       "  0%|          | 0/142 [00:00<?, ?it/s]"
      ]
     },
     "metadata": {},
     "output_type": "display_data"
    },
    {
     "data": {
      "application/vnd.jupyter.widget-view+json": {
       "model_id": "d5a071ef81f742e99d4e4c98598125ba",
       "version_major": 2,
       "version_minor": 0
      },
      "text/plain": [
       "  0%|          | 0/142 [00:00<?, ?it/s]"
      ]
     },
     "metadata": {},
     "output_type": "display_data"
    },
    {
     "data": {
      "application/vnd.jupyter.widget-view+json": {
       "model_id": "2453818fba7c46879feebb92af357083",
       "version_major": 2,
       "version_minor": 0
      },
      "text/plain": [
       "  0%|          | 0/142 [00:00<?, ?it/s]"
      ]
     },
     "metadata": {},
     "output_type": "display_data"
    },
    {
     "data": {
      "application/vnd.jupyter.widget-view+json": {
       "model_id": "e4eb3c4db135484987b0c97ef3dfe882",
       "version_major": 2,
       "version_minor": 0
      },
      "text/plain": [
       "  0%|          | 0/142 [00:00<?, ?it/s]"
      ]
     },
     "metadata": {},
     "output_type": "display_data"
    },
    {
     "data": {
      "application/vnd.jupyter.widget-view+json": {
       "model_id": "2512557266ed40d2ad6e56c66105655e",
       "version_major": 2,
       "version_minor": 0
      },
      "text/plain": [
       "  0%|          | 0/142 [00:00<?, ?it/s]"
      ]
     },
     "metadata": {},
     "output_type": "display_data"
    },
    {
     "data": {
      "application/vnd.jupyter.widget-view+json": {
       "model_id": "b6fb12e7701d4bdf93d3fe5ae6b9cbe8",
       "version_major": 2,
       "version_minor": 0
      },
      "text/plain": [
       "  0%|          | 0/142 [00:00<?, ?it/s]"
      ]
     },
     "metadata": {},
     "output_type": "display_data"
    },
    {
     "data": {
      "application/vnd.jupyter.widget-view+json": {
       "model_id": "f37221e1eba549f191a59a0324a7dd01",
       "version_major": 2,
       "version_minor": 0
      },
      "text/plain": [
       "  0%|          | 0/142 [00:00<?, ?it/s]"
      ]
     },
     "metadata": {},
     "output_type": "display_data"
    },
    {
     "data": {
      "application/vnd.jupyter.widget-view+json": {
       "model_id": "5e6205b50f4d4f3a9f5d0d39b284d1e4",
       "version_major": 2,
       "version_minor": 0
      },
      "text/plain": [
       "  0%|          | 0/142 [00:00<?, ?it/s]"
      ]
     },
     "metadata": {},
     "output_type": "display_data"
    }
   ],
   "source": [
    "LR = 5e-4\n",
    "E = 142\n",
    "\n",
    "params_linear2 = {}\n",
    "acc_linear2 = {}\n",
    "\n",
    "params_kernel32 = {}\n",
    "acc_kernel32 = {}\n",
    "\n",
    "params_kernel52 = {}\n",
    "acc_kernel52 = {}\n",
    "\n",
    "params2 = {}\n",
    "acc2 = {}\n",
    "\n",
    "net = var_net.VarNet(var_net.VarLayer(13, 3, prior_sigma=prior_sigma,  init_log_sigma=init_log_sigma,\n",
    "                                          act=lambda x:x))\n",
    "\n",
    "for l in lamb:\n",
    "    params2[l] = []\n",
    "    acc2[l] = []\n",
    "    for i in range(5):\n",
    "        net.load_state_dict(t.load('./saved_wine/rep_net0_lam_{}_start_{}.cpk'.format(l, i)))\n",
    "        params2[l].append((net[0].mean.cpu().detach().numpy().copy(), net[0].log_sigma.cpu().detach().numpy().copy()))\n",
    "        net.eval()\n",
    "        acc2[l].append( ((1.0*t.eq(net(test_X.float()).argmax(1), test_Y)).mean().item()))\n",
    "        net.train()\n",
    "        \n",
    "        \n",
    "# linear\n",
    "net0 = var_net.VarNet( linear_var_hypernet.VarLayerLinearAppr(13, 3,  prior_sigma=prior_sigma, act=lambda x:x, init_log_sigma=init_log_sigma))\n",
    "for l in lamb:\n",
    "    params_linear2[l] = []\n",
    "    acc_linear2[l] = []\n",
    "    for i in range(5):\n",
    "        net0.load_state_dict(t.load('./saved_wine/rep_linear_start_{}.cpk'.format(i)))\n",
    "        \n",
    "        utils0.net_copy(net0, net, lambda_encode(t.tensor(l)), layer_num=1, mode='var')\n",
    "        #acc[l].append( ((1.0*t.eq(net(test_X.float()).argmax(1), test_Y)).mean().item()))\n",
    "        optim = t.optim.Adam(net.parameters(), lr=LR)\n",
    "        loss_fn = nn.CrossEntropyLoss().to(device)   \n",
    "        \n",
    "        utils.train_batches_net(train_loader,len(train_data),  net, device, loss_fn, optim, t.tensor(l), 'fine linear '+str(i)+' ', batch_num=E, rep=True)        \n",
    "        net.eval()\n",
    "        acc_linear2[l].append( ((1.0*t.eq(net(test_X.float()).argmax(1), test_Y)).mean().item()))\n",
    "        net.train()\n",
    "        params_linear2[l].append((net[0].mean.detach().numpy().copy(), net[0].log_sigma.detach().numpy().copy()))\n",
    "\n",
    "net0 = var_net.VarNet(kernel_hypernet.VarKernelLayer(13, 3,   3, \n",
    "                                                    prior_sigma=prior_sigma, act=lambda x:x, init_log_sigma=init_log_sigma))              \n",
    "for l in lamb:\n",
    "    params_kernel32[l] = []\n",
    "    acc_kernel32[l] = []\n",
    "    for i in range(5):\n",
    "        net0.load_state_dict(t.load('./saved_wine/var_kernel_3_start_{}.cpk'.format(i)))        \n",
    "        utils0.net_copy(net0, net, lambda_encode(t.tensor(l)), layer_num=1, mode='var')\n",
    "        #acc[l].append( ((1.0*t.eq(net(test_X.float()).argmax(1), test_Y)).mean().item()))\n",
    "        optim = t.optim.Adam(net.parameters(), lr=LR)\n",
    "        loss_fn = nn.CrossEntropyLoss().to(device)       \n",
    "        \n",
    "        utils.train_batches_net(train_loader,len(train_data),  net, device, loss_fn, optim, t.tensor(l),  'fine kernel3 '+str(i)+' ', batch_num=E, rep=True)    \n",
    "        net.eval()\n",
    "        acc_kernel32[l].append( ((1.0*t.eq(net(test_X.float()).argmax(1), test_Y)).mean().item()))\n",
    "        net.train()\n",
    "        params_kernel32[l].append((net[0].mean.detach().numpy().copy(), net[0].log_sigma.detach().numpy().copy()))\n",
    "\n",
    "net0 = var_net.VarNet(kernel_hypernet.VarKernelLayer(13, 3,   5, \n",
    "                                                    prior_sigma=prior_sigma, act=lambda x:x, init_log_sigma=init_log_sigma))\n",
    "\n",
    "for l in lamb:\n",
    "    params_kernel52[l] = []\n",
    "    acc_kernel52[l] = []\n",
    "    for i in range(5):\n",
    "        net0.load_state_dict(t.load('./saved_wine/var_kernel_5_start_{}.cpk'.format(i)))        \n",
    "        utils0.net_copy(net0, net, lambda_encode(t.tensor(l)), layer_num=1, mode='var')\n",
    "        #acc[l].append( ((1.0*t.eq(net(test_X.float()).argmax(1), test_Y)).mean().item()))\n",
    "        optim = t.optim.Adam(net.parameters(), lr=LR)\n",
    "        loss_fn = nn.CrossEntropyLoss().to(device)       \n",
    "        \n",
    "        utils.train_batches_net(train_loader,len(train_data),  net, device, loss_fn, optim, t.tensor(l),  'fine kernel5 '+str(i)+' ', batch_num=E, rep=True)     \n",
    "        net.eval()\n",
    "        acc_kernel52[l].append( ((1.0*t.eq(net(test_X.float()).argmax(1), test_Y)).mean().item()))\n",
    "        net.train()\n",
    "        params_kernel52[l].append((net[0].mean.detach().numpy().copy(), net[0].log_sigma.detach().numpy().copy()))\n",
    "\n",
    "            "
   ]
  },
  {
   "cell_type": "code",
   "execution_count": 24,
   "id": "02ffdd8b",
   "metadata": {},
   "outputs": [
    {
     "name": "stdout",
     "output_type": "stream",
     "text": [
      "[-0.26873603, -0.2825481, -0.28428754, -0.28416747, -0.28405723] [0.9444444179534912, 0.9222222208976746, 0.9222222089767456, 0.7944444298744202, 0.5555555522441864]\n",
      "[-0.31718534, -0.26904187, -0.28546435, -0.28412133, -0.28398928] [0.9388888716697693, 0.9166666626930237, 0.9222222089767456, 0.8611111044883728, 0.35]\n"
     ]
    },
    {
     "data": {
      "image/png": "[encoded data removed]",
      "text/plain": [
       "<Figure size 504x324 with 2 Axes>"
      ]
     },
     "metadata": {},
     "output_type": "display_data"
    }
   ],
   "source": [
    "fig, ax1 = plt.subplots()\n",
    "ax2 = ax1.twinx()\n",
    "\n",
    "\n",
    "### nets\n",
    "X = []\n",
    "Y = []\n",
    "for l in lamb:    \n",
    "    denon = 0\n",
    "    x = []\n",
    "    y = []\n",
    "    for i in range(5):\n",
    "        denon += dist(params[l][i])\n",
    "    for i in range(5):\n",
    "        x_ = 0 \n",
    "        for j in range(5):\n",
    "            x_ += dist(params[l][i], params[l][j])\n",
    "        x.append(np.log(x_/denon))\n",
    "        y.append(acc[l][i])\n",
    "    #plt.errorbar([np.mean(x)], [np.mean(y)], xerr =[[np.mean(x) - np.min(x)], [np.max(x) - np.mean(x) ]],\n",
    "    #             yerr = [[np.mean(y) - np.min(y)], [np.max(y) - np.mean(y)]], marker='.', c='r', markersize=10)\n",
    "    X.append(np.mean(x))\n",
    "    Y.append(np.mean(y))\n",
    "#plt.plot(X, Y, c='r')\n",
    "ax2.set_yticks(Y)\n",
    "ax2.set_yticklabels(['2', '', '4', '5', '6'])  \n",
    "\n",
    "\n",
    "### nets\n",
    "X = []\n",
    "Y = []\n",
    "for l in lamb:    \n",
    "    denon = 0\n",
    "    x = []\n",
    "    y = []\n",
    "    for i in range(5):\n",
    "        denon += dist(params[l][i])\n",
    "    for i in range(5):\n",
    "        x_ = 0 \n",
    "        for j in range(5):\n",
    "            x_ += dist(params2[l][i], params2[l][j])\n",
    "        x.append(np.log(x_/denon))\n",
    "        y.append(acc2[l][i])\n",
    "    plt.errorbar([np.mean(x)], [np.mean(y)], xerr =[[np.mean(x) - np.min(x)], [np.max(x) - np.mean(x) ]],\n",
    "                 yerr = [[np.mean(y) - np.min(y)], [np.max(y) - np.mean(y)]], marker='.', c='purple', markersize=10)\n",
    "    X.append(np.mean(x))\n",
    "    Y.append(np.mean(y))\n",
    "plt.plot(X, Y, c='purple')\n",
    "\n",
    "# linear\n",
    "X = []\n",
    "Y = []\n",
    "for l in lamb:    \n",
    "    denon = 0\n",
    "    x = []\n",
    "    y = []\n",
    "    for i in range(5):\n",
    "        denon += dist(params[l][i])\n",
    "    for i in range(5):\n",
    "        x_ = 0 \n",
    "        for j in range(5):\n",
    "            x_ += dist(params_linear2[l][i],  params[l][j])\n",
    "        x.append(np.log(x_/denon))\n",
    "        y.append(acc_linear2[l][i])\n",
    "    plt.errorbar([np.mean(x)], [np.mean(y)], xerr =[[np.mean(x) - np.min(x)], [np.max(x) - np.mean(x) ]],\n",
    "                 yerr = [[np.mean(y) - np.min(y)], [np.max(y) - np.mean(y)]], c='b', marker='.', markersize=10)\n",
    "    X.append(np.mean(x))\n",
    "    Y.append(np.mean(y))\n",
    "    \n",
    "plt.plot(X, Y, c='b')    \n",
    "\n",
    "# kernel-3\n",
    "X = []\n",
    "Y = []\n",
    "for l in lamb:    \n",
    "    denon = 0\n",
    "    x = []\n",
    "    y = []\n",
    "    for i in range(5):\n",
    "        denon += dist(params[l][i])\n",
    "    for i in range(5):\n",
    "        x_ = 0 \n",
    "        for j in range(5):\n",
    "            x_ += dist(params_kernel32[l][i], params[l][j])\n",
    "        x.append(np.log(x_/denon))\n",
    "        y.append(acc_kernel32[l][i])\n",
    "    plt.errorbar([np.mean(x)], [np.mean(y)], xerr =[[np.mean(x) - np.min(x)], [np.max(x) - np.mean(x) ]],\n",
    "                 yerr = [[np.mean(y) - np.min(y)], [np.max(y) - np.mean(y)]], c='g', marker='.', markersize=10)\n",
    "    X.append(np.mean(x))\n",
    "    Y.append(np.mean(y))\n",
    "print (X, Y)\n",
    "    \n",
    "plt.plot(X, Y, c='g')    \n",
    "\n",
    "\n",
    "# kernel-5\n",
    "X = []\n",
    "Y = []\n",
    "for l in lamb:    \n",
    "    denon = 0\n",
    "    x = []\n",
    "    y = []\n",
    "    for i in range(5):\n",
    "        denon += dist(params[l][i])\n",
    "    for i in range(5):\n",
    "        x_ = 0 \n",
    "        for j in range(5):\n",
    "            x_ += dist(params_kernel52[l][i], params[l][j])\n",
    "        x.append(np.log(x_/denon))\n",
    "        y.append(acc_kernel52[l][i])\n",
    "    plt.errorbar([np.mean(x)], [np.mean(y)], xerr =[[np.mean(x) - np.min(x)], [np.max(x) - np.mean(x) ]],\n",
    "                 yerr = [[np.mean(y) - np.min(y)], [np.max(y) - np.mean(y)]], c='k', marker='.', markersize=10)\n",
    "    X.append(np.mean(x))\n",
    "    Y.append(np.mean(y))\n",
    "print (X, Y)\n",
    "plt.plot(X, Y, c='k') \n",
    "\n",
    "plt.ylim((0, 1))\n",
    "ax1.set_ylabel('Accuracy')\n",
    "ax1.set_xlabel('Deviation from basic model')\n",
    "ax2.set_ylabel('$log_{10}(\\lambda)$')\n",
    "#ax2.set_ylabel('sin', color='r')\n",
    "\n",
    "\n",
    "plt.savefig('wine_base_1.png', bbox_inches='tight')\n",
    "\n",
    "\n",
    "\n",
    "\n"
   ]
  },
  {
   "cell_type": "code",
   "execution_count": 262,
   "id": "1aa16871",
   "metadata": {},
   "outputs": [
    {
     "name": "stderr",
     "output_type": "stream",
     "text": [
      "/tmp/ipykernel_5610/2742663401.py:9: UserWarning: FixedFormatter should only be used together with FixedLocator\n",
      "  axes.set_yticklabels(['']+['base model', 'linear','linear + fine-tune', 'piece-wise', 'piece-wise + fine-tune'])\n"
     ]
    },
    {
     "data": {
      "image/png": "[encoded data removed]",
      "text/plain": [
       "<Figure size 864x648 with 1 Axes>"
      ]
     },
     "metadata": {},
     "output_type": "display_data"
    }
   ],
   "source": [
    "plt.rcParams['figure.figsize'] = (12,9)\n",
    "figure = plt.figure()\n",
    "axes = figure.add_subplot(111)\n",
    "\n",
    "matrix1 = np.vstack([params[100][0].flatten(), params_linear[100][0].flatten(),  params_linear2[100][0].flatten(), params_kernel[5][100][0].flatten(),  params_kernel52[100][0].flatten()])\n",
    "axes.matshow(matrix1, cmap='gray')\n",
    "plt.xlabel('Parameter matrix component number')\n",
    "#ax.set_yticklabels([])\n",
    "axes.set_yticklabels(['']+['base model', 'linear','linear + fine-tune', 'piece-wise', 'piece-wise + fine-tune'])\n",
    "\n",
    "\n",
    "plt.savefig('wine_matrix1.png', bbox_inches='tight')\n"
   ]
  },
  {
   "cell_type": "code",
   "execution_count": 263,
   "id": "7e7ebc86",
   "metadata": {},
   "outputs": [
    {
     "name": "stderr",
     "output_type": "stream",
     "text": [
      "/tmp/ipykernel_5610/476825305.py:9: UserWarning: FixedFormatter should only be used together with FixedLocator\n",
      "  axes.set_yticklabels(['']+['base model', 'linear','linear + fine-tune', 'piece-wise', 'piece-wise + fine-tune'])\n"
     ]
    },
    {
     "data": {
      "image/png": "[encoded data removed]",
      "text/plain": [
       "<Figure size 864x648 with 1 Axes>"
      ]
     },
     "metadata": {},
     "output_type": "display_data"
    }
   ],
   "source": [
    "plt.rcParams['figure.figsize'] = (12,9)\n",
    "figure = plt.figure()\n",
    "axes = figure.add_subplot(111)\n",
    "\n",
    "matrix1 = np.vstack([params[1000000][0].flatten(), params_linear[1000000][0].flatten(),  params_linear2[1000000][0].flatten(), params_kernel[5][1000000][0].flatten(),  params_kernel52[1000000][0].flatten()])\n",
    "axes.matshow(matrix1, cmap='gray')\n",
    "plt.xlabel('Parameter matrix component number')\n",
    "#ax.set_yticklabels([])\n",
    "axes.set_yticklabels(['']+['base model', 'linear','linear + fine-tune', 'piece-wise', 'piece-wise + fine-tune'])\n",
    "plt.savefig('wine_matrix2.png', bbox_inches='tight')"
   ]
  },
  {
   "cell_type": "code",
   "execution_count": null,
   "id": "d4c8baf5",
   "metadata": {},
   "outputs": [],
   "source": []
  },
  {
   "cell_type": "code",
   "execution_count": null,
   "id": "730ca148",
   "metadata": {},
   "outputs": [],
   "source": []
  },
  {
   "cell_type": "code",
   "execution_count": null,
   "id": "90a37066",
   "metadata": {},
   "outputs": [],
   "source": []
  },
  {
   "cell_type": "code",
   "execution_count": null,
   "id": "1ea1d35e",
   "metadata": {},
   "outputs": [],
   "source": []
  },
  {
   "cell_type": "code",
   "execution_count": null,
   "id": "603fc5b4",
   "metadata": {},
   "outputs": [],
   "source": []
  }
 ],
 "metadata": {
  "kernelspec": {
   "display_name": "Python 3 (ipykernel)",
   "language": "python",
   "name": "python3"
  },
  "language_info": {
   "codemirror_mode": {
    "name": "ipython",
    "version": 3
   },
   "file_extension": ".py",
   "mimetype": "text/x-python",
   "name": "python",
   "nbconvert_exporter": "python",
   "pygments_lexer": "ipython3",
   "version": "3.8.10"
  }
 },
 "nbformat": 4,
 "nbformat_minor": 5
}
