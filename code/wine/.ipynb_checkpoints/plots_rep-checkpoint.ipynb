{
 "cells": [
  {
   "cell_type": "code",
   "execution_count": 1,
   "id": "4fbbd233",
   "metadata": {},
   "outputs": [],
   "source": [
    "import torch as t \n",
    "import torchvision\n",
    "import numpy as np\n",
    "import torch.nn as nn\n",
    "import torch.nn.functional as F\n",
    "import torch.optim as optim\n",
    "import matplotlib.pylab as plt\n",
    "from torch.nn.utils import clip_grad_value_\n",
    "%matplotlib inline\n",
    "import pickle\n",
    "from torchvision import datasets, transforms\n",
    "import tqdm\n",
    "import os\n",
    "import sys\n",
    "sys.path.append('../src/')\n",
    "import importlib \n",
    "import kernel_hypernet as kernel_hypernet\n",
    "import var_net as var_net\n",
    "import utils as utils0\n",
    "importlib.reload(utils0)\n",
    "import mnist_utils as utils\n",
    "importlib.reload(utils)\n",
    "\n",
    "importlib.reload(var_net)\n",
    "importlib.reload(kernel_hypernet)\n",
    "import importlib \n",
    "import var_net as var_net\n",
    "import base_net as base_net\n",
    "import mnist_utils as utils\n",
    "importlib.reload(utils)\n",
    "importlib.reload(var_net)\n",
    "importlib.reload(base_net)\n",
    "\n",
    "\n",
    "\n",
    "import linear_var_hypernet as linear_var_hypernet"
   ]
  },
  {
   "cell_type": "code",
   "execution_count": 2,
   "id": "8df8aa20",
   "metadata": {},
   "outputs": [],
   "source": [
    "import seaborn as sns\n",
    "sns.set('paper', style='white', font_scale=1.5)\n",
    "plt.rcParams['figure.figsize'] = (7,4.5)"
   ]
  },
  {
   "cell_type": "code",
   "execution_count": 3,
   "id": "b6976bd2",
   "metadata": {},
   "outputs": [],
   "source": [
    "from sklearn.datasets import load_wine\n",
    "from torch.utils.data import TensorDataset, DataLoader\n",
    "wine_X , wine_Y = load_wine(return_X_y=True)\n",
    "device = 'cpu'\n",
    "rs = np.random.RandomState(42)\n",
    "ids = list(range(len(wine_X)))\n",
    "rs.shuffle(ids)\n",
    "\n",
    "train_X, test_X = wine_X[ids[:len(ids)*4//5]], wine_X[ids[len(ids)*4//5:]]\n",
    "train_Y, test_Y = wine_Y[ids[:len(ids)*4//5]], wine_Y[ids[len(ids)*4//5:]]\n",
    "\n",
    "mean = np.mean(train_X, 0)\n",
    "std = np.std(train_X, 0)\n",
    "\n",
    "train_X = (train_X - mean)/std\n",
    "test_X = (test_X - mean)/std\n",
    "\n",
    "\n",
    "\n",
    "\n",
    "train_X = t.tensor(train_X).to(device)\n",
    "test_X = t.tensor(test_X).to(device)\n",
    "train_Y = t.tensor(train_Y).to(device)\n",
    "test_Y = t.tensor(test_Y).to(device)\n",
    "\n",
    "\n",
    "train_data = TensorDataset(train_X.float(),train_Y)\n",
    "train_loader = DataLoader(train_data) \n",
    "\n",
    "test_data = TensorDataset(test_X.float(),test_Y)\n",
    "test_loader = DataLoader(test_data) \n",
    "\n",
    "        "
   ]
  },
  {
   "cell_type": "code",
   "execution_count": null,
   "id": "cec8dc52",
   "metadata": {},
   "outputs": [],
   "source": []
  },
  {
   "cell_type": "code",
   "execution_count": 4,
   "id": "bc7dbaa2",
   "metadata": {},
   "outputs": [
    {
     "name": "stderr",
     "output_type": "stream",
     "text": [
      "/home/leginpc/reps/VarHyperNet/code/wine/../src/var_net.py:31: UserWarning: nn.init.xavier_uniform is now deprecated in favor of nn.init.xavier_uniform_.\n",
      "  t.nn.init.xavier_uniform(self.mean)\n",
      "/home/leginpc/reps/VarHyperNet/code/wine/../src/linear_var_hypernet.py:162: UserWarning: nn.init.xavier_uniform is now deprecated in favor of nn.init.xavier_uniform_.\n",
      "  t.nn.init.xavier_uniform(self.const,  init_const)\n",
      "/home/leginpc/reps/VarHyperNet/code/wine/../src/linear_var_hypernet.py:164: UserWarning: nn.init.xavier_uniform is now deprecated in favor of nn.init.xavier_uniform_.\n",
      "  t.nn.init.xavier_uniform(self.const2,  init_const2)\n"
     ]
    }
   ],
   "source": [
    "init_log_sigma = -3.0\n",
    "params = {}\n",
    "params_linear = {}\n",
    "params_kernel = {}\n",
    "\n",
    "acc = {}\n",
    "acc_linear = {}\n",
    "acc_kernel = {}\n",
    "\n",
    "lambda_encode = lambda x: (t.log(x) - np.log(100.0))/(np.log(10**6) - np.log(100.0))\n",
    "\n",
    "\n",
    "\n",
    "lamb = [10**2, 10**3, 10**4, 10**5, 10**6]\n",
    "#lamb = [t.tensor(l) for l in lamb]\n",
    "device = 'cpu'\n",
    "prior_sigma = 1.0\n",
    "net = var_net.VarNet(var_net.VarLayer(13, 3, prior_sigma=prior_sigma,  init_log_sigma=init_log_sigma,\n",
    "                                          act=lambda x:x))\n",
    "\n",
    "\n",
    "for l in lamb:\n",
    "    params[l] = []\n",
    "    acc[l] = []\n",
    "    for i in range(5):\n",
    "        net.load_state_dict(t.load('./saved_wine/rep_net_lam_{}_start_{}.cpk'.format(l, i)))\n",
    "        params[l].append((net[0].mean.cpu().detach().numpy().copy(), net[0].log_sigma.cpu().detach().numpy().copy()))\n",
    "        net.eval()\n",
    "        acc[l].append( ((1.0*t.eq(net(test_X.float()).argmax(1), test_Y)).mean().item()))\n",
    "        \n",
    "        \n",
    "net = var_net.VarNet( linear_var_hypernet.VarLayerLinearAppr(13, 3,  prior_sigma=prior_sigma, act=lambda x:x, init_log_sigma=init_log_sigma))\n",
    "\n",
    "\n",
    "for l in lamb:    \n",
    "    params_linear[l] = []\n",
    "    acc_linear[l] = []\n",
    "    for i in range(5):    \n",
    "        net.load_state_dict(t.load('./saved_wine/rep_linear_start_{}.cpk'.format(i)))\n",
    "        net.eval()\n",
    "        params_linear[l].append((net[0].mean(lambda_encode(t.tensor(l))).detach().numpy().copy(), net[0].log_sigma(lambda_encode(t.tensor(l))).detach().numpy().copy()))\n",
    "        acc_linear[l].append( ((1.0*t.eq(net(test_X.float(), lambda_encode(t.tensor(l))).argmax(1), test_Y)).mean().item()))\n",
    "\n",
    "for k in range(2,6):\n",
    "    params_kernel[k] = {}\n",
    "    acc_kernel[k] = {}\n",
    "    for l in lamb:\n",
    "        params_kernel[k][l] = []\n",
    "        acc_kernel[k][l] = []\n",
    "        \n",
    "\n",
    "for k in [3,5]:    \n",
    "    net = var_net.VarNet(kernel_hypernet.VarKernelLayer(13, 3,   k, \n",
    "                                                    prior_sigma=prior_sigma, act=lambda x:x, init_log_sigma=init_log_sigma))\n",
    "    for l in lamb:        \n",
    "        for i in range(5):\n",
    "            net.load_state_dict(t.load('./saved_wine/rep_kernel_{}_start_{}.cpk'.format(k, i)))\n",
    "            net.eval()\n",
    "            params_kernel[k][l].append((net[0].mean(lambda_encode(t.tensor(l))).detach().numpy().copy(),\n",
    "                                      net[0].log_sigma(lambda_encode(t.tensor(l))).detach().numpy().copy()))\n",
    "            acc_kernel[k][l].append( ((1.0*t.eq(net(test_X.float(), lambda_encode(t.tensor(l))).argmax(1), test_Y)).mean().item()))\n",
    "        "
   ]
  },
  {
   "cell_type": "code",
   "execution_count": null,
   "id": "d7509fbe",
   "metadata": {},
   "outputs": [],
   "source": []
  },
  {
   "cell_type": "code",
   "execution_count": 5,
   "id": "1c998ece",
   "metadata": {},
   "outputs": [],
   "source": [
    "def dist(q, p=None):\n",
    "    if p is None:\n",
    "        p = (0.0, 0.0)\n",
    "    d1 = t.distributions.Normal(t.tensor(q[0]), t.exp(2*t.tensor(q[1])))\n",
    "    d2 = t.distributions.Normal(t.tensor(p[0]), t.exp(2*t.tensor(p[1])))\n",
    "    return (t.distributions.kl_divergence(d1,d2) * 0.5 + t.distributions.kl_divergence(d2,d1) * 0.5).sum()\n"
   ]
  },
  {
   "cell_type": "code",
   "execution_count": null,
   "id": "b23f8197",
   "metadata": {},
   "outputs": [],
   "source": []
  },
  {
   "cell_type": "code",
   "execution_count": 6,
   "id": "f1f5cb4f",
   "metadata": {},
   "outputs": [
    {
     "name": "stdout",
     "output_type": "stream",
     "text": [
      "[-5.144203, -9.045512, -11.334314, -15.175687, -15.516907] [0.9499999761581421, 0.9444444179534912, 0.6833333253860474, 0.7388888835906983, 0.41666666269302366]\n"
     ]
    },
    {
     "data": {
      "image/png": "[encoded data removed]",
      "text/plain": [
       "<Figure size 504x324 with 2 Axes>"
      ]
     },
     "metadata": {},
     "output_type": "display_data"
    }
   ],
   "source": [
    "fig, ax1 = plt.subplots()\n",
    "ax2 = ax1.twinx()\n",
    "\n",
    "### nets\n",
    "X = []\n",
    "Y = []\n",
    "for l in lamb:    \n",
    "    denon = 0\n",
    "    x = []\n",
    "    y = []\n",
    "    for i in range(5):\n",
    "        denon += dist(params[l][i])\n",
    "    for i in range(5):\n",
    "        x_ = 0 \n",
    "        for j in range(5):\n",
    "            x_ += dist(params[l][i], params[l][j])\n",
    "        x.append(np.log(x_/denon))\n",
    "        y.append(acc[l][i])\n",
    "    #plt.errorbar([np.mean(x)], [np.mean(y)], xerr =[[np.mean(x) - np.min(x)], [np.max(x) - np.mean(x) ]],\n",
    "    #             yerr = [[np.mean(y) - np.min(y)], [np.max(y) - np.mean(y)]], marker='.', c='r', markersize=10)\n",
    "    X.append(np.mean(x))\n",
    "    Y.append(np.mean(y))\n",
    "#plt.plot(X, Y, c='r')\n",
    "ax2.set_yticks(Y)\n",
    "ax2.set_yticklabels(['2', '', '4', '5', '6'])    \n",
    "    \n",
    "\n",
    "# linear\n",
    "X = []\n",
    "Y = []\n",
    "for l in lamb:    \n",
    "    denon = 0\n",
    "    x = []\n",
    "    y = []\n",
    "    for i in range(5):\n",
    "        denon += dist(params[l][i])\n",
    "    for i in range(5):\n",
    "        x_ = 0 \n",
    "        for j in range(5):\n",
    "            x_ += dist(params_linear[l][i], params[l][j])\n",
    "        x.append(np.log(x_/denon))\n",
    "        y.append(acc_linear[l][i])\n",
    "    plt.errorbar([np.mean(x)], [np.mean(y)], xerr =[[np.mean(x) - np.min(x)], [np.max(x) - np.mean(x) ]],\n",
    "                 yerr = [[np.mean(y) - np.min(y)], [np.max(y) - np.mean(y)]], c='b', marker='.', markersize=10)\n",
    "    X.append(np.mean(x))\n",
    "    Y.append(np.mean(y))\n",
    "    \n",
    "plt.plot(X, Y, c='b',label= 'linear model') \n",
    "\n",
    "\n",
    "# kernel-3\n",
    "X = []\n",
    "Y = []\n",
    "for l in lamb:    \n",
    "    denon = 0\n",
    "    x = []\n",
    "    y = []\n",
    "    for i in range(5):\n",
    "        denon += dist(params[l][i])\n",
    "    for i in range(5):\n",
    "        x_ = 0 \n",
    "        for j in range(5):\n",
    "            x_ += dist(params_kernel[3][l][i], params[l][j])\n",
    "        x.append(np.log(x_/denon))\n",
    "        y.append(acc_kernel[3][l][i])\n",
    "    plt.errorbar([np.mean(x)], [np.mean(y)], xerr =[[np.mean(x) - np.min(x)], [np.max(x) - np.mean(x) ]],\n",
    "                 yerr = [[np.mean(y) - np.min(y)], [np.max(y) - np.mean(y)]], c='g', marker='.', markersize=10)\n",
    "    X.append(np.mean(x))\n",
    "    Y.append(np.mean(y))\n",
    "print (X, Y)\n",
    "    \n",
    "plt.plot(X, Y, c='g', label=  'piecewise-linear model, k=3')      \n",
    "\n",
    "\n",
    "# kernel-5\n",
    "X = []\n",
    "Y = []\n",
    "for l in lamb:    \n",
    "    denon = 0\n",
    "    x = []\n",
    "    y = []\n",
    "    for i in range(5):\n",
    "        denon += dist(params[l][i])\n",
    "    for i in range(5):\n",
    "        x_ = 0 \n",
    "        for j in range(5):\n",
    "            x_ += dist(params_kernel[5][l][i], params[l][j])\n",
    "        x.append(np.log(x_/denon))\n",
    "        y.append(acc_kernel[5][l][i])\n",
    "    plt.errorbar([np.mean(x)], [np.mean(y)], xerr =[[np.mean(x) - np.min(x)], [np.max(x) - np.mean(x) ]],\n",
    "                 yerr = [[np.mean(y) - np.min(y)], [np.max(y) - np.mean(y)]], c='k', marker='.', markersize=10)\n",
    "    X.append(np.mean(x))\n",
    "    Y.append(np.mean(y))\n",
    "plt.plot(X, Y, c='k', label=  'piecewise-linear model, k=5')       \n",
    "\n",
    "plt.ylim((0, 1))\n",
    "ax1.set_ylabel('Accuracy')\n",
    "ax1.set_xlabel('Deviation from basic model')\n",
    "ax2.set_ylabel('$log_{10}(\\lambda)$')\n",
    "#ax2.set_ylabel('sin', color='r')\n",
    "\n",
    "\n",
    "plt.savefig('wine_net_1.png', bbox_inches='tight')\n",
    "\n"
   ]
  },
  {
   "cell_type": "code",
   "execution_count": null,
   "id": "dc213ba5",
   "metadata": {},
   "outputs": [],
   "source": []
  },
  {
   "cell_type": "code",
   "execution_count": 34,
   "id": "057e388c",
   "metadata": {
    "scrolled": true
   },
   "outputs": [
    {
     "name": "stderr",
     "output_type": "stream",
     "text": [
      "/home/leginpc/reps/VarHyperNet/code/wine/../src/linear_var_hypernet.py:162: UserWarning: nn.init.xavier_uniform is now deprecated in favor of nn.init.xavier_uniform_.\n",
      "  t.nn.init.xavier_uniform(self.const,  init_const)\n",
      "/home/leginpc/reps/VarHyperNet/code/wine/../src/linear_var_hypernet.py:164: UserWarning: nn.init.xavier_uniform is now deprecated in favor of nn.init.xavier_uniform_.\n",
      "  t.nn.init.xavier_uniform(self.const2,  init_const2)\n"
     ]
    },
    {
     "data": {
      "application/vnd.jupyter.widget-view+json": {
       "model_id": "76a1bc2c87504099a2cc024c2d8c3cdc",
       "version_major": 2,
       "version_minor": 0
      },
      "text/plain": [
       "  0%|          | 0/142 [00:00<?, ?it/s]"
      ]
     },
     "metadata": {},
     "output_type": "display_data"
    },
    {
     "data": {
      "application/vnd.jupyter.widget-view+json": {
       "model_id": "2d01b175f007426c836b7d79a484a13e",
       "version_major": 2,
       "version_minor": 0
      },
      "text/plain": [
       "  0%|          | 0/142 [00:00<?, ?it/s]"
      ]
     },
     "metadata": {},
     "output_type": "display_data"
    },
    {
     "data": {
      "application/vnd.jupyter.widget-view+json": {
       "model_id": "e65e1ebb72e64c329d040f79af9ebcd0",
       "version_major": 2,
       "version_minor": 0
      },
      "text/plain": [
       "  0%|          | 0/142 [00:00<?, ?it/s]"
      ]
     },
     "metadata": {},
     "output_type": "display_data"
    },
    {
     "data": {
      "application/vnd.jupyter.widget-view+json": {
       "model_id": "6c49f502aea346cebb2bd908da8d020f",
       "version_major": 2,
       "version_minor": 0
      },
      "text/plain": [
       "  0%|          | 0/142 [00:00<?, ?it/s]"
      ]
     },
     "metadata": {},
     "output_type": "display_data"
    },
    {
     "data": {
      "application/vnd.jupyter.widget-view+json": {
       "model_id": "3c33ee332c71425e9fc0db6b856980ff",
       "version_major": 2,
       "version_minor": 0
      },
      "text/plain": [
       "  0%|          | 0/142 [00:00<?, ?it/s]"
      ]
     },
     "metadata": {},
     "output_type": "display_data"
    },
    {
     "data": {
      "application/vnd.jupyter.widget-view+json": {
       "model_id": "f9d83e67dd044b82bbf4812da46028fd",
       "version_major": 2,
       "version_minor": 0
      },
      "text/plain": [
       "  0%|          | 0/142 [00:00<?, ?it/s]"
      ]
     },
     "metadata": {},
     "output_type": "display_data"
    },
    {
     "data": {
      "application/vnd.jupyter.widget-view+json": {
       "model_id": "e9351da8cc714b9f963fee112f367890",
       "version_major": 2,
       "version_minor": 0
      },
      "text/plain": [
       "  0%|          | 0/142 [00:00<?, ?it/s]"
      ]
     },
     "metadata": {},
     "output_type": "display_data"
    },
    {
     "data": {
      "application/vnd.jupyter.widget-view+json": {
       "model_id": "09f0a9ec44cd428684ba3983d4a35e3f",
       "version_major": 2,
       "version_minor": 0
      },
      "text/plain": [
       "  0%|          | 0/142 [00:00<?, ?it/s]"
      ]
     },
     "metadata": {},
     "output_type": "display_data"
    },
    {
     "data": {
      "application/vnd.jupyter.widget-view+json": {
       "model_id": "63b2a239009042e1bab60a7c3a4821d4",
       "version_major": 2,
       "version_minor": 0
      },
      "text/plain": [
       "  0%|          | 0/142 [00:00<?, ?it/s]"
      ]
     },
     "metadata": {},
     "output_type": "display_data"
    },
    {
     "data": {
      "application/vnd.jupyter.widget-view+json": {
       "model_id": "05664f29055047a59dfb2459ebcd19df",
       "version_major": 2,
       "version_minor": 0
      },
      "text/plain": [
       "  0%|          | 0/142 [00:00<?, ?it/s]"
      ]
     },
     "metadata": {},
     "output_type": "display_data"
    },
    {
     "data": {
      "application/vnd.jupyter.widget-view+json": {
       "model_id": "c1ab45f05b344ca5a0114499b9e981ab",
       "version_major": 2,
       "version_minor": 0
      },
      "text/plain": [
       "  0%|          | 0/142 [00:00<?, ?it/s]"
      ]
     },
     "metadata": {},
     "output_type": "display_data"
    },
    {
     "data": {
      "application/vnd.jupyter.widget-view+json": {
       "model_id": "e11e6edf6ef4463f8aefe6a2ac1e1394",
       "version_major": 2,
       "version_minor": 0
      },
      "text/plain": [
       "  0%|          | 0/142 [00:00<?, ?it/s]"
      ]
     },
     "metadata": {},
     "output_type": "display_data"
    },
    {
     "data": {
      "application/vnd.jupyter.widget-view+json": {
       "model_id": "77ef58f3414449d4abee2afc1cbe76f5",
       "version_major": 2,
       "version_minor": 0
      },
      "text/plain": [
       "  0%|          | 0/142 [00:00<?, ?it/s]"
      ]
     },
     "metadata": {},
     "output_type": "display_data"
    },
    {
     "data": {
      "application/vnd.jupyter.widget-view+json": {
       "model_id": "a9c4d7da39214ed7a00be4cd9dbea117",
       "version_major": 2,
       "version_minor": 0
      },
      "text/plain": [
       "  0%|          | 0/142 [00:00<?, ?it/s]"
      ]
     },
     "metadata": {},
     "output_type": "display_data"
    },
    {
     "data": {
      "application/vnd.jupyter.widget-view+json": {
       "model_id": "0d89092b547e4860be6b9d60cc0a9b63",
       "version_major": 2,
       "version_minor": 0
      },
      "text/plain": [
       "  0%|          | 0/142 [00:00<?, ?it/s]"
      ]
     },
     "metadata": {},
     "output_type": "display_data"
    },
    {
     "data": {
      "application/vnd.jupyter.widget-view+json": {
       "model_id": "30615eb2e83f45bb8e155acfa5212f06",
       "version_major": 2,
       "version_minor": 0
      },
      "text/plain": [
       "  0%|          | 0/142 [00:00<?, ?it/s]"
      ]
     },
     "metadata": {},
     "output_type": "display_data"
    },
    {
     "data": {
      "application/vnd.jupyter.widget-view+json": {
       "model_id": "d09c904a34bc41b7882fa5659eddbd2f",
       "version_major": 2,
       "version_minor": 0
      },
      "text/plain": [
       "  0%|          | 0/142 [00:00<?, ?it/s]"
      ]
     },
     "metadata": {},
     "output_type": "display_data"
    },
    {
     "data": {
      "application/vnd.jupyter.widget-view+json": {
       "model_id": "c588d85074874bbf9f3e7f8958cdc2f1",
       "version_major": 2,
       "version_minor": 0
      },
      "text/plain": [
       "  0%|          | 0/142 [00:00<?, ?it/s]"
      ]
     },
     "metadata": {},
     "output_type": "display_data"
    },
    {
     "data": {
      "application/vnd.jupyter.widget-view+json": {
       "model_id": "2a60a9e128b948f09816e95410ca30e0",
       "version_major": 2,
       "version_minor": 0
      },
      "text/plain": [
       "  0%|          | 0/142 [00:00<?, ?it/s]"
      ]
     },
     "metadata": {},
     "output_type": "display_data"
    },
    {
     "data": {
      "application/vnd.jupyter.widget-view+json": {
       "model_id": "efed9637430743fdbc39bbc7b610faa3",
       "version_major": 2,
       "version_minor": 0
      },
      "text/plain": [
       "  0%|          | 0/142 [00:00<?, ?it/s]"
      ]
     },
     "metadata": {},
     "output_type": "display_data"
    },
    {
     "data": {
      "application/vnd.jupyter.widget-view+json": {
       "model_id": "f41293982a814802a434134b6a515a46",
       "version_major": 2,
       "version_minor": 0
      },
      "text/plain": [
       "  0%|          | 0/142 [00:00<?, ?it/s]"
      ]
     },
     "metadata": {},
     "output_type": "display_data"
    },
    {
     "data": {
      "application/vnd.jupyter.widget-view+json": {
       "model_id": "8ada11616cd345b9931c8060e09f0bbc",
       "version_major": 2,
       "version_minor": 0
      },
      "text/plain": [
       "  0%|          | 0/142 [00:00<?, ?it/s]"
      ]
     },
     "metadata": {},
     "output_type": "display_data"
    },
    {
     "data": {
      "application/vnd.jupyter.widget-view+json": {
       "model_id": "e056bac2cb10454babf03587294ba796",
       "version_major": 2,
       "version_minor": 0
      },
      "text/plain": [
       "  0%|          | 0/142 [00:00<?, ?it/s]"
      ]
     },
     "metadata": {},
     "output_type": "display_data"
    },
    {
     "data": {
      "application/vnd.jupyter.widget-view+json": {
       "model_id": "ddde1b56b4524981bb99d257a3dd620e",
       "version_major": 2,
       "version_minor": 0
      },
      "text/plain": [
       "  0%|          | 0/142 [00:00<?, ?it/s]"
      ]
     },
     "metadata": {},
     "output_type": "display_data"
    },
    {
     "data": {
      "application/vnd.jupyter.widget-view+json": {
       "model_id": "f223f953ca444cdbb297b7c9d3dd844b",
       "version_major": 2,
       "version_minor": 0
      },
      "text/plain": [
       "  0%|          | 0/142 [00:00<?, ?it/s]"
      ]
     },
     "metadata": {},
     "output_type": "display_data"
    },
    {
     "data": {
      "application/vnd.jupyter.widget-view+json": {
       "model_id": "57066a69071a47c6b5e19998882d4e19",
       "version_major": 2,
       "version_minor": 0
      },
      "text/plain": [
       "  0%|          | 0/142 [00:00<?, ?it/s]"
      ]
     },
     "metadata": {},
     "output_type": "display_data"
    },
    {
     "data": {
      "application/vnd.jupyter.widget-view+json": {
       "model_id": "ee108ca1b8e94bcd8b3700ac137fd1fe",
       "version_major": 2,
       "version_minor": 0
      },
      "text/plain": [
       "  0%|          | 0/142 [00:00<?, ?it/s]"
      ]
     },
     "metadata": {},
     "output_type": "display_data"
    },
    {
     "data": {
      "application/vnd.jupyter.widget-view+json": {
       "model_id": "c779dbbccad04d45ad23cc68b77bae11",
       "version_major": 2,
       "version_minor": 0
      },
      "text/plain": [
       "  0%|          | 0/142 [00:00<?, ?it/s]"
      ]
     },
     "metadata": {},
     "output_type": "display_data"
    },
    {
     "data": {
      "application/vnd.jupyter.widget-view+json": {
       "model_id": "a4d41c8e6c9a435abaa6f155eae094c0",
       "version_major": 2,
       "version_minor": 0
      },
      "text/plain": [
       "  0%|          | 0/142 [00:00<?, ?it/s]"
      ]
     },
     "metadata": {},
     "output_type": "display_data"
    },
    {
     "data": {
      "application/vnd.jupyter.widget-view+json": {
       "model_id": "8c1c668034ee410bb1738a42ab1e6089",
       "version_major": 2,
       "version_minor": 0
      },
      "text/plain": [
       "  0%|          | 0/142 [00:00<?, ?it/s]"
      ]
     },
     "metadata": {},
     "output_type": "display_data"
    },
    {
     "data": {
      "application/vnd.jupyter.widget-view+json": {
       "model_id": "cb9a7757f10940db823849174a5c659a",
       "version_major": 2,
       "version_minor": 0
      },
      "text/plain": [
       "  0%|          | 0/142 [00:00<?, ?it/s]"
      ]
     },
     "metadata": {},
     "output_type": "display_data"
    },
    {
     "data": {
      "application/vnd.jupyter.widget-view+json": {
       "model_id": "ad4bc9e2d0794b33ae959a6e6573efc8",
       "version_major": 2,
       "version_minor": 0
      },
      "text/plain": [
       "  0%|          | 0/142 [00:00<?, ?it/s]"
      ]
     },
     "metadata": {},
     "output_type": "display_data"
    },
    {
     "data": {
      "application/vnd.jupyter.widget-view+json": {
       "model_id": "def6605c902b48d19180e52e59eea4f1",
       "version_major": 2,
       "version_minor": 0
      },
      "text/plain": [
       "  0%|          | 0/142 [00:00<?, ?it/s]"
      ]
     },
     "metadata": {},
     "output_type": "display_data"
    },
    {
     "data": {
      "application/vnd.jupyter.widget-view+json": {
       "model_id": "536e015f01a94994a9b7fd051f984999",
       "version_major": 2,
       "version_minor": 0
      },
      "text/plain": [
       "  0%|          | 0/142 [00:00<?, ?it/s]"
      ]
     },
     "metadata": {},
     "output_type": "display_data"
    },
    {
     "data": {
      "application/vnd.jupyter.widget-view+json": {
       "model_id": "8bf72e28235648388560e15c5d94b771",
       "version_major": 2,
       "version_minor": 0
      },
      "text/plain": [
       "  0%|          | 0/142 [00:00<?, ?it/s]"
      ]
     },
     "metadata": {},
     "output_type": "display_data"
    },
    {
     "data": {
      "application/vnd.jupyter.widget-view+json": {
       "model_id": "5718fc7eb59c481197a0a40588dbf135",
       "version_major": 2,
       "version_minor": 0
      },
      "text/plain": [
       "  0%|          | 0/142 [00:00<?, ?it/s]"
      ]
     },
     "metadata": {},
     "output_type": "display_data"
    },
    {
     "data": {
      "application/vnd.jupyter.widget-view+json": {
       "model_id": "64333887fc6b49238c8d4489d5d14887",
       "version_major": 2,
       "version_minor": 0
      },
      "text/plain": [
       "  0%|          | 0/142 [00:00<?, ?it/s]"
      ]
     },
     "metadata": {},
     "output_type": "display_data"
    },
    {
     "data": {
      "application/vnd.jupyter.widget-view+json": {
       "model_id": "075cdb85fdd84448aa14d1c261d58e78",
       "version_major": 2,
       "version_minor": 0
      },
      "text/plain": [
       "  0%|          | 0/142 [00:00<?, ?it/s]"
      ]
     },
     "metadata": {},
     "output_type": "display_data"
    },
    {
     "data": {
      "application/vnd.jupyter.widget-view+json": {
       "model_id": "8ba476a8c8ac40da972f7d050e647a63",
       "version_major": 2,
       "version_minor": 0
      },
      "text/plain": [
       "  0%|          | 0/142 [00:00<?, ?it/s]"
      ]
     },
     "metadata": {},
     "output_type": "display_data"
    },
    {
     "data": {
      "application/vnd.jupyter.widget-view+json": {
       "model_id": "d6313f2316e245de856d17c7d00824d0",
       "version_major": 2,
       "version_minor": 0
      },
      "text/plain": [
       "  0%|          | 0/142 [00:00<?, ?it/s]"
      ]
     },
     "metadata": {},
     "output_type": "display_data"
    },
    {
     "data": {
      "application/vnd.jupyter.widget-view+json": {
       "model_id": "32f77077f7174221a2187c980a725ef8",
       "version_major": 2,
       "version_minor": 0
      },
      "text/plain": [
       "  0%|          | 0/142 [00:00<?, ?it/s]"
      ]
     },
     "metadata": {},
     "output_type": "display_data"
    },
    {
     "data": {
      "application/vnd.jupyter.widget-view+json": {
       "model_id": "3086c71aac05488e9a03b6125c97d443",
       "version_major": 2,
       "version_minor": 0
      },
      "text/plain": [
       "  0%|          | 0/142 [00:00<?, ?it/s]"
      ]
     },
     "metadata": {},
     "output_type": "display_data"
    },
    {
     "data": {
      "application/vnd.jupyter.widget-view+json": {
       "model_id": "13c342480900484a99c2e6d601151787",
       "version_major": 2,
       "version_minor": 0
      },
      "text/plain": [
       "  0%|          | 0/142 [00:00<?, ?it/s]"
      ]
     },
     "metadata": {},
     "output_type": "display_data"
    },
    {
     "data": {
      "application/vnd.jupyter.widget-view+json": {
       "model_id": "ec2a16b1441f4c4caa62fbf9f42d955b",
       "version_major": 2,
       "version_minor": 0
      },
      "text/plain": [
       "  0%|          | 0/142 [00:00<?, ?it/s]"
      ]
     },
     "metadata": {},
     "output_type": "display_data"
    },
    {
     "data": {
      "application/vnd.jupyter.widget-view+json": {
       "model_id": "e973381f9f98400f9cb4bba691805a93",
       "version_major": 2,
       "version_minor": 0
      },
      "text/plain": [
       "  0%|          | 0/142 [00:00<?, ?it/s]"
      ]
     },
     "metadata": {},
     "output_type": "display_data"
    },
    {
     "data": {
      "application/vnd.jupyter.widget-view+json": {
       "model_id": "29340de8f5b44f53b98c62416cd98d8c",
       "version_major": 2,
       "version_minor": 0
      },
      "text/plain": [
       "  0%|          | 0/142 [00:00<?, ?it/s]"
      ]
     },
     "metadata": {},
     "output_type": "display_data"
    },
    {
     "data": {
      "application/vnd.jupyter.widget-view+json": {
       "model_id": "6e0b31c79b864267a3eed2cb85962e9f",
       "version_major": 2,
       "version_minor": 0
      },
      "text/plain": [
       "  0%|          | 0/142 [00:00<?, ?it/s]"
      ]
     },
     "metadata": {},
     "output_type": "display_data"
    },
    {
     "data": {
      "application/vnd.jupyter.widget-view+json": {
       "model_id": "2957e1d8111c4ba2ac07adf154a574bc",
       "version_major": 2,
       "version_minor": 0
      },
      "text/plain": [
       "  0%|          | 0/142 [00:00<?, ?it/s]"
      ]
     },
     "metadata": {},
     "output_type": "display_data"
    },
    {
     "data": {
      "application/vnd.jupyter.widget-view+json": {
       "model_id": "732a07e0c34a4ee2ae6387858b7846f0",
       "version_major": 2,
       "version_minor": 0
      },
      "text/plain": [
       "  0%|          | 0/142 [00:00<?, ?it/s]"
      ]
     },
     "metadata": {},
     "output_type": "display_data"
    },
    {
     "data": {
      "application/vnd.jupyter.widget-view+json": {
       "model_id": "ad0bfbc4be41404fab9a3f032e35f10e",
       "version_major": 2,
       "version_minor": 0
      },
      "text/plain": [
       "  0%|          | 0/142 [00:00<?, ?it/s]"
      ]
     },
     "metadata": {},
     "output_type": "display_data"
    },
    {
     "data": {
      "application/vnd.jupyter.widget-view+json": {
       "model_id": "bb09427ba08942d0b0330be4a123515b",
       "version_major": 2,
       "version_minor": 0
      },
      "text/plain": [
       "  0%|          | 0/142 [00:00<?, ?it/s]"
      ]
     },
     "metadata": {},
     "output_type": "display_data"
    },
    {
     "data": {
      "application/vnd.jupyter.widget-view+json": {
       "model_id": "6ad289769cd14676b0aa493a95ab21c8",
       "version_major": 2,
       "version_minor": 0
      },
      "text/plain": [
       "  0%|          | 0/142 [00:00<?, ?it/s]"
      ]
     },
     "metadata": {},
     "output_type": "display_data"
    },
    {
     "data": {
      "application/vnd.jupyter.widget-view+json": {
       "model_id": "8e9248288824419ea04bf9ce0f3c80d7",
       "version_major": 2,
       "version_minor": 0
      },
      "text/plain": [
       "  0%|          | 0/142 [00:00<?, ?it/s]"
      ]
     },
     "metadata": {},
     "output_type": "display_data"
    },
    {
     "data": {
      "application/vnd.jupyter.widget-view+json": {
       "model_id": "61a02416f4844125be2c1c675c7dcfc9",
       "version_major": 2,
       "version_minor": 0
      },
      "text/plain": [
       "  0%|          | 0/142 [00:00<?, ?it/s]"
      ]
     },
     "metadata": {},
     "output_type": "display_data"
    },
    {
     "data": {
      "application/vnd.jupyter.widget-view+json": {
       "model_id": "05097ad502114f43a51087a576d8b289",
       "version_major": 2,
       "version_minor": 0
      },
      "text/plain": [
       "  0%|          | 0/142 [00:00<?, ?it/s]"
      ]
     },
     "metadata": {},
     "output_type": "display_data"
    },
    {
     "data": {
      "application/vnd.jupyter.widget-view+json": {
       "model_id": "60dd648d1ed6411bb506f19730fb1ca7",
       "version_major": 2,
       "version_minor": 0
      },
      "text/plain": [
       "  0%|          | 0/142 [00:00<?, ?it/s]"
      ]
     },
     "metadata": {},
     "output_type": "display_data"
    },
    {
     "data": {
      "application/vnd.jupyter.widget-view+json": {
       "model_id": "6f8d42e543b54c689a568074db6f4524",
       "version_major": 2,
       "version_minor": 0
      },
      "text/plain": [
       "  0%|          | 0/142 [00:00<?, ?it/s]"
      ]
     },
     "metadata": {},
     "output_type": "display_data"
    },
    {
     "data": {
      "application/vnd.jupyter.widget-view+json": {
       "model_id": "af7f26b4d2974e9d8c7b3fa691c35b11",
       "version_major": 2,
       "version_minor": 0
      },
      "text/plain": [
       "  0%|          | 0/142 [00:00<?, ?it/s]"
      ]
     },
     "metadata": {},
     "output_type": "display_data"
    },
    {
     "data": {
      "application/vnd.jupyter.widget-view+json": {
       "model_id": "f79d8cf8cd204494b7bea279b877e25d",
       "version_major": 2,
       "version_minor": 0
      },
      "text/plain": [
       "  0%|          | 0/142 [00:00<?, ?it/s]"
      ]
     },
     "metadata": {},
     "output_type": "display_data"
    },
    {
     "data": {
      "application/vnd.jupyter.widget-view+json": {
       "model_id": "8c24647bbd37446b929ce06a3dfdd67c",
       "version_major": 2,
       "version_minor": 0
      },
      "text/plain": [
       "  0%|          | 0/142 [00:00<?, ?it/s]"
      ]
     },
     "metadata": {},
     "output_type": "display_data"
    },
    {
     "data": {
      "application/vnd.jupyter.widget-view+json": {
       "model_id": "ecbecba8f3c24a5081e1ca5c516feb17",
       "version_major": 2,
       "version_minor": 0
      },
      "text/plain": [
       "  0%|          | 0/142 [00:00<?, ?it/s]"
      ]
     },
     "metadata": {},
     "output_type": "display_data"
    },
    {
     "data": {
      "application/vnd.jupyter.widget-view+json": {
       "model_id": "069aab5bacfa4a259e345d00f269cf99",
       "version_major": 2,
       "version_minor": 0
      },
      "text/plain": [
       "  0%|          | 0/142 [00:00<?, ?it/s]"
      ]
     },
     "metadata": {},
     "output_type": "display_data"
    },
    {
     "data": {
      "application/vnd.jupyter.widget-view+json": {
       "model_id": "126d9fbddd614a2d8be50dba145f085b",
       "version_major": 2,
       "version_minor": 0
      },
      "text/plain": [
       "  0%|          | 0/142 [00:00<?, ?it/s]"
      ]
     },
     "metadata": {},
     "output_type": "display_data"
    },
    {
     "data": {
      "application/vnd.jupyter.widget-view+json": {
       "model_id": "d97049812175499687b3404701a8b92e",
       "version_major": 2,
       "version_minor": 0
      },
      "text/plain": [
       "  0%|          | 0/142 [00:00<?, ?it/s]"
      ]
     },
     "metadata": {},
     "output_type": "display_data"
    },
    {
     "data": {
      "application/vnd.jupyter.widget-view+json": {
       "model_id": "942b02011fdf4bfa8f4951b6f92f71cd",
       "version_major": 2,
       "version_minor": 0
      },
      "text/plain": [
       "  0%|          | 0/142 [00:00<?, ?it/s]"
      ]
     },
     "metadata": {},
     "output_type": "display_data"
    },
    {
     "data": {
      "application/vnd.jupyter.widget-view+json": {
       "model_id": "3cc8570b2c3c44799dc26c0e79f391b4",
       "version_major": 2,
       "version_minor": 0
      },
      "text/plain": [
       "  0%|          | 0/142 [00:00<?, ?it/s]"
      ]
     },
     "metadata": {},
     "output_type": "display_data"
    },
    {
     "data": {
      "application/vnd.jupyter.widget-view+json": {
       "model_id": "0199b3698a9948a6a944eeeb5bde688e",
       "version_major": 2,
       "version_minor": 0
      },
      "text/plain": [
       "  0%|          | 0/142 [00:00<?, ?it/s]"
      ]
     },
     "metadata": {},
     "output_type": "display_data"
    },
    {
     "data": {
      "application/vnd.jupyter.widget-view+json": {
       "model_id": "c53b4d230924483ba77e54e6fdba849c",
       "version_major": 2,
       "version_minor": 0
      },
      "text/plain": [
       "  0%|          | 0/142 [00:00<?, ?it/s]"
      ]
     },
     "metadata": {},
     "output_type": "display_data"
    },
    {
     "data": {
      "application/vnd.jupyter.widget-view+json": {
       "model_id": "15bbfd80848140f3a1e39ee9fdd76a10",
       "version_major": 2,
       "version_minor": 0
      },
      "text/plain": [
       "  0%|          | 0/142 [00:00<?, ?it/s]"
      ]
     },
     "metadata": {},
     "output_type": "display_data"
    },
    {
     "data": {
      "application/vnd.jupyter.widget-view+json": {
       "model_id": "6efa31d38c6f4d9b8c878c19e81f3b1a",
       "version_major": 2,
       "version_minor": 0
      },
      "text/plain": [
       "  0%|          | 0/142 [00:00<?, ?it/s]"
      ]
     },
     "metadata": {},
     "output_type": "display_data"
    },
    {
     "data": {
      "application/vnd.jupyter.widget-view+json": {
       "model_id": "dad9c25bb96b4f088e73bd986fa98d73",
       "version_major": 2,
       "version_minor": 0
      },
      "text/plain": [
       "  0%|          | 0/142 [00:00<?, ?it/s]"
      ]
     },
     "metadata": {},
     "output_type": "display_data"
    },
    {
     "data": {
      "application/vnd.jupyter.widget-view+json": {
       "model_id": "36da2a2b8413475b96cc962cf11e3e58",
       "version_major": 2,
       "version_minor": 0
      },
      "text/plain": [
       "  0%|          | 0/142 [00:00<?, ?it/s]"
      ]
     },
     "metadata": {},
     "output_type": "display_data"
    },
    {
     "data": {
      "application/vnd.jupyter.widget-view+json": {
       "model_id": "890378809af14825b9ed765767bf9365",
       "version_major": 2,
       "version_minor": 0
      },
      "text/plain": [
       "  0%|          | 0/142 [00:00<?, ?it/s]"
      ]
     },
     "metadata": {},
     "output_type": "display_data"
    },
    {
     "data": {
      "application/vnd.jupyter.widget-view+json": {
       "model_id": "855fb7f8386d494a9fab18930ea6ec3c",
       "version_major": 2,
       "version_minor": 0
      },
      "text/plain": [
       "  0%|          | 0/142 [00:00<?, ?it/s]"
      ]
     },
     "metadata": {},
     "output_type": "display_data"
    },
    {
     "data": {
      "application/vnd.jupyter.widget-view+json": {
       "model_id": "0b94108585e44e06963950ccc0fdb51c",
       "version_major": 2,
       "version_minor": 0
      },
      "text/plain": [
       "  0%|          | 0/142 [00:00<?, ?it/s]"
      ]
     },
     "metadata": {},
     "output_type": "display_data"
    }
   ],
   "source": [
    "LR = 5e-4\n",
    "E = 142//16\n",
    "\n",
    "params_linear2 = {}\n",
    "acc_linear2 = {}\n",
    "\n",
    "params_kernel32 = {}\n",
    "acc_kernel32 = {}\n",
    "\n",
    "params_kernel52 = {}\n",
    "acc_kernel52 = {}\n",
    "\n",
    "params2 = {}\n",
    "acc2 = {}\n",
    "\n",
    "net = var_net.VarNet(var_net.VarLayer(13, 3, prior_sigma=prior_sigma,  init_log_sigma=init_log_sigma,\n",
    "                                          act=lambda x:x))\n",
    "\n",
    "for l in lamb:\n",
    "    params2[l] = []\n",
    "    acc2[l] = []\n",
    "    for i in range(5):\n",
    "        net.load_state_dict(t.load('./saved_wine/rep_net_lam_{}_start_{}.cpk'.format(l, i)))\n",
    "        params2[l].append((net[0].mean.cpu().detach().numpy().copy(), net[0].log_sigma.cpu().detach().numpy().copy()))\n",
    "        net.eval()\n",
    "        acc2[l].append( ((1.0*t.eq(net(test_X.float()).argmax(1), test_Y)).mean().item()))\n",
    "        net.train()\n",
    "        \n",
    "        \n",
    "# linear\n",
    "net0 = var_net.VarNet( linear_var_hypernet.VarLayerLinearAppr(13, 3,  prior_sigma=prior_sigma, act=lambda x:x, init_log_sigma=init_log_sigma))\n",
    "for l in lamb:\n",
    "    params_linear2[l] = []\n",
    "    acc_linear2[l] = []\n",
    "    for i in range(5):\n",
    "        net0.load_state_dict(t.load('./saved_wine/rep_linear_start_{}.cpk'.format(i)))\n",
    "        \n",
    "        utils0.net_copy(net0, net, lambda_encode(t.tensor(l)), layer_num=1, mode='var')\n",
    "        #acc[l].append( ((1.0*t.eq(net(test_X.float()).argmax(1), test_Y)).mean().item()))\n",
    "        optim = t.optim.Adam(net.parameters(), lr=LR)\n",
    "        loss_fn = nn.CrossEntropyLoss().to(device)   \n",
    "        \n",
    "        utils.train_batches_net(train_loader,len(train_data),  net, device, loss_fn, optim, l, 'fine linear '+str(i)+' ', batch_num=E)        \n",
    "        net.eval()\n",
    "        acc_linear2[l].append( ((1.0*t.eq(net(test_X.float()).argmax(1), test_Y)).mean().item()))\n",
    "        net.train()\n",
    "        params_linear2[l].append((net[0].mean.detach().numpy().copy(), net[0].log_sigma.detach().numpy().copy()))\n",
    "\n",
    "net0 = var_net.VarNet(kernel_hypernet.VarKernelLayer(13, 3,   3, \n",
    "                                                    prior_sigma=prior_sigma, act=lambda x:x, init_log_sigma=init_log_sigma))              \n",
    "for l in lamb:\n",
    "    params_kernel32[l] = []\n",
    "    acc_kernel32[l] = []\n",
    "    for i in range(5):\n",
    "        net0.load_state_dict(t.load('./saved_wine/rep_kernel_3_start_{}.cpk'.format(i)))        \n",
    "        utils0.net_copy(net0, net, lambda_encode(t.tensor(l)), layer_num=1, mode='var')\n",
    "        #acc[l].append( ((1.0*t.eq(net(test_X.float()).argmax(1), test_Y)).mean().item()))\n",
    "        optim = t.optim.Adam(net.parameters(), lr=LR)\n",
    "        loss_fn = nn.CrossEntropyLoss().to(device)       \n",
    "        \n",
    "        utils.train_batches_net(train_loader,len(train_data),  net, device, loss_fn, optim, l,  'fine kernel3 '+str(i)+' ', batch_num=E)    \n",
    "        net.eval()\n",
    "        acc_kernel32[l].append( ((1.0*t.eq(net(test_X.float()).argmax(1), test_Y)).mean().item()))\n",
    "        net.train()\n",
    "        params_kernel32[l].append((net[0].mean.detach().numpy().copy(), net[0].log_sigma.detach().numpy().copy()))\n",
    "\n",
    "net0 = var_net.VarNet(kernel_hypernet.VarKernelLayer(13, 3,   5, \n",
    "                                                    prior_sigma=prior_sigma, act=lambda x:x, init_log_sigma=init_log_sigma))\n",
    "\n",
    "for l in lamb:\n",
    "    params_kernel52[l] = []\n",
    "    acc_kernel52[l] = []\n",
    "    for i in range(5):\n",
    "        net0.load_state_dict(t.load('./saved_wine/rep_kernel_5_start_{}.cpk'.format(i)))        \n",
    "        utils0.net_copy(net0, net, lambda_encode(t.tensor(l)), layer_num=1, mode='var')\n",
    "        #acc[l].append( ((1.0*t.eq(net(test_X.float()).argmax(1), test_Y)).mean().item()))\n",
    "        optim = t.optim.Adam(net.parameters(), lr=LR)\n",
    "        loss_fn = nn.CrossEntropyLoss().to(device)       \n",
    "        \n",
    "        utils.train_batches_net(train_loader,len(train_data),  net, device, loss_fn, optim, l,  'fine kernel5 '+str(i)+' ', batch_num=E)     \n",
    "        net.eval()\n",
    "        acc_kernel52[l].append( ((1.0*t.eq(net(test_X.float()).argmax(1), test_Y)).mean().item()))\n",
    "        net.train()\n",
    "        params_kernel52[l].append((net[0].mean.detach().numpy().copy(), net[0].log_sigma.detach().numpy().copy()))\n",
    "\n",
    "            "
   ]
  },
  {
   "cell_type": "code",
   "execution_count": null,
   "id": "6903fd03",
   "metadata": {},
   "outputs": [],
   "source": []
  },
  {
   "cell_type": "code",
   "execution_count": 35,
   "id": "69dda299",
   "metadata": {},
   "outputs": [
    {
     "name": "stdout",
     "output_type": "stream",
     "text": [
      "[-1.0864732, -1.064193, 0.037858285, 0.631888, 1.4333471] [0.9333333253860474, 0.9333333253860474, 0.7444444417953491, 0.6277777850627899, 0.6444444417953491]\n",
      "[-3.1048727, -1.4845203, 0.06721322, 0.7421478, 1.2891902] [0.9388888716697693, 0.8777777791023255, 0.8611111164093017, 0.7555555582046509, 0.6166666626930237]\n"
     ]
    },
    {
     "data": {
      "image/png": "[encoded data removed]",
      "text/plain": [
       "<Figure size 432x288 with 2 Axes>"
      ]
     },
     "metadata": {
      "needs_background": "light"
     },
     "output_type": "display_data"
    }
   ],
   "source": [
    "fig, ax1 = plt.subplots()\n",
    "ax2 = ax1.twinx()\n",
    "\n",
    "\n",
    "### nets\n",
    "X = []\n",
    "Y = []\n",
    "for l in lamb:    \n",
    "    denon = 0\n",
    "    x = []\n",
    "    y = []\n",
    "    for i in range(5):\n",
    "        denon += dist(params[l][i])\n",
    "    for i in range(5):\n",
    "        x_ = 0 \n",
    "        for j in range(5):\n",
    "            x_ += dist(params[l][i], params[l][j])\n",
    "        x.append(np.log(x_/denon))\n",
    "        y.append(acc[l][i])\n",
    "    #plt.errorbar([np.mean(x)], [np.mean(y)], xerr =[[np.mean(x) - np.min(x)], [np.max(x) - np.mean(x) ]],\n",
    "    #             yerr = [[np.mean(y) - np.min(y)], [np.max(y) - np.mean(y)]], marker='.', c='r', markersize=10)\n",
    "    X.append(np.mean(x))\n",
    "    Y.append(np.mean(y))\n",
    "#plt.plot(X, Y, c='r')\n",
    "ax2.set_yticks(Y)\n",
    "ax2.set_yticklabels(['2', '', '4', '5', '6'])  \n",
    "\n",
    "\n",
    "# linear\n",
    "X = []\n",
    "Y = []\n",
    "for l in lamb:    \n",
    "    denon = 0\n",
    "    x = []\n",
    "    y = []\n",
    "    for i in range(5):\n",
    "        denon += dist(params[l][i])\n",
    "    for i in range(5):\n",
    "        x_ = 0 \n",
    "        for j in range(5):\n",
    "            x_ += dist(params_linear2[l][i],  params[l][j])\n",
    "        x.append(np.log(x_/denon))\n",
    "        y.append(acc_linear2[l][i])\n",
    "    plt.errorbar([np.mean(x)], [np.mean(y)], xerr =[[np.mean(x) - np.min(x)], [np.max(x) - np.mean(x) ]],\n",
    "                 yerr = [[np.mean(y) - np.min(y)], [np.max(y) - np.mean(y)]], c='b', marker='.', markersize=10)\n",
    "    X.append(np.mean(x))\n",
    "    Y.append(np.mean(y))\n",
    "    \n",
    "plt.plot(X, Y, c='b')    \n",
    "\n",
    "# kernel-3\n",
    "X = []\n",
    "Y = []\n",
    "for l in lamb:    \n",
    "    denon = 0\n",
    "    x = []\n",
    "    y = []\n",
    "    for i in range(5):\n",
    "        denon += dist(params[l][i])\n",
    "    for i in range(5):\n",
    "        x_ = 0 \n",
    "        for j in range(5):\n",
    "            x_ += dist(params_kernel32[l][i], params[l][j])\n",
    "        x.append(np.log(x_/denon))\n",
    "        y.append(acc_kernel32[l][i])\n",
    "    plt.errorbar([np.mean(x)], [np.mean(y)], xerr =[[np.mean(x) - np.min(x)], [np.max(x) - np.mean(x) ]],\n",
    "                 yerr = [[np.mean(y) - np.min(y)], [np.max(y) - np.mean(y)]], c='g', marker='.', markersize=10)\n",
    "    X.append(np.mean(x))\n",
    "    Y.append(np.mean(y))\n",
    "print (X, Y)\n",
    "    \n",
    "plt.plot(X, Y, c='g')    \n",
    "\n",
    "\n",
    "# kernel-5\n",
    "X = []\n",
    "Y = []\n",
    "for l in lamb:    \n",
    "    denon = 0\n",
    "    x = []\n",
    "    y = []\n",
    "    for i in range(5):\n",
    "        denon += dist(params[l][i])\n",
    "    for i in range(5):\n",
    "        x_ = 0 \n",
    "        for j in range(5):\n",
    "            x_ += dist(params_kernel52[l][i], params[l][j])\n",
    "        x.append(np.log(x_/denon))\n",
    "        y.append(acc_kernel52[l][i])\n",
    "    plt.errorbar([np.mean(x)], [np.mean(y)], xerr =[[np.mean(x) - np.min(x)], [np.max(x) - np.mean(x) ]],\n",
    "                 yerr = [[np.mean(y) - np.min(y)], [np.max(y) - np.mean(y)]], c='k', marker='.', markersize=10)\n",
    "    X.append(np.mean(x))\n",
    "    Y.append(np.mean(y))\n",
    "print (X, Y)\n",
    "plt.plot(X, Y, c='k') \n",
    "\n",
    "plt.ylim((0, 1))\n",
    "ax1.set_ylabel('Accuracy')\n",
    "ax1.set_xlabel('Deviation from basic model')\n",
    "ax2.set_ylabel('$log_{10}(\\lambda)$')\n",
    "#ax2.set_ylabel('sin', color='r')\n",
    "\n",
    "\n",
    "plt.savefig('wine_base_1.png', bbox_inches='tight')\n",
    "\n",
    "\n",
    "\n",
    "\n"
   ]
  },
  {
   "cell_type": "code",
   "execution_count": 39,
   "id": "26304b71",
   "metadata": {},
   "outputs": [
    {
     "name": "stderr",
     "output_type": "stream",
     "text": [
      "/home/leginpc/reps/VarHyperNet/code/wine/../src/var_net.py:31: UserWarning: nn.init.xavier_uniform is now deprecated in favor of nn.init.xavier_uniform_.\n",
      "  t.nn.init.xavier_uniform(self.mean)\n",
      "/home/leginpc/reps/VarHyperNet/code/wine/../src/linear_var_hypernet.py:162: UserWarning: nn.init.xavier_uniform is now deprecated in favor of nn.init.xavier_uniform_.\n",
      "  t.nn.init.xavier_uniform(self.const,  init_const)\n",
      "/home/leginpc/reps/VarHyperNet/code/wine/../src/linear_var_hypernet.py:164: UserWarning: nn.init.xavier_uniform is now deprecated in favor of nn.init.xavier_uniform_.\n",
      "  t.nn.init.xavier_uniform(self.const2,  init_const2)\n"
     ]
    },
    {
     "data": {
      "application/vnd.jupyter.widget-view+json": {
       "model_id": "7dbec22888b941c195579c99c39421e8",
       "version_major": 2,
       "version_minor": 0
      },
      "text/plain": [
       "  0%|          | 0/142 [00:00<?, ?it/s]"
      ]
     },
     "metadata": {},
     "output_type": "display_data"
    },
    {
     "data": {
      "application/vnd.jupyter.widget-view+json": {
       "model_id": "350eeb2f167c4177979eb4ebc7866d92",
       "version_major": 2,
       "version_minor": 0
      },
      "text/plain": [
       "  0%|          | 0/142 [00:00<?, ?it/s]"
      ]
     },
     "metadata": {},
     "output_type": "display_data"
    },
    {
     "data": {
      "application/vnd.jupyter.widget-view+json": {
       "model_id": "bb2fb00b0bb84a34b58e4a6a0f6ef5a1",
       "version_major": 2,
       "version_minor": 0
      },
      "text/plain": [
       "  0%|          | 0/142 [00:00<?, ?it/s]"
      ]
     },
     "metadata": {},
     "output_type": "display_data"
    },
    {
     "data": {
      "application/vnd.jupyter.widget-view+json": {
       "model_id": "e984b2059c3c4e61be981b5a7e21e934",
       "version_major": 2,
       "version_minor": 0
      },
      "text/plain": [
       "  0%|          | 0/142 [00:00<?, ?it/s]"
      ]
     },
     "metadata": {},
     "output_type": "display_data"
    },
    {
     "data": {
      "application/vnd.jupyter.widget-view+json": {
       "model_id": "a4bedadfe490461c9bb033cb483e4f8f",
       "version_major": 2,
       "version_minor": 0
      },
      "text/plain": [
       "  0%|          | 0/142 [00:00<?, ?it/s]"
      ]
     },
     "metadata": {},
     "output_type": "display_data"
    },
    {
     "data": {
      "application/vnd.jupyter.widget-view+json": {
       "model_id": "bec273ccc080413dab1dc770700297c3",
       "version_major": 2,
       "version_minor": 0
      },
      "text/plain": [
       "  0%|          | 0/142 [00:00<?, ?it/s]"
      ]
     },
     "metadata": {},
     "output_type": "display_data"
    },
    {
     "data": {
      "application/vnd.jupyter.widget-view+json": {
       "model_id": "762edf8e61184fe09a0ec3ad105dae61",
       "version_major": 2,
       "version_minor": 0
      },
      "text/plain": [
       "  0%|          | 0/142 [00:00<?, ?it/s]"
      ]
     },
     "metadata": {},
     "output_type": "display_data"
    },
    {
     "data": {
      "application/vnd.jupyter.widget-view+json": {
       "model_id": "6b65f811f1d84c2aaf5a565f8754a6f3",
       "version_major": 2,
       "version_minor": 0
      },
      "text/plain": [
       "  0%|          | 0/142 [00:00<?, ?it/s]"
      ]
     },
     "metadata": {},
     "output_type": "display_data"
    },
    {
     "data": {
      "application/vnd.jupyter.widget-view+json": {
       "model_id": "47c3df8932f04052b8e8ef98d6a2e658",
       "version_major": 2,
       "version_minor": 0
      },
      "text/plain": [
       "  0%|          | 0/142 [00:00<?, ?it/s]"
      ]
     },
     "metadata": {},
     "output_type": "display_data"
    },
    {
     "data": {
      "application/vnd.jupyter.widget-view+json": {
       "model_id": "e234477c17c3452b9a7a6260df21f467",
       "version_major": 2,
       "version_minor": 0
      },
      "text/plain": [
       "  0%|          | 0/142 [00:00<?, ?it/s]"
      ]
     },
     "metadata": {},
     "output_type": "display_data"
    },
    {
     "data": {
      "application/vnd.jupyter.widget-view+json": {
       "model_id": "2ccc373ff1414d45a7ee1c42958bc582",
       "version_major": 2,
       "version_minor": 0
      },
      "text/plain": [
       "  0%|          | 0/142 [00:00<?, ?it/s]"
      ]
     },
     "metadata": {},
     "output_type": "display_data"
    },
    {
     "data": {
      "application/vnd.jupyter.widget-view+json": {
       "model_id": "9078b124849549c98a8c18c477f9c354",
       "version_major": 2,
       "version_minor": 0
      },
      "text/plain": [
       "  0%|          | 0/142 [00:00<?, ?it/s]"
      ]
     },
     "metadata": {},
     "output_type": "display_data"
    },
    {
     "data": {
      "application/vnd.jupyter.widget-view+json": {
       "model_id": "10a497f82ca547d08c86958fde1b7100",
       "version_major": 2,
       "version_minor": 0
      },
      "text/plain": [
       "  0%|          | 0/142 [00:00<?, ?it/s]"
      ]
     },
     "metadata": {},
     "output_type": "display_data"
    },
    {
     "data": {
      "application/vnd.jupyter.widget-view+json": {
       "model_id": "79fdc0837795471dbc201f4ffec0eaab",
       "version_major": 2,
       "version_minor": 0
      },
      "text/plain": [
       "  0%|          | 0/142 [00:00<?, ?it/s]"
      ]
     },
     "metadata": {},
     "output_type": "display_data"
    },
    {
     "data": {
      "application/vnd.jupyter.widget-view+json": {
       "model_id": "c789e8a82492431283e4b1a6e4729ed0",
       "version_major": 2,
       "version_minor": 0
      },
      "text/plain": [
       "  0%|          | 0/142 [00:00<?, ?it/s]"
      ]
     },
     "metadata": {},
     "output_type": "display_data"
    },
    {
     "data": {
      "application/vnd.jupyter.widget-view+json": {
       "model_id": "c6fdbae485024b9dbc3d55bda28ac98c",
       "version_major": 2,
       "version_minor": 0
      },
      "text/plain": [
       "  0%|          | 0/142 [00:00<?, ?it/s]"
      ]
     },
     "metadata": {},
     "output_type": "display_data"
    },
    {
     "data": {
      "application/vnd.jupyter.widget-view+json": {
       "model_id": "d7000b0ffac4468185086aa8f9e6e14b",
       "version_major": 2,
       "version_minor": 0
      },
      "text/plain": [
       "  0%|          | 0/142 [00:00<?, ?it/s]"
      ]
     },
     "metadata": {},
     "output_type": "display_data"
    },
    {
     "data": {
      "application/vnd.jupyter.widget-view+json": {
       "model_id": "88e81afec2a848eba4dc6305752f52e8",
       "version_major": 2,
       "version_minor": 0
      },
      "text/plain": [
       "  0%|          | 0/142 [00:00<?, ?it/s]"
      ]
     },
     "metadata": {},
     "output_type": "display_data"
    },
    {
     "data": {
      "application/vnd.jupyter.widget-view+json": {
       "model_id": "481de5a89c1942d9aa572d5247cbdf18",
       "version_major": 2,
       "version_minor": 0
      },
      "text/plain": [
       "  0%|          | 0/142 [00:00<?, ?it/s]"
      ]
     },
     "metadata": {},
     "output_type": "display_data"
    },
    {
     "data": {
      "application/vnd.jupyter.widget-view+json": {
       "model_id": "e58dad0e47214278bb8c61551a5eab1b",
       "version_major": 2,
       "version_minor": 0
      },
      "text/plain": [
       "  0%|          | 0/142 [00:00<?, ?it/s]"
      ]
     },
     "metadata": {},
     "output_type": "display_data"
    },
    {
     "data": {
      "application/vnd.jupyter.widget-view+json": {
       "model_id": "8dae757906474f1f8d6953389cac50d3",
       "version_major": 2,
       "version_minor": 0
      },
      "text/plain": [
       "  0%|          | 0/142 [00:00<?, ?it/s]"
      ]
     },
     "metadata": {},
     "output_type": "display_data"
    },
    {
     "data": {
      "application/vnd.jupyter.widget-view+json": {
       "model_id": "39d220d7d34e44c38556991855a7b270",
       "version_major": 2,
       "version_minor": 0
      },
      "text/plain": [
       "  0%|          | 0/142 [00:00<?, ?it/s]"
      ]
     },
     "metadata": {},
     "output_type": "display_data"
    },
    {
     "data": {
      "application/vnd.jupyter.widget-view+json": {
       "model_id": "84c6e1f2ab514236b354f889a14d7a0e",
       "version_major": 2,
       "version_minor": 0
      },
      "text/plain": [
       "  0%|          | 0/142 [00:00<?, ?it/s]"
      ]
     },
     "metadata": {},
     "output_type": "display_data"
    },
    {
     "data": {
      "application/vnd.jupyter.widget-view+json": {
       "model_id": "2437eb12d3674420be5d39a970877215",
       "version_major": 2,
       "version_minor": 0
      },
      "text/plain": [
       "  0%|          | 0/142 [00:00<?, ?it/s]"
      ]
     },
     "metadata": {},
     "output_type": "display_data"
    },
    {
     "data": {
      "application/vnd.jupyter.widget-view+json": {
       "model_id": "de62a6446ce44dcab928cb7b6494bf27",
       "version_major": 2,
       "version_minor": 0
      },
      "text/plain": [
       "  0%|          | 0/142 [00:00<?, ?it/s]"
      ]
     },
     "metadata": {},
     "output_type": "display_data"
    },
    {
     "data": {
      "application/vnd.jupyter.widget-view+json": {
       "model_id": "a0fbd7438b554b11ac199408202b6d8c",
       "version_major": 2,
       "version_minor": 0
      },
      "text/plain": [
       "  0%|          | 0/142 [00:00<?, ?it/s]"
      ]
     },
     "metadata": {},
     "output_type": "display_data"
    },
    {
     "data": {
      "application/vnd.jupyter.widget-view+json": {
       "model_id": "a030a7674f724391a302ad375dda347a",
       "version_major": 2,
       "version_minor": 0
      },
      "text/plain": [
       "  0%|          | 0/142 [00:00<?, ?it/s]"
      ]
     },
     "metadata": {},
     "output_type": "display_data"
    },
    {
     "data": {
      "application/vnd.jupyter.widget-view+json": {
       "model_id": "7e0bd75c05504aa287a09393aab8c9d3",
       "version_major": 2,
       "version_minor": 0
      },
      "text/plain": [
       "  0%|          | 0/142 [00:00<?, ?it/s]"
      ]
     },
     "metadata": {},
     "output_type": "display_data"
    },
    {
     "data": {
      "application/vnd.jupyter.widget-view+json": {
       "model_id": "097d6ff5b5ff49d78f1772289d67258f",
       "version_major": 2,
       "version_minor": 0
      },
      "text/plain": [
       "  0%|          | 0/142 [00:00<?, ?it/s]"
      ]
     },
     "metadata": {},
     "output_type": "display_data"
    },
    {
     "data": {
      "application/vnd.jupyter.widget-view+json": {
       "model_id": "70bff5855c2b4d628f6a6707f6ab6d95",
       "version_major": 2,
       "version_minor": 0
      },
      "text/plain": [
       "  0%|          | 0/142 [00:00<?, ?it/s]"
      ]
     },
     "metadata": {},
     "output_type": "display_data"
    },
    {
     "data": {
      "application/vnd.jupyter.widget-view+json": {
       "model_id": "b82a61ceafde464289409982f0d98a34",
       "version_major": 2,
       "version_minor": 0
      },
      "text/plain": [
       "  0%|          | 0/142 [00:00<?, ?it/s]"
      ]
     },
     "metadata": {},
     "output_type": "display_data"
    },
    {
     "data": {
      "application/vnd.jupyter.widget-view+json": {
       "model_id": "76b571f27dcb42caa9a40ed941e4e724",
       "version_major": 2,
       "version_minor": 0
      },
      "text/plain": [
       "  0%|          | 0/142 [00:00<?, ?it/s]"
      ]
     },
     "metadata": {},
     "output_type": "display_data"
    },
    {
     "data": {
      "application/vnd.jupyter.widget-view+json": {
       "model_id": "513ce578793c46428a633799c5240c06",
       "version_major": 2,
       "version_minor": 0
      },
      "text/plain": [
       "  0%|          | 0/142 [00:00<?, ?it/s]"
      ]
     },
     "metadata": {},
     "output_type": "display_data"
    },
    {
     "data": {
      "application/vnd.jupyter.widget-view+json": {
       "model_id": "fd5caaf4248748b6ac192a4ac3d8e7e8",
       "version_major": 2,
       "version_minor": 0
      },
      "text/plain": [
       "  0%|          | 0/142 [00:00<?, ?it/s]"
      ]
     },
     "metadata": {},
     "output_type": "display_data"
    },
    {
     "data": {
      "application/vnd.jupyter.widget-view+json": {
       "model_id": "f1152da0301847b888c10d77d745e8da",
       "version_major": 2,
       "version_minor": 0
      },
      "text/plain": [
       "  0%|          | 0/142 [00:00<?, ?it/s]"
      ]
     },
     "metadata": {},
     "output_type": "display_data"
    },
    {
     "data": {
      "application/vnd.jupyter.widget-view+json": {
       "model_id": "cee80d0490bb455c8156d7334de621e4",
       "version_major": 2,
       "version_minor": 0
      },
      "text/plain": [
       "  0%|          | 0/142 [00:00<?, ?it/s]"
      ]
     },
     "metadata": {},
     "output_type": "display_data"
    },
    {
     "data": {
      "application/vnd.jupyter.widget-view+json": {
       "model_id": "df4a11d7f65a478a94cacfa5a93fedbb",
       "version_major": 2,
       "version_minor": 0
      },
      "text/plain": [
       "  0%|          | 0/142 [00:00<?, ?it/s]"
      ]
     },
     "metadata": {},
     "output_type": "display_data"
    },
    {
     "data": {
      "application/vnd.jupyter.widget-view+json": {
       "model_id": "766866acb45a45e9abbd06aeb3854418",
       "version_major": 2,
       "version_minor": 0
      },
      "text/plain": [
       "  0%|          | 0/142 [00:00<?, ?it/s]"
      ]
     },
     "metadata": {},
     "output_type": "display_data"
    },
    {
     "data": {
      "application/vnd.jupyter.widget-view+json": {
       "model_id": "f8c336b9f6f14cd6af6836fa363e50dd",
       "version_major": 2,
       "version_minor": 0
      },
      "text/plain": [
       "  0%|          | 0/142 [00:00<?, ?it/s]"
      ]
     },
     "metadata": {},
     "output_type": "display_data"
    },
    {
     "data": {
      "application/vnd.jupyter.widget-view+json": {
       "model_id": "0b70fc2246924a94bf357dc6a9b2ae0e",
       "version_major": 2,
       "version_minor": 0
      },
      "text/plain": [
       "  0%|          | 0/142 [00:00<?, ?it/s]"
      ]
     },
     "metadata": {},
     "output_type": "display_data"
    },
    {
     "data": {
      "application/vnd.jupyter.widget-view+json": {
       "model_id": "c0a3f60a18824d3682060d22636615f6",
       "version_major": 2,
       "version_minor": 0
      },
      "text/plain": [
       "  0%|          | 0/142 [00:00<?, ?it/s]"
      ]
     },
     "metadata": {},
     "output_type": "display_data"
    },
    {
     "data": {
      "application/vnd.jupyter.widget-view+json": {
       "model_id": "df3d1978e0c74a1a8f16ba4c04868307",
       "version_major": 2,
       "version_minor": 0
      },
      "text/plain": [
       "  0%|          | 0/142 [00:00<?, ?it/s]"
      ]
     },
     "metadata": {},
     "output_type": "display_data"
    },
    {
     "data": {
      "application/vnd.jupyter.widget-view+json": {
       "model_id": "0272b42a1c794f0bbe7b4e290bf419a0",
       "version_major": 2,
       "version_minor": 0
      },
      "text/plain": [
       "  0%|          | 0/142 [00:00<?, ?it/s]"
      ]
     },
     "metadata": {},
     "output_type": "display_data"
    },
    {
     "data": {
      "application/vnd.jupyter.widget-view+json": {
       "model_id": "fbcdaf03ea8a42a8bdb46f95db056f9d",
       "version_major": 2,
       "version_minor": 0
      },
      "text/plain": [
       "  0%|          | 0/142 [00:00<?, ?it/s]"
      ]
     },
     "metadata": {},
     "output_type": "display_data"
    },
    {
     "data": {
      "application/vnd.jupyter.widget-view+json": {
       "model_id": "c9b9085f1c4644e18aba68d76769d2ea",
       "version_major": 2,
       "version_minor": 0
      },
      "text/plain": [
       "  0%|          | 0/142 [00:00<?, ?it/s]"
      ]
     },
     "metadata": {},
     "output_type": "display_data"
    },
    {
     "data": {
      "application/vnd.jupyter.widget-view+json": {
       "model_id": "5fa270ba33144b62bfc26856ebccd0f5",
       "version_major": 2,
       "version_minor": 0
      },
      "text/plain": [
       "  0%|          | 0/142 [00:00<?, ?it/s]"
      ]
     },
     "metadata": {},
     "output_type": "display_data"
    },
    {
     "data": {
      "application/vnd.jupyter.widget-view+json": {
       "model_id": "786c9fa8543042abbd228624bb25ef41",
       "version_major": 2,
       "version_minor": 0
      },
      "text/plain": [
       "  0%|          | 0/142 [00:00<?, ?it/s]"
      ]
     },
     "metadata": {},
     "output_type": "display_data"
    },
    {
     "data": {
      "application/vnd.jupyter.widget-view+json": {
       "model_id": "26cb21c1d5954f1a9b06abf24668d5c5",
       "version_major": 2,
       "version_minor": 0
      },
      "text/plain": [
       "  0%|          | 0/142 [00:00<?, ?it/s]"
      ]
     },
     "metadata": {},
     "output_type": "display_data"
    },
    {
     "data": {
      "application/vnd.jupyter.widget-view+json": {
       "model_id": "fe470ecf656f43f4969cc4c09c69033a",
       "version_major": 2,
       "version_minor": 0
      },
      "text/plain": [
       "  0%|          | 0/142 [00:00<?, ?it/s]"
      ]
     },
     "metadata": {},
     "output_type": "display_data"
    },
    {
     "data": {
      "application/vnd.jupyter.widget-view+json": {
       "model_id": "95d997651f1b42ba95e039b5654a0569",
       "version_major": 2,
       "version_minor": 0
      },
      "text/plain": [
       "  0%|          | 0/142 [00:00<?, ?it/s]"
      ]
     },
     "metadata": {},
     "output_type": "display_data"
    },
    {
     "data": {
      "application/vnd.jupyter.widget-view+json": {
       "model_id": "d53894692682446eb7c288f52a521339",
       "version_major": 2,
       "version_minor": 0
      },
      "text/plain": [
       "  0%|          | 0/142 [00:00<?, ?it/s]"
      ]
     },
     "metadata": {},
     "output_type": "display_data"
    },
    {
     "data": {
      "application/vnd.jupyter.widget-view+json": {
       "model_id": "887ee740f7c84f67bd7c3223879101fe",
       "version_major": 2,
       "version_minor": 0
      },
      "text/plain": [
       "  0%|          | 0/142 [00:00<?, ?it/s]"
      ]
     },
     "metadata": {},
     "output_type": "display_data"
    },
    {
     "data": {
      "application/vnd.jupyter.widget-view+json": {
       "model_id": "bfd2cc64bbc34989946d2b5de66aae0e",
       "version_major": 2,
       "version_minor": 0
      },
      "text/plain": [
       "  0%|          | 0/142 [00:00<?, ?it/s]"
      ]
     },
     "metadata": {},
     "output_type": "display_data"
    },
    {
     "data": {
      "application/vnd.jupyter.widget-view+json": {
       "model_id": "d4e9daea30df43b3b94d93f5b950b91b",
       "version_major": 2,
       "version_minor": 0
      },
      "text/plain": [
       "  0%|          | 0/142 [00:00<?, ?it/s]"
      ]
     },
     "metadata": {},
     "output_type": "display_data"
    },
    {
     "data": {
      "application/vnd.jupyter.widget-view+json": {
       "model_id": "b1abb8a8f6104295baeee919ce3832c2",
       "version_major": 2,
       "version_minor": 0
      },
      "text/plain": [
       "  0%|          | 0/142 [00:00<?, ?it/s]"
      ]
     },
     "metadata": {},
     "output_type": "display_data"
    },
    {
     "data": {
      "application/vnd.jupyter.widget-view+json": {
       "model_id": "b31d4fcc9afa474abb88a2a458dcf07c",
       "version_major": 2,
       "version_minor": 0
      },
      "text/plain": [
       "  0%|          | 0/142 [00:00<?, ?it/s]"
      ]
     },
     "metadata": {},
     "output_type": "display_data"
    },
    {
     "data": {
      "application/vnd.jupyter.widget-view+json": {
       "model_id": "6a8b0911080340e88764c8745913241f",
       "version_major": 2,
       "version_minor": 0
      },
      "text/plain": [
       "  0%|          | 0/142 [00:00<?, ?it/s]"
      ]
     },
     "metadata": {},
     "output_type": "display_data"
    },
    {
     "data": {
      "application/vnd.jupyter.widget-view+json": {
       "model_id": "ce81ef572ce4471695e5ab12cc0097a0",
       "version_major": 2,
       "version_minor": 0
      },
      "text/plain": [
       "  0%|          | 0/142 [00:00<?, ?it/s]"
      ]
     },
     "metadata": {},
     "output_type": "display_data"
    },
    {
     "data": {
      "application/vnd.jupyter.widget-view+json": {
       "model_id": "c324f51047ca4cf797b44ea89903fa36",
       "version_major": 2,
       "version_minor": 0
      },
      "text/plain": [
       "  0%|          | 0/142 [00:00<?, ?it/s]"
      ]
     },
     "metadata": {},
     "output_type": "display_data"
    },
    {
     "data": {
      "application/vnd.jupyter.widget-view+json": {
       "model_id": "c4c6c623a3034dcf91f8deaf81a546d7",
       "version_major": 2,
       "version_minor": 0
      },
      "text/plain": [
       "  0%|          | 0/142 [00:00<?, ?it/s]"
      ]
     },
     "metadata": {},
     "output_type": "display_data"
    },
    {
     "data": {
      "application/vnd.jupyter.widget-view+json": {
       "model_id": "f2d3b090f3b14c1ab757c499ea4a4031",
       "version_major": 2,
       "version_minor": 0
      },
      "text/plain": [
       "  0%|          | 0/142 [00:00<?, ?it/s]"
      ]
     },
     "metadata": {},
     "output_type": "display_data"
    },
    {
     "data": {
      "application/vnd.jupyter.widget-view+json": {
       "model_id": "36c57983918642a98244c6f0badfd031",
       "version_major": 2,
       "version_minor": 0
      },
      "text/plain": [
       "  0%|          | 0/142 [00:00<?, ?it/s]"
      ]
     },
     "metadata": {},
     "output_type": "display_data"
    },
    {
     "data": {
      "application/vnd.jupyter.widget-view+json": {
       "model_id": "782519c25f2843b6a9a5bb4493791263",
       "version_major": 2,
       "version_minor": 0
      },
      "text/plain": [
       "  0%|          | 0/142 [00:00<?, ?it/s]"
      ]
     },
     "metadata": {},
     "output_type": "display_data"
    },
    {
     "data": {
      "application/vnd.jupyter.widget-view+json": {
       "model_id": "3eb0790f30ec4d9ebb94b782b5950a70",
       "version_major": 2,
       "version_minor": 0
      },
      "text/plain": [
       "  0%|          | 0/142 [00:00<?, ?it/s]"
      ]
     },
     "metadata": {},
     "output_type": "display_data"
    },
    {
     "data": {
      "application/vnd.jupyter.widget-view+json": {
       "model_id": "9ad195b1121a4ee5b25be501db389160",
       "version_major": 2,
       "version_minor": 0
      },
      "text/plain": [
       "  0%|          | 0/142 [00:00<?, ?it/s]"
      ]
     },
     "metadata": {},
     "output_type": "display_data"
    },
    {
     "data": {
      "application/vnd.jupyter.widget-view+json": {
       "model_id": "709299a85945465faf47d989a1812bea",
       "version_major": 2,
       "version_minor": 0
      },
      "text/plain": [
       "  0%|          | 0/142 [00:00<?, ?it/s]"
      ]
     },
     "metadata": {},
     "output_type": "display_data"
    },
    {
     "data": {
      "application/vnd.jupyter.widget-view+json": {
       "model_id": "8b3b2065438048e89d13c452449a89ee",
       "version_major": 2,
       "version_minor": 0
      },
      "text/plain": [
       "  0%|          | 0/142 [00:00<?, ?it/s]"
      ]
     },
     "metadata": {},
     "output_type": "display_data"
    },
    {
     "data": {
      "application/vnd.jupyter.widget-view+json": {
       "model_id": "8700c676bbc34bbfb01a717934b26829",
       "version_major": 2,
       "version_minor": 0
      },
      "text/plain": [
       "  0%|          | 0/142 [00:00<?, ?it/s]"
      ]
     },
     "metadata": {},
     "output_type": "display_data"
    },
    {
     "data": {
      "application/vnd.jupyter.widget-view+json": {
       "model_id": "a9a10227e67d46cea8419e6dc052a9be",
       "version_major": 2,
       "version_minor": 0
      },
      "text/plain": [
       "  0%|          | 0/142 [00:00<?, ?it/s]"
      ]
     },
     "metadata": {},
     "output_type": "display_data"
    },
    {
     "data": {
      "application/vnd.jupyter.widget-view+json": {
       "model_id": "84e3f0fa0b3645af9c724d3da48fe279",
       "version_major": 2,
       "version_minor": 0
      },
      "text/plain": [
       "  0%|          | 0/142 [00:00<?, ?it/s]"
      ]
     },
     "metadata": {},
     "output_type": "display_data"
    },
    {
     "data": {
      "application/vnd.jupyter.widget-view+json": {
       "model_id": "64d4f76bf6244dd89a9c315f5c8a0680",
       "version_major": 2,
       "version_minor": 0
      },
      "text/plain": [
       "  0%|          | 0/142 [00:00<?, ?it/s]"
      ]
     },
     "metadata": {},
     "output_type": "display_data"
    },
    {
     "data": {
      "application/vnd.jupyter.widget-view+json": {
       "model_id": "81bfeab53db942b1bc3a8e2db037cc38",
       "version_major": 2,
       "version_minor": 0
      },
      "text/plain": [
       "  0%|          | 0/142 [00:00<?, ?it/s]"
      ]
     },
     "metadata": {},
     "output_type": "display_data"
    },
    {
     "data": {
      "application/vnd.jupyter.widget-view+json": {
       "model_id": "827a601fe11c4c4382e23c98d6278a1c",
       "version_major": 2,
       "version_minor": 0
      },
      "text/plain": [
       "  0%|          | 0/142 [00:00<?, ?it/s]"
      ]
     },
     "metadata": {},
     "output_type": "display_data"
    },
    {
     "data": {
      "application/vnd.jupyter.widget-view+json": {
       "model_id": "020a5514b23041e4bc30ef973c9fd080",
       "version_major": 2,
       "version_minor": 0
      },
      "text/plain": [
       "  0%|          | 0/142 [00:00<?, ?it/s]"
      ]
     },
     "metadata": {},
     "output_type": "display_data"
    },
    {
     "data": {
      "application/vnd.jupyter.widget-view+json": {
       "model_id": "9c12874b30c441ebb2bc626920d436ce",
       "version_major": 2,
       "version_minor": 0
      },
      "text/plain": [
       "  0%|          | 0/142 [00:00<?, ?it/s]"
      ]
     },
     "metadata": {},
     "output_type": "display_data"
    }
   ],
   "source": [
    "LR = 5e-4\n",
    "E = 142\n",
    "\n",
    "params_linear2 = {}\n",
    "acc_linear2 = {}\n",
    "\n",
    "params_kernel32 = {}\n",
    "acc_kernel32 = {}\n",
    "\n",
    "params_kernel52 = {}\n",
    "acc_kernel52 = {}\n",
    "\n",
    "params2 = {}\n",
    "acc2 = {}\n",
    "\n",
    "net = var_net.VarNet(var_net.VarLayer(13, 3, prior_sigma=prior_sigma,  init_log_sigma=init_log_sigma,\n",
    "                                          act=lambda x:x))\n",
    "\n",
    "for l in lamb:\n",
    "    params2[l] = []\n",
    "    acc2[l] = []\n",
    "    for i in range(5):\n",
    "        net.load_state_dict(t.load('./saved_wine/var_net0_lam_{}_start_{}.cpk'.format(l, i)))\n",
    "        params2[l].append((net[0].mean.cpu().detach().numpy().copy(), net[0].log_sigma.cpu().detach().numpy().copy()))\n",
    "        net.eval()\n",
    "        acc2[l].append( ((1.0*t.eq(net(test_X.float()).argmax(1), test_Y)).mean().item()))\n",
    "        net.train()\n",
    "        \n",
    "        \n",
    "# linear\n",
    "net0 = var_net.VarNet( linear_var_hypernet.VarLayerLinearAppr(13, 3,  prior_sigma=prior_sigma, act=lambda x:x, init_log_sigma=init_log_sigma))\n",
    "for l in lamb:\n",
    "    params_linear2[l] = []\n",
    "    acc_linear2[l] = []\n",
    "    for i in range(5):\n",
    "        net0.load_state_dict(t.load('./saved_wine/var_linear_start_{}.cpk'.format(i)))\n",
    "        \n",
    "        utils0.net_copy(net0, net, lambda_encode(t.tensor(l)), layer_num=1, mode='var')\n",
    "        #acc[l].append( ((1.0*t.eq(net(test_X.float()).argmax(1), test_Y)).mean().item()))\n",
    "        optim = t.optim.Adam(net.parameters(), lr=LR)\n",
    "        loss_fn = nn.CrossEntropyLoss().to(device)   \n",
    "        \n",
    "        utils.train_batches_net(train_loader,len(train_data),  net, device, loss_fn, optim, l, 'fine linear '+str(i)+' ', batch_num=E)        \n",
    "        net.eval()\n",
    "        acc_linear2[l].append( ((1.0*t.eq(net(test_X.float()).argmax(1), test_Y)).mean().item()))\n",
    "        net.train()\n",
    "        params_linear2[l].append((net[0].mean.detach().numpy().copy(), net[0].log_sigma.detach().numpy().copy()))\n",
    "\n",
    "net0 = var_net.VarNet(kernel_hypernet.VarKernelLayer(13, 3,   3, \n",
    "                                                    prior_sigma=prior_sigma, act=lambda x:x, init_log_sigma=init_log_sigma))              \n",
    "for l in lamb:\n",
    "    params_kernel32[l] = []\n",
    "    acc_kernel32[l] = []\n",
    "    for i in range(5):\n",
    "        net0.load_state_dict(t.load('./saved_wine/var_kernel_3_start_{}.cpk'.format(i)))        \n",
    "        utils0.net_copy(net0, net, lambda_encode(t.tensor(l)), layer_num=1, mode='var')\n",
    "        #acc[l].append( ((1.0*t.eq(net(test_X.float()).argmax(1), test_Y)).mean().item()))\n",
    "        optim = t.optim.Adam(net.parameters(), lr=LR)\n",
    "        loss_fn = nn.CrossEntropyLoss().to(device)       \n",
    "        \n",
    "        utils.train_batches_net(train_loader,len(train_data),  net, device, loss_fn, optim, l,  'fine kernel3 '+str(i)+' ', batch_num=E)    \n",
    "        net.eval()\n",
    "        acc_kernel32[l].append( ((1.0*t.eq(net(test_X.float()).argmax(1), test_Y)).mean().item()))\n",
    "        net.train()\n",
    "        params_kernel32[l].append((net[0].mean.detach().numpy().copy(), net[0].log_sigma.detach().numpy().copy()))\n",
    "\n",
    "net0 = var_net.VarNet(kernel_hypernet.VarKernelLayer(13, 3,   5, \n",
    "                                                    prior_sigma=prior_sigma, act=lambda x:x, init_log_sigma=init_log_sigma))\n",
    "\n",
    "for l in lamb:\n",
    "    params_kernel52[l] = []\n",
    "    acc_kernel52[l] = []\n",
    "    for i in range(5):\n",
    "        net0.load_state_dict(t.load('./saved_wine/var_kernel_5_start_{}.cpk'.format(i)))        \n",
    "        utils0.net_copy(net0, net, lambda_encode(t.tensor(l)), layer_num=1, mode='var')\n",
    "        #acc[l].append( ((1.0*t.eq(net(test_X.float()).argmax(1), test_Y)).mean().item()))\n",
    "        optim = t.optim.Adam(net.parameters(), lr=LR)\n",
    "        loss_fn = nn.CrossEntropyLoss().to(device)       \n",
    "        \n",
    "        utils.train_batches_net(train_loader,len(train_data),  net, device, loss_fn, optim, l,  'fine kernel5 '+str(i)+' ', batch_num=E)     \n",
    "        net.eval()\n",
    "        acc_kernel52[l].append( ((1.0*t.eq(net(test_X.float()).argmax(1), test_Y)).mean().item()))\n",
    "        net.train()\n",
    "        params_kernel52[l].append((net[0].mean.detach().numpy().copy(), net[0].log_sigma.detach().numpy().copy()))\n",
    "\n",
    "            "
   ]
  },
  {
   "cell_type": "code",
   "execution_count": 40,
   "id": "02ffdd8b",
   "metadata": {},
   "outputs": [
    {
     "name": "stdout",
     "output_type": "stream",
     "text": [
      "[-1.3815511, -1.8727739, -0.12561956, 0.16506061, 0.8500142] [0.9277777791023254, 0.9499999761581421, 0.9277777791023254, 0.8388888835906982, 0.6055555582046509]\n",
      "[-3.2647538, -1.8759743, -0.15145937, 0.32391566, 0.6614464] [0.9388888835906982, 0.9111111044883728, 0.9055555582046508, 0.7444444537162781, 0.4333333343267441]\n"
     ]
    },
    {
     "data": {
      "image/png": "[encoded data removed]",
      "text/plain": [
       "<Figure size 432x288 with 2 Axes>"
      ]
     },
     "metadata": {
      "needs_background": "light"
     },
     "output_type": "display_data"
    }
   ],
   "source": [
    "fig, ax1 = plt.subplots()\n",
    "ax2 = ax1.twinx()\n",
    "\n",
    "\n",
    "### nets\n",
    "X = []\n",
    "Y = []\n",
    "for l in lamb:    \n",
    "    denon = 0\n",
    "    x = []\n",
    "    y = []\n",
    "    for i in range(5):\n",
    "        denon += dist(params[l][i])\n",
    "    for i in range(5):\n",
    "        x_ = 0 \n",
    "        for j in range(5):\n",
    "            x_ += dist(params[l][i], params[l][j])\n",
    "        x.append(np.log(x_/denon))\n",
    "        y.append(acc[l][i])\n",
    "    #plt.errorbar([np.mean(x)], [np.mean(y)], xerr =[[np.mean(x) - np.min(x)], [np.max(x) - np.mean(x) ]],\n",
    "    #             yerr = [[np.mean(y) - np.min(y)], [np.max(y) - np.mean(y)]], marker='.', c='r', markersize=10)\n",
    "    X.append(np.mean(x))\n",
    "    Y.append(np.mean(y))\n",
    "#plt.plot(X, Y, c='r')\n",
    "ax2.set_yticks(Y)\n",
    "ax2.set_yticklabels(['2', '', '4', '5', '6'])  \n",
    "\n",
    "\n",
    "### nets\n",
    "X = []\n",
    "Y = []\n",
    "for l in lamb:    \n",
    "    denon = 0\n",
    "    x = []\n",
    "    y = []\n",
    "    for i in range(5):\n",
    "        denon += dist(params[l][i])\n",
    "    for i in range(5):\n",
    "        x_ = 0 \n",
    "        for j in range(5):\n",
    "            x_ += dist(params2[l][i], params2[l][j])\n",
    "        x.append(np.log(x_/denon))\n",
    "        y.append(acc2[l][i])\n",
    "    plt.errorbar([np.mean(x)], [np.mean(y)], xerr =[[np.mean(x) - np.min(x)], [np.max(x) - np.mean(x) ]],\n",
    "                 yerr = [[np.mean(y) - np.min(y)], [np.max(y) - np.mean(y)]], marker='.', c='purple', markersize=10)\n",
    "    X.append(np.mean(x))\n",
    "    Y.append(np.mean(y))\n",
    "plt.plot(X, Y, c='purple')\n",
    "\n",
    "# linear\n",
    "X = []\n",
    "Y = []\n",
    "for l in lamb:    \n",
    "    denon = 0\n",
    "    x = []\n",
    "    y = []\n",
    "    for i in range(5):\n",
    "        denon += dist(params[l][i])\n",
    "    for i in range(5):\n",
    "        x_ = 0 \n",
    "        for j in range(5):\n",
    "            x_ += dist(params_linear2[l][i],  params[l][j])\n",
    "        x.append(np.log(x_/denon))\n",
    "        y.append(acc_linear2[l][i])\n",
    "    plt.errorbar([np.mean(x)], [np.mean(y)], xerr =[[np.mean(x) - np.min(x)], [np.max(x) - np.mean(x) ]],\n",
    "                 yerr = [[np.mean(y) - np.min(y)], [np.max(y) - np.mean(y)]], c='b', marker='.', markersize=10)\n",
    "    X.append(np.mean(x))\n",
    "    Y.append(np.mean(y))\n",
    "    \n",
    "plt.plot(X, Y, c='b')    \n",
    "\n",
    "# kernel-3\n",
    "X = []\n",
    "Y = []\n",
    "for l in lamb:    \n",
    "    denon = 0\n",
    "    x = []\n",
    "    y = []\n",
    "    for i in range(5):\n",
    "        denon += dist(params[l][i])\n",
    "    for i in range(5):\n",
    "        x_ = 0 \n",
    "        for j in range(5):\n",
    "            x_ += dist(params_kernel32[l][i], params[l][j])\n",
    "        x.append(np.log(x_/denon))\n",
    "        y.append(acc_kernel32[l][i])\n",
    "    plt.errorbar([np.mean(x)], [np.mean(y)], xerr =[[np.mean(x) - np.min(x)], [np.max(x) - np.mean(x) ]],\n",
    "                 yerr = [[np.mean(y) - np.min(y)], [np.max(y) - np.mean(y)]], c='g', marker='.', markersize=10)\n",
    "    X.append(np.mean(x))\n",
    "    Y.append(np.mean(y))\n",
    "print (X, Y)\n",
    "    \n",
    "plt.plot(X, Y, c='g')    \n",
    "\n",
    "\n",
    "# kernel-5\n",
    "X = []\n",
    "Y = []\n",
    "for l in lamb:    \n",
    "    denon = 0\n",
    "    x = []\n",
    "    y = []\n",
    "    for i in range(5):\n",
    "        denon += dist(params[l][i])\n",
    "    for i in range(5):\n",
    "        x_ = 0 \n",
    "        for j in range(5):\n",
    "            x_ += dist(params_kernel52[l][i], params[l][j])\n",
    "        x.append(np.log(x_/denon))\n",
    "        y.append(acc_kernel52[l][i])\n",
    "    plt.errorbar([np.mean(x)], [np.mean(y)], xerr =[[np.mean(x) - np.min(x)], [np.max(x) - np.mean(x) ]],\n",
    "                 yerr = [[np.mean(y) - np.min(y)], [np.max(y) - np.mean(y)]], c='k', marker='.', markersize=10)\n",
    "    X.append(np.mean(x))\n",
    "    Y.append(np.mean(y))\n",
    "print (X, Y)\n",
    "plt.plot(X, Y, c='k') \n",
    "\n",
    "plt.ylim((0, 1))\n",
    "ax1.set_ylabel('Accuracy')\n",
    "ax1.set_xlabel('Deviation from basic model')\n",
    "ax2.set_ylabel('$log_{10}(\\lambda)$')\n",
    "#ax2.set_ylabel('sin', color='r')\n",
    "\n",
    "\n",
    "plt.savefig('wine_base_1.png', bbox_inches='tight')\n",
    "\n",
    "\n",
    "\n",
    "\n"
   ]
  },
  {
   "cell_type": "code",
   "execution_count": 262,
   "id": "1aa16871",
   "metadata": {},
   "outputs": [
    {
     "name": "stderr",
     "output_type": "stream",
     "text": [
      "/tmp/ipykernel_5610/2742663401.py:9: UserWarning: FixedFormatter should only be used together with FixedLocator\n",
      "  axes.set_yticklabels(['']+['base model', 'linear','linear + fine-tune', 'piece-wise', 'piece-wise + fine-tune'])\n"
     ]
    },
    {
     "data": {
      "image/png": "[encoded data removed]",
      "text/plain": [
       "<Figure size 864x648 with 1 Axes>"
      ]
     },
     "metadata": {},
     "output_type": "display_data"
    }
   ],
   "source": [
    "plt.rcParams['figure.figsize'] = (12,9)\n",
    "figure = plt.figure()\n",
    "axes = figure.add_subplot(111)\n",
    "\n",
    "matrix1 = np.vstack([params[100][0].flatten(), params_linear[100][0].flatten(),  params_linear2[100][0].flatten(), params_kernel[5][100][0].flatten(),  params_kernel52[100][0].flatten()])\n",
    "axes.matshow(matrix1, cmap='gray')\n",
    "plt.xlabel('Parameter matrix component number')\n",
    "#ax.set_yticklabels([])\n",
    "axes.set_yticklabels(['']+['base model', 'linear','linear + fine-tune', 'piece-wise', 'piece-wise + fine-tune'])\n",
    "\n",
    "\n",
    "plt.savefig('wine_matrix1.png', bbox_inches='tight')\n"
   ]
  },
  {
   "cell_type": "code",
   "execution_count": 263,
   "id": "7e7ebc86",
   "metadata": {},
   "outputs": [
    {
     "name": "stderr",
     "output_type": "stream",
     "text": [
      "/tmp/ipykernel_5610/476825305.py:9: UserWarning: FixedFormatter should only be used together with FixedLocator\n",
      "  axes.set_yticklabels(['']+['base model', 'linear','linear + fine-tune', 'piece-wise', 'piece-wise + fine-tune'])\n"
     ]
    },
    {
     "data": {
      "image/png": "[encoded data removed]",
      "text/plain": [
       "<Figure size 864x648 with 1 Axes>"
      ]
     },
     "metadata": {},
     "output_type": "display_data"
    }
   ],
   "source": [
    "plt.rcParams['figure.figsize'] = (12,9)\n",
    "figure = plt.figure()\n",
    "axes = figure.add_subplot(111)\n",
    "\n",
    "matrix1 = np.vstack([params[1000000][0].flatten(), params_linear[1000000][0].flatten(),  params_linear2[1000000][0].flatten(), params_kernel[5][1000000][0].flatten(),  params_kernel52[1000000][0].flatten()])\n",
    "axes.matshow(matrix1, cmap='gray')\n",
    "plt.xlabel('Parameter matrix component number')\n",
    "#ax.set_yticklabels([])\n",
    "axes.set_yticklabels(['']+['base model', 'linear','linear + fine-tune', 'piece-wise', 'piece-wise + fine-tune'])\n",
    "plt.savefig('wine_matrix2.png', bbox_inches='tight')"
   ]
  },
  {
   "cell_type": "code",
   "execution_count": null,
   "id": "d4c8baf5",
   "metadata": {},
   "outputs": [],
   "source": []
  },
  {
   "cell_type": "code",
   "execution_count": null,
   "id": "730ca148",
   "metadata": {},
   "outputs": [],
   "source": []
  },
  {
   "cell_type": "code",
   "execution_count": null,
   "id": "90a37066",
   "metadata": {},
   "outputs": [],
   "source": []
  },
  {
   "cell_type": "code",
   "execution_count": null,
   "id": "1ea1d35e",
   "metadata": {},
   "outputs": [],
   "source": []
  },
  {
   "cell_type": "code",
   "execution_count": null,
   "id": "603fc5b4",
   "metadata": {},
   "outputs": [],
   "source": []
  }
 ],
 "metadata": {
  "kernelspec": {
   "display_name": "Python 3 (ipykernel)",
   "language": "python",
   "name": "python3"
  },
  "language_info": {
   "codemirror_mode": {
    "name": "ipython",
    "version": 3
   },
   "file_extension": ".py",
   "mimetype": "text/x-python",
   "name": "python",
   "nbconvert_exporter": "python",
   "pygments_lexer": "ipython3",
   "version": "3.8.10"
  }
 },
 "nbformat": 4,
 "nbformat_minor": 5
}
