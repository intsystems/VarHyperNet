{
 "cells": [
  {
   "cell_type": "code",
   "execution_count": 1,
   "id": "b92dca31",
   "metadata": {},
   "outputs": [],
   "source": [
    "import torch as t \n",
    "import torchvision\n",
    "import numpy as np\n",
    "import torch.nn as nn\n",
    "import torch.nn.functional as F\n",
    "import torch.optim as optim\n",
    "import matplotlib.pylab as plt\n",
    "from torch.nn.utils import clip_grad_value_\n",
    "%matplotlib inline\n",
    "import pickle\n",
    "from torchvision import datasets, transforms\n",
    "import tqdm\n",
    "import os\n",
    "import sys\n",
    "sys.path.append('../src/')\n",
    "import importlib \n",
    "import kernel_hypernet as kernel_hypernet\n",
    "import var_net as var_net\n",
    "import utils as utils0\n",
    "importlib.reload(utils0)\n",
    "import mnist_utils as utils\n",
    "importlib.reload(utils)\n",
    "\n",
    "importlib.reload(var_net)\n",
    "importlib.reload(kernel_hypernet)\n",
    "import importlib \n",
    "import var_net as var_net\n",
    "import base_net as base_net\n",
    "import mnist_utils as utils\n",
    "importlib.reload(utils)\n",
    "importlib.reload(var_net)\n",
    "importlib.reload(base_net)\n",
    "\n",
    "\n",
    "\n",
    "import linear_var_hypernet as linear_var_hypernet"
   ]
  },
  {
   "cell_type": "code",
   "execution_count": 2,
   "id": "52090984",
   "metadata": {},
   "outputs": [],
   "source": [
    "import seaborn as sns\n",
    "sns.set('paper', style='white', font_scale=1.75)\n",
    "plt.rcParams['figure.figsize'] = (7,4.5)"
   ]
  },
  {
   "cell_type": "code",
   "execution_count": 3,
   "id": "a9c9eced",
   "metadata": {},
   "outputs": [],
   "source": [
    "from sklearn.datasets import load_wine\n",
    "from torch.utils.data import TensorDataset, DataLoader\n",
    "wine_X , wine_Y = load_wine(return_X_y=True)\n",
    "device = 'cpu'\n",
    "rs = np.random.RandomState(42)\n",
    "ids = list(range(len(wine_X)))\n",
    "rs.shuffle(ids)\n",
    "\n",
    "train_X, test_X = wine_X[ids[:len(ids)*4//5]], wine_X[ids[len(ids)*4//5:]]\n",
    "train_Y, test_Y = wine_Y[ids[:len(ids)*4//5]], wine_Y[ids[len(ids)*4//5:]]\n",
    "\n",
    "mean = np.mean(train_X, 0)\n",
    "std = np.std(train_X, 0)\n",
    "\n",
    "train_X = (train_X - mean)/std\n",
    "test_X = (test_X - mean)/std\n",
    "\n",
    "\n",
    "\n",
    "\n",
    "train_X = t.tensor(train_X).to(device)\n",
    "test_X = t.tensor(test_X).to(device)\n",
    "train_Y = t.tensor(train_Y).to(device)\n",
    "test_Y = t.tensor(test_Y).to(device)\n",
    "\n",
    "\n",
    "train_data = TensorDataset(train_X.float(),train_Y)\n",
    "train_loader = DataLoader(train_data) \n",
    "\n",
    "test_data = TensorDataset(test_X.float(),test_Y)\n",
    "test_loader = DataLoader(test_data) \n",
    "\n",
    "        "
   ]
  },
  {
   "cell_type": "code",
   "execution_count": 4,
   "id": "45ceb4f2",
   "metadata": {},
   "outputs": [
    {
     "name": "stderr",
     "output_type": "stream",
     "text": [
      "/home/leginpc/reps/VarHyperNet/code/wine/../src/var_net.py:31: UserWarning: nn.init.xavier_uniform is now deprecated in favor of nn.init.xavier_uniform_.\n",
      "  t.nn.init.xavier_uniform(self.mean)\n",
      "/home/leginpc/reps/VarHyperNet/code/wine/../src/linear_var_hypernet.py:162: UserWarning: nn.init.xavier_uniform is now deprecated in favor of nn.init.xavier_uniform_.\n",
      "  t.nn.init.xavier_uniform(self.const,  init_const)\n",
      "/home/leginpc/reps/VarHyperNet/code/wine/../src/linear_var_hypernet.py:164: UserWarning: nn.init.xavier_uniform is now deprecated in favor of nn.init.xavier_uniform_.\n",
      "  t.nn.init.xavier_uniform(self.const2,  init_const2)\n"
     ]
    }
   ],
   "source": [
    "init_log_sigma = -3.0\n",
    "params = {}\n",
    "params_linear = {}\n",
    "params_kernel = {}\n",
    "\n",
    "acc = {}\n",
    "acc_linear = {}\n",
    "acc_kernel = {}\n",
    "\n",
    "lambda_encode = lambda x: (t.log(x) - np.log(100.0))/(np.log(10**6) - np.log(100.0))\n",
    "\n",
    "\n",
    "\n",
    "lamb = [10**2, 10**3, 10**4, 10**5, 10**6]\n",
    "#lamb = [t.tensor(l) for l in lamb]\n",
    "device = 'cuda:0'\n",
    "prior_sigma = 1.0\n",
    "net = var_net.VarNet(var_net.VarLayer(13, 3, prior_sigma=prior_sigma,  init_log_sigma=init_log_sigma,\n",
    "                                          act=lambda x:x))\n",
    "\n",
    "\n",
    "for l in lamb:\n",
    "    params[l] = []\n",
    "    acc[l] = []\n",
    "    for i in range(5):\n",
    "        net.load_state_dict(t.load('./saved_wine/var_net_lam_{}_start_{}.cpk'.format(l, i)))\n",
    "        params[l].append((net[0].mean.cpu().detach().numpy().copy(), net[0].log_sigma.cpu().detach().numpy().copy()))\n",
    "        net.eval()\n",
    "        acc[l].append( ((1.0*t.eq(net(test_X.float()).argmax(1), test_Y)).mean().item()))\n",
    "        \n",
    "        \n",
    "net = var_net.VarNet( linear_var_hypernet.VarLayerLinearAppr(13, 3,  prior_sigma=prior_sigma, act=lambda x:x, init_log_sigma=init_log_sigma))\n",
    "\n",
    "\n",
    "for l in lamb:    \n",
    "    params_linear[l] = []\n",
    "    acc_linear[l] = []\n",
    "    for i in range(5):    \n",
    "        net.load_state_dict(t.load('./saved_wine/var_linear_start_{}.cpk'.format(i)))\n",
    "        net.eval()\n",
    "        params_linear[l].append((net[0].mean(lambda_encode(t.tensor(l))).detach().numpy().copy(), net[0].log_sigma(lambda_encode(t.tensor(l))).detach().numpy().copy()))\n",
    "        acc_linear[l].append( ((1.0*t.eq(net(test_X.float(), lambda_encode(t.tensor(l))).argmax(1), test_Y)).mean().item()))\n",
    "\n",
    "for k in range(2,6):\n",
    "    params_kernel[k] = {}\n",
    "    acc_kernel[k] = {}\n",
    "    for l in lamb:\n",
    "        params_kernel[k][l] = []\n",
    "        acc_kernel[k][l] = []\n",
    "        \n",
    "\n",
    "for k in [3,5]:    \n",
    "    net = var_net.VarNet(kernel_hypernet.VarKernelLayer(13, 3,   k, \n",
    "                                                    prior_sigma=prior_sigma, act=lambda x:x, init_log_sigma=init_log_sigma))\n",
    "    for l in lamb:        \n",
    "        for i in range(5):\n",
    "            net.load_state_dict(t.load('./saved_wine/var_kernel_{}_start_{}.cpk'.format(k, i)))\n",
    "            net.eval()\n",
    "            params_kernel[k][l].append((net[0].mean(lambda_encode(t.tensor(l))).detach().numpy().copy(),\n",
    "                                      net[0].log_sigma(lambda_encode(t.tensor(l))).detach().numpy().copy()))\n",
    "            acc_kernel[k][l].append( ((1.0*t.eq(net(test_X.float(), lambda_encode(t.tensor(l))).argmax(1), test_Y)).mean().item()))\n",
    "        "
   ]
  },
  {
   "cell_type": "code",
   "execution_count": 5,
   "id": "eb921835",
   "metadata": {},
   "outputs": [],
   "source": [
    "def dist(q, p=None):\n",
    "    if p is None:\n",
    "        p = (0.0, 0.0)\n",
    "    d1 = t.distributions.Normal(t.tensor(q[0]), t.exp(2*t.tensor(q[1])))\n",
    "    d2 = t.distributions.Normal(t.tensor(p[0]), t.exp(2*t.tensor(p[1])))\n",
    "    return (t.distributions.kl_divergence(d1,d2) * 0.5 + t.distributions.kl_divergence(d2,d1) * 0.5).sum()\n"
   ]
  },
  {
   "cell_type": "code",
   "execution_count": 6,
   "id": "ef93a011",
   "metadata": {},
   "outputs": [
    {
     "data": {
      "text/plain": [
       "(array([[ 1.64667016e-03, -7.69038219e-04, -8.66071030e-04],\n",
       "        [-4.31881694e-04,  1.64793440e-04, -3.28895294e-05],\n",
       "        [ 2.16229935e-04,  3.97329160e-04, -8.25106748e-04],\n",
       "        [-1.14587764e-03,  7.62979034e-04,  2.71943660e-04],\n",
       "        [ 1.33064619e-04,  9.63019615e-04, -9.54397721e-04],\n",
       "        [ 7.98346184e-04,  1.42576042e-04, -9.72859620e-04],\n",
       "        [ 6.20766252e-04, -4.25145932e-04, -6.71399641e-04],\n",
       "        [-2.82682358e-05, -5.77228668e-04,  3.51716793e-04],\n",
       "        [ 1.16102991e-03,  2.02463285e-04, -7.79926195e-04],\n",
       "        [ 1.37256959e-03, -7.46550795e-04, -7.80553208e-04],\n",
       "        [-1.60223048e-04,  2.09082878e-04,  2.67580501e-04],\n",
       "        [-4.64245677e-04, -1.06036976e-04,  3.68276931e-04],\n",
       "        [ 1.37075817e-03, -4.09066924e-05, -1.19701633e-03]], dtype=float32),\n",
       " array([[ 1.65093064e-04, -3.25019733e-04, -1.56009002e-04],\n",
       "        [ 3.09576862e-04, -1.60537456e-05,  2.39766276e-04],\n",
       "        [-1.47522456e-04, -1.04696715e-04, -1.79898889e-05],\n",
       "        [-2.48610333e-04,  4.14155420e-06,  3.83297505e-04],\n",
       "        [-3.18483872e-05, -1.03531689e-04,  1.78138376e-04],\n",
       "        [ 2.12098254e-04, -4.45856131e-04,  1.94060602e-04],\n",
       "        [-3.57844605e-04, -1.01533749e-06, -1.05085768e-04],\n",
       "        [ 4.62798809e-04,  3.07036360e-04,  2.94135360e-04],\n",
       "        [ 2.56498432e-04, -3.73267423e-04, -1.30559551e-04],\n",
       "        [ 3.01423745e-04, -1.77262787e-04, -2.79377673e-05],\n",
       "        [-5.79916959e-05, -2.47711578e-04,  9.02625325e-05],\n",
       "        [-1.64372279e-04, -2.99168518e-04,  3.95884970e-04],\n",
       "        [-3.24445173e-05, -8.29880883e-05, -6.44167958e-05]], dtype=float32))"
      ]
     },
     "execution_count": 6,
     "metadata": {},
     "output_type": "execute_result"
    }
   ],
   "source": [
    "params_kernel[5][l][i]"
   ]
  },
  {
   "cell_type": "code",
   "execution_count": 6,
   "id": "af76446d",
   "metadata": {},
   "outputs": [
    {
     "data": {
      "image/png": "[encoded data removed]",
      "text/plain": [
       "<Figure size 504x324 with 2 Axes>"
      ]
     },
     "metadata": {},
     "output_type": "display_data"
    }
   ],
   "source": [
    "fig, ax1 = plt.subplots()\n",
    "ax2 = ax1.twinx()\n",
    "\n",
    "### nets\n",
    "X = []\n",
    "Y = []\n",
    "for l in lamb:    \n",
    "    denon = 0\n",
    "    x = []\n",
    "    y = []\n",
    "    for i in range(5):\n",
    "        denon += dist(params[l][i])\n",
    "    for i in range(5):\n",
    "        x_ = 0 \n",
    "        for j in range(5):\n",
    "            x_ += dist(params[l][i], params[l][j])\n",
    "        denon = 1\n",
    "        x.append(np.log(x_/denon))\n",
    "        y.append(acc[l][i])\n",
    "    #plt.errorbar([np.mean(x)], [np.mean(y)], xerr =[[np.mean(x) - np.min(x)], [np.max(x) - np.mean(x) ]],\n",
    "    #             yerr = [[np.mean(y) - np.min(y)], [np.max(y) - np.mean(y)]], marker='.', c='r', markersize=10)\n",
    "    X.append(np.mean(x))\n",
    "    plt.axhline(np.mean(y),  linestyle = 'dashed', color = 'gray', label = 'Model without hypernetwork' if l == 10**2 else \"\")\n",
    "    Y.append(np.mean(y))\n",
    "#plt.plot(X, Y, c='r')\n",
    "ax2.set_yticks(Y)\n",
    "ax2.set_yticklabels(['2', '', '4', '5', '6'])    \n",
    "    \n",
    "\n",
    "# linear\n",
    "X = []\n",
    "Y = []\n",
    "for l in lamb:    \n",
    "    denon = 0\n",
    "    x = []\n",
    "    y = []\n",
    "    for i in range(5):\n",
    "        denon += dist(params[l][i])\n",
    "    for i in range(5):\n",
    "        x_ = 0 \n",
    "        for j in range(5):\n",
    "            x_ += dist(params_linear[l][i], params[l][j])\n",
    "        denon = 1\n",
    "        x.append((x_/denon))\n",
    "        y.append(acc_linear[l][i])\n",
    "    #plt.plot([np.mean(x)], [np.mean(y)], c='b', marker='.', markersize=10)\n",
    "    X.append(np.mean(x))\n",
    "    Y.append(np.mean(y))\n",
    "    \n",
    "plt.plot(X, Y, c='b',label= 'linear model', linewidth=2) \n",
    "\n",
    "   \n",
    "\n",
    "\n",
    "# kernel-5\n",
    "X = []\n",
    "Y = []\n",
    "for l in lamb:    \n",
    "    denon = 0\n",
    "    x = []\n",
    "    y = []\n",
    "    for i in range(5):\n",
    "        denon += dist(params[l][i])\n",
    "    for i in range(5):\n",
    "        x_ = 0 \n",
    "        for j in range(5):\n",
    "            x_ += dist(params_kernel[5][l][i], params[l][j])\n",
    "        x.append((x_/denon))\n",
    "        y.append(acc_kernel[5][l][i])\n",
    "    X.append(np.mean(x))\n",
    "    Y.append(np.mean(y))\n",
    "plt.plot(X, Y, c='k', label=  'piecewise-linear model', linewidth=2 )       \n",
    "\n",
    "plt.ylim((0, 1))\n",
    "ax1.grid()\n",
    "ax1.set_ylabel('Accuracy')\n",
    "ax1.set_xlabel('log Deviation from model without hypernetwork')\n",
    "ax2.set_ylabel('$log_{10}(\\lambda)$')\n",
    "#ax2.set_ylabel('sin', color='r')\n",
    "plt.legend()\n",
    "\n",
    "\n",
    "plt.savefig('wine_net_1.png', bbox_inches='tight')\n",
    "\n"
   ]
  },
  {
   "cell_type": "code",
   "execution_count": null,
   "id": "ea07ee55",
   "metadata": {},
   "outputs": [],
   "source": []
  },
  {
   "cell_type": "code",
   "execution_count": 7,
   "id": "84695be5",
   "metadata": {
    "scrolled": true
   },
   "outputs": [
    {
     "data": {
      "application/vnd.jupyter.widget-view+json": {
       "model_id": "8be0a6c3e84d4fa5b473576658e170c9",
       "version_major": 2,
       "version_minor": 0
      },
      "text/plain": [
       "  0%|          | 0/142 [00:00<?, ?it/s]"
      ]
     },
     "metadata": {},
     "output_type": "display_data"
    },
    {
     "data": {
      "application/vnd.jupyter.widget-view+json": {
       "model_id": "4582c79940b84183bd8e08d01d05e89c",
       "version_major": 2,
       "version_minor": 0
      },
      "text/plain": [
       "  0%|          | 0/142 [00:00<?, ?it/s]"
      ]
     },
     "metadata": {},
     "output_type": "display_data"
    },
    {
     "data": {
      "application/vnd.jupyter.widget-view+json": {
       "model_id": "19e83e320a5a41bca754c84e9d97cd71",
       "version_major": 2,
       "version_minor": 0
      },
      "text/plain": [
       "  0%|          | 0/142 [00:00<?, ?it/s]"
      ]
     },
     "metadata": {},
     "output_type": "display_data"
    },
    {
     "data": {
      "application/vnd.jupyter.widget-view+json": {
       "model_id": "596b2726ebdc4eec823cfc00ee48a2cc",
       "version_major": 2,
       "version_minor": 0
      },
      "text/plain": [
       "  0%|          | 0/142 [00:00<?, ?it/s]"
      ]
     },
     "metadata": {},
     "output_type": "display_data"
    },
    {
     "data": {
      "application/vnd.jupyter.widget-view+json": {
       "model_id": "5de75900e54a42f99be489829e274ebf",
       "version_major": 2,
       "version_minor": 0
      },
      "text/plain": [
       "  0%|          | 0/142 [00:00<?, ?it/s]"
      ]
     },
     "metadata": {},
     "output_type": "display_data"
    },
    {
     "data": {
      "application/vnd.jupyter.widget-view+json": {
       "model_id": "a39e29e245e24b65a8a7660f1383ab13",
       "version_major": 2,
       "version_minor": 0
      },
      "text/plain": [
       "  0%|          | 0/142 [00:00<?, ?it/s]"
      ]
     },
     "metadata": {},
     "output_type": "display_data"
    },
    {
     "data": {
      "application/vnd.jupyter.widget-view+json": {
       "model_id": "43017c4e56234761a29b43fccd4d639c",
       "version_major": 2,
       "version_minor": 0
      },
      "text/plain": [
       "  0%|          | 0/142 [00:00<?, ?it/s]"
      ]
     },
     "metadata": {},
     "output_type": "display_data"
    },
    {
     "data": {
      "application/vnd.jupyter.widget-view+json": {
       "model_id": "d0019ec271a44c18ad22939c6a639466",
       "version_major": 2,
       "version_minor": 0
      },
      "text/plain": [
       "  0%|          | 0/142 [00:00<?, ?it/s]"
      ]
     },
     "metadata": {},
     "output_type": "display_data"
    },
    {
     "data": {
      "application/vnd.jupyter.widget-view+json": {
       "model_id": "a5088941f759474ab68885ac6dcf3e9c",
       "version_major": 2,
       "version_minor": 0
      },
      "text/plain": [
       "  0%|          | 0/142 [00:00<?, ?it/s]"
      ]
     },
     "metadata": {},
     "output_type": "display_data"
    },
    {
     "data": {
      "application/vnd.jupyter.widget-view+json": {
       "model_id": "7e466db836d446f3acde430960977dd9",
       "version_major": 2,
       "version_minor": 0
      },
      "text/plain": [
       "  0%|          | 0/142 [00:00<?, ?it/s]"
      ]
     },
     "metadata": {},
     "output_type": "display_data"
    },
    {
     "data": {
      "application/vnd.jupyter.widget-view+json": {
       "model_id": "92d2ffa09ab443d9bc81061fad66ccdc",
       "version_major": 2,
       "version_minor": 0
      },
      "text/plain": [
       "  0%|          | 0/142 [00:00<?, ?it/s]"
      ]
     },
     "metadata": {},
     "output_type": "display_data"
    },
    {
     "data": {
      "application/vnd.jupyter.widget-view+json": {
       "model_id": "6382725b440c46278edc956e19b36292",
       "version_major": 2,
       "version_minor": 0
      },
      "text/plain": [
       "  0%|          | 0/142 [00:00<?, ?it/s]"
      ]
     },
     "metadata": {},
     "output_type": "display_data"
    },
    {
     "data": {
      "application/vnd.jupyter.widget-view+json": {
       "model_id": "c06bfb4ce79c4c54b2c010597ca973a1",
       "version_major": 2,
       "version_minor": 0
      },
      "text/plain": [
       "  0%|          | 0/142 [00:00<?, ?it/s]"
      ]
     },
     "metadata": {},
     "output_type": "display_data"
    },
    {
     "data": {
      "application/vnd.jupyter.widget-view+json": {
       "model_id": "5649e3b719ac45edb497848a8b6b6998",
       "version_major": 2,
       "version_minor": 0
      },
      "text/plain": [
       "  0%|          | 0/142 [00:00<?, ?it/s]"
      ]
     },
     "metadata": {},
     "output_type": "display_data"
    },
    {
     "data": {
      "application/vnd.jupyter.widget-view+json": {
       "model_id": "eb1e11a33f794ca1b597211c2ff7d35e",
       "version_major": 2,
       "version_minor": 0
      },
      "text/plain": [
       "  0%|          | 0/142 [00:00<?, ?it/s]"
      ]
     },
     "metadata": {},
     "output_type": "display_data"
    },
    {
     "data": {
      "application/vnd.jupyter.widget-view+json": {
       "model_id": "6083dc5a45144a7aa64e7d49a19b1056",
       "version_major": 2,
       "version_minor": 0
      },
      "text/plain": [
       "  0%|          | 0/142 [00:00<?, ?it/s]"
      ]
     },
     "metadata": {},
     "output_type": "display_data"
    },
    {
     "data": {
      "application/vnd.jupyter.widget-view+json": {
       "model_id": "784ec1acb3e749e6b25d10b93ece2ed7",
       "version_major": 2,
       "version_minor": 0
      },
      "text/plain": [
       "  0%|          | 0/142 [00:00<?, ?it/s]"
      ]
     },
     "metadata": {},
     "output_type": "display_data"
    },
    {
     "data": {
      "application/vnd.jupyter.widget-view+json": {
       "model_id": "39bcb43fb5804dc0aa3a848b2dd431ca",
       "version_major": 2,
       "version_minor": 0
      },
      "text/plain": [
       "  0%|          | 0/142 [00:00<?, ?it/s]"
      ]
     },
     "metadata": {},
     "output_type": "display_data"
    },
    {
     "data": {
      "application/vnd.jupyter.widget-view+json": {
       "model_id": "31c0834dddc4494c983b3849db7a5534",
       "version_major": 2,
       "version_minor": 0
      },
      "text/plain": [
       "  0%|          | 0/142 [00:00<?, ?it/s]"
      ]
     },
     "metadata": {},
     "output_type": "display_data"
    },
    {
     "data": {
      "application/vnd.jupyter.widget-view+json": {
       "model_id": "dc94166647a9418e80b779c39db8eded",
       "version_major": 2,
       "version_minor": 0
      },
      "text/plain": [
       "  0%|          | 0/142 [00:00<?, ?it/s]"
      ]
     },
     "metadata": {},
     "output_type": "display_data"
    },
    {
     "data": {
      "application/vnd.jupyter.widget-view+json": {
       "model_id": "c12aebb3f2404ef0ac26f5a4e0fe6f76",
       "version_major": 2,
       "version_minor": 0
      },
      "text/plain": [
       "  0%|          | 0/142 [00:00<?, ?it/s]"
      ]
     },
     "metadata": {},
     "output_type": "display_data"
    },
    {
     "data": {
      "application/vnd.jupyter.widget-view+json": {
       "model_id": "e0678262a35b4161925f374ee831163b",
       "version_major": 2,
       "version_minor": 0
      },
      "text/plain": [
       "  0%|          | 0/142 [00:00<?, ?it/s]"
      ]
     },
     "metadata": {},
     "output_type": "display_data"
    },
    {
     "data": {
      "application/vnd.jupyter.widget-view+json": {
       "model_id": "d39089a1a02b4e25abafb6660cdfe163",
       "version_major": 2,
       "version_minor": 0
      },
      "text/plain": [
       "  0%|          | 0/142 [00:00<?, ?it/s]"
      ]
     },
     "metadata": {},
     "output_type": "display_data"
    },
    {
     "data": {
      "application/vnd.jupyter.widget-view+json": {
       "model_id": "c6a5405de97b4685a963b6a556469277",
       "version_major": 2,
       "version_minor": 0
      },
      "text/plain": [
       "  0%|          | 0/142 [00:00<?, ?it/s]"
      ]
     },
     "metadata": {},
     "output_type": "display_data"
    },
    {
     "data": {
      "application/vnd.jupyter.widget-view+json": {
       "model_id": "fabc5330d89142e7bf679641807b8ed5",
       "version_major": 2,
       "version_minor": 0
      },
      "text/plain": [
       "  0%|          | 0/142 [00:00<?, ?it/s]"
      ]
     },
     "metadata": {},
     "output_type": "display_data"
    },
    {
     "data": {
      "application/vnd.jupyter.widget-view+json": {
       "model_id": "e7c2b393befe4f7288bc64c6c022609a",
       "version_major": 2,
       "version_minor": 0
      },
      "text/plain": [
       "  0%|          | 0/142 [00:00<?, ?it/s]"
      ]
     },
     "metadata": {},
     "output_type": "display_data"
    },
    {
     "data": {
      "application/vnd.jupyter.widget-view+json": {
       "model_id": "2a4fb4f6632e4b90b365f1a2a30d12aa",
       "version_major": 2,
       "version_minor": 0
      },
      "text/plain": [
       "  0%|          | 0/142 [00:00<?, ?it/s]"
      ]
     },
     "metadata": {},
     "output_type": "display_data"
    },
    {
     "data": {
      "application/vnd.jupyter.widget-view+json": {
       "model_id": "68fdcdf5e49041c9888fedcaf3237e81",
       "version_major": 2,
       "version_minor": 0
      },
      "text/plain": [
       "  0%|          | 0/142 [00:00<?, ?it/s]"
      ]
     },
     "metadata": {},
     "output_type": "display_data"
    },
    {
     "data": {
      "application/vnd.jupyter.widget-view+json": {
       "model_id": "9f1cd480010949d9b3422c769aa5a0c5",
       "version_major": 2,
       "version_minor": 0
      },
      "text/plain": [
       "  0%|          | 0/142 [00:00<?, ?it/s]"
      ]
     },
     "metadata": {},
     "output_type": "display_data"
    },
    {
     "data": {
      "application/vnd.jupyter.widget-view+json": {
       "model_id": "afb50476ad2e4cb48604a48d6e48c584",
       "version_major": 2,
       "version_minor": 0
      },
      "text/plain": [
       "  0%|          | 0/142 [00:00<?, ?it/s]"
      ]
     },
     "metadata": {},
     "output_type": "display_data"
    },
    {
     "data": {
      "application/vnd.jupyter.widget-view+json": {
       "model_id": "ba8a7c465e5c4d1c87f9672985b51fba",
       "version_major": 2,
       "version_minor": 0
      },
      "text/plain": [
       "  0%|          | 0/142 [00:00<?, ?it/s]"
      ]
     },
     "metadata": {},
     "output_type": "display_data"
    },
    {
     "data": {
      "application/vnd.jupyter.widget-view+json": {
       "model_id": "ffbba38164584f9b8ca2d269c296d8a2",
       "version_major": 2,
       "version_minor": 0
      },
      "text/plain": [
       "  0%|          | 0/142 [00:00<?, ?it/s]"
      ]
     },
     "metadata": {},
     "output_type": "display_data"
    },
    {
     "data": {
      "application/vnd.jupyter.widget-view+json": {
       "model_id": "08492059cd6b43b3bdf39609bdc8742f",
       "version_major": 2,
       "version_minor": 0
      },
      "text/plain": [
       "  0%|          | 0/142 [00:00<?, ?it/s]"
      ]
     },
     "metadata": {},
     "output_type": "display_data"
    },
    {
     "data": {
      "application/vnd.jupyter.widget-view+json": {
       "model_id": "49b198a2787648c0b9778f0079d6be67",
       "version_major": 2,
       "version_minor": 0
      },
      "text/plain": [
       "  0%|          | 0/142 [00:00<?, ?it/s]"
      ]
     },
     "metadata": {},
     "output_type": "display_data"
    },
    {
     "data": {
      "application/vnd.jupyter.widget-view+json": {
       "model_id": "d0734ced37954e5da923cc0452e5830d",
       "version_major": 2,
       "version_minor": 0
      },
      "text/plain": [
       "  0%|          | 0/142 [00:00<?, ?it/s]"
      ]
     },
     "metadata": {},
     "output_type": "display_data"
    },
    {
     "data": {
      "application/vnd.jupyter.widget-view+json": {
       "model_id": "3070803a901f4369819a11f8354b08c5",
       "version_major": 2,
       "version_minor": 0
      },
      "text/plain": [
       "  0%|          | 0/142 [00:00<?, ?it/s]"
      ]
     },
     "metadata": {},
     "output_type": "display_data"
    },
    {
     "data": {
      "application/vnd.jupyter.widget-view+json": {
       "model_id": "20498ef8ef81462fa8f32c8649e8557d",
       "version_major": 2,
       "version_minor": 0
      },
      "text/plain": [
       "  0%|          | 0/142 [00:00<?, ?it/s]"
      ]
     },
     "metadata": {},
     "output_type": "display_data"
    },
    {
     "data": {
      "application/vnd.jupyter.widget-view+json": {
       "model_id": "b36dff67d74249c4b70d3673097150ec",
       "version_major": 2,
       "version_minor": 0
      },
      "text/plain": [
       "  0%|          | 0/142 [00:00<?, ?it/s]"
      ]
     },
     "metadata": {},
     "output_type": "display_data"
    },
    {
     "data": {
      "application/vnd.jupyter.widget-view+json": {
       "model_id": "8a4ab4cffcda44fdad1269a62d81c6cf",
       "version_major": 2,
       "version_minor": 0
      },
      "text/plain": [
       "  0%|          | 0/142 [00:00<?, ?it/s]"
      ]
     },
     "metadata": {},
     "output_type": "display_data"
    },
    {
     "data": {
      "application/vnd.jupyter.widget-view+json": {
       "model_id": "3d3c75bb79834cd6a5c9fb7fb3fa79ac",
       "version_major": 2,
       "version_minor": 0
      },
      "text/plain": [
       "  0%|          | 0/142 [00:00<?, ?it/s]"
      ]
     },
     "metadata": {},
     "output_type": "display_data"
    },
    {
     "data": {
      "application/vnd.jupyter.widget-view+json": {
       "model_id": "41a17fdccbff4a2e8e1e1a91c4d42bda",
       "version_major": 2,
       "version_minor": 0
      },
      "text/plain": [
       "  0%|          | 0/142 [00:00<?, ?it/s]"
      ]
     },
     "metadata": {},
     "output_type": "display_data"
    },
    {
     "data": {
      "application/vnd.jupyter.widget-view+json": {
       "model_id": "06cdd99ddc524e22bae2dc9a277e7909",
       "version_major": 2,
       "version_minor": 0
      },
      "text/plain": [
       "  0%|          | 0/142 [00:00<?, ?it/s]"
      ]
     },
     "metadata": {},
     "output_type": "display_data"
    },
    {
     "data": {
      "application/vnd.jupyter.widget-view+json": {
       "model_id": "7ef3818b226b4dbfbdf7dbecccbc3464",
       "version_major": 2,
       "version_minor": 0
      },
      "text/plain": [
       "  0%|          | 0/142 [00:00<?, ?it/s]"
      ]
     },
     "metadata": {},
     "output_type": "display_data"
    },
    {
     "data": {
      "application/vnd.jupyter.widget-view+json": {
       "model_id": "8907f90bbcf849d1bc9edd86d390d7e0",
       "version_major": 2,
       "version_minor": 0
      },
      "text/plain": [
       "  0%|          | 0/142 [00:00<?, ?it/s]"
      ]
     },
     "metadata": {},
     "output_type": "display_data"
    },
    {
     "data": {
      "application/vnd.jupyter.widget-view+json": {
       "model_id": "410cd0ddea69460da67603fe85d7237b",
       "version_major": 2,
       "version_minor": 0
      },
      "text/plain": [
       "  0%|          | 0/142 [00:00<?, ?it/s]"
      ]
     },
     "metadata": {},
     "output_type": "display_data"
    },
    {
     "data": {
      "application/vnd.jupyter.widget-view+json": {
       "model_id": "cfba40c579e04effb1260ef95e60153e",
       "version_major": 2,
       "version_minor": 0
      },
      "text/plain": [
       "  0%|          | 0/142 [00:00<?, ?it/s]"
      ]
     },
     "metadata": {},
     "output_type": "display_data"
    },
    {
     "data": {
      "application/vnd.jupyter.widget-view+json": {
       "model_id": "046e3c9d9a3d462cb27bd20a199e3bd3",
       "version_major": 2,
       "version_minor": 0
      },
      "text/plain": [
       "  0%|          | 0/142 [00:00<?, ?it/s]"
      ]
     },
     "metadata": {},
     "output_type": "display_data"
    },
    {
     "data": {
      "application/vnd.jupyter.widget-view+json": {
       "model_id": "ce36c1fad11542f695a4ffcb2710abb9",
       "version_major": 2,
       "version_minor": 0
      },
      "text/plain": [
       "  0%|          | 0/142 [00:00<?, ?it/s]"
      ]
     },
     "metadata": {},
     "output_type": "display_data"
    },
    {
     "data": {
      "application/vnd.jupyter.widget-view+json": {
       "model_id": "8d4e014044b64331b0dca5fba0cb05f9",
       "version_major": 2,
       "version_minor": 0
      },
      "text/plain": [
       "  0%|          | 0/142 [00:00<?, ?it/s]"
      ]
     },
     "metadata": {},
     "output_type": "display_data"
    },
    {
     "data": {
      "application/vnd.jupyter.widget-view+json": {
       "model_id": "dfb84bcfd1de4e1894bfd7f7ead6ccda",
       "version_major": 2,
       "version_minor": 0
      },
      "text/plain": [
       "  0%|          | 0/142 [00:00<?, ?it/s]"
      ]
     },
     "metadata": {},
     "output_type": "display_data"
    },
    {
     "data": {
      "application/vnd.jupyter.widget-view+json": {
       "model_id": "743b3d2dd0b1439c82e03de87e9d95d9",
       "version_major": 2,
       "version_minor": 0
      },
      "text/plain": [
       "  0%|          | 0/142 [00:00<?, ?it/s]"
      ]
     },
     "metadata": {},
     "output_type": "display_data"
    },
    {
     "data": {
      "application/vnd.jupyter.widget-view+json": {
       "model_id": "008bd9ee935e43088188d31d5041a65d",
       "version_major": 2,
       "version_minor": 0
      },
      "text/plain": [
       "  0%|          | 0/142 [00:00<?, ?it/s]"
      ]
     },
     "metadata": {},
     "output_type": "display_data"
    },
    {
     "data": {
      "application/vnd.jupyter.widget-view+json": {
       "model_id": "92aa500e53584e1caba0031b134fecb3",
       "version_major": 2,
       "version_minor": 0
      },
      "text/plain": [
       "  0%|          | 0/142 [00:00<?, ?it/s]"
      ]
     },
     "metadata": {},
     "output_type": "display_data"
    },
    {
     "data": {
      "application/vnd.jupyter.widget-view+json": {
       "model_id": "e318e8730ac14731982bc6d05c40c1c2",
       "version_major": 2,
       "version_minor": 0
      },
      "text/plain": [
       "  0%|          | 0/142 [00:00<?, ?it/s]"
      ]
     },
     "metadata": {},
     "output_type": "display_data"
    },
    {
     "data": {
      "application/vnd.jupyter.widget-view+json": {
       "model_id": "c782ab0f3c43406b940a2cd7c440d558",
       "version_major": 2,
       "version_minor": 0
      },
      "text/plain": [
       "  0%|          | 0/142 [00:00<?, ?it/s]"
      ]
     },
     "metadata": {},
     "output_type": "display_data"
    },
    {
     "data": {
      "application/vnd.jupyter.widget-view+json": {
       "model_id": "bac810689f6844a8bbbdec58a0ba279f",
       "version_major": 2,
       "version_minor": 0
      },
      "text/plain": [
       "  0%|          | 0/142 [00:00<?, ?it/s]"
      ]
     },
     "metadata": {},
     "output_type": "display_data"
    },
    {
     "data": {
      "application/vnd.jupyter.widget-view+json": {
       "model_id": "5b84fc4637a14c66bf4bd4b3b25aa12d",
       "version_major": 2,
       "version_minor": 0
      },
      "text/plain": [
       "  0%|          | 0/142 [00:00<?, ?it/s]"
      ]
     },
     "metadata": {},
     "output_type": "display_data"
    },
    {
     "data": {
      "application/vnd.jupyter.widget-view+json": {
       "model_id": "15fefc4fa4014d3f88f74168dea30928",
       "version_major": 2,
       "version_minor": 0
      },
      "text/plain": [
       "  0%|          | 0/142 [00:00<?, ?it/s]"
      ]
     },
     "metadata": {},
     "output_type": "display_data"
    },
    {
     "data": {
      "application/vnd.jupyter.widget-view+json": {
       "model_id": "297120f8711f485a9a40ec6bff23096b",
       "version_major": 2,
       "version_minor": 0
      },
      "text/plain": [
       "  0%|          | 0/142 [00:00<?, ?it/s]"
      ]
     },
     "metadata": {},
     "output_type": "display_data"
    },
    {
     "data": {
      "application/vnd.jupyter.widget-view+json": {
       "model_id": "832d5877ab7d4840bdc18bcc144da162",
       "version_major": 2,
       "version_minor": 0
      },
      "text/plain": [
       "  0%|          | 0/142 [00:00<?, ?it/s]"
      ]
     },
     "metadata": {},
     "output_type": "display_data"
    },
    {
     "data": {
      "application/vnd.jupyter.widget-view+json": {
       "model_id": "93bb20ea3edf41d2b00ad17f76842ee8",
       "version_major": 2,
       "version_minor": 0
      },
      "text/plain": [
       "  0%|          | 0/142 [00:00<?, ?it/s]"
      ]
     },
     "metadata": {},
     "output_type": "display_data"
    },
    {
     "data": {
      "application/vnd.jupyter.widget-view+json": {
       "model_id": "1b84447a94234f669720cefeb66bab63",
       "version_major": 2,
       "version_minor": 0
      },
      "text/plain": [
       "  0%|          | 0/142 [00:00<?, ?it/s]"
      ]
     },
     "metadata": {},
     "output_type": "display_data"
    },
    {
     "data": {
      "application/vnd.jupyter.widget-view+json": {
       "model_id": "7e8ea2815f594e659be19d12f4752a66",
       "version_major": 2,
       "version_minor": 0
      },
      "text/plain": [
       "  0%|          | 0/142 [00:00<?, ?it/s]"
      ]
     },
     "metadata": {},
     "output_type": "display_data"
    },
    {
     "data": {
      "application/vnd.jupyter.widget-view+json": {
       "model_id": "afdebe5a9f5f4b768188470d184040e2",
       "version_major": 2,
       "version_minor": 0
      },
      "text/plain": [
       "  0%|          | 0/142 [00:00<?, ?it/s]"
      ]
     },
     "metadata": {},
     "output_type": "display_data"
    },
    {
     "data": {
      "application/vnd.jupyter.widget-view+json": {
       "model_id": "b22815cf079a48b8a248fa7a6fea865a",
       "version_major": 2,
       "version_minor": 0
      },
      "text/plain": [
       "  0%|          | 0/142 [00:00<?, ?it/s]"
      ]
     },
     "metadata": {},
     "output_type": "display_data"
    },
    {
     "data": {
      "application/vnd.jupyter.widget-view+json": {
       "model_id": "a2d6de2e80fd49e98f5906a60f949c5e",
       "version_major": 2,
       "version_minor": 0
      },
      "text/plain": [
       "  0%|          | 0/142 [00:00<?, ?it/s]"
      ]
     },
     "metadata": {},
     "output_type": "display_data"
    },
    {
     "data": {
      "application/vnd.jupyter.widget-view+json": {
       "model_id": "10a46fe4bc0c4685b917dda789400bd1",
       "version_major": 2,
       "version_minor": 0
      },
      "text/plain": [
       "  0%|          | 0/142 [00:00<?, ?it/s]"
      ]
     },
     "metadata": {},
     "output_type": "display_data"
    },
    {
     "data": {
      "application/vnd.jupyter.widget-view+json": {
       "model_id": "b21a07317df04244bb6d7ac6a97ea275",
       "version_major": 2,
       "version_minor": 0
      },
      "text/plain": [
       "  0%|          | 0/142 [00:00<?, ?it/s]"
      ]
     },
     "metadata": {},
     "output_type": "display_data"
    },
    {
     "data": {
      "application/vnd.jupyter.widget-view+json": {
       "model_id": "ca040ad958764903a21e209d07f87cf8",
       "version_major": 2,
       "version_minor": 0
      },
      "text/plain": [
       "  0%|          | 0/142 [00:00<?, ?it/s]"
      ]
     },
     "metadata": {},
     "output_type": "display_data"
    },
    {
     "data": {
      "application/vnd.jupyter.widget-view+json": {
       "model_id": "9c0607b614724048a0f7e709c2035039",
       "version_major": 2,
       "version_minor": 0
      },
      "text/plain": [
       "  0%|          | 0/142 [00:00<?, ?it/s]"
      ]
     },
     "metadata": {},
     "output_type": "display_data"
    },
    {
     "data": {
      "application/vnd.jupyter.widget-view+json": {
       "model_id": "9cc140f83b0442fa958f581dafe6b1b6",
       "version_major": 2,
       "version_minor": 0
      },
      "text/plain": [
       "  0%|          | 0/142 [00:00<?, ?it/s]"
      ]
     },
     "metadata": {},
     "output_type": "display_data"
    },
    {
     "data": {
      "application/vnd.jupyter.widget-view+json": {
       "model_id": "2d19d0b6a9ab425f843945d2329170ce",
       "version_major": 2,
       "version_minor": 0
      },
      "text/plain": [
       "  0%|          | 0/142 [00:00<?, ?it/s]"
      ]
     },
     "metadata": {},
     "output_type": "display_data"
    },
    {
     "data": {
      "application/vnd.jupyter.widget-view+json": {
       "model_id": "f65957ae496541bf97fe81fcebf12541",
       "version_major": 2,
       "version_minor": 0
      },
      "text/plain": [
       "  0%|          | 0/142 [00:00<?, ?it/s]"
      ]
     },
     "metadata": {},
     "output_type": "display_data"
    },
    {
     "data": {
      "application/vnd.jupyter.widget-view+json": {
       "model_id": "8dbcc7a8f9fe4c048fc5b73d706485c8",
       "version_major": 2,
       "version_minor": 0
      },
      "text/plain": [
       "  0%|          | 0/142 [00:00<?, ?it/s]"
      ]
     },
     "metadata": {},
     "output_type": "display_data"
    },
    {
     "data": {
      "application/vnd.jupyter.widget-view+json": {
       "model_id": "8f9c7456d15a4440afb60a2715671bbc",
       "version_major": 2,
       "version_minor": 0
      },
      "text/plain": [
       "  0%|          | 0/142 [00:00<?, ?it/s]"
      ]
     },
     "metadata": {},
     "output_type": "display_data"
    }
   ],
   "source": [
    "LR = 5e-4\n",
    "E = 142//16\n",
    "device = 'cpu:0'\n",
    "params_linear2 = {}\n",
    "acc_linear2 = {}\n",
    "\n",
    "params_kernel32 = {}\n",
    "acc_kernel32 = {}\n",
    "\n",
    "params_kernel52 = {}\n",
    "acc_kernel52 = {}\n",
    "\n",
    "params2 = {}\n",
    "acc2 = {}\n",
    "\n",
    "net = var_net.VarNet(var_net.VarLayer(13, 3, prior_sigma=prior_sigma,  init_log_sigma=init_log_sigma,\n",
    "                                          act=lambda x:x))\n",
    "\n",
    "for l in lamb:\n",
    "    params2[l] = []\n",
    "    acc2[l] = []\n",
    "    for i in range(5):\n",
    "        net.load_state_dict(t.load('./saved_wine/var_net0_lam_{}_start_{}.cpk'.format(l, i)))\n",
    "        params2[l].append((net[0].mean.cpu().detach().numpy().copy(), net[0].log_sigma.cpu().detach().numpy().copy()))\n",
    "        net.eval()\n",
    "        acc2[l].append( ((1.0*t.eq(net(test_X.float()).argmax(1), test_Y)).mean().item()))\n",
    "        net.train()\n",
    "        \n",
    "        \n",
    "# linear\n",
    "net0 = var_net.VarNet( linear_var_hypernet.VarLayerLinearAppr(13, 3,  prior_sigma=prior_sigma, act=lambda x:x, init_log_sigma=init_log_sigma))\n",
    "for l in lamb:\n",
    "    params_linear2[l] = []\n",
    "    acc_linear2[l] = []\n",
    "    for i in range(5):\n",
    "        net0.load_state_dict(t.load('./saved_wine/var_linear_start_{}.cpk'.format(i)))\n",
    "        \n",
    "        utils0.net_copy(net0, net, lambda_encode(t.tensor(l)), layer_num=1, mode='var')\n",
    "        #acc[l].append( ((1.0*t.eq(net(test_X.float()).argmax(1), test_Y)).mean().item()))\n",
    "        optim = t.optim.Adam(net.parameters(), lr=LR)\n",
    "        loss_fn = nn.CrossEntropyLoss().to(device)   \n",
    "        \n",
    "        utils.train_batches_net(train_loader,len(train_data),  net, device, loss_fn, optim, l, 'fine linear '+str(i)+' ', batch_num=E)        \n",
    "        net.eval()\n",
    "        acc_linear2[l].append( ((1.0*t.eq(net(test_X.float()).argmax(1), test_Y)).mean().item()))\n",
    "        net.train()\n",
    "        params_linear2[l].append((net[0].mean.detach().numpy().copy(), net[0].log_sigma.detach().numpy().copy()))\n",
    "\n",
    "net0 = var_net.VarNet(kernel_hypernet.VarKernelLayer(13, 3,   3, \n",
    "                                                    prior_sigma=prior_sigma, act=lambda x:x, init_log_sigma=init_log_sigma))              \n",
    "for l in lamb:\n",
    "    params_kernel32[l] = []\n",
    "    acc_kernel32[l] = []\n",
    "    for i in range(5):\n",
    "        net0.load_state_dict(t.load('./saved_wine/var_kernel_3_start_{}.cpk'.format(i)))        \n",
    "        utils0.net_copy(net0, net, lambda_encode(t.tensor(l)), layer_num=1, mode='var')\n",
    "        #acc[l].append( ((1.0*t.eq(net(test_X.float()).argmax(1), test_Y)).mean().item()))\n",
    "        optim = t.optim.Adam(net.parameters(), lr=LR)\n",
    "        loss_fn = nn.CrossEntropyLoss().to(device)       \n",
    "        \n",
    "        utils.train_batches_net(train_loader,len(train_data),  net, device, loss_fn, optim, l,  'fine kernel3 '+str(i)+' ', batch_num=E)    \n",
    "        net.eval()\n",
    "        acc_kernel32[l].append( ((1.0*t.eq(net(test_X.float()).argmax(1), test_Y)).mean().item()))\n",
    "        net.train()\n",
    "        params_kernel32[l].append((net[0].mean.detach().numpy().copy(), net[0].log_sigma.detach().numpy().copy()))\n",
    "\n",
    "net0 = var_net.VarNet(kernel_hypernet.VarKernelLayer(13, 3,   5, \n",
    "                                                    prior_sigma=prior_sigma, act=lambda x:x, init_log_sigma=init_log_sigma))\n",
    "\n",
    "for l in lamb:\n",
    "    params_kernel52[l] = []\n",
    "    acc_kernel52[l] = []\n",
    "    for i in range(5):\n",
    "        net0.load_state_dict(t.load('./saved_wine/var_kernel_5_start_{}.cpk'.format(i)))        \n",
    "        utils0.net_copy(net0, net, lambda_encode(t.tensor(l)), layer_num=1, mode='var')\n",
    "        #acc[l].append( ((1.0*t.eq(net(test_X.float()).argmax(1), test_Y)).mean().item()))\n",
    "        optim = t.optim.Adam(net.parameters(), lr=LR)\n",
    "        loss_fn = nn.CrossEntropyLoss().to(device)       \n",
    "        \n",
    "        utils.train_batches_net(train_loader,len(train_data),  net, device, loss_fn, optim, l,  'fine kernel5 '+str(i)+' ', batch_num=E)     \n",
    "        net.eval()\n",
    "        acc_kernel52[l].append( ((1.0*t.eq(net(test_X.float()).argmax(1), test_Y)).mean().item()))\n",
    "        net.train()\n",
    "        params_kernel52[l].append((net[0].mean.detach().numpy().copy(), net[0].log_sigma.detach().numpy().copy()))\n",
    "\n",
    "            "
   ]
  },
  {
   "cell_type": "code",
   "execution_count": 69,
   "id": "462d8ce2",
   "metadata": {},
   "outputs": [
    {
     "data": {
      "text/plain": [
       "[0.6111111044883728,\n",
       " 0.5555555820465088,\n",
       " 0.6111111044883728,\n",
       " 0.4722222089767456,\n",
       " 0.4166666567325592]"
      ]
     },
     "execution_count": 69,
     "metadata": {},
     "output_type": "execute_result"
    }
   ],
   "source": [
    "[np.max([a for a in acc2[l]]) for l in lamb]"
   ]
  },
  {
   "cell_type": "code",
   "execution_count": 8,
   "id": "5def600b",
   "metadata": {},
   "outputs": [
    {
     "name": "stdout",
     "output_type": "stream",
     "text": [
      "[-1.0831128, -0.9397321, 0.19991502, 0.6353305, 1.4234842] [0.9277777791023254, 0.9333333253860474, 0.7611111044883728, 0.7833333373069763, 0.4555555582046509]\n",
      "[-3.1264026, -1.5025748, 0.13152868, 0.76236916, 1.3366848] [0.9333333253860474, 0.8666666746139526, 0.8055555582046509, 0.8166666626930237, 0.5888888955116272]\n"
     ]
    },
    {
     "data": {
      "image/png": "[encoded data removed]",
      "text/plain": [
       "<Figure size 504x324 with 2 Axes>"
      ]
     },
     "metadata": {},
     "output_type": "display_data"
    }
   ],
   "source": [
    "fig, ax1 = plt.subplots()\n",
    "ax2 = ax1.twinx()\n",
    "\n",
    "\n",
    "### nets\n",
    "X = []\n",
    "Y = []\n",
    "for l in lamb:    \n",
    "    denon = 0\n",
    "    x = []\n",
    "    y = []\n",
    "    for i in range(5):\n",
    "        denon += dist(params[l][i])\n",
    "    for i in range(5):\n",
    "        x_ = 0 \n",
    "        for j in range(5):\n",
    "            x_ += dist(params[l][i], params[l][j])\n",
    "        denon = 1\n",
    "        x.append(np.log(x_/denon))\n",
    "        y.append(acc[l][i])\n",
    "    #plt.errorbar([np.mean(x)], [np.mean(y)], xerr =[[np.mean(x) - np.min(x)], [np.max(x) - np.mean(x) ]],\n",
    "    #             yerr = [[np.mean(y) - np.min(y)], [np.max(y) - np.mean(y)]], marker='.', c='r', markersize=10)\n",
    "    X.append(np.mean(x))\n",
    "    Y.append(np.mean(y))\n",
    "#plt.plot(X, Y, c='r')\n",
    "ax2.set_yticks(Y)\n",
    "ax2.set_yticklabels(['2', '', '4', '5', '6'])  \n",
    "\n",
    "\n",
    "# linear\n",
    "X = []\n",
    "Y = []\n",
    "for l in lamb:    \n",
    "    denon = 0\n",
    "    x = []\n",
    "    y = []\n",
    "    for i in range(5):\n",
    "        denon += dist(params[l][i])\n",
    "    for i in range(5):\n",
    "        x_ = 0 \n",
    "        for j in range(5):\n",
    "            x_ += dist(params_linear2[l][i],  params[l][j])\n",
    "        denon = 1\n",
    "        x.append(np.log(x_/denon))\n",
    "        y.append(acc_linear2[l][i])\n",
    "    plt.errorbar([np.mean(x)], [np.mean(y)], xerr =[[np.mean(x) - np.min(x)], [np.max(x) - np.mean(x) ]],\n",
    "                 yerr = [[np.mean(y) - np.min(y)], [np.max(y) - np.mean(y)]], c='b', marker='.', markersize=10)\n",
    "    X.append(np.mean(x))\n",
    "    Y.append(np.mean(y))\n",
    "    \n",
    "plt.plot(X, Y, c='b')    \n",
    "\n",
    "# kernel-3\n",
    "X = []\n",
    "Y = []\n",
    "for l in lamb:    \n",
    "    denon = 0\n",
    "    x = []\n",
    "    y = []\n",
    "    for i in range(5):\n",
    "        denon += dist(params[l][i])\n",
    "    for i in range(5):\n",
    "        x_ = 0 \n",
    "        for j in range(5):\n",
    "            x_ += dist(params_kernel32[l][i], params[l][j])\n",
    "        \n",
    "        x.append(np.log(x_/denon))\n",
    "        y.append(acc_kernel32[l][i])\n",
    "    plt.errorbar([np.mean(x)], [np.mean(y)], xerr =[[np.mean(x) - np.min(x)], [np.max(x) - np.mean(x) ]],\n",
    "                 yerr = [[np.mean(y) - np.min(y)], [np.max(y) - np.mean(y)]], c='g', marker='.', markersize=10)\n",
    "    X.append(np.mean(x))\n",
    "    Y.append(np.mean(y))\n",
    "print (X, Y)\n",
    "    \n",
    "plt.plot(X, Y, c='g')    \n",
    "\n",
    "\n",
    "# kernel-5\n",
    "X = []\n",
    "Y = []\n",
    "for l in lamb:    \n",
    "    denon = 0\n",
    "    x = []\n",
    "    y = []\n",
    "    for i in range(5):\n",
    "        denon += dist(params[l][i])\n",
    "    for i in range(5):\n",
    "        x_ = 0 \n",
    "        for j in range(5):\n",
    "            x_ += dist(params_kernel52[l][i], params[l][j])\n",
    "        x.append(np.log(x_/denon))\n",
    "        y.append(acc_kernel52[l][i])\n",
    "    plt.errorbar([np.mean(x)], [np.mean(y)], xerr =[[np.mean(x) - np.min(x)], [np.max(x) - np.mean(x) ]],\n",
    "                 yerr = [[np.mean(y) - np.min(y)], [np.max(y) - np.mean(y)]], c='k', marker='.', markersize=10)\n",
    "    X.append(np.mean(x))\n",
    "    Y.append(np.mean(y))\n",
    "print (X, Y)\n",
    "plt.plot(X, Y, c='k') \n",
    "\n",
    "plt.ylim((0, 1))\n",
    "ax1.set_ylabel('Accuracy')\n",
    "ax1.set_xlabel('Deviation from basic model')\n",
    "ax2.set_ylabel('$log_{10}(\\lambda)$')\n",
    "#ax2.set_ylabel('sin', color='r')\n",
    "\n",
    "\n",
    "plt.savefig('wine_base_1.png', bbox_inches='tight')\n",
    "\n",
    "\n",
    "\n",
    "\n"
   ]
  },
  {
   "cell_type": "code",
   "execution_count": 9,
   "id": "d0e41576",
   "metadata": {
    "scrolled": true
   },
   "outputs": [
    {
     "name": "stderr",
     "output_type": "stream",
     "text": [
      "/home/leginpc/reps/VarHyperNet/code/wine/../src/var_net.py:31: UserWarning: nn.init.xavier_uniform is now deprecated in favor of nn.init.xavier_uniform_.\n",
      "  t.nn.init.xavier_uniform(self.mean)\n",
      "/home/leginpc/reps/VarHyperNet/code/wine/../src/linear_var_hypernet.py:162: UserWarning: nn.init.xavier_uniform is now deprecated in favor of nn.init.xavier_uniform_.\n",
      "  t.nn.init.xavier_uniform(self.const,  init_const)\n",
      "/home/leginpc/reps/VarHyperNet/code/wine/../src/linear_var_hypernet.py:164: UserWarning: nn.init.xavier_uniform is now deprecated in favor of nn.init.xavier_uniform_.\n",
      "  t.nn.init.xavier_uniform(self.const2,  init_const2)\n"
     ]
    },
    {
     "data": {
      "application/vnd.jupyter.widget-view+json": {
       "model_id": "3ddcff4f5afb4018921fef8e5b5e39a5",
       "version_major": 2,
       "version_minor": 0
      },
      "text/plain": [
       "  0%|          | 0/142 [00:00<?, ?it/s]"
      ]
     },
     "metadata": {},
     "output_type": "display_data"
    },
    {
     "data": {
      "application/vnd.jupyter.widget-view+json": {
       "model_id": "7db56f2d15774647ab774e63d22fbe92",
       "version_major": 2,
       "version_minor": 0
      },
      "text/plain": [
       "  0%|          | 0/142 [00:00<?, ?it/s]"
      ]
     },
     "metadata": {},
     "output_type": "display_data"
    },
    {
     "data": {
      "application/vnd.jupyter.widget-view+json": {
       "model_id": "4b2a3926df6f440eac06c50e7f74f950",
       "version_major": 2,
       "version_minor": 0
      },
      "text/plain": [
       "  0%|          | 0/142 [00:00<?, ?it/s]"
      ]
     },
     "metadata": {},
     "output_type": "display_data"
    },
    {
     "data": {
      "application/vnd.jupyter.widget-view+json": {
       "model_id": "f981e638ced84c1cb9de317bde1e9912",
       "version_major": 2,
       "version_minor": 0
      },
      "text/plain": [
       "  0%|          | 0/142 [00:00<?, ?it/s]"
      ]
     },
     "metadata": {},
     "output_type": "display_data"
    },
    {
     "data": {
      "application/vnd.jupyter.widget-view+json": {
       "model_id": "ecca983063c64761aa80964c4c8bf637",
       "version_major": 2,
       "version_minor": 0
      },
      "text/plain": [
       "  0%|          | 0/142 [00:00<?, ?it/s]"
      ]
     },
     "metadata": {},
     "output_type": "display_data"
    },
    {
     "data": {
      "application/vnd.jupyter.widget-view+json": {
       "model_id": "39f8575c2b6f41168da28a431810cf24",
       "version_major": 2,
       "version_minor": 0
      },
      "text/plain": [
       "  0%|          | 0/142 [00:00<?, ?it/s]"
      ]
     },
     "metadata": {},
     "output_type": "display_data"
    },
    {
     "data": {
      "application/vnd.jupyter.widget-view+json": {
       "model_id": "3b9623e753df41c3a3fba2d9582f4f73",
       "version_major": 2,
       "version_minor": 0
      },
      "text/plain": [
       "  0%|          | 0/142 [00:00<?, ?it/s]"
      ]
     },
     "metadata": {},
     "output_type": "display_data"
    },
    {
     "data": {
      "application/vnd.jupyter.widget-view+json": {
       "model_id": "b6caf338e1cb4e06b8304f35d5290693",
       "version_major": 2,
       "version_minor": 0
      },
      "text/plain": [
       "  0%|          | 0/142 [00:00<?, ?it/s]"
      ]
     },
     "metadata": {},
     "output_type": "display_data"
    },
    {
     "data": {
      "application/vnd.jupyter.widget-view+json": {
       "model_id": "077ef95c5e6f43f09e0b301404c32ce0",
       "version_major": 2,
       "version_minor": 0
      },
      "text/plain": [
       "  0%|          | 0/142 [00:00<?, ?it/s]"
      ]
     },
     "metadata": {},
     "output_type": "display_data"
    },
    {
     "data": {
      "application/vnd.jupyter.widget-view+json": {
       "model_id": "15b601558ef84711a0da9ea29e9f6ec6",
       "version_major": 2,
       "version_minor": 0
      },
      "text/plain": [
       "  0%|          | 0/142 [00:00<?, ?it/s]"
      ]
     },
     "metadata": {},
     "output_type": "display_data"
    },
    {
     "data": {
      "application/vnd.jupyter.widget-view+json": {
       "model_id": "032e7578fd1443caa2099741cc85fa38",
       "version_major": 2,
       "version_minor": 0
      },
      "text/plain": [
       "  0%|          | 0/142 [00:00<?, ?it/s]"
      ]
     },
     "metadata": {},
     "output_type": "display_data"
    },
    {
     "data": {
      "application/vnd.jupyter.widget-view+json": {
       "model_id": "16ce4e9f7c174097b2a6df32ac4f971a",
       "version_major": 2,
       "version_minor": 0
      },
      "text/plain": [
       "  0%|          | 0/142 [00:00<?, ?it/s]"
      ]
     },
     "metadata": {},
     "output_type": "display_data"
    },
    {
     "data": {
      "application/vnd.jupyter.widget-view+json": {
       "model_id": "465682cc3969418ab1b6600ca1e78f3d",
       "version_major": 2,
       "version_minor": 0
      },
      "text/plain": [
       "  0%|          | 0/142 [00:00<?, ?it/s]"
      ]
     },
     "metadata": {},
     "output_type": "display_data"
    },
    {
     "data": {
      "application/vnd.jupyter.widget-view+json": {
       "model_id": "cef60db38a124bd0ba6992cb44e3a6b1",
       "version_major": 2,
       "version_minor": 0
      },
      "text/plain": [
       "  0%|          | 0/142 [00:00<?, ?it/s]"
      ]
     },
     "metadata": {},
     "output_type": "display_data"
    },
    {
     "data": {
      "application/vnd.jupyter.widget-view+json": {
       "model_id": "0267f86aa34a4254ab95ae50909d88a7",
       "version_major": 2,
       "version_minor": 0
      },
      "text/plain": [
       "  0%|          | 0/142 [00:00<?, ?it/s]"
      ]
     },
     "metadata": {},
     "output_type": "display_data"
    },
    {
     "data": {
      "application/vnd.jupyter.widget-view+json": {
       "model_id": "2259157aae674e8d9b29972c661669e0",
       "version_major": 2,
       "version_minor": 0
      },
      "text/plain": [
       "  0%|          | 0/142 [00:00<?, ?it/s]"
      ]
     },
     "metadata": {},
     "output_type": "display_data"
    },
    {
     "data": {
      "application/vnd.jupyter.widget-view+json": {
       "model_id": "1e42767a507343e68e025c8d0d247faa",
       "version_major": 2,
       "version_minor": 0
      },
      "text/plain": [
       "  0%|          | 0/142 [00:00<?, ?it/s]"
      ]
     },
     "metadata": {},
     "output_type": "display_data"
    },
    {
     "data": {
      "application/vnd.jupyter.widget-view+json": {
       "model_id": "5efe3fb78a7f4b14a68882000a28e4f6",
       "version_major": 2,
       "version_minor": 0
      },
      "text/plain": [
       "  0%|          | 0/142 [00:00<?, ?it/s]"
      ]
     },
     "metadata": {},
     "output_type": "display_data"
    },
    {
     "data": {
      "application/vnd.jupyter.widget-view+json": {
       "model_id": "20ae228523f34122ac03bb19787f076a",
       "version_major": 2,
       "version_minor": 0
      },
      "text/plain": [
       "  0%|          | 0/142 [00:00<?, ?it/s]"
      ]
     },
     "metadata": {},
     "output_type": "display_data"
    },
    {
     "data": {
      "application/vnd.jupyter.widget-view+json": {
       "model_id": "2b5b8c89b3eb4fa587a6aac97811b8c6",
       "version_major": 2,
       "version_minor": 0
      },
      "text/plain": [
       "  0%|          | 0/142 [00:00<?, ?it/s]"
      ]
     },
     "metadata": {},
     "output_type": "display_data"
    },
    {
     "data": {
      "application/vnd.jupyter.widget-view+json": {
       "model_id": "8e5a37b34b9e4fcbb042813e01354860",
       "version_major": 2,
       "version_minor": 0
      },
      "text/plain": [
       "  0%|          | 0/142 [00:00<?, ?it/s]"
      ]
     },
     "metadata": {},
     "output_type": "display_data"
    },
    {
     "data": {
      "application/vnd.jupyter.widget-view+json": {
       "model_id": "2b402c5ac8b8486a9ed351feb470e582",
       "version_major": 2,
       "version_minor": 0
      },
      "text/plain": [
       "  0%|          | 0/142 [00:00<?, ?it/s]"
      ]
     },
     "metadata": {},
     "output_type": "display_data"
    },
    {
     "data": {
      "application/vnd.jupyter.widget-view+json": {
       "model_id": "495a2c139aa941229a540364e12da130",
       "version_major": 2,
       "version_minor": 0
      },
      "text/plain": [
       "  0%|          | 0/142 [00:00<?, ?it/s]"
      ]
     },
     "metadata": {},
     "output_type": "display_data"
    },
    {
     "data": {
      "application/vnd.jupyter.widget-view+json": {
       "model_id": "824a682a86b241b5a5a18df723f2e23f",
       "version_major": 2,
       "version_minor": 0
      },
      "text/plain": [
       "  0%|          | 0/142 [00:00<?, ?it/s]"
      ]
     },
     "metadata": {},
     "output_type": "display_data"
    },
    {
     "data": {
      "application/vnd.jupyter.widget-view+json": {
       "model_id": "ada892629498495d8c095b90dea0e87f",
       "version_major": 2,
       "version_minor": 0
      },
      "text/plain": [
       "  0%|          | 0/142 [00:00<?, ?it/s]"
      ]
     },
     "metadata": {},
     "output_type": "display_data"
    },
    {
     "data": {
      "application/vnd.jupyter.widget-view+json": {
       "model_id": "fc840b27b4254a838bb8362467842db7",
       "version_major": 2,
       "version_minor": 0
      },
      "text/plain": [
       "  0%|          | 0/142 [00:00<?, ?it/s]"
      ]
     },
     "metadata": {},
     "output_type": "display_data"
    },
    {
     "data": {
      "application/vnd.jupyter.widget-view+json": {
       "model_id": "5c37e69015134871ab250f3fdca1dc3e",
       "version_major": 2,
       "version_minor": 0
      },
      "text/plain": [
       "  0%|          | 0/142 [00:00<?, ?it/s]"
      ]
     },
     "metadata": {},
     "output_type": "display_data"
    },
    {
     "data": {
      "application/vnd.jupyter.widget-view+json": {
       "model_id": "15c380d2caa44438bbd2f3dc6c56ed3f",
       "version_major": 2,
       "version_minor": 0
      },
      "text/plain": [
       "  0%|          | 0/142 [00:00<?, ?it/s]"
      ]
     },
     "metadata": {},
     "output_type": "display_data"
    },
    {
     "data": {
      "application/vnd.jupyter.widget-view+json": {
       "model_id": "8ccfb86025644134a35abd0055e27eb0",
       "version_major": 2,
       "version_minor": 0
      },
      "text/plain": [
       "  0%|          | 0/142 [00:00<?, ?it/s]"
      ]
     },
     "metadata": {},
     "output_type": "display_data"
    },
    {
     "data": {
      "application/vnd.jupyter.widget-view+json": {
       "model_id": "274d2a81c76b4afe8dc8b57aea58dc85",
       "version_major": 2,
       "version_minor": 0
      },
      "text/plain": [
       "  0%|          | 0/142 [00:00<?, ?it/s]"
      ]
     },
     "metadata": {},
     "output_type": "display_data"
    },
    {
     "data": {
      "application/vnd.jupyter.widget-view+json": {
       "model_id": "cda67acb5dfa428b8bbe91a1e29d6c7c",
       "version_major": 2,
       "version_minor": 0
      },
      "text/plain": [
       "  0%|          | 0/142 [00:00<?, ?it/s]"
      ]
     },
     "metadata": {},
     "output_type": "display_data"
    },
    {
     "data": {
      "application/vnd.jupyter.widget-view+json": {
       "model_id": "f8f5935ddc534858ac3fcb666f32525f",
       "version_major": 2,
       "version_minor": 0
      },
      "text/plain": [
       "  0%|          | 0/142 [00:00<?, ?it/s]"
      ]
     },
     "metadata": {},
     "output_type": "display_data"
    },
    {
     "data": {
      "application/vnd.jupyter.widget-view+json": {
       "model_id": "cc456bd5fcc7463b91c21f1494192b28",
       "version_major": 2,
       "version_minor": 0
      },
      "text/plain": [
       "  0%|          | 0/142 [00:00<?, ?it/s]"
      ]
     },
     "metadata": {},
     "output_type": "display_data"
    },
    {
     "data": {
      "application/vnd.jupyter.widget-view+json": {
       "model_id": "573a87640412474db0f95472657c3144",
       "version_major": 2,
       "version_minor": 0
      },
      "text/plain": [
       "  0%|          | 0/142 [00:00<?, ?it/s]"
      ]
     },
     "metadata": {},
     "output_type": "display_data"
    },
    {
     "data": {
      "application/vnd.jupyter.widget-view+json": {
       "model_id": "593d6076c0264af281718e9900a8085f",
       "version_major": 2,
       "version_minor": 0
      },
      "text/plain": [
       "  0%|          | 0/142 [00:00<?, ?it/s]"
      ]
     },
     "metadata": {},
     "output_type": "display_data"
    },
    {
     "data": {
      "application/vnd.jupyter.widget-view+json": {
       "model_id": "4f4ce3159a084e9f9d7226f02a540b86",
       "version_major": 2,
       "version_minor": 0
      },
      "text/plain": [
       "  0%|          | 0/142 [00:00<?, ?it/s]"
      ]
     },
     "metadata": {},
     "output_type": "display_data"
    },
    {
     "data": {
      "application/vnd.jupyter.widget-view+json": {
       "model_id": "a251af5983c64c56ab63df53e5cfe4a1",
       "version_major": 2,
       "version_minor": 0
      },
      "text/plain": [
       "  0%|          | 0/142 [00:00<?, ?it/s]"
      ]
     },
     "metadata": {},
     "output_type": "display_data"
    },
    {
     "data": {
      "application/vnd.jupyter.widget-view+json": {
       "model_id": "8b32f37c5c81455789be0c642bc1d2a9",
       "version_major": 2,
       "version_minor": 0
      },
      "text/plain": [
       "  0%|          | 0/142 [00:00<?, ?it/s]"
      ]
     },
     "metadata": {},
     "output_type": "display_data"
    },
    {
     "data": {
      "application/vnd.jupyter.widget-view+json": {
       "model_id": "6b2c9cfab52942e2ba6032b83a9f54d3",
       "version_major": 2,
       "version_minor": 0
      },
      "text/plain": [
       "  0%|          | 0/142 [00:00<?, ?it/s]"
      ]
     },
     "metadata": {},
     "output_type": "display_data"
    },
    {
     "data": {
      "application/vnd.jupyter.widget-view+json": {
       "model_id": "e3bf79a8d4d34bde910aaa0da7686cc9",
       "version_major": 2,
       "version_minor": 0
      },
      "text/plain": [
       "  0%|          | 0/142 [00:00<?, ?it/s]"
      ]
     },
     "metadata": {},
     "output_type": "display_data"
    },
    {
     "data": {
      "application/vnd.jupyter.widget-view+json": {
       "model_id": "66ec741f897e4bd591351f74584f9e28",
       "version_major": 2,
       "version_minor": 0
      },
      "text/plain": [
       "  0%|          | 0/142 [00:00<?, ?it/s]"
      ]
     },
     "metadata": {},
     "output_type": "display_data"
    },
    {
     "data": {
      "application/vnd.jupyter.widget-view+json": {
       "model_id": "adc10d2544614446895bf55777b84cae",
       "version_major": 2,
       "version_minor": 0
      },
      "text/plain": [
       "  0%|          | 0/142 [00:00<?, ?it/s]"
      ]
     },
     "metadata": {},
     "output_type": "display_data"
    },
    {
     "data": {
      "application/vnd.jupyter.widget-view+json": {
       "model_id": "6aaa6f32496d4eefb66d721a7e3275e0",
       "version_major": 2,
       "version_minor": 0
      },
      "text/plain": [
       "  0%|          | 0/142 [00:00<?, ?it/s]"
      ]
     },
     "metadata": {},
     "output_type": "display_data"
    },
    {
     "data": {
      "application/vnd.jupyter.widget-view+json": {
       "model_id": "8534a86c6fca41108ec479e1913649c1",
       "version_major": 2,
       "version_minor": 0
      },
      "text/plain": [
       "  0%|          | 0/142 [00:00<?, ?it/s]"
      ]
     },
     "metadata": {},
     "output_type": "display_data"
    },
    {
     "data": {
      "application/vnd.jupyter.widget-view+json": {
       "model_id": "c58ff3d0029c49f092a8b375b2449f2d",
       "version_major": 2,
       "version_minor": 0
      },
      "text/plain": [
       "  0%|          | 0/142 [00:00<?, ?it/s]"
      ]
     },
     "metadata": {},
     "output_type": "display_data"
    },
    {
     "data": {
      "application/vnd.jupyter.widget-view+json": {
       "model_id": "8a1c7ea8877e4209b6ec30261be597ff",
       "version_major": 2,
       "version_minor": 0
      },
      "text/plain": [
       "  0%|          | 0/142 [00:00<?, ?it/s]"
      ]
     },
     "metadata": {},
     "output_type": "display_data"
    },
    {
     "data": {
      "application/vnd.jupyter.widget-view+json": {
       "model_id": "bd78dab3a6a9480b8fbc11ceba66a946",
       "version_major": 2,
       "version_minor": 0
      },
      "text/plain": [
       "  0%|          | 0/142 [00:00<?, ?it/s]"
      ]
     },
     "metadata": {},
     "output_type": "display_data"
    },
    {
     "data": {
      "application/vnd.jupyter.widget-view+json": {
       "model_id": "63b2efe409e44469bf56c01422b518b2",
       "version_major": 2,
       "version_minor": 0
      },
      "text/plain": [
       "  0%|          | 0/142 [00:00<?, ?it/s]"
      ]
     },
     "metadata": {},
     "output_type": "display_data"
    },
    {
     "data": {
      "application/vnd.jupyter.widget-view+json": {
       "model_id": "bb59201219a449038e20c28db177321b",
       "version_major": 2,
       "version_minor": 0
      },
      "text/plain": [
       "  0%|          | 0/142 [00:00<?, ?it/s]"
      ]
     },
     "metadata": {},
     "output_type": "display_data"
    },
    {
     "data": {
      "application/vnd.jupyter.widget-view+json": {
       "model_id": "5607f9183880453dba4bd760a1357e9c",
       "version_major": 2,
       "version_minor": 0
      },
      "text/plain": [
       "  0%|          | 0/142 [00:00<?, ?it/s]"
      ]
     },
     "metadata": {},
     "output_type": "display_data"
    }
   ],
   "source": [
    "LR = 5e-4\n",
    "E = 142\n",
    "\n",
    "params_linear22 = {}\n",
    "acc_linear22 = {}\n",
    "\n",
    "params_kernel32 = {}\n",
    "acc_kernel32 = {}\n",
    "\n",
    "params_kernel522 = {}\n",
    "acc_kernel522 = {}\n",
    "\n",
    "params2 = {}\n",
    "acc2 = {}\n",
    "\n",
    "net = var_net.VarNet(var_net.VarLayer(13, 3, prior_sigma=prior_sigma,  init_log_sigma=init_log_sigma,\n",
    "                                          act=lambda x:x))\n",
    "\n",
    "\n",
    "# linear\n",
    "net0 = var_net.VarNet( linear_var_hypernet.VarLayerLinearAppr(13, 3,  prior_sigma=prior_sigma, act=lambda x:x, init_log_sigma=init_log_sigma))\n",
    "for l in lamb:\n",
    "    params_linear22[l] = []\n",
    "    acc_linear22[l] = []\n",
    "    for i in range(5):\n",
    "        net0.load_state_dict(t.load('./saved_wine/var_linear_start_{}.cpk'.format(i)))\n",
    "        \n",
    "        utils0.net_copy(net0, net, lambda_encode(t.tensor(l)), layer_num=1, mode='var')\n",
    "        #acc[l].append( ((1.0*t.eq(net(test_X.float()).argmax(1), test_Y)).mean().item()))\n",
    "        optim = t.optim.Adam(net.parameters(), lr=LR)\n",
    "        loss_fn = nn.CrossEntropyLoss().to(device)   \n",
    "        \n",
    "        utils.train_batches_net(train_loader,len(train_data),  net, device, loss_fn, optim, l, 'fine linear '+str(i)+' ', batch_num=E)        \n",
    "        net.eval()\n",
    "        acc_linear22[l].append( ((1.0*t.eq(net(test_X.float()).argmax(1), test_Y)).mean().item()))\n",
    "        net.train()\n",
    "        params_linear22[l].append((net[0].mean.detach().numpy().copy(), net[0].log_sigma.detach().numpy().copy()))\n",
    "\n",
    "\n",
    "net0 = var_net.VarNet(kernel_hypernet.VarKernelLayer(13, 3,   5, \n",
    "                                                    prior_sigma=prior_sigma, act=lambda x:x, init_log_sigma=init_log_sigma))\n",
    "\n",
    "for l in lamb:\n",
    "    params_kernel522[l] = []\n",
    "    acc_kernel522[l] = []\n",
    "    for i in range(5):\n",
    "        net0.load_state_dict(t.load('./saved_wine/var_kernel_5_start_{}.cpk'.format(i)))        \n",
    "        utils0.net_copy(net0, net, lambda_encode(t.tensor(l)), layer_num=1, mode='var')\n",
    "        #acc[l].append( ((1.0*t.eq(net(test_X.float()).argmax(1), test_Y)).mean().item()))\n",
    "        optim = t.optim.Adam(net.parameters(), lr=LR)\n",
    "        loss_fn = nn.CrossEntropyLoss().to(device)       \n",
    "        \n",
    "        utils.train_batches_net(train_loader,len(train_data),  net, device, loss_fn, optim, l,  'fine kernel5 '+str(i)+' ', batch_num=E)     \n",
    "        net.eval()\n",
    "        acc_kernel522[l].append( ((1.0*t.eq(net(test_X.float()).argmax(1), test_Y)).mean().item()))\n",
    "        net.train()\n",
    "        params_kernel522[l].append((net[0].mean.detach().numpy().copy(), net[0].log_sigma.detach().numpy().copy()))\n",
    "\n",
    "            "
   ]
  },
  {
   "cell_type": "code",
   "execution_count": 33,
   "id": "53b88c92",
   "metadata": {},
   "outputs": [],
   "source": []
  },
  {
   "cell_type": "code",
   "execution_count": 50,
   "id": "b48844de",
   "metadata": {},
   "outputs": [
    {
     "data": {
      "image/png": "[encoded data removed]",
      "text/plain": [
       "<Figure size 396x288 with 2 Axes>"
      ]
     },
     "metadata": {},
     "output_type": "display_data"
    }
   ],
   "source": [
    "plt.rcParams['figure.figsize'] = (5.5, 4.0)\n",
    "fig, ax1 = plt.subplots()\n",
    "ax2 = ax1.twinx()\n",
    "\n",
    "### nets\n",
    "X = []\n",
    "Y = []\n",
    "for l in lamb:    \n",
    "    denon = 0\n",
    "    x = []\n",
    "    y = []\n",
    "    for i in range(5):\n",
    "        denon += dist(params[l][i])\n",
    "    for i in range(5):\n",
    "        x_ = 0 \n",
    "        for j in range(5):\n",
    "            x_ += dist(params[l][i], params[l][j])\n",
    "        denon = 1\n",
    "        x.append(np.log(x_/denon))\n",
    "        y.append(acc[l][i])\n",
    "    #plt.errorbar([np.mean(x)], [np.mean(y)], xerr =[[np.mean(x) - np.min(x)], [np.max(x) - np.mean(x) ]],\n",
    "    #             yerr = [[np.mean(y) - np.min(y)], [np.max(y) - np.mean(y)]], marker='.', c='r', markersize=10)\n",
    "    X.append(np.mean(x))\n",
    "    plt.axhline(np.mean(y),  linestyle = 'dashed', color = 'gray', label = 'Directly optimized model' if l == 10**2 else \"\")\n",
    "    Y.append(np.mean(y))\n",
    "#plt.plot(X, Y, c='r')\n",
    "ax2.set_yticks(Y)\n",
    "ax2.set_yticklabels(['2', '', '', '5', '6'])    \n",
    "    \n",
    "\n",
    "# linear\n",
    "X = []\n",
    "Y = []\n",
    "for l in lamb:    \n",
    "    denon = 0\n",
    "    x = []\n",
    "    y = []\n",
    "    for i in range(5):\n",
    "        denon += dist(params[l][i])\n",
    "    for i in range(5):\n",
    "        x_ = 0 \n",
    "        for j in range(5):\n",
    "            x_ += dist(params_linear[l][i], params[l][j])\n",
    "        denon = 1\n",
    "        x.append(np.log(x_/denon))\n",
    "        y.append(acc_linear[l][i])\n",
    "    #plt.plot([np.mean(x)], [np.mean(y)], c='g', marker='.', markersize=10)\n",
    "    X.append(np.mean(x))\n",
    "    Y.append(np.mean(y))\n",
    "    \n",
    "plt.plot(X, Y, c='g',label= 'Linear hypernet', marker='*', linewidth=2, markersize=8) \n",
    "\n",
    "\n",
    "# linear\n",
    "X = []\n",
    "Y = []\n",
    "for l in lamb:    \n",
    "    denon = 0\n",
    "    x = []\n",
    "    y = []\n",
    "    for i in range(5):\n",
    "        denon += dist(params[l][i])\n",
    "    for i in range(5):\n",
    "        x_ = 0 \n",
    "        for j in range(5):\n",
    "            x_ += dist(params_linear2[l][i], params[l][j])\n",
    "        denon = 1\n",
    "        x.append(np.log(x_/denon))\n",
    "        y.append(acc_linear2[l][i])\n",
    "    #plt.plot([np.mean(x)], [np.mean(y)], c='b', marker='.', markersize=10)\n",
    "    X.append(np.mean(x))\n",
    "    Y.append(np.mean(y))\n",
    "    \n",
    "#plt.plot(X, Y, c='b',label= 'linear model, fine-tuning on 8 samples', marker='.', linewidth=2, markersize=10) \n",
    "\n",
    "# linear\n",
    "X = []\n",
    "Y = []\n",
    "for l in lamb:    \n",
    "    denon = 0\n",
    "    x = []\n",
    "    y = []\n",
    "    for i in range(5):\n",
    "        denon += dist(params[l][i])\n",
    "    for i in range(5):\n",
    "        x_ = 0 \n",
    "        for j in range(5):\n",
    "            x_ += dist(params_linear22[l][i], params[l][j])\n",
    "        denon = 1\n",
    "        x.append(np.log(x_/denon))\n",
    "        y.append(acc_linear22[l][i])\n",
    "    #plt.plot([np.mean(x)], [np.mean(y)], c='r', marker='.', markersize=10)\n",
    "    X.append(np.mean(x))\n",
    "    Y.append(np.mean(y))\n",
    "    \n",
    "plt.plot(X, Y, c='r',label= 'Linear hypernet, fine-tuning',  marker='x', linewidth=2, markersize=8) \n",
    "\n",
    "\n",
    "\n",
    "# kernel-5\n",
    "X = []\n",
    "Y = []\n",
    "for l in lamb:    \n",
    "    denon = 0\n",
    "    x = []\n",
    "    y = []\n",
    "    for i in range(5):\n",
    "        denon += dist(params[l][i])\n",
    "    for i in range(5):\n",
    "        x_ = 0 \n",
    "        for j in range(5):\n",
    "            x_ += dist(params_kernel[5][l][i], params[l][j])\n",
    "        denon = 1\n",
    "        x.append(np.log(x_/denon))\n",
    "        y.append(acc_kernel[5][l][i])\n",
    "    X.append(np.mean(x))\n",
    "    Y.append(np.mean(y))\n",
    "plt.plot(X, Y, c='k', label=  'P.-w. lin. hypernet', marker='o', linewidth=2 , markersize=8)       \n",
    "\n",
    "plt.ylim((0, 1))\n",
    "ax1.grid()\n",
    "ax1.set_ylabel('Accuracy')\n",
    "ax1.set_xlabel('log Deviation from model without hypernetwork')\n",
    "ax2.set_ylabel('$log_{10}(\\lambda)$')\n",
    "#ax2.set_ylabel('sin', color='r')\n",
    "plt.legend()\n",
    "\n",
    "\n",
    "X = []\n",
    "Y = []\n",
    "for l in lamb:    \n",
    "    denon = 0\n",
    "    x = []\n",
    "    y = []\n",
    "    for i in range(5):\n",
    "        denon += dist(params[l][i])\n",
    "    for i in range(5):\n",
    "        x_ = 0 \n",
    "        for j in range(5):\n",
    "            x_ += dist(params_kernel52[l][i], params[l][j])\n",
    "        denon = 1\n",
    "        x.append(np.log(x_/denon))\n",
    "        y.append(acc_kernel52[l][i])\n",
    "    X.append(np.mean(x))\n",
    "    Y.append(np.mean(y))\n",
    "#plt.plot(X, Y, c='brown',  label=  'piecewise-linear model, fine-tuning on 8 samples', marker='.', linewidth=2, markersize=10)       \n",
    "\n",
    "X = []\n",
    "Y = []\n",
    "for l in lamb:    \n",
    "    denon = 0\n",
    "    x = []\n",
    "    y = []\n",
    "    for i in range(5):\n",
    "        denon += dist(params[l][i])\n",
    "    for i in range(5):\n",
    "        x_ = 0 \n",
    "        for j in range(5):\n",
    "            x_ += dist(params_kernel522[l][i], params[l][j])\n",
    "        denon = 1\n",
    "        x.append(np.log(x_/denon))\n",
    "        y.append(acc_kernel522[l][i])\n",
    "    X.append(np.mean(x))\n",
    "    Y.append(np.mean(y))\n",
    "plt.plot(X, Y, c='purple', label=  'P.-w. lin. hypernet, fine-tuning' ,marker='<', linewidth=2 , markersize=8)       \n",
    "\n",
    "\n",
    "plt.ylim((0, 1))\n",
    "ax1.grid()\n",
    "ax1.set_ylabel('Accuracy')\n",
    "ax1.set_xlabel('log $\\\\bar{D}_{\\mathrm{KL}}$')\n",
    "ax2.set_ylabel('$log_{10}(\\lambda)$')\n",
    "#ax2.set_ylabel('sin', color='r')\n",
    "plt.legend(bbox_to_anchor=(1.15, 0.9))\n",
    "\n",
    "plt.savefig('wine.pdf', bbox_inches='tight')\n",
    "\n"
   ]
  },
  {
   "cell_type": "code",
   "execution_count": 61,
   "id": "e8098fbf",
   "metadata": {},
   "outputs": [
    {
     "data": {
      "text/plain": [
       "{}"
      ]
     },
     "execution_count": 61,
     "metadata": {},
     "output_type": "execute_result"
    }
   ],
   "source": [
    "acc2"
   ]
  },
  {
   "cell_type": "code",
   "execution_count": 262,
   "id": "713f28f4",
   "metadata": {},
   "outputs": [
    {
     "name": "stderr",
     "output_type": "stream",
     "text": [
      "/tmp/ipykernel_5610/2742663401.py:9: UserWarning: FixedFormatter should only be used together with FixedLocator\n",
      "  axes.set_yticklabels(['']+['base model', 'linear','linear + fine-tune', 'piece-wise', 'piece-wise + fine-tune'])\n"
     ]
    },
    {
     "data": {
      "image/png": "[encoded data removed]",
      "text/plain": [
       "<Figure size 864x648 with 1 Axes>"
      ]
     },
     "metadata": {},
     "output_type": "display_data"
    }
   ],
   "source": [
    "plt.rcParams['figure.figsize'] = (12,9)\n",
    "figure = plt.figure()\n",
    "axes = figure.add_subplot(111)\n",
    "\n",
    "matrix1 = np.vstack([params[100][0].flatten(), params_linear[100][0].flatten(),  params_linear2[100][0].flatten(), params_kernel[5][100][0].flatten(),  params_kernel52[100][0].flatten()])\n",
    "axes.matshow(matrix1, cmap='gray')\n",
    "plt.xlabel('Parameter matrix component number')\n",
    "#ax.set_yticklabels([])\n",
    "axes.set_yticklabels(['']+['base model', 'linear','linear + fine-tune', 'piece-wise', 'piece-wise + fine-tune'])\n",
    "\n",
    "\n",
    "plt.savefig('wine_matrix1.png', bbox_inches='tight')\n"
   ]
  },
  {
   "cell_type": "code",
   "execution_count": 263,
   "id": "5de16a66",
   "metadata": {},
   "outputs": [
    {
     "name": "stderr",
     "output_type": "stream",
     "text": [
      "/tmp/ipykernel_5610/476825305.py:9: UserWarning: FixedFormatter should only be used together with FixedLocator\n",
      "  axes.set_yticklabels(['']+['base model', 'linear','linear + fine-tune', 'piece-wise', 'piece-wise + fine-tune'])\n"
     ]
    },
    {
     "data": {
      "image/png": "[encoded data removed]",
      "text/plain": [
       "<Figure size 864x648 with 1 Axes>"
      ]
     },
     "metadata": {},
     "output_type": "display_data"
    }
   ],
   "source": [
    "plt.rcParams['figure.figsize'] = (12,9)\n",
    "figure = plt.figure()\n",
    "axes = figure.add_subplot(111)\n",
    "\n",
    "matrix1 = np.vstack([params[1000000][0].flatten(), params_linear[1000000][0].flatten(),  params_linear2[1000000][0].flatten(), params_kernel[5][1000000][0].flatten(),  params_kernel52[1000000][0].flatten()])\n",
    "axes.matshow(matrix1, cmap='gray')\n",
    "plt.xlabel('Parameter matrix component number')\n",
    "#ax.set_yticklabels([])\n",
    "axes.set_yticklabels(['']+['base model', 'linear','linear + fine-tune', 'piece-wise', 'piece-wise + fine-tune'])\n",
    "plt.savefig('wine_matrix2.png', bbox_inches='tight')"
   ]
  },
  {
   "cell_type": "code",
   "execution_count": 48,
   "id": "aa6cf266",
   "metadata": {},
   "outputs": [
    {
     "data": {
      "text/plain": [
       "0.5333333253860474"
      ]
     },
     "execution_count": 48,
     "metadata": {},
     "output_type": "execute_result"
    }
   ],
   "source": [
    "np.mean(acc[1000000])"
   ]
  },
  {
   "cell_type": "code",
   "execution_count": null,
   "id": "afcce63e",
   "metadata": {},
   "outputs": [],
   "source": []
  },
  {
   "cell_type": "code",
   "execution_count": null,
   "id": "6c1ee31a",
   "metadata": {},
   "outputs": [],
   "source": []
  },
  {
   "cell_type": "code",
   "execution_count": null,
   "id": "cf9d33cc",
   "metadata": {},
   "outputs": [],
   "source": []
  },
  {
   "cell_type": "code",
   "execution_count": null,
   "id": "92ad66f6",
   "metadata": {},
   "outputs": [],
   "source": []
  }
 ],
 "metadata": {
  "kernelspec": {
   "display_name": "Python 3 (ipykernel)",
   "language": "python",
   "name": "python3"
  },
  "language_info": {
   "codemirror_mode": {
    "name": "ipython",
    "version": 3
   },
   "file_extension": ".py",
   "mimetype": "text/x-python",
   "name": "python",
   "nbconvert_exporter": "python",
   "pygments_lexer": "ipython3",
   "version": "3.8.10"
  }
 },
 "nbformat": 4,
 "nbformat_minor": 5
}
