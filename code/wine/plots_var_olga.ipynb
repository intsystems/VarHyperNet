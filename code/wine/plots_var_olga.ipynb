{
 "cells": [
  {
   "cell_type": "code",
   "execution_count": 1,
   "id": "b92dca31",
   "metadata": {},
   "outputs": [],
   "source": [
    "import torch as t \n",
    "import torchvision\n",
    "import numpy as np\n",
    "import torch.nn as nn\n",
    "import torch.nn.functional as F\n",
    "import torch.optim as optim\n",
    "import matplotlib.pylab as plt\n",
    "from torch.nn.utils import clip_grad_value_\n",
    "%matplotlib inline\n",
    "import pickle\n",
    "from torchvision import datasets, transforms\n",
    "import tqdm\n",
    "import os\n",
    "import sys\n",
    "sys.path.append('../src/')\n",
    "import importlib \n",
    "import kernel_hypernet as kernel_hypernet\n",
    "import var_net as var_net\n",
    "import utils as utils0\n",
    "importlib.reload(utils0)\n",
    "import mnist_utils as utils\n",
    "importlib.reload(utils)\n",
    "\n",
    "importlib.reload(var_net)\n",
    "importlib.reload(kernel_hypernet)\n",
    "import importlib \n",
    "import var_net as var_net\n",
    "import base_net as base_net\n",
    "import mnist_utils as utils\n",
    "importlib.reload(utils)\n",
    "importlib.reload(var_net)\n",
    "importlib.reload(base_net)\n",
    "\n",
    "\n",
    "\n",
    "import linear_var_hypernet as linear_var_hypernet"
   ]
  },
  {
   "cell_type": "code",
   "execution_count": 9,
   "id": "52090984",
   "metadata": {},
   "outputs": [],
   "source": [
    "import seaborn as sns\n",
    "sns.set('paper', style='white', font_scale=1.75)\n",
    "plt.rcParams['figure.figsize'] = (7,4.5)"
   ]
  },
  {
   "cell_type": "code",
   "execution_count": 3,
   "id": "a9c9eced",
   "metadata": {},
   "outputs": [],
   "source": [
    "from sklearn.datasets import load_wine\n",
    "from torch.utils.data import TensorDataset, DataLoader\n",
    "wine_X , wine_Y = load_wine(return_X_y=True)\n",
    "device = 'cpu'\n",
    "rs = np.random.RandomState(42)\n",
    "ids = list(range(len(wine_X)))\n",
    "rs.shuffle(ids)\n",
    "\n",
    "train_X, test_X = wine_X[ids[:len(ids)*4//5]], wine_X[ids[len(ids)*4//5:]]\n",
    "train_Y, test_Y = wine_Y[ids[:len(ids)*4//5]], wine_Y[ids[len(ids)*4//5:]]\n",
    "\n",
    "mean = np.mean(train_X, 0)\n",
    "std = np.std(train_X, 0)\n",
    "\n",
    "train_X = (train_X - mean)/std\n",
    "test_X = (test_X - mean)/std\n",
    "\n",
    "\n",
    "\n",
    "\n",
    "train_X = t.tensor(train_X).to(device)\n",
    "test_X = t.tensor(test_X).to(device)\n",
    "train_Y = t.tensor(train_Y).to(device)\n",
    "test_Y = t.tensor(test_Y).to(device)\n",
    "\n",
    "\n",
    "train_data = TensorDataset(train_X.float(),train_Y)\n",
    "train_loader = DataLoader(train_data) \n",
    "\n",
    "test_data = TensorDataset(test_X.float(),test_Y)\n",
    "test_loader = DataLoader(test_data) \n",
    "\n",
    "        "
   ]
  },
  {
   "cell_type": "code",
   "execution_count": 4,
   "id": "45ceb4f2",
   "metadata": {},
   "outputs": [
    {
     "name": "stderr",
     "output_type": "stream",
     "text": [
      "/home/leginpc/reps/VarHyperNet/code/wine/../src/var_net.py:31: UserWarning: nn.init.xavier_uniform is now deprecated in favor of nn.init.xavier_uniform_.\n",
      "  t.nn.init.xavier_uniform(self.mean)\n",
      "/home/leginpc/reps/VarHyperNet/code/wine/../src/linear_var_hypernet.py:162: UserWarning: nn.init.xavier_uniform is now deprecated in favor of nn.init.xavier_uniform_.\n",
      "  t.nn.init.xavier_uniform(self.const,  init_const)\n",
      "/home/leginpc/reps/VarHyperNet/code/wine/../src/linear_var_hypernet.py:164: UserWarning: nn.init.xavier_uniform is now deprecated in favor of nn.init.xavier_uniform_.\n",
      "  t.nn.init.xavier_uniform(self.const2,  init_const2)\n"
     ]
    }
   ],
   "source": [
    "init_log_sigma = -3.0\n",
    "params = {}\n",
    "params_linear = {}\n",
    "params_kernel = {}\n",
    "\n",
    "acc = {}\n",
    "acc_linear = {}\n",
    "acc_kernel = {}\n",
    "\n",
    "lambda_encode = lambda x: (t.log(x) - np.log(100.0))/(np.log(10**6) - np.log(100.0))\n",
    "\n",
    "\n",
    "\n",
    "lamb = [10**2, 10**3, 10**4, 10**5, 10**6]\n",
    "#lamb = [t.tensor(l) for l in lamb]\n",
    "device = 'cuda:0'\n",
    "prior_sigma = 1.0\n",
    "net = var_net.VarNet(var_net.VarLayer(13, 3, prior_sigma=prior_sigma,  init_log_sigma=init_log_sigma,\n",
    "                                          act=lambda x:x))\n",
    "\n",
    "\n",
    "for l in lamb:\n",
    "    params[l] = []\n",
    "    acc[l] = []\n",
    "    for i in range(5):\n",
    "        net.load_state_dict(t.load('./saved_wine/var_net_lam_{}_start_{}.cpk'.format(l, i)))\n",
    "        params[l].append((net[0].mean.cpu().detach().numpy().copy(), net[0].log_sigma.cpu().detach().numpy().copy()))\n",
    "        net.eval()\n",
    "        acc[l].append( ((1.0*t.eq(net(test_X.float()).argmax(1), test_Y)).mean().item()))\n",
    "        \n",
    "        \n",
    "net = var_net.VarNet( linear_var_hypernet.VarLayerLinearAppr(13, 3,  prior_sigma=prior_sigma, act=lambda x:x, init_log_sigma=init_log_sigma))\n",
    "\n",
    "\n",
    "for l in lamb:    \n",
    "    params_linear[l] = []\n",
    "    acc_linear[l] = []\n",
    "    for i in range(5):    \n",
    "        net.load_state_dict(t.load('./saved_wine/var_linear_start_{}.cpk'.format(i)))\n",
    "        net.eval()\n",
    "        params_linear[l].append((net[0].mean(lambda_encode(t.tensor(l))).detach().numpy().copy(), net[0].log_sigma(lambda_encode(t.tensor(l))).detach().numpy().copy()))\n",
    "        acc_linear[l].append( ((1.0*t.eq(net(test_X.float(), lambda_encode(t.tensor(l))).argmax(1), test_Y)).mean().item()))\n",
    "\n",
    "for k in range(2,6):\n",
    "    params_kernel[k] = {}\n",
    "    acc_kernel[k] = {}\n",
    "    for l in lamb:\n",
    "        params_kernel[k][l] = []\n",
    "        acc_kernel[k][l] = []\n",
    "        \n",
    "\n",
    "for k in [3,5]:    \n",
    "    net = var_net.VarNet(kernel_hypernet.VarKernelLayer(13, 3,   k, \n",
    "                                                    prior_sigma=prior_sigma, act=lambda x:x, init_log_sigma=init_log_sigma))\n",
    "    for l in lamb:        \n",
    "        for i in range(5):\n",
    "            net.load_state_dict(t.load('./saved_wine/var_kernel_{}_start_{}.cpk'.format(k, i)))\n",
    "            net.eval()\n",
    "            params_kernel[k][l].append((net[0].mean(lambda_encode(t.tensor(l))).detach().numpy().copy(),\n",
    "                                      net[0].log_sigma(lambda_encode(t.tensor(l))).detach().numpy().copy()))\n",
    "            acc_kernel[k][l].append( ((1.0*t.eq(net(test_X.float(), lambda_encode(t.tensor(l))).argmax(1), test_Y)).mean().item()))\n",
    "        "
   ]
  },
  {
   "cell_type": "code",
   "execution_count": 5,
   "id": "eb921835",
   "metadata": {},
   "outputs": [],
   "source": [
    "def dist(q, p=None):\n",
    "    if p is None:\n",
    "        p = (0.0, 0.0)\n",
    "    d1 = t.distributions.Normal(t.tensor(q[0]), t.exp(2*t.tensor(q[1])))\n",
    "    d2 = t.distributions.Normal(t.tensor(p[0]), t.exp(2*t.tensor(p[1])))\n",
    "    return (t.distributions.kl_divergence(d1,d2) * 0.5 + t.distributions.kl_divergence(d2,d1) * 0.5).sum()\n"
   ]
  },
  {
   "cell_type": "code",
   "execution_count": 6,
   "id": "ef93a011",
   "metadata": {},
   "outputs": [
    {
     "data": {
      "text/plain": [
       "(array([[ 1.64667016e-03, -7.69038219e-04, -8.66071030e-04],\n",
       "        [-4.31881694e-04,  1.64793440e-04, -3.28895294e-05],\n",
       "        [ 2.16229935e-04,  3.97329160e-04, -8.25106748e-04],\n",
       "        [-1.14587764e-03,  7.62979034e-04,  2.71943660e-04],\n",
       "        [ 1.33064619e-04,  9.63019615e-04, -9.54397721e-04],\n",
       "        [ 7.98346184e-04,  1.42576042e-04, -9.72859620e-04],\n",
       "        [ 6.20766252e-04, -4.25145932e-04, -6.71399641e-04],\n",
       "        [-2.82682358e-05, -5.77228668e-04,  3.51716793e-04],\n",
       "        [ 1.16102991e-03,  2.02463285e-04, -7.79926195e-04],\n",
       "        [ 1.37256959e-03, -7.46550795e-04, -7.80553208e-04],\n",
       "        [-1.60223048e-04,  2.09082878e-04,  2.67580501e-04],\n",
       "        [-4.64245677e-04, -1.06036976e-04,  3.68276931e-04],\n",
       "        [ 1.37075817e-03, -4.09066924e-05, -1.19701633e-03]], dtype=float32),\n",
       " array([[ 1.65093064e-04, -3.25019733e-04, -1.56009002e-04],\n",
       "        [ 3.09576862e-04, -1.60537456e-05,  2.39766276e-04],\n",
       "        [-1.47522456e-04, -1.04696715e-04, -1.79898889e-05],\n",
       "        [-2.48610333e-04,  4.14155420e-06,  3.83297505e-04],\n",
       "        [-3.18483872e-05, -1.03531689e-04,  1.78138376e-04],\n",
       "        [ 2.12098254e-04, -4.45856131e-04,  1.94060602e-04],\n",
       "        [-3.57844605e-04, -1.01533749e-06, -1.05085768e-04],\n",
       "        [ 4.62798809e-04,  3.07036360e-04,  2.94135360e-04],\n",
       "        [ 2.56498432e-04, -3.73267423e-04, -1.30559551e-04],\n",
       "        [ 3.01423745e-04, -1.77262787e-04, -2.79377673e-05],\n",
       "        [-5.79916959e-05, -2.47711578e-04,  9.02625325e-05],\n",
       "        [-1.64372279e-04, -2.99168518e-04,  3.95884970e-04],\n",
       "        [-3.24445173e-05, -8.29880883e-05, -6.44167958e-05]], dtype=float32))"
      ]
     },
     "execution_count": 6,
     "metadata": {},
     "output_type": "execute_result"
    }
   ],
   "source": [
    "params_kernel[5][l][i]"
   ]
  },
  {
   "cell_type": "code",
   "execution_count": 6,
   "id": "af76446d",
   "metadata": {},
   "outputs": [
    {
     "data": {
      "image/png": "[encoded data removed]",
      "text/plain": [
       "<Figure size 504x324 with 2 Axes>"
      ]
     },
     "metadata": {},
     "output_type": "display_data"
    }
   ],
   "source": [
    "fig, ax1 = plt.subplots()\n",
    "ax2 = ax1.twinx()\n",
    "\n",
    "### nets\n",
    "X = []\n",
    "Y = []\n",
    "for l in lamb:    \n",
    "    denon = 0\n",
    "    x = []\n",
    "    y = []\n",
    "    for i in range(5):\n",
    "        denon += dist(params[l][i])\n",
    "    for i in range(5):\n",
    "        x_ = 0 \n",
    "        for j in range(5):\n",
    "            x_ += dist(params[l][i], params[l][j])\n",
    "        denon = 1\n",
    "        x.append(np.log(x_/denon))\n",
    "        y.append(acc[l][i])\n",
    "    #plt.errorbar([np.mean(x)], [np.mean(y)], xerr =[[np.mean(x) - np.min(x)], [np.max(x) - np.mean(x) ]],\n",
    "    #             yerr = [[np.mean(y) - np.min(y)], [np.max(y) - np.mean(y)]], marker='.', c='r', markersize=10)\n",
    "    X.append(np.mean(x))\n",
    "    plt.axhline(np.mean(y),  linestyle = 'dashed', color = 'gray', label = 'Model without hypernetwork' if l == 10**2 else \"\")\n",
    "    Y.append(np.mean(y))\n",
    "#plt.plot(X, Y, c='r')\n",
    "ax2.set_yticks(Y)\n",
    "ax2.set_yticklabels(['2', '', '4', '5', '6'])    \n",
    "    \n",
    "\n",
    "# linear\n",
    "X = []\n",
    "Y = []\n",
    "for l in lamb:    \n",
    "    denon = 0\n",
    "    x = []\n",
    "    y = []\n",
    "    for i in range(5):\n",
    "        denon += dist(params[l][i])\n",
    "    for i in range(5):\n",
    "        x_ = 0 \n",
    "        for j in range(5):\n",
    "            x_ += dist(params_linear[l][i], params[l][j])\n",
    "        denon = 1\n",
    "        x.append((x_/denon))\n",
    "        y.append(acc_linear[l][i])\n",
    "    #plt.plot([np.mean(x)], [np.mean(y)], c='b', marker='.', markersize=10)\n",
    "    X.append(np.mean(x))\n",
    "    Y.append(np.mean(y))\n",
    "    \n",
    "plt.plot(X, Y, c='b',label= 'linear model', linewidth=2) \n",
    "\n",
    "   \n",
    "\n",
    "\n",
    "# kernel-5\n",
    "X = []\n",
    "Y = []\n",
    "for l in lamb:    \n",
    "    denon = 0\n",
    "    x = []\n",
    "    y = []\n",
    "    for i in range(5):\n",
    "        denon += dist(params[l][i])\n",
    "    for i in range(5):\n",
    "        x_ = 0 \n",
    "        for j in range(5):\n",
    "            x_ += dist(params_kernel[5][l][i], params[l][j])\n",
    "        x.append((x_/denon))\n",
    "        y.append(acc_kernel[5][l][i])\n",
    "    X.append(np.mean(x))\n",
    "    Y.append(np.mean(y))\n",
    "plt.plot(X, Y, c='k', label=  'piecewise-linear model', linewidth=2 )       \n",
    "\n",
    "plt.ylim((0, 1))\n",
    "ax1.grid()\n",
    "ax1.set_ylabel('Accuracy')\n",
    "ax1.set_xlabel('log Deviation from model without hypernetwork')\n",
    "ax2.set_ylabel('$log_{10}(\\lambda)$')\n",
    "#ax2.set_ylabel('sin', color='r')\n",
    "plt.legend()\n",
    "\n",
    "\n",
    "plt.savefig('wine_net_1.png', bbox_inches='tight')\n",
    "\n"
   ]
  },
  {
   "cell_type": "code",
   "execution_count": null,
   "id": "ea07ee55",
   "metadata": {},
   "outputs": [],
   "source": []
  },
  {
   "cell_type": "code",
   "execution_count": 7,
   "id": "84695be5",
   "metadata": {
    "scrolled": true
   },
   "outputs": [
    {
     "data": {
      "application/vnd.jupyter.widget-view+json": {
       "model_id": "1f90574ffa3644ab93dfc603b8570776",
       "version_major": 2,
       "version_minor": 0
      },
      "text/plain": [
       "  0%|          | 0/142 [00:00<?, ?it/s]"
      ]
     },
     "metadata": {},
     "output_type": "display_data"
    },
    {
     "data": {
      "application/vnd.jupyter.widget-view+json": {
       "model_id": "711948a24c9749a286cd921542414ccc",
       "version_major": 2,
       "version_minor": 0
      },
      "text/plain": [
       "  0%|          | 0/142 [00:00<?, ?it/s]"
      ]
     },
     "metadata": {},
     "output_type": "display_data"
    },
    {
     "data": {
      "application/vnd.jupyter.widget-view+json": {
       "model_id": "0adefa1388e74b6085a2ce81dd275f48",
       "version_major": 2,
       "version_minor": 0
      },
      "text/plain": [
       "  0%|          | 0/142 [00:00<?, ?it/s]"
      ]
     },
     "metadata": {},
     "output_type": "display_data"
    },
    {
     "data": {
      "application/vnd.jupyter.widget-view+json": {
       "model_id": "0e32ca8d3130454aa2e5063c99e6f958",
       "version_major": 2,
       "version_minor": 0
      },
      "text/plain": [
       "  0%|          | 0/142 [00:00<?, ?it/s]"
      ]
     },
     "metadata": {},
     "output_type": "display_data"
    },
    {
     "data": {
      "application/vnd.jupyter.widget-view+json": {
       "model_id": "edfeb491f0bb47b1a8c07947034284b6",
       "version_major": 2,
       "version_minor": 0
      },
      "text/plain": [
       "  0%|          | 0/142 [00:00<?, ?it/s]"
      ]
     },
     "metadata": {},
     "output_type": "display_data"
    },
    {
     "data": {
      "application/vnd.jupyter.widget-view+json": {
       "model_id": "c4ce0ae7661b44f289469ae4dbbb94e0",
       "version_major": 2,
       "version_minor": 0
      },
      "text/plain": [
       "  0%|          | 0/142 [00:00<?, ?it/s]"
      ]
     },
     "metadata": {},
     "output_type": "display_data"
    },
    {
     "data": {
      "application/vnd.jupyter.widget-view+json": {
       "model_id": "0290c83058fd4056a9e97b6a2cd7fbee",
       "version_major": 2,
       "version_minor": 0
      },
      "text/plain": [
       "  0%|          | 0/142 [00:00<?, ?it/s]"
      ]
     },
     "metadata": {},
     "output_type": "display_data"
    },
    {
     "data": {
      "application/vnd.jupyter.widget-view+json": {
       "model_id": "c04067e56f734019b73f696f8a92026e",
       "version_major": 2,
       "version_minor": 0
      },
      "text/plain": [
       "  0%|          | 0/142 [00:00<?, ?it/s]"
      ]
     },
     "metadata": {},
     "output_type": "display_data"
    },
    {
     "data": {
      "application/vnd.jupyter.widget-view+json": {
       "model_id": "68d8bb222aeb47929b014511498173af",
       "version_major": 2,
       "version_minor": 0
      },
      "text/plain": [
       "  0%|          | 0/142 [00:00<?, ?it/s]"
      ]
     },
     "metadata": {},
     "output_type": "display_data"
    },
    {
     "data": {
      "application/vnd.jupyter.widget-view+json": {
       "model_id": "2aa644297f3849f396b4ccc4ef68e6cf",
       "version_major": 2,
       "version_minor": 0
      },
      "text/plain": [
       "  0%|          | 0/142 [00:00<?, ?it/s]"
      ]
     },
     "metadata": {},
     "output_type": "display_data"
    },
    {
     "data": {
      "application/vnd.jupyter.widget-view+json": {
       "model_id": "2a8d675237044612936504b92a379248",
       "version_major": 2,
       "version_minor": 0
      },
      "text/plain": [
       "  0%|          | 0/142 [00:00<?, ?it/s]"
      ]
     },
     "metadata": {},
     "output_type": "display_data"
    },
    {
     "data": {
      "application/vnd.jupyter.widget-view+json": {
       "model_id": "fd2ca6e6b8254a979f4b6d687ded6ee3",
       "version_major": 2,
       "version_minor": 0
      },
      "text/plain": [
       "  0%|          | 0/142 [00:00<?, ?it/s]"
      ]
     },
     "metadata": {},
     "output_type": "display_data"
    },
    {
     "data": {
      "application/vnd.jupyter.widget-view+json": {
       "model_id": "86ba9adfc533461b92e831c2f76dd8e0",
       "version_major": 2,
       "version_minor": 0
      },
      "text/plain": [
       "  0%|          | 0/142 [00:00<?, ?it/s]"
      ]
     },
     "metadata": {},
     "output_type": "display_data"
    },
    {
     "data": {
      "application/vnd.jupyter.widget-view+json": {
       "model_id": "3a0bd1635fae495eb44ce28222ae6547",
       "version_major": 2,
       "version_minor": 0
      },
      "text/plain": [
       "  0%|          | 0/142 [00:00<?, ?it/s]"
      ]
     },
     "metadata": {},
     "output_type": "display_data"
    },
    {
     "data": {
      "application/vnd.jupyter.widget-view+json": {
       "model_id": "8d0ff2c416914d288a68507b83d11464",
       "version_major": 2,
       "version_minor": 0
      },
      "text/plain": [
       "  0%|          | 0/142 [00:00<?, ?it/s]"
      ]
     },
     "metadata": {},
     "output_type": "display_data"
    },
    {
     "data": {
      "application/vnd.jupyter.widget-view+json": {
       "model_id": "344738af20c34a9ebf5c567c636fcb9d",
       "version_major": 2,
       "version_minor": 0
      },
      "text/plain": [
       "  0%|          | 0/142 [00:00<?, ?it/s]"
      ]
     },
     "metadata": {},
     "output_type": "display_data"
    },
    {
     "data": {
      "application/vnd.jupyter.widget-view+json": {
       "model_id": "8dc6dfd5bea84fa89ee7b9f92b8ed68a",
       "version_major": 2,
       "version_minor": 0
      },
      "text/plain": [
       "  0%|          | 0/142 [00:00<?, ?it/s]"
      ]
     },
     "metadata": {},
     "output_type": "display_data"
    },
    {
     "data": {
      "application/vnd.jupyter.widget-view+json": {
       "model_id": "effafae1ee9b4ec6a1cb7a275d7d2ed8",
       "version_major": 2,
       "version_minor": 0
      },
      "text/plain": [
       "  0%|          | 0/142 [00:00<?, ?it/s]"
      ]
     },
     "metadata": {},
     "output_type": "display_data"
    },
    {
     "data": {
      "application/vnd.jupyter.widget-view+json": {
       "model_id": "97c75eff09364b34bd923e0427b924e4",
       "version_major": 2,
       "version_minor": 0
      },
      "text/plain": [
       "  0%|          | 0/142 [00:00<?, ?it/s]"
      ]
     },
     "metadata": {},
     "output_type": "display_data"
    },
    {
     "data": {
      "application/vnd.jupyter.widget-view+json": {
       "model_id": "ef3c114443fb4968bdcaf5c0654d2882",
       "version_major": 2,
       "version_minor": 0
      },
      "text/plain": [
       "  0%|          | 0/142 [00:00<?, ?it/s]"
      ]
     },
     "metadata": {},
     "output_type": "display_data"
    },
    {
     "data": {
      "application/vnd.jupyter.widget-view+json": {
       "model_id": "d3e9c11558214e6790713bf6d14e5736",
       "version_major": 2,
       "version_minor": 0
      },
      "text/plain": [
       "  0%|          | 0/142 [00:00<?, ?it/s]"
      ]
     },
     "metadata": {},
     "output_type": "display_data"
    },
    {
     "data": {
      "application/vnd.jupyter.widget-view+json": {
       "model_id": "841eb7a32a2143e09106aa510ff5ccf5",
       "version_major": 2,
       "version_minor": 0
      },
      "text/plain": [
       "  0%|          | 0/142 [00:00<?, ?it/s]"
      ]
     },
     "metadata": {},
     "output_type": "display_data"
    },
    {
     "data": {
      "application/vnd.jupyter.widget-view+json": {
       "model_id": "8b3251a505e7466e84ad823ea6c37c4c",
       "version_major": 2,
       "version_minor": 0
      },
      "text/plain": [
       "  0%|          | 0/142 [00:00<?, ?it/s]"
      ]
     },
     "metadata": {},
     "output_type": "display_data"
    },
    {
     "data": {
      "application/vnd.jupyter.widget-view+json": {
       "model_id": "f0259cd688004edf9ab2754ac8a5f212",
       "version_major": 2,
       "version_minor": 0
      },
      "text/plain": [
       "  0%|          | 0/142 [00:00<?, ?it/s]"
      ]
     },
     "metadata": {},
     "output_type": "display_data"
    },
    {
     "data": {
      "application/vnd.jupyter.widget-view+json": {
       "model_id": "cdbc6e96b21144ea9fa181ea2c085abe",
       "version_major": 2,
       "version_minor": 0
      },
      "text/plain": [
       "  0%|          | 0/142 [00:00<?, ?it/s]"
      ]
     },
     "metadata": {},
     "output_type": "display_data"
    },
    {
     "data": {
      "application/vnd.jupyter.widget-view+json": {
       "model_id": "dd6cd9449bc3429ab85da551ed855e14",
       "version_major": 2,
       "version_minor": 0
      },
      "text/plain": [
       "  0%|          | 0/142 [00:00<?, ?it/s]"
      ]
     },
     "metadata": {},
     "output_type": "display_data"
    },
    {
     "data": {
      "application/vnd.jupyter.widget-view+json": {
       "model_id": "53b2b8537c764d4e8a42c7740048c6a5",
       "version_major": 2,
       "version_minor": 0
      },
      "text/plain": [
       "  0%|          | 0/142 [00:00<?, ?it/s]"
      ]
     },
     "metadata": {},
     "output_type": "display_data"
    },
    {
     "data": {
      "application/vnd.jupyter.widget-view+json": {
       "model_id": "155bece1a2014e3c80a2c1456ba3af92",
       "version_major": 2,
       "version_minor": 0
      },
      "text/plain": [
       "  0%|          | 0/142 [00:00<?, ?it/s]"
      ]
     },
     "metadata": {},
     "output_type": "display_data"
    },
    {
     "data": {
      "application/vnd.jupyter.widget-view+json": {
       "model_id": "f0f658e7f69c40a6803c890bba8af840",
       "version_major": 2,
       "version_minor": 0
      },
      "text/plain": [
       "  0%|          | 0/142 [00:00<?, ?it/s]"
      ]
     },
     "metadata": {},
     "output_type": "display_data"
    },
    {
     "data": {
      "application/vnd.jupyter.widget-view+json": {
       "model_id": "db8424034adb4dafa5d2a63c7075f5e0",
       "version_major": 2,
       "version_minor": 0
      },
      "text/plain": [
       "  0%|          | 0/142 [00:00<?, ?it/s]"
      ]
     },
     "metadata": {},
     "output_type": "display_data"
    },
    {
     "data": {
      "application/vnd.jupyter.widget-view+json": {
       "model_id": "26abc38d4b9e4825ab3cc43544179106",
       "version_major": 2,
       "version_minor": 0
      },
      "text/plain": [
       "  0%|          | 0/142 [00:00<?, ?it/s]"
      ]
     },
     "metadata": {},
     "output_type": "display_data"
    },
    {
     "data": {
      "application/vnd.jupyter.widget-view+json": {
       "model_id": "b8e268149eb34b6b98390808791f1035",
       "version_major": 2,
       "version_minor": 0
      },
      "text/plain": [
       "  0%|          | 0/142 [00:00<?, ?it/s]"
      ]
     },
     "metadata": {},
     "output_type": "display_data"
    },
    {
     "data": {
      "application/vnd.jupyter.widget-view+json": {
       "model_id": "cfd6a1a25f7b41d684a6595c633a3456",
       "version_major": 2,
       "version_minor": 0
      },
      "text/plain": [
       "  0%|          | 0/142 [00:00<?, ?it/s]"
      ]
     },
     "metadata": {},
     "output_type": "display_data"
    },
    {
     "data": {
      "application/vnd.jupyter.widget-view+json": {
       "model_id": "7a0ef3c1d9b04b4db8bfd3df3432a463",
       "version_major": 2,
       "version_minor": 0
      },
      "text/plain": [
       "  0%|          | 0/142 [00:00<?, ?it/s]"
      ]
     },
     "metadata": {},
     "output_type": "display_data"
    },
    {
     "data": {
      "application/vnd.jupyter.widget-view+json": {
       "model_id": "ead423932b704fcca1d116f71fc43ad6",
       "version_major": 2,
       "version_minor": 0
      },
      "text/plain": [
       "  0%|          | 0/142 [00:00<?, ?it/s]"
      ]
     },
     "metadata": {},
     "output_type": "display_data"
    },
    {
     "data": {
      "application/vnd.jupyter.widget-view+json": {
       "model_id": "310c67eee28a4c799561425e02fdca2e",
       "version_major": 2,
       "version_minor": 0
      },
      "text/plain": [
       "  0%|          | 0/142 [00:00<?, ?it/s]"
      ]
     },
     "metadata": {},
     "output_type": "display_data"
    },
    {
     "data": {
      "application/vnd.jupyter.widget-view+json": {
       "model_id": "84c7224d79b04057bc388b96a34e0f9c",
       "version_major": 2,
       "version_minor": 0
      },
      "text/plain": [
       "  0%|          | 0/142 [00:00<?, ?it/s]"
      ]
     },
     "metadata": {},
     "output_type": "display_data"
    },
    {
     "data": {
      "application/vnd.jupyter.widget-view+json": {
       "model_id": "ac690c4290b9405591c24f9bce602868",
       "version_major": 2,
       "version_minor": 0
      },
      "text/plain": [
       "  0%|          | 0/142 [00:00<?, ?it/s]"
      ]
     },
     "metadata": {},
     "output_type": "display_data"
    },
    {
     "data": {
      "application/vnd.jupyter.widget-view+json": {
       "model_id": "02bcba0231174b99a69f5f101294c942",
       "version_major": 2,
       "version_minor": 0
      },
      "text/plain": [
       "  0%|          | 0/142 [00:00<?, ?it/s]"
      ]
     },
     "metadata": {},
     "output_type": "display_data"
    },
    {
     "data": {
      "application/vnd.jupyter.widget-view+json": {
       "model_id": "9543958f74384050985f89b1d3b7dc94",
       "version_major": 2,
       "version_minor": 0
      },
      "text/plain": [
       "  0%|          | 0/142 [00:00<?, ?it/s]"
      ]
     },
     "metadata": {},
     "output_type": "display_data"
    },
    {
     "data": {
      "application/vnd.jupyter.widget-view+json": {
       "model_id": "966b4a1a285b4e8b8384ce97a98c3c24",
       "version_major": 2,
       "version_minor": 0
      },
      "text/plain": [
       "  0%|          | 0/142 [00:00<?, ?it/s]"
      ]
     },
     "metadata": {},
     "output_type": "display_data"
    },
    {
     "data": {
      "application/vnd.jupyter.widget-view+json": {
       "model_id": "a37155402d324ea0a325d4adda020e03",
       "version_major": 2,
       "version_minor": 0
      },
      "text/plain": [
       "  0%|          | 0/142 [00:00<?, ?it/s]"
      ]
     },
     "metadata": {},
     "output_type": "display_data"
    },
    {
     "data": {
      "application/vnd.jupyter.widget-view+json": {
       "model_id": "77f6b297b25d493186ba55b4a5ee1aee",
       "version_major": 2,
       "version_minor": 0
      },
      "text/plain": [
       "  0%|          | 0/142 [00:00<?, ?it/s]"
      ]
     },
     "metadata": {},
     "output_type": "display_data"
    },
    {
     "data": {
      "application/vnd.jupyter.widget-view+json": {
       "model_id": "dd9a7b0296bc491786f8e2eef3833fb9",
       "version_major": 2,
       "version_minor": 0
      },
      "text/plain": [
       "  0%|          | 0/142 [00:00<?, ?it/s]"
      ]
     },
     "metadata": {},
     "output_type": "display_data"
    },
    {
     "data": {
      "application/vnd.jupyter.widget-view+json": {
       "model_id": "1370722abd4d4315bac0a1c73ced19f9",
       "version_major": 2,
       "version_minor": 0
      },
      "text/plain": [
       "  0%|          | 0/142 [00:00<?, ?it/s]"
      ]
     },
     "metadata": {},
     "output_type": "display_data"
    },
    {
     "data": {
      "application/vnd.jupyter.widget-view+json": {
       "model_id": "eebd840c21ac4b77a67d364ddc09f504",
       "version_major": 2,
       "version_minor": 0
      },
      "text/plain": [
       "  0%|          | 0/142 [00:00<?, ?it/s]"
      ]
     },
     "metadata": {},
     "output_type": "display_data"
    },
    {
     "data": {
      "application/vnd.jupyter.widget-view+json": {
       "model_id": "a5970f4811704ffea0fde822e8733091",
       "version_major": 2,
       "version_minor": 0
      },
      "text/plain": [
       "  0%|          | 0/142 [00:00<?, ?it/s]"
      ]
     },
     "metadata": {},
     "output_type": "display_data"
    },
    {
     "data": {
      "application/vnd.jupyter.widget-view+json": {
       "model_id": "7e280774d83849e2b22c96ea0c24fc68",
       "version_major": 2,
       "version_minor": 0
      },
      "text/plain": [
       "  0%|          | 0/142 [00:00<?, ?it/s]"
      ]
     },
     "metadata": {},
     "output_type": "display_data"
    },
    {
     "data": {
      "application/vnd.jupyter.widget-view+json": {
       "model_id": "45e6677457964e8fb8d065a90c8229ac",
       "version_major": 2,
       "version_minor": 0
      },
      "text/plain": [
       "  0%|          | 0/142 [00:00<?, ?it/s]"
      ]
     },
     "metadata": {},
     "output_type": "display_data"
    },
    {
     "data": {
      "application/vnd.jupyter.widget-view+json": {
       "model_id": "9ab46eb6b7d14172ab5bbc5ff87d583f",
       "version_major": 2,
       "version_minor": 0
      },
      "text/plain": [
       "  0%|          | 0/142 [00:00<?, ?it/s]"
      ]
     },
     "metadata": {},
     "output_type": "display_data"
    },
    {
     "data": {
      "application/vnd.jupyter.widget-view+json": {
       "model_id": "d5b7201f07004903a088df90b9da0ddf",
       "version_major": 2,
       "version_minor": 0
      },
      "text/plain": [
       "  0%|          | 0/142 [00:00<?, ?it/s]"
      ]
     },
     "metadata": {},
     "output_type": "display_data"
    },
    {
     "data": {
      "application/vnd.jupyter.widget-view+json": {
       "model_id": "117b6361c2214ecabaad4fa15a1fd749",
       "version_major": 2,
       "version_minor": 0
      },
      "text/plain": [
       "  0%|          | 0/142 [00:00<?, ?it/s]"
      ]
     },
     "metadata": {},
     "output_type": "display_data"
    },
    {
     "data": {
      "application/vnd.jupyter.widget-view+json": {
       "model_id": "faa1f7ddfef846ed896faa2f92df5833",
       "version_major": 2,
       "version_minor": 0
      },
      "text/plain": [
       "  0%|          | 0/142 [00:00<?, ?it/s]"
      ]
     },
     "metadata": {},
     "output_type": "display_data"
    },
    {
     "data": {
      "application/vnd.jupyter.widget-view+json": {
       "model_id": "9a82611126d145b08e5957357b342215",
       "version_major": 2,
       "version_minor": 0
      },
      "text/plain": [
       "  0%|          | 0/142 [00:00<?, ?it/s]"
      ]
     },
     "metadata": {},
     "output_type": "display_data"
    },
    {
     "data": {
      "application/vnd.jupyter.widget-view+json": {
       "model_id": "ed7bed02ee6841099a7fd1e323371dbe",
       "version_major": 2,
       "version_minor": 0
      },
      "text/plain": [
       "  0%|          | 0/142 [00:00<?, ?it/s]"
      ]
     },
     "metadata": {},
     "output_type": "display_data"
    },
    {
     "data": {
      "application/vnd.jupyter.widget-view+json": {
       "model_id": "734e1d3de29e41089b804d4a1bff0bca",
       "version_major": 2,
       "version_minor": 0
      },
      "text/plain": [
       "  0%|          | 0/142 [00:00<?, ?it/s]"
      ]
     },
     "metadata": {},
     "output_type": "display_data"
    },
    {
     "data": {
      "application/vnd.jupyter.widget-view+json": {
       "model_id": "f0f3833bf5664f9fa7c5f5cd1a69a574",
       "version_major": 2,
       "version_minor": 0
      },
      "text/plain": [
       "  0%|          | 0/142 [00:00<?, ?it/s]"
      ]
     },
     "metadata": {},
     "output_type": "display_data"
    },
    {
     "data": {
      "application/vnd.jupyter.widget-view+json": {
       "model_id": "8c0c4de7e29d4f949be2ad19170e26de",
       "version_major": 2,
       "version_minor": 0
      },
      "text/plain": [
       "  0%|          | 0/142 [00:00<?, ?it/s]"
      ]
     },
     "metadata": {},
     "output_type": "display_data"
    },
    {
     "data": {
      "application/vnd.jupyter.widget-view+json": {
       "model_id": "52d523c0f3c844c19dbdbd60dc9267a0",
       "version_major": 2,
       "version_minor": 0
      },
      "text/plain": [
       "  0%|          | 0/142 [00:00<?, ?it/s]"
      ]
     },
     "metadata": {},
     "output_type": "display_data"
    },
    {
     "data": {
      "application/vnd.jupyter.widget-view+json": {
       "model_id": "a771be6b4ee84d85b8c24f709e210be3",
       "version_major": 2,
       "version_minor": 0
      },
      "text/plain": [
       "  0%|          | 0/142 [00:00<?, ?it/s]"
      ]
     },
     "metadata": {},
     "output_type": "display_data"
    },
    {
     "data": {
      "application/vnd.jupyter.widget-view+json": {
       "model_id": "f7decdb460b74c2d982a44f3fa0a375d",
       "version_major": 2,
       "version_minor": 0
      },
      "text/plain": [
       "  0%|          | 0/142 [00:00<?, ?it/s]"
      ]
     },
     "metadata": {},
     "output_type": "display_data"
    },
    {
     "data": {
      "application/vnd.jupyter.widget-view+json": {
       "model_id": "3e5504bbb8c14c4d98b82e829fb6fe77",
       "version_major": 2,
       "version_minor": 0
      },
      "text/plain": [
       "  0%|          | 0/142 [00:00<?, ?it/s]"
      ]
     },
     "metadata": {},
     "output_type": "display_data"
    },
    {
     "data": {
      "application/vnd.jupyter.widget-view+json": {
       "model_id": "902d1d15b54b4650811256b8a26110ab",
       "version_major": 2,
       "version_minor": 0
      },
      "text/plain": [
       "  0%|          | 0/142 [00:00<?, ?it/s]"
      ]
     },
     "metadata": {},
     "output_type": "display_data"
    },
    {
     "data": {
      "application/vnd.jupyter.widget-view+json": {
       "model_id": "ab1d3ccef24d44c09cd0fe371280d254",
       "version_major": 2,
       "version_minor": 0
      },
      "text/plain": [
       "  0%|          | 0/142 [00:00<?, ?it/s]"
      ]
     },
     "metadata": {},
     "output_type": "display_data"
    },
    {
     "data": {
      "application/vnd.jupyter.widget-view+json": {
       "model_id": "86a7b4fa5cf2491abc571431b911020d",
       "version_major": 2,
       "version_minor": 0
      },
      "text/plain": [
       "  0%|          | 0/142 [00:00<?, ?it/s]"
      ]
     },
     "metadata": {},
     "output_type": "display_data"
    },
    {
     "data": {
      "application/vnd.jupyter.widget-view+json": {
       "model_id": "db0f496332c947b6850b05b2444415c2",
       "version_major": 2,
       "version_minor": 0
      },
      "text/plain": [
       "  0%|          | 0/142 [00:00<?, ?it/s]"
      ]
     },
     "metadata": {},
     "output_type": "display_data"
    },
    {
     "data": {
      "application/vnd.jupyter.widget-view+json": {
       "model_id": "72f9e2a560ac4e8189e2ca9f0a25dacc",
       "version_major": 2,
       "version_minor": 0
      },
      "text/plain": [
       "  0%|          | 0/142 [00:00<?, ?it/s]"
      ]
     },
     "metadata": {},
     "output_type": "display_data"
    },
    {
     "data": {
      "application/vnd.jupyter.widget-view+json": {
       "model_id": "f5918bbec71549f0aca37a30bca2a12e",
       "version_major": 2,
       "version_minor": 0
      },
      "text/plain": [
       "  0%|          | 0/142 [00:00<?, ?it/s]"
      ]
     },
     "metadata": {},
     "output_type": "display_data"
    },
    {
     "data": {
      "application/vnd.jupyter.widget-view+json": {
       "model_id": "3cba1f2429314cf3a79cd9ac6f54885b",
       "version_major": 2,
       "version_minor": 0
      },
      "text/plain": [
       "  0%|          | 0/142 [00:00<?, ?it/s]"
      ]
     },
     "metadata": {},
     "output_type": "display_data"
    },
    {
     "data": {
      "application/vnd.jupyter.widget-view+json": {
       "model_id": "417039a71ce94fbda1958ca6ab7f5b74",
       "version_major": 2,
       "version_minor": 0
      },
      "text/plain": [
       "  0%|          | 0/142 [00:00<?, ?it/s]"
      ]
     },
     "metadata": {},
     "output_type": "display_data"
    },
    {
     "data": {
      "application/vnd.jupyter.widget-view+json": {
       "model_id": "c04efdd47b2543278d935f50f74914e9",
       "version_major": 2,
       "version_minor": 0
      },
      "text/plain": [
       "  0%|          | 0/142 [00:00<?, ?it/s]"
      ]
     },
     "metadata": {},
     "output_type": "display_data"
    },
    {
     "data": {
      "application/vnd.jupyter.widget-view+json": {
       "model_id": "9defef249d5340a987b2bc8d1752e6db",
       "version_major": 2,
       "version_minor": 0
      },
      "text/plain": [
       "  0%|          | 0/142 [00:00<?, ?it/s]"
      ]
     },
     "metadata": {},
     "output_type": "display_data"
    },
    {
     "data": {
      "application/vnd.jupyter.widget-view+json": {
       "model_id": "6e6efecc78424ee690b918cae0f1fae7",
       "version_major": 2,
       "version_minor": 0
      },
      "text/plain": [
       "  0%|          | 0/142 [00:00<?, ?it/s]"
      ]
     },
     "metadata": {},
     "output_type": "display_data"
    },
    {
     "data": {
      "application/vnd.jupyter.widget-view+json": {
       "model_id": "5480fad7bcf54e64bdd8ab028c7878b5",
       "version_major": 2,
       "version_minor": 0
      },
      "text/plain": [
       "  0%|          | 0/142 [00:00<?, ?it/s]"
      ]
     },
     "metadata": {},
     "output_type": "display_data"
    },
    {
     "data": {
      "application/vnd.jupyter.widget-view+json": {
       "model_id": "9d5d9da8fcb84f36a64c60cef629dc59",
       "version_major": 2,
       "version_minor": 0
      },
      "text/plain": [
       "  0%|          | 0/142 [00:00<?, ?it/s]"
      ]
     },
     "metadata": {},
     "output_type": "display_data"
    }
   ],
   "source": [
    "LR = 5e-4\n",
    "E = 142//16\n",
    "device = 'cpu:0'\n",
    "params_linear2 = {}\n",
    "acc_linear2 = {}\n",
    "\n",
    "params_kernel32 = {}\n",
    "acc_kernel32 = {}\n",
    "\n",
    "params_kernel52 = {}\n",
    "acc_kernel52 = {}\n",
    "\n",
    "params2 = {}\n",
    "acc2 = {}\n",
    "\n",
    "net = var_net.VarNet(var_net.VarLayer(13, 3, prior_sigma=prior_sigma,  init_log_sigma=init_log_sigma,\n",
    "                                          act=lambda x:x))\n",
    "\n",
    "for l in lamb:\n",
    "    params2[l] = []\n",
    "    acc2[l] = []\n",
    "    for i in range(5):\n",
    "        net.load_state_dict(t.load('./saved_wine/var_net0_lam_{}_start_{}.cpk'.format(l, i)))\n",
    "        params2[l].append((net[0].mean.cpu().detach().numpy().copy(), net[0].log_sigma.cpu().detach().numpy().copy()))\n",
    "        net.eval()\n",
    "        acc2[l].append( ((1.0*t.eq(net(test_X.float()).argmax(1), test_Y)).mean().item()))\n",
    "        net.train()\n",
    "        \n",
    "        \n",
    "# linear\n",
    "net0 = var_net.VarNet( linear_var_hypernet.VarLayerLinearAppr(13, 3,  prior_sigma=prior_sigma, act=lambda x:x, init_log_sigma=init_log_sigma))\n",
    "for l in lamb:\n",
    "    params_linear2[l] = []\n",
    "    acc_linear2[l] = []\n",
    "    for i in range(5):\n",
    "        net0.load_state_dict(t.load('./saved_wine/var_linear_start_{}.cpk'.format(i)))\n",
    "        \n",
    "        utils0.net_copy(net0, net, lambda_encode(t.tensor(l)), layer_num=1, mode='var')\n",
    "        #acc[l].append( ((1.0*t.eq(net(test_X.float()).argmax(1), test_Y)).mean().item()))\n",
    "        optim = t.optim.Adam(net.parameters(), lr=LR)\n",
    "        loss_fn = nn.CrossEntropyLoss().to(device)   \n",
    "        \n",
    "        utils.train_batches_net(train_loader,len(train_data),  net, device, loss_fn, optim, l, 'fine linear '+str(i)+' ', batch_num=E)        \n",
    "        net.eval()\n",
    "        acc_linear2[l].append( ((1.0*t.eq(net(test_X.float()).argmax(1), test_Y)).mean().item()))\n",
    "        net.train()\n",
    "        params_linear2[l].append((net[0].mean.detach().numpy().copy(), net[0].log_sigma.detach().numpy().copy()))\n",
    "\n",
    "net0 = var_net.VarNet(kernel_hypernet.VarKernelLayer(13, 3,   3, \n",
    "                                                    prior_sigma=prior_sigma, act=lambda x:x, init_log_sigma=init_log_sigma))              \n",
    "for l in lamb:\n",
    "    params_kernel32[l] = []\n",
    "    acc_kernel32[l] = []\n",
    "    for i in range(5):\n",
    "        net0.load_state_dict(t.load('./saved_wine/var_kernel_3_start_{}.cpk'.format(i)))        \n",
    "        utils0.net_copy(net0, net, lambda_encode(t.tensor(l)), layer_num=1, mode='var')\n",
    "        #acc[l].append( ((1.0*t.eq(net(test_X.float()).argmax(1), test_Y)).mean().item()))\n",
    "        optim = t.optim.Adam(net.parameters(), lr=LR)\n",
    "        loss_fn = nn.CrossEntropyLoss().to(device)       \n",
    "        \n",
    "        utils.train_batches_net(train_loader,len(train_data),  net, device, loss_fn, optim, l,  'fine kernel3 '+str(i)+' ', batch_num=E)    \n",
    "        net.eval()\n",
    "        acc_kernel32[l].append( ((1.0*t.eq(net(test_X.float()).argmax(1), test_Y)).mean().item()))\n",
    "        net.train()\n",
    "        params_kernel32[l].append((net[0].mean.detach().numpy().copy(), net[0].log_sigma.detach().numpy().copy()))\n",
    "\n",
    "net0 = var_net.VarNet(kernel_hypernet.VarKernelLayer(13, 3,   5, \n",
    "                                                    prior_sigma=prior_sigma, act=lambda x:x, init_log_sigma=init_log_sigma))\n",
    "\n",
    "for l in lamb:\n",
    "    params_kernel52[l] = []\n",
    "    acc_kernel52[l] = []\n",
    "    for i in range(5):\n",
    "        net0.load_state_dict(t.load('./saved_wine/var_kernel_5_start_{}.cpk'.format(i)))        \n",
    "        utils0.net_copy(net0, net, lambda_encode(t.tensor(l)), layer_num=1, mode='var')\n",
    "        #acc[l].append( ((1.0*t.eq(net(test_X.float()).argmax(1), test_Y)).mean().item()))\n",
    "        optim = t.optim.Adam(net.parameters(), lr=LR)\n",
    "        loss_fn = nn.CrossEntropyLoss().to(device)       \n",
    "        \n",
    "        utils.train_batches_net(train_loader,len(train_data),  net, device, loss_fn, optim, l,  'fine kernel5 '+str(i)+' ', batch_num=E)     \n",
    "        net.eval()\n",
    "        acc_kernel52[l].append( ((1.0*t.eq(net(test_X.float()).argmax(1), test_Y)).mean().item()))\n",
    "        net.train()\n",
    "        params_kernel52[l].append((net[0].mean.detach().numpy().copy(), net[0].log_sigma.detach().numpy().copy()))\n",
    "\n",
    "            "
   ]
  },
  {
   "cell_type": "code",
   "execution_count": 69,
   "id": "462d8ce2",
   "metadata": {},
   "outputs": [
    {
     "data": {
      "text/plain": [
       "[0.6111111044883728,\n",
       " 0.5555555820465088,\n",
       " 0.6111111044883728,\n",
       " 0.4722222089767456,\n",
       " 0.4166666567325592]"
      ]
     },
     "execution_count": 69,
     "metadata": {},
     "output_type": "execute_result"
    }
   ],
   "source": [
    "[np.max([a for a in acc2[l]]) for l in lamb]"
   ]
  },
  {
   "cell_type": "code",
   "execution_count": 8,
   "id": "5def600b",
   "metadata": {},
   "outputs": [
    {
     "name": "stdout",
     "output_type": "stream",
     "text": [
      "[-1.0793812, -0.92049277, -0.008894195, 0.68305033, 1.3371274] [0.9277777791023254, 0.9333333253860474, 0.7666666626930236, 0.7333333253860473, 0.5444444477558136]\n",
      "[-3.1188517, -1.5102569, 0.15598989, 0.6878025, 1.2639238] [0.9333333253860474, 0.8666666626930237, 0.8111111164093018, 0.8222222328186035, 0.5333333313465118]\n"
     ]
    },
    {
     "data": {
      "image/png": "[encoded data removed]",
      "text/plain": [
       "<Figure size 504x324 with 2 Axes>"
      ]
     },
     "metadata": {},
     "output_type": "display_data"
    }
   ],
   "source": [
    "fig, ax1 = plt.subplots()\n",
    "ax2 = ax1.twinx()\n",
    "\n",
    "\n",
    "### nets\n",
    "X = []\n",
    "Y = []\n",
    "for l in lamb:    \n",
    "    denon = 0\n",
    "    x = []\n",
    "    y = []\n",
    "    for i in range(5):\n",
    "        denon += dist(params[l][i])\n",
    "    for i in range(5):\n",
    "        x_ = 0 \n",
    "        for j in range(5):\n",
    "            x_ += dist(params[l][i], params[l][j])\n",
    "        denon = 1\n",
    "        x.append(np.log(x_/denon))\n",
    "        y.append(acc[l][i])\n",
    "    #plt.errorbar([np.mean(x)], [np.mean(y)], xerr =[[np.mean(x) - np.min(x)], [np.max(x) - np.mean(x) ]],\n",
    "    #             yerr = [[np.mean(y) - np.min(y)], [np.max(y) - np.mean(y)]], marker='.', c='r', markersize=10)\n",
    "    X.append(np.mean(x))\n",
    "    Y.append(np.mean(y))\n",
    "#plt.plot(X, Y, c='r')\n",
    "ax2.set_yticks(Y)\n",
    "ax2.set_yticklabels(['2', '', '4', '5', '6'])  \n",
    "\n",
    "\n",
    "# linear\n",
    "X = []\n",
    "Y = []\n",
    "for l in lamb:    \n",
    "    denon = 0\n",
    "    x = []\n",
    "    y = []\n",
    "    for i in range(5):\n",
    "        denon += dist(params[l][i])\n",
    "    for i in range(5):\n",
    "        x_ = 0 \n",
    "        for j in range(5):\n",
    "            x_ += dist(params_linear2[l][i],  params[l][j])\n",
    "        denon = 1\n",
    "        x.append(np.log(x_/denon))\n",
    "        y.append(acc_linear2[l][i])\n",
    "    plt.errorbar([np.mean(x)], [np.mean(y)], xerr =[[np.mean(x) - np.min(x)], [np.max(x) - np.mean(x) ]],\n",
    "                 yerr = [[np.mean(y) - np.min(y)], [np.max(y) - np.mean(y)]], c='b', marker='.', markersize=10)\n",
    "    X.append(np.mean(x))\n",
    "    Y.append(np.mean(y))\n",
    "    \n",
    "plt.plot(X, Y, c='b')    \n",
    "\n",
    "# kernel-3\n",
    "X = []\n",
    "Y = []\n",
    "for l in lamb:    \n",
    "    denon = 0\n",
    "    x = []\n",
    "    y = []\n",
    "    for i in range(5):\n",
    "        denon += dist(params[l][i])\n",
    "    for i in range(5):\n",
    "        x_ = 0 \n",
    "        for j in range(5):\n",
    "            x_ += dist(params_kernel32[l][i], params[l][j])\n",
    "        \n",
    "        x.append(np.log(x_/denon))\n",
    "        y.append(acc_kernel32[l][i])\n",
    "    plt.errorbar([np.mean(x)], [np.mean(y)], xerr =[[np.mean(x) - np.min(x)], [np.max(x) - np.mean(x) ]],\n",
    "                 yerr = [[np.mean(y) - np.min(y)], [np.max(y) - np.mean(y)]], c='g', marker='.', markersize=10)\n",
    "    X.append(np.mean(x))\n",
    "    Y.append(np.mean(y))\n",
    "print (X, Y)\n",
    "    \n",
    "plt.plot(X, Y, c='g')    \n",
    "\n",
    "\n",
    "# kernel-5\n",
    "X = []\n",
    "Y = []\n",
    "for l in lamb:    \n",
    "    denon = 0\n",
    "    x = []\n",
    "    y = []\n",
    "    for i in range(5):\n",
    "        denon += dist(params[l][i])\n",
    "    for i in range(5):\n",
    "        x_ = 0 \n",
    "        for j in range(5):\n",
    "            x_ += dist(params_kernel52[l][i], params[l][j])\n",
    "        x.append(np.log(x_/denon))\n",
    "        y.append(acc_kernel52[l][i])\n",
    "    plt.errorbar([np.mean(x)], [np.mean(y)], xerr =[[np.mean(x) - np.min(x)], [np.max(x) - np.mean(x) ]],\n",
    "                 yerr = [[np.mean(y) - np.min(y)], [np.max(y) - np.mean(y)]], c='k', marker='.', markersize=10)\n",
    "    X.append(np.mean(x))\n",
    "    Y.append(np.mean(y))\n",
    "print (X, Y)\n",
    "plt.plot(X, Y, c='k') \n",
    "\n",
    "plt.ylim((0, 1))\n",
    "ax1.set_ylabel('Accuracy')\n",
    "ax1.set_xlabel('Deviation from basic model')\n",
    "ax2.set_ylabel('$log_{10}(\\lambda)$')\n",
    "#ax2.set_ylabel('sin', color='r')\n",
    "\n",
    "\n",
    "plt.savefig('wine_base_1.png', bbox_inches='tight')\n",
    "\n",
    "\n",
    "\n",
    "\n"
   ]
  },
  {
   "cell_type": "code",
   "execution_count": 9,
   "id": "d0e41576",
   "metadata": {
    "scrolled": true
   },
   "outputs": [
    {
     "name": "stderr",
     "output_type": "stream",
     "text": [
      "/home/leginpc/reps/VarHyperNet/code/wine/../src/var_net.py:31: UserWarning: nn.init.xavier_uniform is now deprecated in favor of nn.init.xavier_uniform_.\n",
      "  t.nn.init.xavier_uniform(self.mean)\n",
      "/home/leginpc/reps/VarHyperNet/code/wine/../src/linear_var_hypernet.py:162: UserWarning: nn.init.xavier_uniform is now deprecated in favor of nn.init.xavier_uniform_.\n",
      "  t.nn.init.xavier_uniform(self.const,  init_const)\n",
      "/home/leginpc/reps/VarHyperNet/code/wine/../src/linear_var_hypernet.py:164: UserWarning: nn.init.xavier_uniform is now deprecated in favor of nn.init.xavier_uniform_.\n",
      "  t.nn.init.xavier_uniform(self.const2,  init_const2)\n"
     ]
    },
    {
     "data": {
      "application/vnd.jupyter.widget-view+json": {
       "model_id": "3ddcff4f5afb4018921fef8e5b5e39a5",
       "version_major": 2,
       "version_minor": 0
      },
      "text/plain": [
       "  0%|          | 0/142 [00:00<?, ?it/s]"
      ]
     },
     "metadata": {},
     "output_type": "display_data"
    },
    {
     "data": {
      "application/vnd.jupyter.widget-view+json": {
       "model_id": "7db56f2d15774647ab774e63d22fbe92",
       "version_major": 2,
       "version_minor": 0
      },
      "text/plain": [
       "  0%|          | 0/142 [00:00<?, ?it/s]"
      ]
     },
     "metadata": {},
     "output_type": "display_data"
    },
    {
     "data": {
      "application/vnd.jupyter.widget-view+json": {
       "model_id": "4b2a3926df6f440eac06c50e7f74f950",
       "version_major": 2,
       "version_minor": 0
      },
      "text/plain": [
       "  0%|          | 0/142 [00:00<?, ?it/s]"
      ]
     },
     "metadata": {},
     "output_type": "display_data"
    },
    {
     "data": {
      "application/vnd.jupyter.widget-view+json": {
       "model_id": "f981e638ced84c1cb9de317bde1e9912",
       "version_major": 2,
       "version_minor": 0
      },
      "text/plain": [
       "  0%|          | 0/142 [00:00<?, ?it/s]"
      ]
     },
     "metadata": {},
     "output_type": "display_data"
    },
    {
     "data": {
      "application/vnd.jupyter.widget-view+json": {
       "model_id": "ecca983063c64761aa80964c4c8bf637",
       "version_major": 2,
       "version_minor": 0
      },
      "text/plain": [
       "  0%|          | 0/142 [00:00<?, ?it/s]"
      ]
     },
     "metadata": {},
     "output_type": "display_data"
    },
    {
     "data": {
      "application/vnd.jupyter.widget-view+json": {
       "model_id": "39f8575c2b6f41168da28a431810cf24",
       "version_major": 2,
       "version_minor": 0
      },
      "text/plain": [
       "  0%|          | 0/142 [00:00<?, ?it/s]"
      ]
     },
     "metadata": {},
     "output_type": "display_data"
    },
    {
     "data": {
      "application/vnd.jupyter.widget-view+json": {
       "model_id": "3b9623e753df41c3a3fba2d9582f4f73",
       "version_major": 2,
       "version_minor": 0
      },
      "text/plain": [
       "  0%|          | 0/142 [00:00<?, ?it/s]"
      ]
     },
     "metadata": {},
     "output_type": "display_data"
    },
    {
     "data": {
      "application/vnd.jupyter.widget-view+json": {
       "model_id": "b6caf338e1cb4e06b8304f35d5290693",
       "version_major": 2,
       "version_minor": 0
      },
      "text/plain": [
       "  0%|          | 0/142 [00:00<?, ?it/s]"
      ]
     },
     "metadata": {},
     "output_type": "display_data"
    },
    {
     "data": {
      "application/vnd.jupyter.widget-view+json": {
       "model_id": "077ef95c5e6f43f09e0b301404c32ce0",
       "version_major": 2,
       "version_minor": 0
      },
      "text/plain": [
       "  0%|          | 0/142 [00:00<?, ?it/s]"
      ]
     },
     "metadata": {},
     "output_type": "display_data"
    },
    {
     "data": {
      "application/vnd.jupyter.widget-view+json": {
       "model_id": "15b601558ef84711a0da9ea29e9f6ec6",
       "version_major": 2,
       "version_minor": 0
      },
      "text/plain": [
       "  0%|          | 0/142 [00:00<?, ?it/s]"
      ]
     },
     "metadata": {},
     "output_type": "display_data"
    },
    {
     "data": {
      "application/vnd.jupyter.widget-view+json": {
       "model_id": "032e7578fd1443caa2099741cc85fa38",
       "version_major": 2,
       "version_minor": 0
      },
      "text/plain": [
       "  0%|          | 0/142 [00:00<?, ?it/s]"
      ]
     },
     "metadata": {},
     "output_type": "display_data"
    },
    {
     "data": {
      "application/vnd.jupyter.widget-view+json": {
       "model_id": "16ce4e9f7c174097b2a6df32ac4f971a",
       "version_major": 2,
       "version_minor": 0
      },
      "text/plain": [
       "  0%|          | 0/142 [00:00<?, ?it/s]"
      ]
     },
     "metadata": {},
     "output_type": "display_data"
    },
    {
     "data": {
      "application/vnd.jupyter.widget-view+json": {
       "model_id": "465682cc3969418ab1b6600ca1e78f3d",
       "version_major": 2,
       "version_minor": 0
      },
      "text/plain": [
       "  0%|          | 0/142 [00:00<?, ?it/s]"
      ]
     },
     "metadata": {},
     "output_type": "display_data"
    },
    {
     "data": {
      "application/vnd.jupyter.widget-view+json": {
       "model_id": "cef60db38a124bd0ba6992cb44e3a6b1",
       "version_major": 2,
       "version_minor": 0
      },
      "text/plain": [
       "  0%|          | 0/142 [00:00<?, ?it/s]"
      ]
     },
     "metadata": {},
     "output_type": "display_data"
    },
    {
     "data": {
      "application/vnd.jupyter.widget-view+json": {
       "model_id": "0267f86aa34a4254ab95ae50909d88a7",
       "version_major": 2,
       "version_minor": 0
      },
      "text/plain": [
       "  0%|          | 0/142 [00:00<?, ?it/s]"
      ]
     },
     "metadata": {},
     "output_type": "display_data"
    },
    {
     "data": {
      "application/vnd.jupyter.widget-view+json": {
       "model_id": "2259157aae674e8d9b29972c661669e0",
       "version_major": 2,
       "version_minor": 0
      },
      "text/plain": [
       "  0%|          | 0/142 [00:00<?, ?it/s]"
      ]
     },
     "metadata": {},
     "output_type": "display_data"
    },
    {
     "data": {
      "application/vnd.jupyter.widget-view+json": {
       "model_id": "1e42767a507343e68e025c8d0d247faa",
       "version_major": 2,
       "version_minor": 0
      },
      "text/plain": [
       "  0%|          | 0/142 [00:00<?, ?it/s]"
      ]
     },
     "metadata": {},
     "output_type": "display_data"
    },
    {
     "data": {
      "application/vnd.jupyter.widget-view+json": {
       "model_id": "5efe3fb78a7f4b14a68882000a28e4f6",
       "version_major": 2,
       "version_minor": 0
      },
      "text/plain": [
       "  0%|          | 0/142 [00:00<?, ?it/s]"
      ]
     },
     "metadata": {},
     "output_type": "display_data"
    },
    {
     "data": {
      "application/vnd.jupyter.widget-view+json": {
       "model_id": "20ae228523f34122ac03bb19787f076a",
       "version_major": 2,
       "version_minor": 0
      },
      "text/plain": [
       "  0%|          | 0/142 [00:00<?, ?it/s]"
      ]
     },
     "metadata": {},
     "output_type": "display_data"
    },
    {
     "data": {
      "application/vnd.jupyter.widget-view+json": {
       "model_id": "2b5b8c89b3eb4fa587a6aac97811b8c6",
       "version_major": 2,
       "version_minor": 0
      },
      "text/plain": [
       "  0%|          | 0/142 [00:00<?, ?it/s]"
      ]
     },
     "metadata": {},
     "output_type": "display_data"
    },
    {
     "data": {
      "application/vnd.jupyter.widget-view+json": {
       "model_id": "8e5a37b34b9e4fcbb042813e01354860",
       "version_major": 2,
       "version_minor": 0
      },
      "text/plain": [
       "  0%|          | 0/142 [00:00<?, ?it/s]"
      ]
     },
     "metadata": {},
     "output_type": "display_data"
    },
    {
     "data": {
      "application/vnd.jupyter.widget-view+json": {
       "model_id": "2b402c5ac8b8486a9ed351feb470e582",
       "version_major": 2,
       "version_minor": 0
      },
      "text/plain": [
       "  0%|          | 0/142 [00:00<?, ?it/s]"
      ]
     },
     "metadata": {},
     "output_type": "display_data"
    },
    {
     "data": {
      "application/vnd.jupyter.widget-view+json": {
       "model_id": "495a2c139aa941229a540364e12da130",
       "version_major": 2,
       "version_minor": 0
      },
      "text/plain": [
       "  0%|          | 0/142 [00:00<?, ?it/s]"
      ]
     },
     "metadata": {},
     "output_type": "display_data"
    },
    {
     "data": {
      "application/vnd.jupyter.widget-view+json": {
       "model_id": "824a682a86b241b5a5a18df723f2e23f",
       "version_major": 2,
       "version_minor": 0
      },
      "text/plain": [
       "  0%|          | 0/142 [00:00<?, ?it/s]"
      ]
     },
     "metadata": {},
     "output_type": "display_data"
    },
    {
     "data": {
      "application/vnd.jupyter.widget-view+json": {
       "model_id": "ada892629498495d8c095b90dea0e87f",
       "version_major": 2,
       "version_minor": 0
      },
      "text/plain": [
       "  0%|          | 0/142 [00:00<?, ?it/s]"
      ]
     },
     "metadata": {},
     "output_type": "display_data"
    },
    {
     "data": {
      "application/vnd.jupyter.widget-view+json": {
       "model_id": "fc840b27b4254a838bb8362467842db7",
       "version_major": 2,
       "version_minor": 0
      },
      "text/plain": [
       "  0%|          | 0/142 [00:00<?, ?it/s]"
      ]
     },
     "metadata": {},
     "output_type": "display_data"
    },
    {
     "data": {
      "application/vnd.jupyter.widget-view+json": {
       "model_id": "5c37e69015134871ab250f3fdca1dc3e",
       "version_major": 2,
       "version_minor": 0
      },
      "text/plain": [
       "  0%|          | 0/142 [00:00<?, ?it/s]"
      ]
     },
     "metadata": {},
     "output_type": "display_data"
    },
    {
     "data": {
      "application/vnd.jupyter.widget-view+json": {
       "model_id": "15c380d2caa44438bbd2f3dc6c56ed3f",
       "version_major": 2,
       "version_minor": 0
      },
      "text/plain": [
       "  0%|          | 0/142 [00:00<?, ?it/s]"
      ]
     },
     "metadata": {},
     "output_type": "display_data"
    },
    {
     "data": {
      "application/vnd.jupyter.widget-view+json": {
       "model_id": "8ccfb86025644134a35abd0055e27eb0",
       "version_major": 2,
       "version_minor": 0
      },
      "text/plain": [
       "  0%|          | 0/142 [00:00<?, ?it/s]"
      ]
     },
     "metadata": {},
     "output_type": "display_data"
    },
    {
     "data": {
      "application/vnd.jupyter.widget-view+json": {
       "model_id": "274d2a81c76b4afe8dc8b57aea58dc85",
       "version_major": 2,
       "version_minor": 0
      },
      "text/plain": [
       "  0%|          | 0/142 [00:00<?, ?it/s]"
      ]
     },
     "metadata": {},
     "output_type": "display_data"
    },
    {
     "data": {
      "application/vnd.jupyter.widget-view+json": {
       "model_id": "cda67acb5dfa428b8bbe91a1e29d6c7c",
       "version_major": 2,
       "version_minor": 0
      },
      "text/plain": [
       "  0%|          | 0/142 [00:00<?, ?it/s]"
      ]
     },
     "metadata": {},
     "output_type": "display_data"
    },
    {
     "data": {
      "application/vnd.jupyter.widget-view+json": {
       "model_id": "f8f5935ddc534858ac3fcb666f32525f",
       "version_major": 2,
       "version_minor": 0
      },
      "text/plain": [
       "  0%|          | 0/142 [00:00<?, ?it/s]"
      ]
     },
     "metadata": {},
     "output_type": "display_data"
    },
    {
     "data": {
      "application/vnd.jupyter.widget-view+json": {
       "model_id": "cc456bd5fcc7463b91c21f1494192b28",
       "version_major": 2,
       "version_minor": 0
      },
      "text/plain": [
       "  0%|          | 0/142 [00:00<?, ?it/s]"
      ]
     },
     "metadata": {},
     "output_type": "display_data"
    },
    {
     "data": {
      "application/vnd.jupyter.widget-view+json": {
       "model_id": "573a87640412474db0f95472657c3144",
       "version_major": 2,
       "version_minor": 0
      },
      "text/plain": [
       "  0%|          | 0/142 [00:00<?, ?it/s]"
      ]
     },
     "metadata": {},
     "output_type": "display_data"
    },
    {
     "data": {
      "application/vnd.jupyter.widget-view+json": {
       "model_id": "593d6076c0264af281718e9900a8085f",
       "version_major": 2,
       "version_minor": 0
      },
      "text/plain": [
       "  0%|          | 0/142 [00:00<?, ?it/s]"
      ]
     },
     "metadata": {},
     "output_type": "display_data"
    },
    {
     "data": {
      "application/vnd.jupyter.widget-view+json": {
       "model_id": "4f4ce3159a084e9f9d7226f02a540b86",
       "version_major": 2,
       "version_minor": 0
      },
      "text/plain": [
       "  0%|          | 0/142 [00:00<?, ?it/s]"
      ]
     },
     "metadata": {},
     "output_type": "display_data"
    },
    {
     "data": {
      "application/vnd.jupyter.widget-view+json": {
       "model_id": "a251af5983c64c56ab63df53e5cfe4a1",
       "version_major": 2,
       "version_minor": 0
      },
      "text/plain": [
       "  0%|          | 0/142 [00:00<?, ?it/s]"
      ]
     },
     "metadata": {},
     "output_type": "display_data"
    },
    {
     "data": {
      "application/vnd.jupyter.widget-view+json": {
       "model_id": "8b32f37c5c81455789be0c642bc1d2a9",
       "version_major": 2,
       "version_minor": 0
      },
      "text/plain": [
       "  0%|          | 0/142 [00:00<?, ?it/s]"
      ]
     },
     "metadata": {},
     "output_type": "display_data"
    },
    {
     "data": {
      "application/vnd.jupyter.widget-view+json": {
       "model_id": "6b2c9cfab52942e2ba6032b83a9f54d3",
       "version_major": 2,
       "version_minor": 0
      },
      "text/plain": [
       "  0%|          | 0/142 [00:00<?, ?it/s]"
      ]
     },
     "metadata": {},
     "output_type": "display_data"
    },
    {
     "data": {
      "application/vnd.jupyter.widget-view+json": {
       "model_id": "e3bf79a8d4d34bde910aaa0da7686cc9",
       "version_major": 2,
       "version_minor": 0
      },
      "text/plain": [
       "  0%|          | 0/142 [00:00<?, ?it/s]"
      ]
     },
     "metadata": {},
     "output_type": "display_data"
    },
    {
     "data": {
      "application/vnd.jupyter.widget-view+json": {
       "model_id": "66ec741f897e4bd591351f74584f9e28",
       "version_major": 2,
       "version_minor": 0
      },
      "text/plain": [
       "  0%|          | 0/142 [00:00<?, ?it/s]"
      ]
     },
     "metadata": {},
     "output_type": "display_data"
    },
    {
     "data": {
      "application/vnd.jupyter.widget-view+json": {
       "model_id": "adc10d2544614446895bf55777b84cae",
       "version_major": 2,
       "version_minor": 0
      },
      "text/plain": [
       "  0%|          | 0/142 [00:00<?, ?it/s]"
      ]
     },
     "metadata": {},
     "output_type": "display_data"
    },
    {
     "data": {
      "application/vnd.jupyter.widget-view+json": {
       "model_id": "6aaa6f32496d4eefb66d721a7e3275e0",
       "version_major": 2,
       "version_minor": 0
      },
      "text/plain": [
       "  0%|          | 0/142 [00:00<?, ?it/s]"
      ]
     },
     "metadata": {},
     "output_type": "display_data"
    },
    {
     "data": {
      "application/vnd.jupyter.widget-view+json": {
       "model_id": "8534a86c6fca41108ec479e1913649c1",
       "version_major": 2,
       "version_minor": 0
      },
      "text/plain": [
       "  0%|          | 0/142 [00:00<?, ?it/s]"
      ]
     },
     "metadata": {},
     "output_type": "display_data"
    },
    {
     "data": {
      "application/vnd.jupyter.widget-view+json": {
       "model_id": "c58ff3d0029c49f092a8b375b2449f2d",
       "version_major": 2,
       "version_minor": 0
      },
      "text/plain": [
       "  0%|          | 0/142 [00:00<?, ?it/s]"
      ]
     },
     "metadata": {},
     "output_type": "display_data"
    },
    {
     "data": {
      "application/vnd.jupyter.widget-view+json": {
       "model_id": "8a1c7ea8877e4209b6ec30261be597ff",
       "version_major": 2,
       "version_minor": 0
      },
      "text/plain": [
       "  0%|          | 0/142 [00:00<?, ?it/s]"
      ]
     },
     "metadata": {},
     "output_type": "display_data"
    },
    {
     "data": {
      "application/vnd.jupyter.widget-view+json": {
       "model_id": "bd78dab3a6a9480b8fbc11ceba66a946",
       "version_major": 2,
       "version_minor": 0
      },
      "text/plain": [
       "  0%|          | 0/142 [00:00<?, ?it/s]"
      ]
     },
     "metadata": {},
     "output_type": "display_data"
    },
    {
     "data": {
      "application/vnd.jupyter.widget-view+json": {
       "model_id": "63b2efe409e44469bf56c01422b518b2",
       "version_major": 2,
       "version_minor": 0
      },
      "text/plain": [
       "  0%|          | 0/142 [00:00<?, ?it/s]"
      ]
     },
     "metadata": {},
     "output_type": "display_data"
    },
    {
     "data": {
      "application/vnd.jupyter.widget-view+json": {
       "model_id": "bb59201219a449038e20c28db177321b",
       "version_major": 2,
       "version_minor": 0
      },
      "text/plain": [
       "  0%|          | 0/142 [00:00<?, ?it/s]"
      ]
     },
     "metadata": {},
     "output_type": "display_data"
    },
    {
     "data": {
      "application/vnd.jupyter.widget-view+json": {
       "model_id": "5607f9183880453dba4bd760a1357e9c",
       "version_major": 2,
       "version_minor": 0
      },
      "text/plain": [
       "  0%|          | 0/142 [00:00<?, ?it/s]"
      ]
     },
     "metadata": {},
     "output_type": "display_data"
    }
   ],
   "source": [
    "LR = 5e-4\n",
    "E = 142\n",
    "\n",
    "params_linear22 = {}\n",
    "acc_linear22 = {}\n",
    "\n",
    "params_kernel32 = {}\n",
    "acc_kernel32 = {}\n",
    "\n",
    "params_kernel522 = {}\n",
    "acc_kernel522 = {}\n",
    "\n",
    "params2 = {}\n",
    "acc2 = {}\n",
    "\n",
    "net = var_net.VarNet(var_net.VarLayer(13, 3, prior_sigma=prior_sigma,  init_log_sigma=init_log_sigma,\n",
    "                                          act=lambda x:x))\n",
    "\n",
    "\n",
    "# linear\n",
    "net0 = var_net.VarNet( linear_var_hypernet.VarLayerLinearAppr(13, 3,  prior_sigma=prior_sigma, act=lambda x:x, init_log_sigma=init_log_sigma))\n",
    "for l in lamb:\n",
    "    params_linear22[l] = []\n",
    "    acc_linear22[l] = []\n",
    "    for i in range(5):\n",
    "        net0.load_state_dict(t.load('./saved_wine/var_linear_start_{}.cpk'.format(i)))\n",
    "        \n",
    "        utils0.net_copy(net0, net, lambda_encode(t.tensor(l)), layer_num=1, mode='var')\n",
    "        #acc[l].append( ((1.0*t.eq(net(test_X.float()).argmax(1), test_Y)).mean().item()))\n",
    "        optim = t.optim.Adam(net.parameters(), lr=LR)\n",
    "        loss_fn = nn.CrossEntropyLoss().to(device)   \n",
    "        \n",
    "        utils.train_batches_net(train_loader,len(train_data),  net, device, loss_fn, optim, l, 'fine linear '+str(i)+' ', batch_num=E)        \n",
    "        net.eval()\n",
    "        acc_linear22[l].append( ((1.0*t.eq(net(test_X.float()).argmax(1), test_Y)).mean().item()))\n",
    "        net.train()\n",
    "        params_linear22[l].append((net[0].mean.detach().numpy().copy(), net[0].log_sigma.detach().numpy().copy()))\n",
    "\n",
    "\n",
    "net0 = var_net.VarNet(kernel_hypernet.VarKernelLayer(13, 3,   5, \n",
    "                                                    prior_sigma=prior_sigma, act=lambda x:x, init_log_sigma=init_log_sigma))\n",
    "\n",
    "for l in lamb:\n",
    "    params_kernel522[l] = []\n",
    "    acc_kernel522[l] = []\n",
    "    for i in range(5):\n",
    "        net0.load_state_dict(t.load('./saved_wine/var_kernel_5_start_{}.cpk'.format(i)))        \n",
    "        utils0.net_copy(net0, net, lambda_encode(t.tensor(l)), layer_num=1, mode='var')\n",
    "        #acc[l].append( ((1.0*t.eq(net(test_X.float()).argmax(1), test_Y)).mean().item()))\n",
    "        optim = t.optim.Adam(net.parameters(), lr=LR)\n",
    "        loss_fn = nn.CrossEntropyLoss().to(device)       \n",
    "        \n",
    "        utils.train_batches_net(train_loader,len(train_data),  net, device, loss_fn, optim, l,  'fine kernel5 '+str(i)+' ', batch_num=E)     \n",
    "        net.eval()\n",
    "        acc_kernel522[l].append( ((1.0*t.eq(net(test_X.float()).argmax(1), test_Y)).mean().item()))\n",
    "        net.train()\n",
    "        params_kernel522[l].append((net[0].mean.detach().numpy().copy(), net[0].log_sigma.detach().numpy().copy()))\n",
    "\n",
    "            "
   ]
  },
  {
   "cell_type": "code",
   "execution_count": 33,
   "id": "53b88c92",
   "metadata": {},
   "outputs": [],
   "source": []
  },
  {
   "cell_type": "code",
   "execution_count": 50,
   "id": "b48844de",
   "metadata": {},
   "outputs": [
    {
     "data": {
      "image/png": "[encoded data removed]",
      "text/plain": [
       "<Figure size 396x288 with 2 Axes>"
      ]
     },
     "metadata": {},
     "output_type": "display_data"
    }
   ],
   "source": [
    "plt.rcParams['figure.figsize'] = (5.5, 4.0)\n",
    "fig, ax1 = plt.subplots()\n",
    "ax2 = ax1.twinx()\n",
    "\n",
    "### nets\n",
    "X = []\n",
    "Y = []\n",
    "for l in lamb:    \n",
    "    denon = 0\n",
    "    x = []\n",
    "    y = []\n",
    "    for i in range(5):\n",
    "        denon += dist(params[l][i])\n",
    "    for i in range(5):\n",
    "        x_ = 0 \n",
    "        for j in range(5):\n",
    "            x_ += dist(params[l][i], params[l][j])\n",
    "        denon = 1\n",
    "        x.append(np.log(x_/denon))\n",
    "        y.append(acc[l][i])\n",
    "    #plt.errorbar([np.mean(x)], [np.mean(y)], xerr =[[np.mean(x) - np.min(x)], [np.max(x) - np.mean(x) ]],\n",
    "    #             yerr = [[np.mean(y) - np.min(y)], [np.max(y) - np.mean(y)]], marker='.', c='r', markersize=10)\n",
    "    X.append(np.mean(x))\n",
    "    plt.axhline(np.mean(y),  linestyle = 'dashed', color = 'gray', label = 'Directly optimized model' if l == 10**2 else \"\")\n",
    "    Y.append(np.mean(y))\n",
    "#plt.plot(X, Y, c='r')\n",
    "ax2.set_yticks(Y)\n",
    "ax2.set_yticklabels(['2', '', '', '5', '6'])    \n",
    "    \n",
    "\n",
    "# linear\n",
    "X = []\n",
    "Y = []\n",
    "for l in lamb:    \n",
    "    denon = 0\n",
    "    x = []\n",
    "    y = []\n",
    "    for i in range(5):\n",
    "        denon += dist(params[l][i])\n",
    "    for i in range(5):\n",
    "        x_ = 0 \n",
    "        for j in range(5):\n",
    "            x_ += dist(params_linear[l][i], params[l][j])\n",
    "        denon = 1\n",
    "        x.append(np.log(x_/denon))\n",
    "        y.append(acc_linear[l][i])\n",
    "    #plt.plot([np.mean(x)], [np.mean(y)], c='g', marker='.', markersize=10)\n",
    "    X.append(np.mean(x))\n",
    "    Y.append(np.mean(y))\n",
    "    \n",
    "plt.plot(X, Y, c='g',label= 'Linear hypernet', marker='*', linewidth=2, markersize=8) \n",
    "\n",
    "\n",
    "# linear\n",
    "X = []\n",
    "Y = []\n",
    "for l in lamb:    \n",
    "    denon = 0\n",
    "    x = []\n",
    "    y = []\n",
    "    for i in range(5):\n",
    "        denon += dist(params[l][i])\n",
    "    for i in range(5):\n",
    "        x_ = 0 \n",
    "        for j in range(5):\n",
    "            x_ += dist(params_linear2[l][i], params[l][j])\n",
    "        denon = 1\n",
    "        x.append(np.log(x_/denon))\n",
    "        y.append(acc_linear2[l][i])\n",
    "    #plt.plot([np.mean(x)], [np.mean(y)], c='b', marker='.', markersize=10)\n",
    "    X.append(np.mean(x))\n",
    "    Y.append(np.mean(y))\n",
    "    \n",
    "#plt.plot(X, Y, c='b',label= 'linear model, fine-tuning on 8 samples', marker='.', linewidth=2, markersize=10) \n",
    "\n",
    "# linear\n",
    "X = []\n",
    "Y = []\n",
    "for l in lamb:    \n",
    "    denon = 0\n",
    "    x = []\n",
    "    y = []\n",
    "    for i in range(5):\n",
    "        denon += dist(params[l][i])\n",
    "    for i in range(5):\n",
    "        x_ = 0 \n",
    "        for j in range(5):\n",
    "            x_ += dist(params_linear22[l][i], params[l][j])\n",
    "        denon = 1\n",
    "        x.append(np.log(x_/denon))\n",
    "        y.append(acc_linear22[l][i])\n",
    "    #plt.plot([np.mean(x)], [np.mean(y)], c='r', marker='.', markersize=10)\n",
    "    X.append(np.mean(x))\n",
    "    Y.append(np.mean(y))\n",
    "    \n",
    "plt.plot(X, Y, c='r',label= 'Linear hypernet, fine-tuning',  marker='x', linewidth=2, markersize=8) \n",
    "\n",
    "\n",
    "\n",
    "# kernel-5\n",
    "X = []\n",
    "Y = []\n",
    "for l in lamb:    \n",
    "    denon = 0\n",
    "    x = []\n",
    "    y = []\n",
    "    for i in range(5):\n",
    "        denon += dist(params[l][i])\n",
    "    for i in range(5):\n",
    "        x_ = 0 \n",
    "        for j in range(5):\n",
    "            x_ += dist(params_kernel[5][l][i], params[l][j])\n",
    "        denon = 1\n",
    "        x.append(np.log(x_/denon))\n",
    "        y.append(acc_kernel[5][l][i])\n",
    "    X.append(np.mean(x))\n",
    "    Y.append(np.mean(y))\n",
    "plt.plot(X, Y, c='k', label=  'P.-w. lin. hypernet', marker='o', linewidth=2 , markersize=8)       \n",
    "\n",
    "plt.ylim((0, 1))\n",
    "ax1.grid()\n",
    "ax1.set_ylabel('Accuracy')\n",
    "ax1.set_xlabel('log Deviation from model without hypernetwork')\n",
    "ax2.set_ylabel('$log_{10}(\\lambda)$')\n",
    "#ax2.set_ylabel('sin', color='r')\n",
    "plt.legend()\n",
    "\n",
    "\n",
    "X = []\n",
    "Y = []\n",
    "for l in lamb:    \n",
    "    denon = 0\n",
    "    x = []\n",
    "    y = []\n",
    "    for i in range(5):\n",
    "        denon += dist(params[l][i])\n",
    "    for i in range(5):\n",
    "        x_ = 0 \n",
    "        for j in range(5):\n",
    "            x_ += dist(params_kernel52[l][i], params[l][j])\n",
    "        denon = 1\n",
    "        x.append(np.log(x_/denon))\n",
    "        y.append(acc_kernel52[l][i])\n",
    "    X.append(np.mean(x))\n",
    "    Y.append(np.mean(y))\n",
    "#plt.plot(X, Y, c='brown',  label=  'piecewise-linear model, fine-tuning on 8 samples', marker='.', linewidth=2, markersize=10)       \n",
    "\n",
    "X = []\n",
    "Y = []\n",
    "for l in lamb:    \n",
    "    denon = 0\n",
    "    x = []\n",
    "    y = []\n",
    "    for i in range(5):\n",
    "        denon += dist(params[l][i])\n",
    "    for i in range(5):\n",
    "        x_ = 0 \n",
    "        for j in range(5):\n",
    "            x_ += dist(params_kernel522[l][i], params[l][j])\n",
    "        denon = 1\n",
    "        x.append(np.log(x_/denon))\n",
    "        y.append(acc_kernel522[l][i])\n",
    "    X.append(np.mean(x))\n",
    "    Y.append(np.mean(y))\n",
    "plt.plot(X, Y, c='purple', label=  'P.-w. lin. hypernet, fine-tuning' ,marker='<', linewidth=2 , markersize=8)       \n",
    "\n",
    "\n",
    "plt.ylim((0, 1))\n",
    "ax1.grid()\n",
    "ax1.set_ylabel('Accuracy')\n",
    "ax1.set_xlabel('log $\\\\bar{D}_{\\mathrm{KL}}$')\n",
    "ax2.set_ylabel('$log_{10}(\\lambda)$')\n",
    "#ax2.set_ylabel('sin', color='r')\n",
    "plt.legend(bbox_to_anchor=(1.15, 0.9))\n",
    "\n",
    "plt.savefig('wine.pdf', bbox_inches='tight')\n",
    "\n"
   ]
  },
  {
   "cell_type": "code",
   "execution_count": 61,
   "id": "e8098fbf",
   "metadata": {},
   "outputs": [
    {
     "data": {
      "text/plain": [
       "{}"
      ]
     },
     "execution_count": 61,
     "metadata": {},
     "output_type": "execute_result"
    }
   ],
   "source": [
    "acc2"
   ]
  },
  {
   "cell_type": "code",
   "execution_count": 262,
   "id": "713f28f4",
   "metadata": {},
   "outputs": [
    {
     "name": "stderr",
     "output_type": "stream",
     "text": [
      "/tmp/ipykernel_5610/2742663401.py:9: UserWarning: FixedFormatter should only be used together with FixedLocator\n",
      "  axes.set_yticklabels(['']+['base model', 'linear','linear + fine-tune', 'piece-wise', 'piece-wise + fine-tune'])\n"
     ]
    },
    {
     "data": {
      "image/png": "[encoded data removed]",
      "text/plain": [
       "<Figure size 864x648 with 1 Axes>"
      ]
     },
     "metadata": {},
     "output_type": "display_data"
    }
   ],
   "source": [
    "plt.rcParams['figure.figsize'] = (12,9)\n",
    "figure = plt.figure()\n",
    "axes = figure.add_subplot(111)\n",
    "\n",
    "matrix1 = np.vstack([params[100][0].flatten(), params_linear[100][0].flatten(),  params_linear2[100][0].flatten(), params_kernel[5][100][0].flatten(),  params_kernel52[100][0].flatten()])\n",
    "axes.matshow(matrix1, cmap='gray')\n",
    "plt.xlabel('Parameter matrix component number')\n",
    "#ax.set_yticklabels([])\n",
    "axes.set_yticklabels(['']+['base model', 'linear','linear + fine-tune', 'piece-wise', 'piece-wise + fine-tune'])\n",
    "\n",
    "\n",
    "plt.savefig('wine_matrix1.png', bbox_inches='tight')\n"
   ]
  },
  {
   "cell_type": "code",
   "execution_count": 263,
   "id": "5de16a66",
   "metadata": {},
   "outputs": [
    {
     "name": "stderr",
     "output_type": "stream",
     "text": [
      "/tmp/ipykernel_5610/476825305.py:9: UserWarning: FixedFormatter should only be used together with FixedLocator\n",
      "  axes.set_yticklabels(['']+['base model', 'linear','linear + fine-tune', 'piece-wise', 'piece-wise + fine-tune'])\n"
     ]
    },
    {
     "data": {
      "image/png": "[encoded data removed]",
      "text/plain": [
       "<Figure size 864x648 with 1 Axes>"
      ]
     },
     "metadata": {},
     "output_type": "display_data"
    }
   ],
   "source": [
    "plt.rcParams['figure.figsize'] = (12,9)\n",
    "figure = plt.figure()\n",
    "axes = figure.add_subplot(111)\n",
    "\n",
    "matrix1 = np.vstack([params[1000000][0].flatten(), params_linear[1000000][0].flatten(),  params_linear2[1000000][0].flatten(), params_kernel[5][1000000][0].flatten(),  params_kernel52[1000000][0].flatten()])\n",
    "axes.matshow(matrix1, cmap='gray')\n",
    "plt.xlabel('Parameter matrix component number')\n",
    "#ax.set_yticklabels([])\n",
    "axes.set_yticklabels(['']+['base model', 'linear','linear + fine-tune', 'piece-wise', 'piece-wise + fine-tune'])\n",
    "plt.savefig('wine_matrix2.png', bbox_inches='tight')"
   ]
  },
  {
   "cell_type": "code",
   "execution_count": 48,
   "id": "aa6cf266",
   "metadata": {},
   "outputs": [
    {
     "data": {
      "text/plain": [
       "0.5333333253860474"
      ]
     },
     "execution_count": 48,
     "metadata": {},
     "output_type": "execute_result"
    }
   ],
   "source": [
    "np.mean(acc[1000000])"
   ]
  },
  {
   "cell_type": "code",
   "execution_count": null,
   "id": "afcce63e",
   "metadata": {},
   "outputs": [],
   "source": []
  },
  {
   "cell_type": "code",
   "execution_count": null,
   "id": "6c1ee31a",
   "metadata": {},
   "outputs": [],
   "source": []
  },
  {
   "cell_type": "code",
   "execution_count": null,
   "id": "cf9d33cc",
   "metadata": {},
   "outputs": [],
   "source": []
  },
  {
   "cell_type": "code",
   "execution_count": null,
   "id": "92ad66f6",
   "metadata": {},
   "outputs": [],
   "source": []
  }
 ],
 "metadata": {
  "kernelspec": {
   "display_name": "Python 3 (ipykernel)",
   "language": "python",
   "name": "python3"
  },
  "language_info": {
   "codemirror_mode": {
    "name": "ipython",
    "version": 3
   },
   "file_extension": ".py",
   "mimetype": "text/x-python",
   "name": "python",
   "nbconvert_exporter": "python",
   "pygments_lexer": "ipython3",
   "version": "3.8.10"
  }
 },
 "nbformat": 4,
 "nbformat_minor": 5
}
