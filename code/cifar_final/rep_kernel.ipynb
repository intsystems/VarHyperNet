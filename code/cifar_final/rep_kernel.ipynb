{
 "cells": [
  {
   "cell_type": "code",
   "execution_count": 1,
   "metadata": {},
   "outputs": [],
   "source": [
    "import torch as t \n",
    "import torchvision\n",
    "import numpy as np\n",
    "import torch.nn as nn\n",
    "import torch.nn.functional as F\n",
    "import torch.optim as optim\n",
    "import matplotlib.pylab as plt\n",
    "from torch.nn.utils import clip_grad_value_\n",
    "%matplotlib inline\n",
    "import pickle\n",
    "from torchvision import datasets, transforms\n",
    "import tqdm\n",
    "import os\n",
    "import sys\n",
    "sys.path.append('../src/')"
   ]
  },
  {
   "cell_type": "code",
   "execution_count": 2,
   "metadata": {},
   "outputs": [
    {
     "data": {
      "text/plain": [
       "<module 'kernel_hypernet' from '../src/kernel_hypernet.py'>"
      ]
     },
     "execution_count": 2,
     "metadata": {},
     "output_type": "execute_result"
    }
   ],
   "source": [
    "import importlib \n",
    "import kernel_hypernet as kernel_hypernet\n",
    "import var_net as var_net\n",
    "\n",
    "import mnist_utils as utils\n",
    "importlib.reload(utils)\n",
    "importlib.reload(var_net)\n",
    "importlib.reload(kernel_hypernet)\n",
    "\n"
   ]
  },
  {
   "cell_type": "code",
   "execution_count": 3,
   "metadata": {},
   "outputs": [],
   "source": [
    "device = 'cuda' # cuda or cpu\n",
    "device = t.device(device)\n",
    "if device == 'cuda':\n",
    "    t.backends.cudnn.deterministic = True\n",
    "    t.backends.cudnn.benchmark = False"
   ]
  },
  {
   "cell_type": "code",
   "execution_count": 4,
   "metadata": {},
   "outputs": [
    {
     "data": {
      "text/plain": [
       "(tensor(0.), tensor(1.))"
      ]
     },
     "execution_count": 4,
     "metadata": {},
     "output_type": "execute_result"
    }
   ],
   "source": [
    "batch_size = 128\n",
    "init_log_sigma = -3.0 # логарифм дисперсии вариационного распределения при инициализации\n",
    "prior_sigma = 1.0 # априорная дисперсия\n",
    "epoch_num = 150 #количество эпох\n",
    "lamb = [1e-2, 1e-1, 1.0]\n",
    "lamb = [t.tensor(l) for l in lamb]\n",
    "lambda_sample_num = 5\n",
    "acc_delete = [] \n",
    "start_num = 5\n",
    "path_to_save = 'saved_cifar'\n",
    "lambda_encode = lambda x: (t.log(x) - np.log(1e-2))/(np.log(1.0) - np.log(1e-2))\n",
    "if not os.path.exists(path_to_save):\n",
    "    os.mkdir(path_to_save)\n",
    "lambda_encode(lamb[0]), lambda_encode(lamb[-1])"
   ]
  },
  {
   "cell_type": "code",
   "execution_count": 5,
   "metadata": {},
   "outputs": [
    {
     "name": "stdout",
     "output_type": "stream",
     "text": [
      "Files already downloaded and verified\n",
      "Files already downloaded and verified\n"
     ]
    }
   ],
   "source": [
    "transform_train = transforms.Compose([\n",
    "    transforms.RandomCrop(32, padding=4),\n",
    "    transforms.RandomHorizontalFlip(),\n",
    "    transforms.ToTensor(),\n",
    "    transforms.Normalize((0.4914, 0.4822, 0.4465), (0.2023, 0.1994, 0.2010)),\n",
    "])\n",
    "\n",
    "transform_test = transforms.Compose([\n",
    "    transforms.ToTensor(),\n",
    "    transforms.Normalize((0.4914, 0.4822, 0.4465), (0.2023, 0.1994, 0.2010)),\n",
    "])\n",
    "\n",
    "train_data = torchvision.datasets.CIFAR10(root='./data', train=True,\n",
    "                                        download=True, transform=transform_train)\n",
    "train_loader = t.utils.data.DataLoader(train_data, batch_size=128,\n",
    "                                          shuffle=True, num_workers=4)\n",
    "\n",
    "test_data = torchvision.datasets.CIFAR10(root='./data', train=False,\n",
    "                                       download=True, transform=transform_test)\n",
    "test_loader = t.utils.data.DataLoader(test_data, batch_size=128,\n",
    "                                         shuffle=False, num_workers=4)\n"
   ]
  },
  {
   "cell_type": "code",
   "execution_count": null,
   "metadata": {
    "scrolled": false
   },
   "outputs": [
    {
     "name": "stderr",
     "output_type": "stream",
     "text": [
      "epoch 0: [263.95053 395.13223]:  27%|██▋       | 106/391 [00:30<01:21,  3.52it/s]"
     ]
    }
   ],
   "source": [
    "t.manual_seed(0)\n",
    "kernel_num = 3\n",
    "for start in range(start_num):                    \n",
    "        var_layers = [\n",
    "            kernel_hypernet.KernelVarConv(in_channels=3, out_channels=48, H=3, W=3, padding=(1,1), prior_sigma=prior_sigma,                                      \n",
    "                                              init_log_sigma=init_log_sigma, kernel_num =kernel_num), \n",
    "            kernel_hypernet.KernelVarConv(in_channels=48, out_channels=96, H=3, W=3, padding=(1,1), prior_sigma=prior_sigma,\n",
    "                                          init_log_sigma=init_log_sigma, kernel_num =kernel_num), \n",
    "            var_net.VarPool2d(2,2),\n",
    "            kernel_hypernet.KernelVarConv(in_channels=96, out_channels=192, H=3, W=3, padding=(1,1), prior_sigma=prior_sigma,\n",
    "                                          init_log_sigma=init_log_sigma, kernel_num =kernel_num),\n",
    "            kernel_hypernet.KernelVarConv(in_channels=192, out_channels=256, H=3, W=3, padding=(1,1), prior_sigma=prior_sigma,\n",
    "                                          init_log_sigma=init_log_sigma, kernel_num =kernel_num), \n",
    "            var_net.VarPool2d(2,2),\n",
    "            var_net.VarReshape((-1, 8*8*256)), # reshape x\n",
    "            kernel_hypernet.VarKernelLayer(8*8*256, 512, prior_sigma=prior_sigma, \n",
    "                                           init_log_sigma=init_log_sigma, kernel_num =kernel_num),\n",
    "\n",
    "            kernel_hypernet.VarKernelLayer(512, 64, prior_sigma=prior_sigma, init_log_sigma=init_log_sigma, kernel_num =kernel_num),\n",
    "            kernel_hypernet.VarKernelLayer(64, 10, prior_sigma=prior_sigma, init_log_sigma=init_log_sigma, kernel_num =kernel_num, act=lambda x:x)\n",
    "        ]\n",
    "\n",
    "        net = var_net.VarNet(*var_layers)\n",
    "\n",
    "        net = net.to(device)\n",
    "        optim = t.optim.Adam(net.parameters(), lr=5e-4)\n",
    "        loss_fn = nn.CrossEntropyLoss().to(device)            \n",
    "        for e in range(epoch_num):\n",
    "            label = 'epoch {}: '.format(e)                \n",
    "            utils.train_batches_hypernet(train_loader,  len(train_data), lambda_sample_num,\n",
    "                  lambda_encode, net, device, loss_fn, optim, label,  p_gen = lambda p_:p_*2-2, rep=True)\n",
    "            if e%5 == 0:\n",
    "                print (utils.test_acc_hyper(net, device, test_loader, lambda_encode, lamb))\n",
    "        t.save(net.state_dict(), os.path.join(path_to_save, 'rep_kernel_start_{}.cpk'.format(start)))"
   ]
  },
  {
   "cell_type": "code",
   "execution_count": 7,
   "metadata": {},
   "outputs": [
    {
     "name": "stderr",
     "output_type": "stream",
     "text": [
      "../src/var_net.py:31: UserWarning: nn.init.xavier_uniform is now deprecated in favor of nn.init.xavier_uniform_.\n",
      "  t.nn.init.xavier_uniform(self.mean)\n"
     ]
    },
    {
     "name": "stdout",
     "output_type": "stream",
     "text": [
      "tensor(0.0100) 0\n",
      "layer VarPool2d(kernel_size=2, stride=2, padding=0, dilation=1, ceil_mode=False) does not have mean/sigma\n",
      "layer VarPool2d(kernel_size=2, stride=2, padding=0, dilation=1, ceil_mode=False) does not have mean/sigma\n",
      "layer VarReshape() does not have mean/sigma\n",
      "layer VarPool2d(kernel_size=2, stride=2, padding=0, dilation=1, ceil_mode=False) does not have mean/sigma\n",
      "layer VarPool2d(kernel_size=2, stride=2, padding=0, dilation=1, ceil_mode=False) does not have mean/sigma\n",
      "layer VarReshape() does not have mean/sigma\n",
      "tensor(0.0100) 1\n",
      "layer VarPool2d(kernel_size=2, stride=2, padding=0, dilation=1, ceil_mode=False) does not have mean/sigma\n",
      "layer VarPool2d(kernel_size=2, stride=2, padding=0, dilation=1, ceil_mode=False) does not have mean/sigma\n",
      "layer VarReshape() does not have mean/sigma\n",
      "layer VarPool2d(kernel_size=2, stride=2, padding=0, dilation=1, ceil_mode=False) does not have mean/sigma\n",
      "layer VarPool2d(kernel_size=2, stride=2, padding=0, dilation=1, ceil_mode=False) does not have mean/sigma\n",
      "layer VarReshape() does not have mean/sigma\n",
      "tensor(0.0100) 2\n",
      "layer VarPool2d(kernel_size=2, stride=2, padding=0, dilation=1, ceil_mode=False) does not have mean/sigma\n",
      "layer VarPool2d(kernel_size=2, stride=2, padding=0, dilation=1, ceil_mode=False) does not have mean/sigma\n",
      "layer VarReshape() does not have mean/sigma\n",
      "layer VarPool2d(kernel_size=2, stride=2, padding=0, dilation=1, ceil_mode=False) does not have mean/sigma\n",
      "layer VarPool2d(kernel_size=2, stride=2, padding=0, dilation=1, ceil_mode=False) does not have mean/sigma\n",
      "layer VarReshape() does not have mean/sigma\n",
      "tensor(0.0100) 3\n",
      "layer VarPool2d(kernel_size=2, stride=2, padding=0, dilation=1, ceil_mode=False) does not have mean/sigma\n",
      "layer VarPool2d(kernel_size=2, stride=2, padding=0, dilation=1, ceil_mode=False) does not have mean/sigma\n",
      "layer VarReshape() does not have mean/sigma\n",
      "layer VarPool2d(kernel_size=2, stride=2, padding=0, dilation=1, ceil_mode=False) does not have mean/sigma\n",
      "layer VarPool2d(kernel_size=2, stride=2, padding=0, dilation=1, ceil_mode=False) does not have mean/sigma\n",
      "layer VarReshape() does not have mean/sigma\n",
      "tensor(0.0100) 4\n",
      "layer VarPool2d(kernel_size=2, stride=2, padding=0, dilation=1, ceil_mode=False) does not have mean/sigma\n",
      "layer VarPool2d(kernel_size=2, stride=2, padding=0, dilation=1, ceil_mode=False) does not have mean/sigma\n",
      "layer VarReshape() does not have mean/sigma\n",
      "layer VarPool2d(kernel_size=2, stride=2, padding=0, dilation=1, ceil_mode=False) does not have mean/sigma\n",
      "layer VarPool2d(kernel_size=2, stride=2, padding=0, dilation=1, ceil_mode=False) does not have mean/sigma\n",
      "layer VarReshape() does not have mean/sigma\n",
      "tensor(0.1000) 0\n",
      "layer VarPool2d(kernel_size=2, stride=2, padding=0, dilation=1, ceil_mode=False) does not have mean/sigma\n",
      "layer VarPool2d(kernel_size=2, stride=2, padding=0, dilation=1, ceil_mode=False) does not have mean/sigma\n",
      "layer VarReshape() does not have mean/sigma\n",
      "layer VarPool2d(kernel_size=2, stride=2, padding=0, dilation=1, ceil_mode=False) does not have mean/sigma\n",
      "layer VarPool2d(kernel_size=2, stride=2, padding=0, dilation=1, ceil_mode=False) does not have mean/sigma\n",
      "layer VarReshape() does not have mean/sigma\n",
      "tensor(0.1000) 1\n",
      "layer VarPool2d(kernel_size=2, stride=2, padding=0, dilation=1, ceil_mode=False) does not have mean/sigma\n",
      "layer VarPool2d(kernel_size=2, stride=2, padding=0, dilation=1, ceil_mode=False) does not have mean/sigma\n",
      "layer VarReshape() does not have mean/sigma\n",
      "layer VarPool2d(kernel_size=2, stride=2, padding=0, dilation=1, ceil_mode=False) does not have mean/sigma\n",
      "layer VarPool2d(kernel_size=2, stride=2, padding=0, dilation=1, ceil_mode=False) does not have mean/sigma\n",
      "layer VarReshape() does not have mean/sigma\n",
      "tensor(0.1000) 2\n",
      "layer VarPool2d(kernel_size=2, stride=2, padding=0, dilation=1, ceil_mode=False) does not have mean/sigma\n",
      "layer VarPool2d(kernel_size=2, stride=2, padding=0, dilation=1, ceil_mode=False) does not have mean/sigma\n",
      "layer VarReshape() does not have mean/sigma\n",
      "layer VarPool2d(kernel_size=2, stride=2, padding=0, dilation=1, ceil_mode=False) does not have mean/sigma\n",
      "layer VarPool2d(kernel_size=2, stride=2, padding=0, dilation=1, ceil_mode=False) does not have mean/sigma\n",
      "layer VarReshape() does not have mean/sigma\n",
      "tensor(0.1000) 3\n",
      "layer VarPool2d(kernel_size=2, stride=2, padding=0, dilation=1, ceil_mode=False) does not have mean/sigma\n",
      "layer VarPool2d(kernel_size=2, stride=2, padding=0, dilation=1, ceil_mode=False) does not have mean/sigma\n",
      "layer VarReshape() does not have mean/sigma\n",
      "layer VarPool2d(kernel_size=2, stride=2, padding=0, dilation=1, ceil_mode=False) does not have mean/sigma\n",
      "layer VarPool2d(kernel_size=2, stride=2, padding=0, dilation=1, ceil_mode=False) does not have mean/sigma\n",
      "layer VarReshape() does not have mean/sigma\n",
      "tensor(0.1000) 4\n",
      "layer VarPool2d(kernel_size=2, stride=2, padding=0, dilation=1, ceil_mode=False) does not have mean/sigma\n",
      "layer VarPool2d(kernel_size=2, stride=2, padding=0, dilation=1, ceil_mode=False) does not have mean/sigma\n",
      "layer VarReshape() does not have mean/sigma\n",
      "layer VarPool2d(kernel_size=2, stride=2, padding=0, dilation=1, ceil_mode=False) does not have mean/sigma\n",
      "layer VarPool2d(kernel_size=2, stride=2, padding=0, dilation=1, ceil_mode=False) does not have mean/sigma\n",
      "layer VarReshape() does not have mean/sigma\n",
      "tensor(1.) 0\n",
      "layer VarPool2d(kernel_size=2, stride=2, padding=0, dilation=1, ceil_mode=False) does not have mean/sigma\n",
      "layer VarPool2d(kernel_size=2, stride=2, padding=0, dilation=1, ceil_mode=False) does not have mean/sigma\n",
      "layer VarReshape() does not have mean/sigma\n",
      "layer VarPool2d(kernel_size=2, stride=2, padding=0, dilation=1, ceil_mode=False) does not have mean/sigma\n",
      "layer VarPool2d(kernel_size=2, stride=2, padding=0, dilation=1, ceil_mode=False) does not have mean/sigma\n",
      "layer VarReshape() does not have mean/sigma\n",
      "tensor(1.) 1\n",
      "layer VarPool2d(kernel_size=2, stride=2, padding=0, dilation=1, ceil_mode=False) does not have mean/sigma\n",
      "layer VarPool2d(kernel_size=2, stride=2, padding=0, dilation=1, ceil_mode=False) does not have mean/sigma\n",
      "layer VarReshape() does not have mean/sigma\n",
      "layer VarPool2d(kernel_size=2, stride=2, padding=0, dilation=1, ceil_mode=False) does not have mean/sigma\n",
      "layer VarPool2d(kernel_size=2, stride=2, padding=0, dilation=1, ceil_mode=False) does not have mean/sigma\n",
      "layer VarReshape() does not have mean/sigma\n",
      "tensor(1.) 2\n",
      "layer VarPool2d(kernel_size=2, stride=2, padding=0, dilation=1, ceil_mode=False) does not have mean/sigma\n",
      "layer VarPool2d(kernel_size=2, stride=2, padding=0, dilation=1, ceil_mode=False) does not have mean/sigma\n",
      "layer VarReshape() does not have mean/sigma\n",
      "layer VarPool2d(kernel_size=2, stride=2, padding=0, dilation=1, ceil_mode=False) does not have mean/sigma\n",
      "layer VarPool2d(kernel_size=2, stride=2, padding=0, dilation=1, ceil_mode=False) does not have mean/sigma\n",
      "layer VarReshape() does not have mean/sigma\n",
      "tensor(1.) 3\n",
      "layer VarPool2d(kernel_size=2, stride=2, padding=0, dilation=1, ceil_mode=False) does not have mean/sigma\n",
      "layer VarPool2d(kernel_size=2, stride=2, padding=0, dilation=1, ceil_mode=False) does not have mean/sigma\n",
      "layer VarReshape() does not have mean/sigma\n",
      "layer VarPool2d(kernel_size=2, stride=2, padding=0, dilation=1, ceil_mode=False) does not have mean/sigma\n",
      "layer VarPool2d(kernel_size=2, stride=2, padding=0, dilation=1, ceil_mode=False) does not have mean/sigma\n",
      "layer VarReshape() does not have mean/sigma\n",
      "tensor(1.) 4\n",
      "layer VarPool2d(kernel_size=2, stride=2, padding=0, dilation=1, ceil_mode=False) does not have mean/sigma\n",
      "layer VarPool2d(kernel_size=2, stride=2, padding=0, dilation=1, ceil_mode=False) does not have mean/sigma\n",
      "layer VarReshape() does not have mean/sigma\n",
      "layer VarPool2d(kernel_size=2, stride=2, padding=0, dilation=1, ceil_mode=False) does not have mean/sigma\n",
      "layer VarPool2d(kernel_size=2, stride=2, padding=0, dilation=1, ceil_mode=False) does not have mean/sigma\n",
      "layer VarReshape() does not have mean/sigma\n"
     ]
    }
   ],
   "source": [
    "kernel_num = 3\n",
    "var_layers = [\n",
    "                var_net.VarConv(in_channels=3, out_channels=48, H=3, W=3, padding=(1,1), prior_sigma=prior_sigma,  init_log_sigma=init_log_sigma), \n",
    "                var_net.VarConv(in_channels=48, out_channels=96, H=3, W=3, padding=(1,1), prior_sigma=prior_sigma,  init_log_sigma=init_log_sigma), \n",
    "                var_net.VarPool2d(2,2),\n",
    "                var_net.VarConv(in_channels=96, out_channels=192, H=3, W=3, padding=(1,1), prior_sigma=prior_sigma,  init_log_sigma=init_log_sigma),\n",
    "                var_net.VarConv(in_channels=192, out_channels=256, H=3, W=3, padding=(1,1), prior_sigma=prior_sigma,  init_log_sigma=init_log_sigma), \n",
    "                var_net.VarPool2d(2,2),\n",
    "                var_net.VarReshape((-1, 8*8*256)), # reshape x\n",
    "                var_net.VarLayer(8*8*256, 512, prior_sigma=prior_sigma,  init_log_sigma=init_log_sigma),\n",
    "                \n",
    "                var_net.VarLayer(512, 64, prior_sigma=prior_sigma,  init_log_sigma=init_log_sigma),\n",
    "                var_net.VarLayer(64, 10, prior_sigma=prior_sigma,  init_log_sigma=init_log_sigma, act=lambda x:x)\n",
    "            ]\n",
    "            \n",
    "net = var_net.VarNet(*var_layers)\n",
    "        \n",
    "var_layers = [\n",
    "            kernel_hypernet.KernelVarConv(in_channels=3, out_channels=48, H=3, W=3, padding=(1,1), prior_sigma=prior_sigma,                                      \n",
    "                                              init_log_sigma=init_log_sigma, kernel_num =kernel_num), \n",
    "            kernel_hypernet.KernelVarConv(in_channels=48, out_channels=96, H=3, W=3, padding=(1,1), prior_sigma=prior_sigma,\n",
    "                                          init_log_sigma=init_log_sigma, kernel_num =kernel_num), \n",
    "            var_net.VarPool2d(2,2),\n",
    "            kernel_hypernet.KernelVarConv(in_channels=96, out_channels=192, H=3, W=3, padding=(1,1), prior_sigma=prior_sigma,\n",
    "                                          init_log_sigma=init_log_sigma, kernel_num =kernel_num),\n",
    "            kernel_hypernet.KernelVarConv(in_channels=192, out_channels=256, H=3, W=3, padding=(1,1), prior_sigma=prior_sigma,\n",
    "                                          init_log_sigma=init_log_sigma, kernel_num =kernel_num), \n",
    "            var_net.VarPool2d(2,2),\n",
    "            var_net.VarReshape((-1, 8*8*256)), # reshape x\n",
    "            kernel_hypernet.VarKernelLayer(8*8*256, 512, prior_sigma=prior_sigma, \n",
    "                                           init_log_sigma=init_log_sigma, kernel_num =kernel_num),\n",
    "\n",
    "            kernel_hypernet.VarKernelLayer(512, 64, prior_sigma=prior_sigma, init_log_sigma=init_log_sigma, kernel_num =kernel_num),\n",
    "            kernel_hypernet.VarKernelLayer(64, 10, prior_sigma=prior_sigma, init_log_sigma=init_log_sigma, kernel_num =kernel_num, act=lambda x:x)\n",
    "        ]\n",
    "\n",
    "hnet = var_net.VarNet(*var_layers)\n",
    "   \n",
    "hnet = hnet.to(device)\n",
    "net = net.to(device)\n",
    "lam_results = {}\n",
    "for lam in lamb:\n",
    "    lam_results[lam] = []\n",
    "    for s in range(start_num):        \n",
    "        print (lam, s)\n",
    "        hnet.load_state_dict(t.load(os.path.join(path_to_save, 'rep_kernel_start_{}.cpk'.format(s))))        \n",
    "        utils.net_copy(hnet, net, lambda_encode(t.ones(1).to(device)[0]*lam), layer_num=10)\n",
    "        lam_results[lam].append(utils.delete_10(net, device, lambda:utils.test_acc_net(net, device, test_loader), layer_num=10))\n",
    "lam_results = {float(k):lam_results[k] for k in lam_results}\n",
    "import json\n",
    "with open(os.path.join(path_to_save, 'results_rep_kernel.json'),'w') as out:\n",
    "    out.write(json.dumps(lam_results))  "
   ]
  },
  {
   "cell_type": "code",
   "execution_count": 9,
   "metadata": {},
   "outputs": [
    {
     "data": {
      "image/png": "[encoded data removed]",
      "text/plain": [
       "<Figure size 864x864 with 1 Axes>"
      ]
     },
     "metadata": {
      "needs_background": "light"
     },
     "output_type": "display_data"
    }
   ],
   "source": [
    "proc = [0,10,20,30,40,50,60,70,80,90]\n",
    "plt.rcParams['figure.figsize'] = 12, 12\n",
    "plt.rcParams.update({'font.size': 27})\n",
    "plt.rc('lines', linewidth=4)\n",
    "    \n",
    "    \n",
    "for lam in lamb:\n",
    "    lam = float(lam)\n",
    "    lam_str = \"{:10.2f}\".format(lam)\n",
    "\n",
    "    plt.fill_between(proc, np.min(lam_results[lam], 0), np.max(lam_results[lam], 0), alpha=0.2)\n",
    "    plt.plot(proc, np.mean(lam_results[lam], 0), label='$\\lambda={}$'.format(lam_str))\n",
    "plt.ylabel('Точность классификации', fontsize = 27)\n",
    "plt.xlabel('Процент удаления', fontsize = 27)\n",
    "plt.tick_params(axis='both', which='major', labelsize=27)\n",
    "plt.legend(loc='lower left')\n",
    "plt.autoscale(enable=True, axis='x', tight=True)\n",
    "plt.savefig('Kernel_rep')\n",
    "plt.show()\n"
   ]
  }
 ],
 "metadata": {
  "kernelspec": {
   "display_name": "Python 3",
   "language": "python",
   "name": "python3"
  },
  "language_info": {
   "codemirror_mode": {
    "name": "ipython",
    "version": 3
   },
   "file_extension": ".py",
   "mimetype": "text/x-python",
   "name": "python",
   "nbconvert_exporter": "python",
   "pygments_lexer": "ipython3",
   "version": "3.7.3"
  }
 },
 "nbformat": 4,
 "nbformat_minor": 2
}
