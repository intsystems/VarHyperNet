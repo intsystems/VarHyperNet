{
 "cells": [
  {
   "cell_type": "code",
   "execution_count": 1,
   "metadata": {},
   "outputs": [],
   "source": [
    "import torch as t\n",
    "import torchvision\n",
    "import torchvision.transforms as transforms\n",
    "import numpy as np\n",
    "import torch.nn.functional as F\n",
    "import matplotlib.pylab as plt\n",
    "from torch.nn.utils import clip_grad_value_\n",
    "%matplotlib inline\n",
    "\n",
    "from torch.autograd import Variable\n",
    "import torch.nn as nn\n",
    "\n",
    "import argparse\n",
    "\n",
    "import torch.optim as optim\n",
    "\n",
    "from primary_net import PrimaryNetwork\n",
    "\n",
    "from torchvision import datasets\n",
    "import tqdm\n",
    "import os\n",
    "import json"
   ]
  },
  {
   "cell_type": "code",
   "execution_count": 2,
   "metadata": {},
   "outputs": [],
   "source": [
    "device = 'cuda' # cuda or cpu\n",
    "device = t.device(device)\n",
    "if device == 'cuda':\n",
    "    t.backends.cudnn.deterministic = True\n",
    "    t.backends.cudnn.benchmark = False"
   ]
  },
  {
   "cell_type": "code",
   "execution_count": 3,
   "metadata": {},
   "outputs": [],
   "source": [
    "batch_size = 128\n",
    "prior_sigma = 1.0 # априорная дисперсия\n",
    "epoch_num = 250 #количество эпох\n",
    "lamb = [0.01, 0.1, 1,  10, 100]\n",
    "start_num = 5\n",
    "\n",
    "lambda_encode = lambda x : (t.log(x) + 4.6052)/(4.6052+ 4.6052)\n",
    "lambda_sample_num = 5\n",
    "path_to_save = 'saved_cifar_2'\n",
    "\n",
    "if not os.path.exists(path_to_save):\n",
    "    os.mkdir(path_to_save)\n",
    "    \n",
    "learning_rate = 0.002\n",
    "weight_decay = 0.0005\n",
    "milestones = [168000, 336000, 400000, 450000, 550000, 600000]\n",
    "max_iter = 1000000\n"
   ]
  },
  {
   "cell_type": "code",
   "execution_count": 4,
   "metadata": {},
   "outputs": [
    {
     "name": "stdout",
     "output_type": "stream",
     "text": [
      "Files already downloaded and verified\n",
      "Files already downloaded and verified\n"
     ]
    }
   ],
   "source": [
    "transform_train = transforms.Compose([\n",
    "    transforms.RandomCrop(32, padding=4),\n",
    "    transforms.RandomHorizontalFlip(),\n",
    "    transforms.ToTensor(),\n",
    "    transforms.Normalize((0.4914, 0.4822, 0.4465), (0.2023, 0.1994, 0.2010)),\n",
    "])\n",
    "\n",
    "transform_test = transforms.Compose([\n",
    "    transforms.ToTensor(),\n",
    "    transforms.Normalize((0.4914, 0.4822, 0.4465), (0.2023, 0.1994, 0.2010)),\n",
    "])\n",
    "\n",
    "trainset = torchvision.datasets.CIFAR10(root='../data', train=True,\n",
    "                                        download=True, transform=transform_train)\n",
    "trainloader = t.utils.data.DataLoader(trainset, batch_size=128,\n",
    "                                          shuffle=True, num_workers=4)\n",
    "\n",
    "testset = torchvision.datasets.CIFAR10(root='../data', train=False,\n",
    "                                       download=True, transform=transform_test)\n",
    "testloader = t.utils.data.DataLoader(testset, batch_size=128,\n",
    "                                         shuffle=False, num_workers=4)\n",
    "\n",
    "classes = ('plane', 'car', 'bird', 'cat',\n",
    "           'deer', 'dog', 'frog', 'horse', 'ship', 'truck')"
   ]
  },
  {
   "cell_type": "code",
   "execution_count": 5,
   "metadata": {},
   "outputs": [],
   "source": [
    "lamb = [0.01, 0.1, 1,  10, 100]"
   ]
  },
  {
   "cell_type": "code",
   "execution_count": 6,
   "metadata": {},
   "outputs": [],
   "source": [
    "def test_acc(net): # точность классификации\n",
    "    acc = []    \n",
    "    net.eval()\n",
    "    lamb =  [0.01, 0.1, 1,  10, 100]\n",
    "    for l in lamb:\n",
    "        correct = 0\n",
    "        for x,y in testloader: \n",
    "            x = x.to(device)\n",
    "            y = y.to(device)  \n",
    "            out = net(x,l)    \n",
    "            correct += out.argmax(1).eq(y).sum().cpu().numpy()\n",
    "            t.cuda.empty_cache()\n",
    "        acc.append(correct / len(testset))\n",
    "        t.cuda.empty_cache()\n",
    "    net.train()\n",
    "    return acc\n"
   ]
  },
  {
   "cell_type": "code",
   "execution_count": 7,
   "metadata": {},
   "outputs": [],
   "source": [
    "def train_batches(net, loss_fn, optimizer, lam, label):\n",
    "    tq = tqdm.tqdm(trainloader)\n",
    "    losses = []\n",
    "    for x,y in tq:            \n",
    "        x = x.to(device)\n",
    "        y = y.to(device)          \n",
    "        optimizer.zero_grad()  \n",
    "        loss = 0\n",
    "        if lam is None:\n",
    "            \n",
    "            for _ in range(lambda_sample_num):  \n",
    "                p = t.rand(1).to(device)*4 -2\n",
    "                lam_param = 10**p[0]                \n",
    "                #t.rand(1).to(device)[0]*100.0                  \n",
    "                out = net(x, lambda_encode(lam_param))\n",
    "                loss = loss + loss_fn(out, y)/lambda_sample_num\n",
    "                loss += net.KLD(lambda_encode(lam_param))*lam_param/len(trainset)/lambda_sample_num\n",
    "                #loss += net.KLD(lam_param)*t.log(lam_param)/len(trainset)/lambda_sample_num\n",
    "                losses+=[loss.cpu().detach().numpy()]       \n",
    "        tq.set_description(label+str(np.mean(losses)))\n",
    "        loss.backward()       \n",
    "        clip_grad_value_(net.parameters(), 1.0) # для стабильности градиента. С этим можно играться\n",
    "        optimizer.step()\n",
    "        \n",
    "        #lr_scheduler.step()\n",
    "    acc = test_acc(net)\n",
    "    print (acc)\n",
    "    return acc"
   ]
  },
  {
   "cell_type": "code",
   "execution_count": null,
   "metadata": {},
   "outputs": [
    {
     "name": "stderr",
     "output_type": "stream",
     "text": [
      "CIFAR, epoch 0: 1.7368293: 100%|██████████| 391/391 [06:43<00:00,  1.03s/it]\n",
      "/usr/local/lib/python3.7/dist-packages/torch/nn/modules/container.py:435: UserWarning: Setting attributes on ParameterList is not supported.\n",
      "  warnings.warn(\"Setting attributes on ParameterList is not supported.\")\n",
      "  0%|          | 0/391 [00:00<?, ?it/s]"
     ]
    },
    {
     "name": "stdout",
     "output_type": "stream",
     "text": [
      "[0.0981, 0.0982, 0.0992, 0.1, 0.1]\n"
     ]
    },
    {
     "name": "stderr",
     "output_type": "stream",
     "text": [
      "CIFAR, epoch 1: 1.4371885: 100%|██████████| 391/391 [06:48<00:00,  1.04s/it]\n",
      "  0%|          | 0/391 [00:00<?, ?it/s]"
     ]
    },
    {
     "name": "stdout",
     "output_type": "stream",
     "text": [
      "[0.1, 0.1, 0.1, 0.1, 0.1]\n"
     ]
    },
    {
     "name": "stderr",
     "output_type": "stream",
     "text": [
      "CIFAR, epoch 2: 1.4448034:   8%|▊         | 32/391 [00:33<06:10,  1.03s/it]"
     ]
    }
   ],
   "source": [
    "t.manual_seed(0)\n",
    "for start in range(start_num):         \n",
    "    net = PrimaryNetwork(prior_sigma = prior_sigma, device = device)\n",
    "    net = net.to(device)\n",
    "    optim = t.optim.Adam(net.parameters(), lr=1e-4)\n",
    "    #lr_scheduler = torch.optim.lr_scheduler.MultiStepLR(optimizer=optimizer, milestones=milestones, gamma=0.5)\n",
    "    loss_fn = nn.CrossEntropyLoss().to(device)  \n",
    "    with open('acc.log', 'w') as out:\n",
    "        pass\n",
    "    for e in range(epoch_num):\n",
    "        label = 'CIFAR, epoch {}: '.format(e)                \n",
    "        acc = train_batches(net, loss_fn, optim, None, label)\n",
    "        with open('acc.log', 'a') as out:\n",
    "            out.write('{}:{}\\n'.format(e, acc))\n",
    "        t.save(net.state_dict(), os.path.join(path_to_save, 'cifar_epoch_{}.cpk'.format( e)))\n",
    "    t.save(net.state_dict(), os.path.join(path_to_save, 'cifar_start_{}.cpk'.format( start)))"
   ]
  },
  {
   "cell_type": "code",
   "execution_count": null,
   "metadata": {},
   "outputs": [],
   "source": [
    "optim.zero_grad()"
   ]
  },
  {
   "cell_type": "code",
   "execution_count": null,
   "metadata": {},
   "outputs": [],
   "source": [
    "loss = net.KLD(lambda_encode(t.tensor(1.0)))/len(trainset)/lambda_sample_num"
   ]
  },
  {
   "cell_type": "code",
   "execution_count": null,
   "metadata": {},
   "outputs": [],
   "source": [
    "loss.backward()"
   ]
  },
  {
   "cell_type": "code",
   "execution_count": null,
   "metadata": {},
   "outputs": [],
   "source": [
    "self = net\n",
    "self.h1_eps = t.distributions.Normal(t.zeros_like((w1_mean_all), device=self.device),\n",
    "                                               t.ones_like(w1_sigma_all, device=self.device)*self.prior_sigma)\n",
    "self.h2_eps = t.distributions.Normal(t.zeros_like((w2_mean_all), device=self.device),\n",
    "                                               t.ones_like(w2_sigma_all, device=self.device)*self.prior_sigma)"
   ]
  }
 ],
 "metadata": {
  "kernelspec": {
   "display_name": "Python 3",
   "language": "python",
   "name": "python3"
  },
  "language_info": {
   "codemirror_mode": {
    "name": "ipython",
    "version": 3
   },
   "file_extension": ".py",
   "mimetype": "text/x-python",
   "name": "python",
   "nbconvert_exporter": "python",
   "pygments_lexer": "ipython3",
   "version": "3.7.3"
  }
 },
 "nbformat": 4,
 "nbformat_minor": 4
}
